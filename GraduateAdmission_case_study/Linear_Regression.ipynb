{
 "cells": [
  {
   "cell_type": "code",
   "execution_count": 168,
   "id": "07577f9f-556a-4b4b-9d03-0c2b3d693bb7",
   "metadata": {},
   "outputs": [],
   "source": [
    "import pandas as pd\n",
    "import numpy as np\n",
    "import datetime\n",
    "\n",
    "import matplotlib.pyplot as plt\n",
    "import seaborn as sns\n",
    "\n",
    "import statsmodels.api as sm\n",
    "import scipy.stats as stats\n",
    "\n",
    "import math\n",
    "\n",
    "from sklearn.linear_model import LinearRegression\n",
    "from statsmodels.stats.outliers_influence import variance_inflation_factor\n",
    "from sklearn.model_selection import train_test_split\n",
    "from sklearn.metrics import mean_squared_error\n",
    "from sklearn.metrics import r2_score\n",
    "\n",
    "from sklearn.preprocessing import StandardScaler\n",
    "\n",
    "import warnings\n",
    "warnings.filterwarnings(\"ignore\")\n",
    "\n",
    "# !pip install notebook-as-pdf"
   ]
  },
  {
   "cell_type": "markdown",
   "id": "9195f84e-76fe-4c38-a0c2-12405782bbba",
   "metadata": {},
   "source": [
    "# Objective of this case study is :\n",
    "### 1. which are important factors (features) for admissions\n",
    "### 2. Is there any relation among these factors?\n",
    "### 3. Given all these features, predict one's chance of admissions"
   ]
  },
  {
   "cell_type": "markdown",
   "id": "4923339d-e26c-4160-8526-63f4e7d8cef3",
   "metadata": {},
   "source": [
    "# Discussion\n",
    "\n",
    "### For solving the problem, we can check following:\n",
    "### 1. EDA on input features (shape, missing value, conclusions from univariate and bivariate analysis)\n",
    "### 2. Correlation among input features\n",
    "### 3. Check assumptions of Linear regression\n",
    "### 4. Build model and optimise for choosen metric\n",
    "### 5. important features driving chance of admissions\n",
    "\n",
    "# Metric discussion\n",
    "### As we are trying to predict a continous variable, this is a regression problem.\n",
    "### We are trying to optimize for MSE in the loss function, so possible metric for optimization can be:\n",
    "### MAE, RMSE, R2, Adj-R2 : Out of these, we will try to compare models based on adjusted-R2 as it penalizes model for using extra feature and it also considers r2. \n",
    "\n"
   ]
  },
  {
   "cell_type": "code",
   "execution_count": 169,
   "id": "394a3733-3690-4e49-89a3-f7369b238616",
   "metadata": {},
   "outputs": [],
   "source": [
    "df = pd.read_excel('graduate_admission_data.xlsx')"
   ]
  },
  {
   "cell_type": "code",
   "execution_count": 170,
   "id": "ff33aa00-4278-4f5a-965c-70d9103d7308",
   "metadata": {},
   "outputs": [
    {
     "data": {
      "text/plain": [
       "(500, 9)"
      ]
     },
     "execution_count": 170,
     "metadata": {},
     "output_type": "execute_result"
    }
   ],
   "source": [
    "df.shape"
   ]
  },
  {
   "cell_type": "code",
   "execution_count": 171,
   "id": "11705849-a396-46f6-b434-2200f988e8be",
   "metadata": {},
   "outputs": [
    {
     "data": {
      "text/plain": [
       "Serial No.           0\n",
       "GRE Score            0\n",
       "TOEFL Score          0\n",
       "University Rating    0\n",
       "SOP                  0\n",
       "LOR                  0\n",
       "CGPA                 0\n",
       "Research             0\n",
       "Chance of Admit      0\n",
       "dtype: int64"
      ]
     },
     "execution_count": 171,
     "metadata": {},
     "output_type": "execute_result"
    }
   ],
   "source": [
    "df.isnull().sum()"
   ]
  },
  {
   "cell_type": "code",
   "execution_count": 172,
   "id": "d1c9bc50-389f-4c71-a5bd-f752e1f6cc9d",
   "metadata": {},
   "outputs": [
    {
     "data": {
      "text/plain": [
       "Index(['Serial No.', 'GRE Score', 'TOEFL Score', 'University Rating', 'SOP',\n",
       "       'LOR', 'CGPA', 'Research', 'Chance of Admit'],\n",
       "      dtype='object')"
      ]
     },
     "execution_count": 172,
     "metadata": {},
     "output_type": "execute_result"
    }
   ],
   "source": [
    "df.columns"
   ]
  },
  {
   "cell_type": "code",
   "execution_count": 173,
   "id": "7a51056e-a05a-49c0-bd53-bfbee877d335",
   "metadata": {},
   "outputs": [
    {
     "data": {
      "text/plain": [
       "Serial No.             int64\n",
       "GRE Score              int64\n",
       "TOEFL Score            int64\n",
       "University Rating      int64\n",
       "SOP                  float64\n",
       "LOR                  float64\n",
       "CGPA                 float64\n",
       "Research               int64\n",
       "Chance of Admit      float64\n",
       "dtype: object"
      ]
     },
     "execution_count": 173,
     "metadata": {},
     "output_type": "execute_result"
    }
   ],
   "source": [
    "df.dtypes"
   ]
  },
  {
   "cell_type": "code",
   "execution_count": 174,
   "id": "77db270a-0efa-4dbb-a48b-e7c065faa0e3",
   "metadata": {},
   "outputs": [
    {
     "data": {
      "text/html": [
       "<div>\n",
       "<style scoped>\n",
       "    .dataframe tbody tr th:only-of-type {\n",
       "        vertical-align: middle;\n",
       "    }\n",
       "\n",
       "    .dataframe tbody tr th {\n",
       "        vertical-align: top;\n",
       "    }\n",
       "\n",
       "    .dataframe thead th {\n",
       "        text-align: right;\n",
       "    }\n",
       "</style>\n",
       "<table border=\"1\" class=\"dataframe\">\n",
       "  <thead>\n",
       "    <tr style=\"text-align: right;\">\n",
       "      <th></th>\n",
       "      <th>Serial No.</th>\n",
       "      <th>GRE Score</th>\n",
       "      <th>TOEFL Score</th>\n",
       "      <th>University Rating</th>\n",
       "      <th>SOP</th>\n",
       "      <th>LOR</th>\n",
       "      <th>CGPA</th>\n",
       "      <th>Research</th>\n",
       "      <th>Chance of Admit</th>\n",
       "    </tr>\n",
       "  </thead>\n",
       "  <tbody>\n",
       "    <tr>\n",
       "      <th>count</th>\n",
       "      <td>500.000000</td>\n",
       "      <td>500.000000</td>\n",
       "      <td>500.000000</td>\n",
       "      <td>500.000000</td>\n",
       "      <td>500.000000</td>\n",
       "      <td>500.00000</td>\n",
       "      <td>500.000000</td>\n",
       "      <td>500.000000</td>\n",
       "      <td>500.00000</td>\n",
       "    </tr>\n",
       "    <tr>\n",
       "      <th>mean</th>\n",
       "      <td>250.500000</td>\n",
       "      <td>316.472000</td>\n",
       "      <td>107.192000</td>\n",
       "      <td>3.114000</td>\n",
       "      <td>3.374000</td>\n",
       "      <td>3.48400</td>\n",
       "      <td>8.576440</td>\n",
       "      <td>0.560000</td>\n",
       "      <td>0.72174</td>\n",
       "    </tr>\n",
       "    <tr>\n",
       "      <th>std</th>\n",
       "      <td>144.481833</td>\n",
       "      <td>11.295148</td>\n",
       "      <td>6.081868</td>\n",
       "      <td>1.143512</td>\n",
       "      <td>0.991004</td>\n",
       "      <td>0.92545</td>\n",
       "      <td>0.604813</td>\n",
       "      <td>0.496884</td>\n",
       "      <td>0.14114</td>\n",
       "    </tr>\n",
       "    <tr>\n",
       "      <th>min</th>\n",
       "      <td>1.000000</td>\n",
       "      <td>290.000000</td>\n",
       "      <td>92.000000</td>\n",
       "      <td>1.000000</td>\n",
       "      <td>1.000000</td>\n",
       "      <td>1.00000</td>\n",
       "      <td>6.800000</td>\n",
       "      <td>0.000000</td>\n",
       "      <td>0.34000</td>\n",
       "    </tr>\n",
       "    <tr>\n",
       "      <th>25%</th>\n",
       "      <td>125.750000</td>\n",
       "      <td>308.000000</td>\n",
       "      <td>103.000000</td>\n",
       "      <td>2.000000</td>\n",
       "      <td>2.500000</td>\n",
       "      <td>3.00000</td>\n",
       "      <td>8.127500</td>\n",
       "      <td>0.000000</td>\n",
       "      <td>0.63000</td>\n",
       "    </tr>\n",
       "    <tr>\n",
       "      <th>50%</th>\n",
       "      <td>250.500000</td>\n",
       "      <td>317.000000</td>\n",
       "      <td>107.000000</td>\n",
       "      <td>3.000000</td>\n",
       "      <td>3.500000</td>\n",
       "      <td>3.50000</td>\n",
       "      <td>8.560000</td>\n",
       "      <td>1.000000</td>\n",
       "      <td>0.72000</td>\n",
       "    </tr>\n",
       "    <tr>\n",
       "      <th>75%</th>\n",
       "      <td>375.250000</td>\n",
       "      <td>325.000000</td>\n",
       "      <td>112.000000</td>\n",
       "      <td>4.000000</td>\n",
       "      <td>4.000000</td>\n",
       "      <td>4.00000</td>\n",
       "      <td>9.040000</td>\n",
       "      <td>1.000000</td>\n",
       "      <td>0.82000</td>\n",
       "    </tr>\n",
       "    <tr>\n",
       "      <th>max</th>\n",
       "      <td>500.000000</td>\n",
       "      <td>340.000000</td>\n",
       "      <td>120.000000</td>\n",
       "      <td>5.000000</td>\n",
       "      <td>5.000000</td>\n",
       "      <td>5.00000</td>\n",
       "      <td>9.920000</td>\n",
       "      <td>1.000000</td>\n",
       "      <td>0.97000</td>\n",
       "    </tr>\n",
       "  </tbody>\n",
       "</table>\n",
       "</div>"
      ],
      "text/plain": [
       "       Serial No.   GRE Score  TOEFL Score  University Rating         SOP  \\\n",
       "count  500.000000  500.000000   500.000000         500.000000  500.000000   \n",
       "mean   250.500000  316.472000   107.192000           3.114000    3.374000   \n",
       "std    144.481833   11.295148     6.081868           1.143512    0.991004   \n",
       "min      1.000000  290.000000    92.000000           1.000000    1.000000   \n",
       "25%    125.750000  308.000000   103.000000           2.000000    2.500000   \n",
       "50%    250.500000  317.000000   107.000000           3.000000    3.500000   \n",
       "75%    375.250000  325.000000   112.000000           4.000000    4.000000   \n",
       "max    500.000000  340.000000   120.000000           5.000000    5.000000   \n",
       "\n",
       "             LOR        CGPA    Research  Chance of Admit  \n",
       "count  500.00000  500.000000  500.000000        500.00000  \n",
       "mean     3.48400    8.576440    0.560000          0.72174  \n",
       "std      0.92545    0.604813    0.496884          0.14114  \n",
       "min      1.00000    6.800000    0.000000          0.34000  \n",
       "25%      3.00000    8.127500    0.000000          0.63000  \n",
       "50%      3.50000    8.560000    1.000000          0.72000  \n",
       "75%      4.00000    9.040000    1.000000          0.82000  \n",
       "max      5.00000    9.920000    1.000000          0.97000  "
      ]
     },
     "execution_count": 174,
     "metadata": {},
     "output_type": "execute_result"
    }
   ],
   "source": [
    "df.describe()"
   ]
  },
  {
   "cell_type": "code",
   "execution_count": 175,
   "id": "d2c7cb33-5d58-4a5f-b408-e4cac2ac708e",
   "metadata": {},
   "outputs": [
    {
     "data": {
      "text/html": [
       "<div>\n",
       "<style scoped>\n",
       "    .dataframe tbody tr th:only-of-type {\n",
       "        vertical-align: middle;\n",
       "    }\n",
       "\n",
       "    .dataframe tbody tr th {\n",
       "        vertical-align: top;\n",
       "    }\n",
       "\n",
       "    .dataframe thead th {\n",
       "        text-align: right;\n",
       "    }\n",
       "</style>\n",
       "<table border=\"1\" class=\"dataframe\">\n",
       "  <thead>\n",
       "    <tr style=\"text-align: right;\">\n",
       "      <th></th>\n",
       "      <th>Serial No.</th>\n",
       "      <th>GRE Score</th>\n",
       "      <th>TOEFL Score</th>\n",
       "      <th>University Rating</th>\n",
       "      <th>SOP</th>\n",
       "      <th>LOR</th>\n",
       "      <th>CGPA</th>\n",
       "      <th>Research</th>\n",
       "      <th>Chance of Admit</th>\n",
       "    </tr>\n",
       "  </thead>\n",
       "  <tbody>\n",
       "    <tr>\n",
       "      <th>0</th>\n",
       "      <td>1</td>\n",
       "      <td>337</td>\n",
       "      <td>118</td>\n",
       "      <td>4</td>\n",
       "      <td>4.5</td>\n",
       "      <td>4.5</td>\n",
       "      <td>9.65</td>\n",
       "      <td>1</td>\n",
       "      <td>0.92</td>\n",
       "    </tr>\n",
       "    <tr>\n",
       "      <th>1</th>\n",
       "      <td>2</td>\n",
       "      <td>324</td>\n",
       "      <td>107</td>\n",
       "      <td>4</td>\n",
       "      <td>4.0</td>\n",
       "      <td>4.5</td>\n",
       "      <td>8.87</td>\n",
       "      <td>1</td>\n",
       "      <td>0.76</td>\n",
       "    </tr>\n",
       "    <tr>\n",
       "      <th>2</th>\n",
       "      <td>3</td>\n",
       "      <td>316</td>\n",
       "      <td>104</td>\n",
       "      <td>3</td>\n",
       "      <td>3.0</td>\n",
       "      <td>3.5</td>\n",
       "      <td>8.00</td>\n",
       "      <td>1</td>\n",
       "      <td>0.72</td>\n",
       "    </tr>\n",
       "    <tr>\n",
       "      <th>3</th>\n",
       "      <td>4</td>\n",
       "      <td>322</td>\n",
       "      <td>110</td>\n",
       "      <td>3</td>\n",
       "      <td>3.5</td>\n",
       "      <td>2.5</td>\n",
       "      <td>8.67</td>\n",
       "      <td>1</td>\n",
       "      <td>0.80</td>\n",
       "    </tr>\n",
       "    <tr>\n",
       "      <th>4</th>\n",
       "      <td>5</td>\n",
       "      <td>314</td>\n",
       "      <td>103</td>\n",
       "      <td>2</td>\n",
       "      <td>2.0</td>\n",
       "      <td>3.0</td>\n",
       "      <td>8.21</td>\n",
       "      <td>0</td>\n",
       "      <td>0.65</td>\n",
       "    </tr>\n",
       "  </tbody>\n",
       "</table>\n",
       "</div>"
      ],
      "text/plain": [
       "   Serial No.  GRE Score  TOEFL Score  University Rating  SOP  LOR  CGPA  \\\n",
       "0           1        337          118                  4  4.5  4.5  9.65   \n",
       "1           2        324          107                  4  4.0  4.5  8.87   \n",
       "2           3        316          104                  3  3.0  3.5  8.00   \n",
       "3           4        322          110                  3  3.5  2.5  8.67   \n",
       "4           5        314          103                  2  2.0  3.0  8.21   \n",
       "\n",
       "   Research  Chance of Admit  \n",
       "0         1             0.92  \n",
       "1         1             0.76  \n",
       "2         1             0.72  \n",
       "3         1             0.80  \n",
       "4         0             0.65  "
      ]
     },
     "execution_count": 175,
     "metadata": {},
     "output_type": "execute_result"
    }
   ],
   "source": [
    "df.head()"
   ]
  },
  {
   "cell_type": "code",
   "execution_count": 176,
   "id": "28b4b91b-8286-4ceb-b833-654c3762e392",
   "metadata": {},
   "outputs": [],
   "source": [
    "serial_num_lst = list(df['Serial No.'])\n",
    "df.drop(columns = 'Serial No.', axis=1, inplace=True)"
   ]
  },
  {
   "cell_type": "code",
   "execution_count": 177,
   "id": "cf77cecb-706f-499a-b7d8-461a2dd6f34f",
   "metadata": {},
   "outputs": [
    {
     "data": {
      "text/html": [
       "<div>\n",
       "<style scoped>\n",
       "    .dataframe tbody tr th:only-of-type {\n",
       "        vertical-align: middle;\n",
       "    }\n",
       "\n",
       "    .dataframe tbody tr th {\n",
       "        vertical-align: top;\n",
       "    }\n",
       "\n",
       "    .dataframe thead th {\n",
       "        text-align: right;\n",
       "    }\n",
       "</style>\n",
       "<table border=\"1\" class=\"dataframe\">\n",
       "  <thead>\n",
       "    <tr style=\"text-align: right;\">\n",
       "      <th></th>\n",
       "      <th>GRE Score</th>\n",
       "      <th>TOEFL Score</th>\n",
       "      <th>University Rating</th>\n",
       "      <th>SOP</th>\n",
       "      <th>LOR</th>\n",
       "      <th>CGPA</th>\n",
       "      <th>Research</th>\n",
       "      <th>Chance of Admit</th>\n",
       "    </tr>\n",
       "  </thead>\n",
       "  <tbody>\n",
       "    <tr>\n",
       "      <th>0</th>\n",
       "      <td>337</td>\n",
       "      <td>118</td>\n",
       "      <td>4</td>\n",
       "      <td>4.5</td>\n",
       "      <td>4.5</td>\n",
       "      <td>9.65</td>\n",
       "      <td>1</td>\n",
       "      <td>0.92</td>\n",
       "    </tr>\n",
       "    <tr>\n",
       "      <th>1</th>\n",
       "      <td>324</td>\n",
       "      <td>107</td>\n",
       "      <td>4</td>\n",
       "      <td>4.0</td>\n",
       "      <td>4.5</td>\n",
       "      <td>8.87</td>\n",
       "      <td>1</td>\n",
       "      <td>0.76</td>\n",
       "    </tr>\n",
       "    <tr>\n",
       "      <th>2</th>\n",
       "      <td>316</td>\n",
       "      <td>104</td>\n",
       "      <td>3</td>\n",
       "      <td>3.0</td>\n",
       "      <td>3.5</td>\n",
       "      <td>8.00</td>\n",
       "      <td>1</td>\n",
       "      <td>0.72</td>\n",
       "    </tr>\n",
       "    <tr>\n",
       "      <th>3</th>\n",
       "      <td>322</td>\n",
       "      <td>110</td>\n",
       "      <td>3</td>\n",
       "      <td>3.5</td>\n",
       "      <td>2.5</td>\n",
       "      <td>8.67</td>\n",
       "      <td>1</td>\n",
       "      <td>0.80</td>\n",
       "    </tr>\n",
       "    <tr>\n",
       "      <th>4</th>\n",
       "      <td>314</td>\n",
       "      <td>103</td>\n",
       "      <td>2</td>\n",
       "      <td>2.0</td>\n",
       "      <td>3.0</td>\n",
       "      <td>8.21</td>\n",
       "      <td>0</td>\n",
       "      <td>0.65</td>\n",
       "    </tr>\n",
       "  </tbody>\n",
       "</table>\n",
       "</div>"
      ],
      "text/plain": [
       "   GRE Score  TOEFL Score  University Rating  SOP  LOR  CGPA  Research  \\\n",
       "0        337          118                  4  4.5  4.5  9.65         1   \n",
       "1        324          107                  4  4.0  4.5  8.87         1   \n",
       "2        316          104                  3  3.0  3.5  8.00         1   \n",
       "3        322          110                  3  3.5  2.5  8.67         1   \n",
       "4        314          103                  2  2.0  3.0  8.21         0   \n",
       "\n",
       "   Chance of Admit  \n",
       "0             0.92  \n",
       "1             0.76  \n",
       "2             0.72  \n",
       "3             0.80  \n",
       "4             0.65  "
      ]
     },
     "execution_count": 177,
     "metadata": {},
     "output_type": "execute_result"
    }
   ],
   "source": [
    "df.head()"
   ]
  },
  {
   "cell_type": "markdown",
   "id": "63311494-fe8d-47f4-b749-576d8e4feef3",
   "metadata": {},
   "source": [
    "### Few quick observations: \n",
    "### 1. There are 500 rows and 9 columns\n",
    "### 2. No missing data\n",
    "### 3. All the columns are of integer or float data types"
   ]
  },
  {
   "cell_type": "markdown",
   "id": "d2ff39e0-fd59-4ffc-bddc-5ea6d5b479b4",
   "metadata": {},
   "source": [
    "### This notebook is divided into 3 sections: \n",
    "### Section1: gives basic EDA to determine factors affecting the chances of admission. It is further divided into Univariate and Bivariate sections. \n",
    "### Section2: focuses on model building \n",
    "### Section3: recommendation and insights\n"
   ]
  },
  {
   "cell_type": "markdown",
   "id": "fc654b08-b3c5-4120-bddf-f0ab919ffd46",
   "metadata": {},
   "source": [
    "# Section-1: Lets do EDA to understand the data\n",
    "\n",
    "### univariate analysis\n",
    "\n",
    "### 1. \tGRE Score (range: 290-340)"
   ]
  },
  {
   "cell_type": "code",
   "execution_count": 178,
   "id": "3ede243a-6dc3-4391-8d8c-a52654a0dd68",
   "metadata": {},
   "outputs": [
    {
     "data": {
      "text/plain": [
       "count    500.000000\n",
       "mean     316.472000\n",
       "std       11.295148\n",
       "min      290.000000\n",
       "25%      308.000000\n",
       "50%      317.000000\n",
       "75%      325.000000\n",
       "max      340.000000\n",
       "Name: GRE Score, dtype: float64"
      ]
     },
     "execution_count": 178,
     "metadata": {},
     "output_type": "execute_result"
    }
   ],
   "source": [
    "df['GRE Score'].describe()"
   ]
  },
  {
   "cell_type": "code",
   "execution_count": 179,
   "id": "3b488408-5b0d-4ad6-99f6-967c8ced807a",
   "metadata": {},
   "outputs": [
    {
     "data": {
      "text/plain": [
       "<Figure size 720x720 with 0 Axes>"
      ]
     },
     "metadata": {},
     "output_type": "display_data"
    },
    {
     "data": {
      "image/png": "[encoded data removed]",
      "text/plain": [
       "<Figure size 432x288 with 2 Axes>"
      ]
     },
     "metadata": {
      "needs_background": "light"
     },
     "output_type": "display_data"
    }
   ],
   "source": [
    "plt.figure(figsize=(10,10))\n",
    "fig, ax =plt.subplots(1,2)\n",
    "sns.boxplot(y = df['GRE Score'], ax = ax[0])\n",
    "sns.distplot(df['GRE Score'], ax= ax[1])\n",
    "plt.tight_layout()\n",
    "plt.show()"
   ]
  },
  {
   "cell_type": "markdown",
   "id": "59e73c32-29f9-4dd7-8074-a452b081a9f5",
   "metadata": {},
   "source": [
    "### We dont see any outlier in the data as mean and median (50%) values are similar (at 316 GRE score). \n",
    "### We can check later if higher value of GRE score drives chances of admission or vice-versa"
   ]
  },
  {
   "cell_type": "markdown",
   "id": "ff5d74f3-3d76-4f11-90de-c72b592aa606",
   "metadata": {},
   "source": [
    "### 2. TOEFL Score (range: 92-120)"
   ]
  },
  {
   "cell_type": "code",
   "execution_count": 180,
   "id": "ffd69b07-37b2-4bc2-9bf5-e98c17f85eb7",
   "metadata": {},
   "outputs": [
    {
     "data": {
      "text/plain": [
       "count    500.000000\n",
       "mean     107.192000\n",
       "std        6.081868\n",
       "min       92.000000\n",
       "25%      103.000000\n",
       "50%      107.000000\n",
       "75%      112.000000\n",
       "max      120.000000\n",
       "Name: TOEFL Score, dtype: float64"
      ]
     },
     "execution_count": 180,
     "metadata": {},
     "output_type": "execute_result"
    }
   ],
   "source": [
    "df['TOEFL Score'].describe()"
   ]
  },
  {
   "cell_type": "code",
   "execution_count": 181,
   "id": "7c23f551-e91c-4d91-8e9c-3b025b13ccba",
   "metadata": {},
   "outputs": [
    {
     "data": {
      "text/plain": [
       "<Figure size 720x720 with 0 Axes>"
      ]
     },
     "metadata": {},
     "output_type": "display_data"
    },
    {
     "data": {
      "image/png": "[encoded data removed]",
      "text/plain": [
       "<Figure size 432x288 with 2 Axes>"
      ]
     },
     "metadata": {
      "needs_background": "light"
     },
     "output_type": "display_data"
    }
   ],
   "source": [
    "plt.figure(figsize=(10,10))\n",
    "fig, ax =plt.subplots(1,2)\n",
    "sns.boxplot(y = df['TOEFL Score'], ax = ax[0])\n",
    "sns.distplot(df['TOEFL Score'], ax= ax[1])\n",
    "plt.tight_layout()\n",
    "plt.show()"
   ]
  },
  {
   "cell_type": "markdown",
   "id": "e1d1befe-1876-4e40-aa61-4841e5363b3f",
   "metadata": {},
   "source": [
    "### We dont see any outlier in the data as mean and median (50%) values are similar (at 107 TOEFL score). \n",
    "### We can check later if higher value of TOEFL score drives chances of admission or vice-versa"
   ]
  },
  {
   "cell_type": "markdown",
   "id": "52d1e0c8-91b1-4cee-973b-07bc72408f46",
   "metadata": {},
   "source": [
    "### 3. University Rating (range 0-5)"
   ]
  },
  {
   "cell_type": "code",
   "execution_count": 182,
   "id": "d0152587-290a-4cfd-95a3-91a1625760d0",
   "metadata": {},
   "outputs": [
    {
     "data": {
      "text/plain": [
       "count    500.000000\n",
       "mean       3.114000\n",
       "std        1.143512\n",
       "min        1.000000\n",
       "25%        2.000000\n",
       "50%        3.000000\n",
       "75%        4.000000\n",
       "max        5.000000\n",
       "Name: University Rating, dtype: float64"
      ]
     },
     "execution_count": 182,
     "metadata": {},
     "output_type": "execute_result"
    }
   ],
   "source": [
    "df['University Rating'].describe()"
   ]
  },
  {
   "cell_type": "code",
   "execution_count": 183,
   "id": "f740c1f4-6762-4b8d-8d0e-abf00125448a",
   "metadata": {},
   "outputs": [
    {
     "data": {
      "text/plain": [
       "<AxesSubplot:xlabel='University Rating', ylabel='count'>"
      ]
     },
     "execution_count": 183,
     "metadata": {},
     "output_type": "execute_result"
    },
    {
     "data": {
      "image/png": "[encoded data removed]",
      "text/plain": [
       "<Figure size 432x288 with 1 Axes>"
      ]
     },
     "metadata": {
      "needs_background": "light"
     },
     "output_type": "display_data"
    }
   ],
   "source": [
    "sns.countplot(df['University Rating'])"
   ]
  },
  {
   "cell_type": "markdown",
   "id": "ebfb2e1e-f8bc-419e-b7fd-5e240d311ad3",
   "metadata": {},
   "source": [
    "### we can see more often university ranking of 3 is present in data"
   ]
  },
  {
   "cell_type": "markdown",
   "id": "f77f979e-a50b-4d78-9fc1-b2e9ac24c75d",
   "metadata": {},
   "source": [
    "### 4. SOP"
   ]
  },
  {
   "cell_type": "code",
   "execution_count": 184,
   "id": "bf604ffa-4960-4e57-9908-297d331d2aaa",
   "metadata": {},
   "outputs": [
    {
     "data": {
      "text/plain": [
       "count    500.000000\n",
       "mean       3.374000\n",
       "std        0.991004\n",
       "min        1.000000\n",
       "25%        2.500000\n",
       "50%        3.500000\n",
       "75%        4.000000\n",
       "max        5.000000\n",
       "Name: SOP, dtype: float64"
      ]
     },
     "execution_count": 184,
     "metadata": {},
     "output_type": "execute_result"
    }
   ],
   "source": [
    "df['SOP'].describe()"
   ]
  },
  {
   "cell_type": "code",
   "execution_count": 185,
   "id": "6e726d76-8ebc-4a52-9267-32d712c91751",
   "metadata": {},
   "outputs": [
    {
     "data": {
      "text/plain": [
       "<AxesSubplot:xlabel='SOP', ylabel='count'>"
      ]
     },
     "execution_count": 185,
     "metadata": {},
     "output_type": "execute_result"
    },
    {
     "data": {
      "image/png": "[encoded data removed]",
      "text/plain": [
       "<Figure size 432x288 with 1 Axes>"
      ]
     },
     "metadata": {
      "needs_background": "light"
     },
     "output_type": "display_data"
    }
   ],
   "source": [
    "sns.countplot(df['SOP'])"
   ]
  },
  {
   "cell_type": "markdown",
   "id": "0bfceffc-dc8d-4530-8909-d119e353b756",
   "metadata": {},
   "source": [
    "### more often, SOP value of 3-4 is present. Lets see if higher SOP value drives chances of admissions"
   ]
  },
  {
   "cell_type": "markdown",
   "id": "50d54cc5-b6f0-43c9-8698-f293a7eed320",
   "metadata": {},
   "source": [
    "### 5. LOR"
   ]
  },
  {
   "cell_type": "code",
   "execution_count": 186,
   "id": "463de0a1-9f0a-4343-a2c7-e7f850a334d8",
   "metadata": {},
   "outputs": [
    {
     "data": {
      "text/plain": [
       "count    500.00000\n",
       "mean       3.48400\n",
       "std        0.92545\n",
       "min        1.00000\n",
       "25%        3.00000\n",
       "50%        3.50000\n",
       "75%        4.00000\n",
       "max        5.00000\n",
       "Name: LOR, dtype: float64"
      ]
     },
     "execution_count": 186,
     "metadata": {},
     "output_type": "execute_result"
    }
   ],
   "source": [
    "df['LOR'].describe()"
   ]
  },
  {
   "cell_type": "code",
   "execution_count": 187,
   "id": "dc1da5b5-85d8-432b-9cc1-0bc0371298b3",
   "metadata": {},
   "outputs": [
    {
     "data": {
      "text/plain": [
       "<AxesSubplot:xlabel='LOR', ylabel='count'>"
      ]
     },
     "execution_count": 187,
     "metadata": {},
     "output_type": "execute_result"
    },
    {
     "data": {
      "image/png": "[encoded data removed]",
      "text/plain": [
       "<Figure size 432x288 with 1 Axes>"
      ]
     },
     "metadata": {
      "needs_background": "light"
     },
     "output_type": "display_data"
    }
   ],
   "source": [
    "sns.countplot(df['LOR'])"
   ]
  },
  {
   "cell_type": "markdown",
   "id": "36154669-f7bd-4238-9afd-a4b060f22e85",
   "metadata": {},
   "source": [
    "### more often, LOR value of 3-4 is present. Lets see if higher LOR value drives chances of admissions"
   ]
  },
  {
   "cell_type": "markdown",
   "id": "03ead081-6736-4c4f-a150-7ed0d2b9cc49",
   "metadata": {},
   "source": [
    "### 6. CGPA"
   ]
  },
  {
   "cell_type": "code",
   "execution_count": 188,
   "id": "339b56db-e203-4e74-b102-b8dc805a2112",
   "metadata": {},
   "outputs": [
    {
     "data": {
      "text/plain": [
       "count    500.000000\n",
       "mean       8.576440\n",
       "std        0.604813\n",
       "min        6.800000\n",
       "25%        8.127500\n",
       "50%        8.560000\n",
       "75%        9.040000\n",
       "max        9.920000\n",
       "Name: CGPA, dtype: float64"
      ]
     },
     "execution_count": 188,
     "metadata": {},
     "output_type": "execute_result"
    }
   ],
   "source": [
    "df['CGPA'].describe()"
   ]
  },
  {
   "cell_type": "code",
   "execution_count": 189,
   "id": "ce7651a8-713a-4edd-9ff1-8f46386ab915",
   "metadata": {},
   "outputs": [
    {
     "data": {
      "text/plain": [
       "<Figure size 720x720 with 0 Axes>"
      ]
     },
     "metadata": {},
     "output_type": "display_data"
    },
    {
     "data": {
      "image/png": "[encoded data removed]",
      "text/plain": [
       "<Figure size 432x288 with 2 Axes>"
      ]
     },
     "metadata": {
      "needs_background": "light"
     },
     "output_type": "display_data"
    }
   ],
   "source": [
    "plt.figure(figsize=(10,10))\n",
    "fig, ax =plt.subplots(1,2)\n",
    "sns.boxplot(y = df['CGPA'], ax = ax[0])\n",
    "sns.distplot(df['CGPA'], ax= ax[1])\n",
    "plt.tight_layout()\n",
    "plt.show()"
   ]
  },
  {
   "cell_type": "markdown",
   "id": "c9c7d5eb-f58b-4ff2-b52e-73af38d0d63c",
   "metadata": {},
   "source": [
    "### We dont see any outlier in the data as mean and median (50%) values are similar (at 8.5 CGPA). \n",
    "### We can check later if higher value of CGPA score drives chances of admission or vice-versa"
   ]
  },
  {
   "cell_type": "markdown",
   "id": "4bb0f5f2-1d21-442f-b4c7-584d10a062db",
   "metadata": {},
   "source": [
    "### 7. Research"
   ]
  },
  {
   "cell_type": "code",
   "execution_count": 190,
   "id": "8bc1f2cf-9926-4174-ac73-9dde7da42317",
   "metadata": {},
   "outputs": [
    {
     "data": {
      "text/plain": [
       "count    500.000000\n",
       "mean       0.560000\n",
       "std        0.496884\n",
       "min        0.000000\n",
       "25%        0.000000\n",
       "50%        1.000000\n",
       "75%        1.000000\n",
       "max        1.000000\n",
       "Name: Research, dtype: float64"
      ]
     },
     "execution_count": 190,
     "metadata": {},
     "output_type": "execute_result"
    }
   ],
   "source": [
    "df['Research'].describe()"
   ]
  },
  {
   "cell_type": "code",
   "execution_count": 191,
   "id": "e36e5657-267b-4c44-b381-2301cfd4b107",
   "metadata": {},
   "outputs": [
    {
     "data": {
      "image/png": "[encoded data removed]",
      "text/plain": [
       "<Figure size 432x288 with 1 Axes>"
      ]
     },
     "metadata": {
      "needs_background": "light"
     },
     "output_type": "display_data"
    }
   ],
   "source": [
    "sns.countplot(df['Research'])\n",
    "plt.show()"
   ]
  },
  {
   "cell_type": "markdown",
   "id": "98ee8e61-50d1-49de-ab2c-562634ffdbff",
   "metadata": {},
   "source": [
    "### we can see if Research value of 1 drives more chances of admissions or not"
   ]
  },
  {
   "cell_type": "markdown",
   "id": "c10745e8-f49d-4c8c-aa2a-fc79fc328982",
   "metadata": {},
   "source": [
    "# Conclusions from univariate EDA:\n",
    "\n",
    "### average GRE score is : 316\n",
    "### average TOEFL score is: 107\n",
    "### frequent university ranking: 3\n",
    "### frequent SOP value : 3-4\n",
    "### frequent LOR value : 3-4\n",
    "### average CGPA : 8.5\n",
    "### frequent Research value: 1"
   ]
  },
  {
   "cell_type": "code",
   "execution_count": null,
   "id": "c4b3509e-b7d3-4074-b189-7c936490c846",
   "metadata": {},
   "outputs": [],
   "source": []
  },
  {
   "cell_type": "markdown",
   "id": "21efc055-0baf-412d-848b-8e991ed78f03",
   "metadata": {},
   "source": [
    "### Bivariate analysis"
   ]
  },
  {
   "cell_type": "code",
   "execution_count": 192,
   "id": "16809ad1-8703-4bc8-bdec-7e5d4ff10c99",
   "metadata": {},
   "outputs": [],
   "source": [
    "cts_vars = ['GRE Score', 'TOEFL Score', 'CGPA']\n",
    "ord_vars = ['University Rating', 'SOP', 'LOR', 'Research']"
   ]
  },
  {
   "cell_type": "code",
   "execution_count": 193,
   "id": "27dac534-bf07-47ee-ad2c-1114045527da",
   "metadata": {},
   "outputs": [
    {
     "data": {
      "image/png": "[encoded data removed]",
      "text/plain": [
       "<Figure size 432x432 with 3 Axes>"
      ]
     },
     "metadata": {
      "needs_background": "light"
     },
     "output_type": "display_data"
    },
    {
     "data": {
      "image/png": "[encoded data removed]",
      "text/plain": [
       "<Figure size 432x432 with 3 Axes>"
      ]
     },
     "metadata": {
      "needs_background": "light"
     },
     "output_type": "display_data"
    },
    {
     "data": {
      "image/png": "[encoded data removed]",
      "text/plain": [
       "<Figure size 432x432 with 3 Axes>"
      ]
     },
     "metadata": {
      "needs_background": "light"
     },
     "output_type": "display_data"
    }
   ],
   "source": [
    "for var in cts_vars:\n",
    "    sns.jointplot(df[var] , df['Chance of Admit'])\n",
    "    plt.show()"
   ]
  },
  {
   "cell_type": "code",
   "execution_count": 194,
   "id": "c910fe70-0763-4323-acaa-713f26b92e58",
   "metadata": {},
   "outputs": [
    {
     "data": {
      "image/png": "[encoded data removed]",
      "text/plain": [
       "<Figure size 432x288 with 1 Axes>"
      ]
     },
     "metadata": {
      "needs_background": "light"
     },
     "output_type": "display_data"
    },
    {
     "data": {
      "image/png": "[encoded data removed]",
      "text/plain": [
       "<Figure size 432x288 with 1 Axes>"
      ]
     },
     "metadata": {
      "needs_background": "light"
     },
     "output_type": "display_data"
    },
    {
     "data": {
      "image/png": "[encoded data removed]",
      "text/plain": [
       "<Figure size 432x288 with 1 Axes>"
      ]
     },
     "metadata": {
      "needs_background": "light"
     },
     "output_type": "display_data"
    },
    {
     "data": {
      "image/png": "[encoded data removed]",
      "text/plain": [
       "<Figure size 432x288 with 1 Axes>"
      ]
     },
     "metadata": {
      "needs_background": "light"
     },
     "output_type": "display_data"
    }
   ],
   "source": [
    "for var in ord_vars:\n",
    "    sns.boxplot(df[var] , df['Chance of Admit'])\n",
    "    plt.show()"
   ]
  },
  {
   "cell_type": "markdown",
   "id": "179f857d-f400-4da9-9fa2-e381350a32dd",
   "metadata": {},
   "source": [
    "# Conclusions from Bivariate analysis\n",
    "\n",
    "### 1. continuous features ('GRE Score,' 'TOEFL Score', 'CGPA') seems to have a linear relationship with y-variable (Chance of Admit))\n",
    "### 2. ordinal features ('University Rating', 'SOP', 'LOR', 'Research')- their median value seems to have an increasing relation with y-variable\n",
    "### 3. There are few outliers in ordinal features- despite having higher values, the chances of admission is still low. It would be interesting to see what contributes these points.\n",
    "\n",
    "\n"
   ]
  },
  {
   "cell_type": "markdown",
   "id": "7161976d-061d-456d-b89c-40501e691daa",
   "metadata": {},
   "source": [
    "# Relation between input features"
   ]
  },
  {
   "cell_type": "code",
   "execution_count": 195,
   "id": "17888099-9cef-46fd-b948-31a0cea06d2e",
   "metadata": {},
   "outputs": [
    {
     "data": {
      "image/png": "[encoded data removed]",
      "text/plain": [
       "<Figure size 864x504 with 2 Axes>"
      ]
     },
     "metadata": {
      "needs_background": "light"
     },
     "output_type": "display_data"
    }
   ],
   "source": [
    "cormap = df.corr(method='pearson')\n",
    "plt.figure(figsize=(12,7))\n",
    "sns.heatmap(cormap,annot=True,linewidth =3,cmap='Blues', vmax=0,vmin=1)\n",
    "plt.show()"
   ]
  },
  {
   "cell_type": "markdown",
   "id": "c09594fd-2e35-404b-84b8-c461404eeb28",
   "metadata": {},
   "source": [
    "### We observe strong positive correlation among 'GRE Score', 'TOEFL Score' and 'CGPA'. We need to check how each affects our evaluation metrics\n",
    "### Also, high pearson correlation coefficient value between input features and y-variable (chance of admission) indicates presence of linear relation between them. \n"
   ]
  },
  {
   "cell_type": "markdown",
   "id": "e91dae52-b416-4830-a1b2-c0a82d54fa63",
   "metadata": {},
   "source": [
    "### Some discussion on y_variable"
   ]
  },
  {
   "cell_type": "code",
   "execution_count": 196,
   "id": "d1b6b461-fa67-42a0-bb57-753b6d73fc79",
   "metadata": {},
   "outputs": [
    {
     "data": {
      "text/plain": [
       "count    500.00000\n",
       "mean       0.72174\n",
       "std        0.14114\n",
       "min        0.34000\n",
       "25%        0.63000\n",
       "50%        0.72000\n",
       "75%        0.82000\n",
       "max        0.97000\n",
       "Name: Chance of Admit, dtype: float64"
      ]
     },
     "execution_count": 196,
     "metadata": {},
     "output_type": "execute_result"
    }
   ],
   "source": [
    "df['Chance of Admit'].describe()"
   ]
  },
  {
   "cell_type": "code",
   "execution_count": 197,
   "id": "7b05d36a-5597-4f28-b995-8d79eb6dfe8e",
   "metadata": {},
   "outputs": [
    {
     "data": {
      "text/plain": [
       "<AxesSubplot:xlabel='Chance of Admit', ylabel='Density'>"
      ]
     },
     "execution_count": 197,
     "metadata": {},
     "output_type": "execute_result"
    },
    {
     "data": {
      "image/png": "[encoded data removed]",
      "text/plain": [
       "<Figure size 432x288 with 1 Axes>"
      ]
     },
     "metadata": {
      "needs_background": "light"
     },
     "output_type": "display_data"
    }
   ],
   "source": [
    "sns.kdeplot(df['Chance of Admit'])"
   ]
  },
  {
   "cell_type": "markdown",
   "id": "c9d2b6a6-a1c8-4204-8ece-b68b7081c79a",
   "metadata": {},
   "source": [
    "### y-variable (Chance of Admit) almost follows a normal distribution with minor left skewness"
   ]
  },
  {
   "cell_type": "markdown",
   "id": "1c446703-0b69-418a-bf8b-c88c7b77cfe4",
   "metadata": {},
   "source": [
    "# Section 2: Modeling and assumptions"
   ]
  },
  {
   "cell_type": "markdown",
   "id": "bcc16a7f-abf8-436b-906f-615aacba6983",
   "metadata": {},
   "source": [
    "### The problem we are trying to solve is to come up with a model that predicts chances of Admission given various input features.\n",
    "### Also, as per EDA above, we can see there is Linear dependency of y-variable with input features.\n"
   ]
  },
  {
   "cell_type": "markdown",
   "id": "0122f2ec-cdbb-4d72-a35d-5dd412e6e85c",
   "metadata": {},
   "source": [
    "### Lets think along the lines of assumptions of linear regression model:\n",
    "\n",
    "### assumption1: y-variable has linear relation with features. We can see from above correlation plot, that \"chance of Admit\" shows strong correlation coefficienct with input features.\n",
    "### assumption2: Multicolinearity: as we have seen, 'GRE Score', 'TOEFL Score' and 'CGPA' shows strong positive correlation. We can check by vif score and also by taking one feature at a time in the model and seeing how the evaluation metric improves.\n",
    "\n"
   ]
  },
  {
   "cell_type": "markdown",
   "id": "afab7664-eb45-4897-a37c-a3671a19c725",
   "metadata": {},
   "source": [
    "### checking vif"
   ]
  },
  {
   "cell_type": "code",
   "execution_count": 198,
   "id": "fe842739-22ca-4838-bc68-af92e7b41ed1",
   "metadata": {},
   "outputs": [
    {
     "data": {
      "text/html": [
       "<div>\n",
       "<style scoped>\n",
       "    .dataframe tbody tr th:only-of-type {\n",
       "        vertical-align: middle;\n",
       "    }\n",
       "\n",
       "    .dataframe tbody tr th {\n",
       "        vertical-align: top;\n",
       "    }\n",
       "\n",
       "    .dataframe thead th {\n",
       "        text-align: right;\n",
       "    }\n",
       "</style>\n",
       "<table border=\"1\" class=\"dataframe\">\n",
       "  <thead>\n",
       "    <tr style=\"text-align: right;\">\n",
       "      <th></th>\n",
       "      <th>GRE Score</th>\n",
       "      <th>TOEFL Score</th>\n",
       "      <th>University Rating</th>\n",
       "      <th>SOP</th>\n",
       "      <th>LOR</th>\n",
       "      <th>CGPA</th>\n",
       "      <th>Research</th>\n",
       "    </tr>\n",
       "  </thead>\n",
       "  <tbody>\n",
       "    <tr>\n",
       "      <th>0</th>\n",
       "      <td>337</td>\n",
       "      <td>118</td>\n",
       "      <td>4</td>\n",
       "      <td>4.5</td>\n",
       "      <td>4.5</td>\n",
       "      <td>9.65</td>\n",
       "      <td>1</td>\n",
       "    </tr>\n",
       "    <tr>\n",
       "      <th>1</th>\n",
       "      <td>324</td>\n",
       "      <td>107</td>\n",
       "      <td>4</td>\n",
       "      <td>4.0</td>\n",
       "      <td>4.5</td>\n",
       "      <td>8.87</td>\n",
       "      <td>1</td>\n",
       "    </tr>\n",
       "    <tr>\n",
       "      <th>2</th>\n",
       "      <td>316</td>\n",
       "      <td>104</td>\n",
       "      <td>3</td>\n",
       "      <td>3.0</td>\n",
       "      <td>3.5</td>\n",
       "      <td>8.00</td>\n",
       "      <td>1</td>\n",
       "    </tr>\n",
       "    <tr>\n",
       "      <th>3</th>\n",
       "      <td>322</td>\n",
       "      <td>110</td>\n",
       "      <td>3</td>\n",
       "      <td>3.5</td>\n",
       "      <td>2.5</td>\n",
       "      <td>8.67</td>\n",
       "      <td>1</td>\n",
       "    </tr>\n",
       "    <tr>\n",
       "      <th>4</th>\n",
       "      <td>314</td>\n",
       "      <td>103</td>\n",
       "      <td>2</td>\n",
       "      <td>2.0</td>\n",
       "      <td>3.0</td>\n",
       "      <td>8.21</td>\n",
       "      <td>0</td>\n",
       "    </tr>\n",
       "    <tr>\n",
       "      <th>...</th>\n",
       "      <td>...</td>\n",
       "      <td>...</td>\n",
       "      <td>...</td>\n",
       "      <td>...</td>\n",
       "      <td>...</td>\n",
       "      <td>...</td>\n",
       "      <td>...</td>\n",
       "    </tr>\n",
       "    <tr>\n",
       "      <th>495</th>\n",
       "      <td>332</td>\n",
       "      <td>108</td>\n",
       "      <td>5</td>\n",
       "      <td>4.5</td>\n",
       "      <td>4.0</td>\n",
       "      <td>9.02</td>\n",
       "      <td>1</td>\n",
       "    </tr>\n",
       "    <tr>\n",
       "      <th>496</th>\n",
       "      <td>337</td>\n",
       "      <td>117</td>\n",
       "      <td>5</td>\n",
       "      <td>5.0</td>\n",
       "      <td>5.0</td>\n",
       "      <td>9.87</td>\n",
       "      <td>1</td>\n",
       "    </tr>\n",
       "    <tr>\n",
       "      <th>497</th>\n",
       "      <td>330</td>\n",
       "      <td>120</td>\n",
       "      <td>5</td>\n",
       "      <td>4.5</td>\n",
       "      <td>5.0</td>\n",
       "      <td>9.56</td>\n",
       "      <td>1</td>\n",
       "    </tr>\n",
       "    <tr>\n",
       "      <th>498</th>\n",
       "      <td>312</td>\n",
       "      <td>103</td>\n",
       "      <td>4</td>\n",
       "      <td>4.0</td>\n",
       "      <td>5.0</td>\n",
       "      <td>8.43</td>\n",
       "      <td>0</td>\n",
       "    </tr>\n",
       "    <tr>\n",
       "      <th>499</th>\n",
       "      <td>327</td>\n",
       "      <td>113</td>\n",
       "      <td>4</td>\n",
       "      <td>4.5</td>\n",
       "      <td>4.5</td>\n",
       "      <td>9.04</td>\n",
       "      <td>0</td>\n",
       "    </tr>\n",
       "  </tbody>\n",
       "</table>\n",
       "<p>500 rows × 7 columns</p>\n",
       "</div>"
      ],
      "text/plain": [
       "     GRE Score  TOEFL Score  University Rating  SOP  LOR  CGPA  Research\n",
       "0          337          118                  4  4.5  4.5  9.65         1\n",
       "1          324          107                  4  4.0  4.5  8.87         1\n",
       "2          316          104                  3  3.0  3.5  8.00         1\n",
       "3          322          110                  3  3.5  2.5  8.67         1\n",
       "4          314          103                  2  2.0  3.0  8.21         0\n",
       "..         ...          ...                ...  ...  ...   ...       ...\n",
       "495        332          108                  5  4.5  4.0  9.02         1\n",
       "496        337          117                  5  5.0  5.0  9.87         1\n",
       "497        330          120                  5  4.5  5.0  9.56         1\n",
       "498        312          103                  4  4.0  5.0  8.43         0\n",
       "499        327          113                  4  4.5  4.5  9.04         0\n",
       "\n",
       "[500 rows x 7 columns]"
      ]
     },
     "execution_count": 198,
     "metadata": {},
     "output_type": "execute_result"
    }
   ],
   "source": [
    "df[['GRE Score', 'TOEFL Score', 'University Rating', 'SOP', 'LOR', 'CGPA', 'Research']]"
   ]
  },
  {
   "cell_type": "code",
   "execution_count": 199,
   "id": "e1617dc2-ebb8-40ec-8fcc-556f1356a303",
   "metadata": {},
   "outputs": [
    {
     "data": {
      "text/html": [
       "<div>\n",
       "<style scoped>\n",
       "    .dataframe tbody tr th:only-of-type {\n",
       "        vertical-align: middle;\n",
       "    }\n",
       "\n",
       "    .dataframe tbody tr th {\n",
       "        vertical-align: top;\n",
       "    }\n",
       "\n",
       "    .dataframe thead th {\n",
       "        text-align: right;\n",
       "    }\n",
       "</style>\n",
       "<table border=\"1\" class=\"dataframe\">\n",
       "  <thead>\n",
       "    <tr style=\"text-align: right;\">\n",
       "      <th></th>\n",
       "      <th>Features</th>\n",
       "      <th>VIF</th>\n",
       "    </tr>\n",
       "  </thead>\n",
       "  <tbody>\n",
       "    <tr>\n",
       "      <th>0</th>\n",
       "      <td>GRE Score</td>\n",
       "      <td>1308.06</td>\n",
       "    </tr>\n",
       "    <tr>\n",
       "      <th>1</th>\n",
       "      <td>TOEFL Score</td>\n",
       "      <td>1215.95</td>\n",
       "    </tr>\n",
       "    <tr>\n",
       "      <th>5</th>\n",
       "      <td>CGPA</td>\n",
       "      <td>950.82</td>\n",
       "    </tr>\n",
       "    <tr>\n",
       "      <th>3</th>\n",
       "      <td>SOP</td>\n",
       "      <td>35.27</td>\n",
       "    </tr>\n",
       "    <tr>\n",
       "      <th>4</th>\n",
       "      <td>LOR</td>\n",
       "      <td>30.91</td>\n",
       "    </tr>\n",
       "    <tr>\n",
       "      <th>2</th>\n",
       "      <td>University Rating</td>\n",
       "      <td>20.93</td>\n",
       "    </tr>\n",
       "    <tr>\n",
       "      <th>6</th>\n",
       "      <td>Research</td>\n",
       "      <td>2.87</td>\n",
       "    </tr>\n",
       "  </tbody>\n",
       "</table>\n",
       "</div>"
      ],
      "text/plain": [
       "            Features      VIF\n",
       "0          GRE Score  1308.06\n",
       "1        TOEFL Score  1215.95\n",
       "5               CGPA   950.82\n",
       "3                SOP    35.27\n",
       "4                LOR    30.91\n",
       "2  University Rating    20.93\n",
       "6           Research     2.87"
      ]
     },
     "execution_count": 199,
     "metadata": {},
     "output_type": "execute_result"
    }
   ],
   "source": [
    "vif = pd.DataFrame()\n",
    "X_t = df[['GRE Score', 'TOEFL Score', 'University Rating', 'SOP', 'LOR', 'CGPA', 'Research']]\n",
    "vif['Features'] = X_t.columns\n",
    "vif['VIF'] = [variance_inflation_factor(X_t.values, i) for i in range(X_t.shape[1])]\n",
    "vif['VIF'] = round(vif['VIF'], 2)\n",
    "vif = vif.sort_values(by = \"VIF\", ascending = False)\n",
    "vif"
   ]
  },
  {
   "cell_type": "markdown",
   "id": "1f149cbe-10f1-4dd7-95ba-7cc105aafc1d",
   "metadata": {},
   "source": [
    "### as we can see 'GRE Score', 'TOEFL Score' and 'CGPA' has got larger vif values. "
   ]
  },
  {
   "cell_type": "code",
   "execution_count": 200,
   "id": "9c87e7e1-eb0d-4e06-836f-4b99525812db",
   "metadata": {},
   "outputs": [],
   "source": [
    "X = df[['GRE Score', 'TOEFL Score', 'University Rating', 'SOP', 'LOR', 'CGPA', 'Research']]\n",
    "y = df['Chance of Admit'].values"
   ]
  },
  {
   "cell_type": "code",
   "execution_count": 201,
   "id": "8df73bfe-4d93-4b0a-89ef-b0e9aa93fa3e",
   "metadata": {},
   "outputs": [
    {
     "data": {
      "text/plain": [
       "count    500.00000\n",
       "mean       0.72174\n",
       "std        0.14114\n",
       "min        0.34000\n",
       "25%        0.63000\n",
       "50%        0.72000\n",
       "75%        0.82000\n",
       "max        0.97000\n",
       "Name: Chance of Admit, dtype: float64"
      ]
     },
     "execution_count": 201,
     "metadata": {},
     "output_type": "execute_result"
    }
   ],
   "source": [
    "df['Chance of Admit'].describe()"
   ]
  },
  {
   "cell_type": "code",
   "execution_count": 202,
   "id": "416f2326-e4b8-4359-aa80-08362a3bab4f",
   "metadata": {},
   "outputs": [],
   "source": [
    "ss = StandardScaler()\n",
    "ss.fit(X)\n",
    "X_scaled = ss.transform(X)"
   ]
  },
  {
   "cell_type": "code",
   "execution_count": 203,
   "id": "d59214df-028b-4b3e-a98b-a380f460d122",
   "metadata": {},
   "outputs": [
    {
     "data": {
      "text/plain": [
       "array([ 0.66714832, -0.03160087,  0.77558214,  0.63231549,  1.09894429,\n",
       "        0.48585943,  0.88640526])"
      ]
     },
     "execution_count": 203,
     "metadata": {},
     "output_type": "execute_result"
    }
   ],
   "source": [
    "X_scaled[1]"
   ]
  },
  {
   "cell_type": "markdown",
   "id": "fae92c88-26d5-4feb-9f23-51079a4b750b",
   "metadata": {},
   "source": [
    "### using scaled features to build the model"
   ]
  },
  {
   "cell_type": "code",
   "execution_count": 204,
   "id": "369203f3-3f4c-4d14-9523-172dd49af5dd",
   "metadata": {},
   "outputs": [
    {
     "data": {
      "text/plain": [
       "((350, 7), (150, 7), (350,), (150,))"
      ]
     },
     "execution_count": 204,
     "metadata": {},
     "output_type": "execute_result"
    }
   ],
   "source": [
    "X_train, X_test, y_train, y_test = train_test_split(X_scaled, y , test_size = 0.3, random_state = 123)\n",
    "X_train.shape, X_test.shape, y_train.shape, y_test.shape "
   ]
  },
  {
   "cell_type": "code",
   "execution_count": 205,
   "id": "26172289-4dcb-49c9-9d21-96e9dd0ac525",
   "metadata": {},
   "outputs": [
    {
     "data": {
      "text/plain": [
       "LinearRegression()"
      ]
     },
     "execution_count": 205,
     "metadata": {},
     "output_type": "execute_result"
    }
   ],
   "source": [
    "lr_model=LinearRegression()\n",
    "lr_model.fit(X_train, y_train)"
   ]
  },
  {
   "cell_type": "code",
   "execution_count": 206,
   "id": "6497d6cb-3a0b-498a-87cb-3af27eaf20c7",
   "metadata": {},
   "outputs": [
    {
     "data": {
      "text/plain": [
       "0.8203124319718277"
      ]
     },
     "execution_count": 206,
     "metadata": {},
     "output_type": "execute_result"
    }
   ],
   "source": [
    "lr_model.score(X_train, y_train)"
   ]
  },
  {
   "cell_type": "code",
   "execution_count": 207,
   "id": "4a05e1f9-47ca-49ce-ad3f-9aff47ae61c5",
   "metadata": {},
   "outputs": [
    {
     "data": {
      "text/plain": [
       "0.8222583019921643"
      ]
     },
     "execution_count": 207,
     "metadata": {},
     "output_type": "execute_result"
    }
   ],
   "source": [
    "lr_model.score(X_test, y_test)"
   ]
  },
  {
   "cell_type": "code",
   "execution_count": 208,
   "id": "f5cef8d4-b7d5-455e-b2ac-71492a323281",
   "metadata": {},
   "outputs": [
    {
     "data": {
      "text/plain": [
       "array([0.02730659, 0.01692848, 0.00413289, 0.0009643 , 0.01474799,\n",
       "       0.06798212, 0.01180739])"
      ]
     },
     "execution_count": 208,
     "metadata": {},
     "output_type": "execute_result"
    }
   ],
   "source": [
    "lr_model.coef_"
   ]
  },
  {
   "cell_type": "code",
   "execution_count": 209,
   "id": "a3c1121f-5c37-471e-9b5a-2bdc016f27d1",
   "metadata": {},
   "outputs": [],
   "source": [
    "y_hat = lr_model.predict(X_test)"
   ]
  },
  {
   "cell_type": "code",
   "execution_count": 210,
   "id": "771c979f-498f-4a49-89a2-0cb2761c3aec",
   "metadata": {},
   "outputs": [],
   "source": [
    "def adj_r2(r2,n,d):\n",
    "    ans = 1- ((1-r2)*(n-1)/(n-d-1))\n",
    "    return ans"
   ]
  },
  {
   "cell_type": "code",
   "execution_count": 211,
   "id": "232daad4-30a4-4ee9-aa79-86427cdd5612",
   "metadata": {},
   "outputs": [
    {
     "name": "stdout",
     "output_type": "stream",
     "text": [
      "Mean squared error: 0.0039\n",
      "Coefficient of determination: 0.8223\n",
      "adjusted r2: 0.8135\n"
     ]
    }
   ],
   "source": [
    "print(\"Mean squared error: %.4f\" % mean_squared_error(y_test, y_hat))\n",
    "# The coefficient of determination: 1 is perfect prediction\n",
    "print(\"Coefficient of determination: %.4f\" % r2_score(y_test, y_hat))\n",
    "print(\"adjusted r2: %.4f\" % adj_r2(r2_score(y_test, y_hat), X_test.shape[0], X_test.shape[1]))"
   ]
  },
  {
   "cell_type": "code",
   "execution_count": 212,
   "id": "6af433ae-9e24-4907-a8fe-58fc180a1051",
   "metadata": {},
   "outputs": [
    {
     "name": "stdout",
     "output_type": "stream",
     "text": [
      "Mean squared error: 0.0034\n",
      "Coefficient of determination: 0.8203\n",
      "adjusted r2: 0.8166\n"
     ]
    }
   ],
   "source": [
    "### Above metrics is calculated for Training dataset as well to check overfitting. \n",
    "\n",
    "print(\"Mean squared error: %.4f\" % mean_squared_error(y_train, lr_model.predict(X_train)))\n",
    "# The coefficient of determination: 1 is perfect prediction\n",
    "print(\"Coefficient of determination: %.4f\" % r2_score(y_train, lr_model.predict(X_train)))\n",
    "print(\"adjusted r2: %.4f\" % adj_r2(r2_score(y_train, lr_model.predict(X_train)),X_train.shape[0],X_train.shape[1]))\n",
    "\n"
   ]
  },
  {
   "cell_type": "markdown",
   "id": "4a3730b6-d2f7-420f-8a81-308fba3376a7",
   "metadata": {},
   "source": [
    "### the model doesn't seem to overfit data. "
   ]
  },
  {
   "cell_type": "markdown",
   "id": "87cd045f-9ea6-4419-8a9a-4c97fa772b24",
   "metadata": {},
   "source": [
    "# Error analysis"
   ]
  },
  {
   "cell_type": "code",
   "execution_count": 213,
   "id": "b2c83501-310e-4af4-b863-f78c91f6fcbe",
   "metadata": {},
   "outputs": [],
   "source": [
    "error = y_test - y_hat"
   ]
  },
  {
   "cell_type": "code",
   "execution_count": 214,
   "id": "9910d8bf-380c-41d1-8d52-6cc490daa00c",
   "metadata": {},
   "outputs": [
    {
     "data": {
      "text/plain": [
       "array([], dtype=float64)"
      ]
     },
     "execution_count": 214,
     "metadata": {},
     "output_type": "execute_result"
    }
   ],
   "source": [
    "y_hat[y_hat>1]"
   ]
  },
  {
   "cell_type": "code",
   "execution_count": 215,
   "id": "84b5eb47-e9ce-4bc4-ada1-75ce8fea1a5a",
   "metadata": {},
   "outputs": [
    {
     "data": {
      "text/plain": [
       "<AxesSubplot:ylabel='Density'>"
      ]
     },
     "execution_count": 215,
     "metadata": {},
     "output_type": "execute_result"
    },
    {
     "data": {
      "image/png": "[encoded data removed]",
      "text/plain": [
       "<Figure size 432x288 with 1 Axes>"
      ]
     },
     "metadata": {
      "needs_background": "light"
     },
     "output_type": "display_data"
    }
   ],
   "source": [
    "sns.kdeplot(error)"
   ]
  },
  {
   "cell_type": "code",
   "execution_count": 216,
   "id": "18a8dcbf-13b6-42ca-901e-383ddfc2f2de",
   "metadata": {},
   "outputs": [
    {
     "data": {
      "image/png": "[encoded data removed]",
      "text/plain": [
       "<Figure size 432x288 with 1 Axes>"
      ]
     },
     "metadata": {
      "needs_background": "light"
     },
     "output_type": "display_data"
    }
   ],
   "source": [
    "sm.qqplot(error, stats.norm, fit=True, line=\"45\") \n",
    "plt.show()"
   ]
  },
  {
   "cell_type": "markdown",
   "id": "d9ef99c1-2535-4741-9ef8-13965c03c6c2",
   "metadata": {},
   "source": [
    "### QQ plot and distribution plot for error seems to have long left tail. This might be due to outliers present in the data. \n",
    "### We need further validation (domain information) to confirm these points as outliers.\n"
   ]
  },
  {
   "cell_type": "code",
   "execution_count": null,
   "id": "5592f9e8-cb60-48f2-9f2f-9bf3c794ee82",
   "metadata": {},
   "outputs": [],
   "source": []
  },
  {
   "cell_type": "code",
   "execution_count": 217,
   "id": "8a2b74ba-cf39-41a7-809f-a64a2fbc8416",
   "metadata": {},
   "outputs": [
    {
     "data": {
      "image/png": "[encoded data removed]",
      "text/plain": [
       "<Figure size 432x288 with 1 Axes>"
      ]
     },
     "metadata": {
      "needs_background": "light"
     },
     "output_type": "display_data"
    }
   ],
   "source": [
    "sns.scatterplot(y_hat, error)\n",
    "plt.xlabel('y_hat')\n",
    "plt.ylabel('error')\n",
    "plt.show()\n",
    "\n"
   ]
  },
  {
   "cell_type": "markdown",
   "id": "68ec181f-176a-4840-b45f-c397efd3ae2b",
   "metadata": {},
   "source": [
    "### error analysis:\n",
    "### Assumption 3: The error seems to be normally distributed with mean value around 0. But it seems there are few outliers in data where predictions are greater than y-values. \n",
    "### Assumption 4: If we exclude negative values of error,there seems to little hetroskadasticity in the data. There is slight funnel type beahviour towards starting of error-y-hat curve.\n",
    "### Though it is very negligible.\n",
    "\n"
   ]
  },
  {
   "cell_type": "code",
   "execution_count": 218,
   "id": "365c8b9d-9439-4087-94db-489003986685",
   "metadata": {},
   "outputs": [
    {
     "data": {
      "image/png": "[encoded data removed]",
      "text/plain": [
       "<Figure size 432x288 with 1 Axes>"
      ]
     },
     "metadata": {
      "needs_background": "light"
     },
     "output_type": "display_data"
    }
   ],
   "source": [
    "sns.scatterplot(y_test, error)\n",
    "plt.xlabel('y_test')\n",
    "plt.ylabel('error')\n",
    "plt.show()"
   ]
  },
  {
   "cell_type": "markdown",
   "id": "a8c7b795-917a-4bf0-ab45-6a9aa11b54a8",
   "metadata": {},
   "source": [
    "### similar beahviour observed for y_test vs error plot."
   ]
  },
  {
   "cell_type": "code",
   "execution_count": null,
   "id": "54327893-81f6-4aeb-b9c1-a94c2d06a6ab",
   "metadata": {},
   "outputs": [],
   "source": []
  },
  {
   "cell_type": "code",
   "execution_count": 219,
   "id": "03b61915-809d-4e96-a702-9885748ecfe4",
   "metadata": {},
   "outputs": [],
   "source": [
    "df_output = pd.DataFrame()\n",
    "df_output['serial_num_lst'] = serial_num_lst\n",
    "df_output = pd.concat([df_output, df], axis=1)\n",
    "df_output['predictions'] = lr_model.predict(X_scaled)\n"
   ]
  },
  {
   "cell_type": "code",
   "execution_count": 220,
   "id": "55d82d57-2c45-4368-ac20-edae7ded0ba3",
   "metadata": {},
   "outputs": [
    {
     "data": {
      "text/html": [
       "<div>\n",
       "<style scoped>\n",
       "    .dataframe tbody tr th:only-of-type {\n",
       "        vertical-align: middle;\n",
       "    }\n",
       "\n",
       "    .dataframe tbody tr th {\n",
       "        vertical-align: top;\n",
       "    }\n",
       "\n",
       "    .dataframe thead th {\n",
       "        text-align: right;\n",
       "    }\n",
       "</style>\n",
       "<table border=\"1\" class=\"dataframe\">\n",
       "  <thead>\n",
       "    <tr style=\"text-align: right;\">\n",
       "      <th></th>\n",
       "      <th>serial_num_lst</th>\n",
       "      <th>GRE Score</th>\n",
       "      <th>TOEFL Score</th>\n",
       "      <th>University Rating</th>\n",
       "      <th>SOP</th>\n",
       "      <th>LOR</th>\n",
       "      <th>CGPA</th>\n",
       "      <th>Research</th>\n",
       "      <th>Chance of Admit</th>\n",
       "      <th>predictions</th>\n",
       "    </tr>\n",
       "  </thead>\n",
       "  <tbody>\n",
       "    <tr>\n",
       "      <th>0</th>\n",
       "      <td>1</td>\n",
       "      <td>337</td>\n",
       "      <td>118</td>\n",
       "      <td>4</td>\n",
       "      <td>4.5</td>\n",
       "      <td>4.5</td>\n",
       "      <td>9.65</td>\n",
       "      <td>1</td>\n",
       "      <td>0.92</td>\n",
       "      <td>0.954253</td>\n",
       "    </tr>\n",
       "    <tr>\n",
       "      <th>1</th>\n",
       "      <td>2</td>\n",
       "      <td>324</td>\n",
       "      <td>107</td>\n",
       "      <td>4</td>\n",
       "      <td>4.0</td>\n",
       "      <td>4.5</td>\n",
       "      <td>8.87</td>\n",
       "      <td>1</td>\n",
       "      <td>0.76</td>\n",
       "      <td>0.803897</td>\n",
       "    </tr>\n",
       "    <tr>\n",
       "      <th>2</th>\n",
       "      <td>3</td>\n",
       "      <td>316</td>\n",
       "      <td>104</td>\n",
       "      <td>3</td>\n",
       "      <td>3.0</td>\n",
       "      <td>3.5</td>\n",
       "      <td>8.00</td>\n",
       "      <td>1</td>\n",
       "      <td>0.72</td>\n",
       "      <td>0.657747</td>\n",
       "    </tr>\n",
       "    <tr>\n",
       "      <th>3</th>\n",
       "      <td>4</td>\n",
       "      <td>322</td>\n",
       "      <td>110</td>\n",
       "      <td>3</td>\n",
       "      <td>3.5</td>\n",
       "      <td>2.5</td>\n",
       "      <td>8.67</td>\n",
       "      <td>1</td>\n",
       "      <td>0.80</td>\n",
       "      <td>0.748904</td>\n",
       "    </tr>\n",
       "    <tr>\n",
       "      <th>4</th>\n",
       "      <td>5</td>\n",
       "      <td>314</td>\n",
       "      <td>103</td>\n",
       "      <td>2</td>\n",
       "      <td>2.0</td>\n",
       "      <td>3.0</td>\n",
       "      <td>8.21</td>\n",
       "      <td>0</td>\n",
       "      <td>0.65</td>\n",
       "      <td>0.637394</td>\n",
       "    </tr>\n",
       "  </tbody>\n",
       "</table>\n",
       "</div>"
      ],
      "text/plain": [
       "   serial_num_lst  GRE Score  TOEFL Score  University Rating  SOP  LOR  CGPA  \\\n",
       "0               1        337          118                  4  4.5  4.5  9.65   \n",
       "1               2        324          107                  4  4.0  4.5  8.87   \n",
       "2               3        316          104                  3  3.0  3.5  8.00   \n",
       "3               4        322          110                  3  3.5  2.5  8.67   \n",
       "4               5        314          103                  2  2.0  3.0  8.21   \n",
       "\n",
       "   Research  Chance of Admit  predictions  \n",
       "0         1             0.92     0.954253  \n",
       "1         1             0.76     0.803897  \n",
       "2         1             0.72     0.657747  \n",
       "3         1             0.80     0.748904  \n",
       "4         0             0.65     0.637394  "
      ]
     },
     "execution_count": 220,
     "metadata": {},
     "output_type": "execute_result"
    }
   ],
   "source": [
    "df_output.head()"
   ]
  },
  {
   "cell_type": "code",
   "execution_count": 221,
   "id": "fea1ae87-15cf-48a0-b476-110c71fca515",
   "metadata": {},
   "outputs": [
    {
     "data": {
      "image/png": "[encoded data removed]",
      "text/plain": [
       "<Figure size 432x288 with 1 Axes>"
      ]
     },
     "metadata": {
      "needs_background": "light"
     },
     "output_type": "display_data"
    }
   ],
   "source": [
    "imp_feats = pd.DataFrame()\n",
    "imp_feats['Features'] = X_t.columns\n",
    "imp_feats['coefficients'] = lr_model.coef_\n",
    "\n",
    "imp_feats= imp_feats.sort_values(by = ['coefficients'],ascending=False)\n",
    "sns.barplot(x = 'Features', y ='coefficients',data = imp_feats)\n",
    "plt.xticks(rotation=90)\n",
    "plt.show()"
   ]
  },
  {
   "cell_type": "markdown",
   "id": "adc93f45-703d-407c-b992-0b1a5ea2caca",
   "metadata": {},
   "source": [
    "### Polynomial feature : Lets try polynomial regression as it seems CGPA appears to have power relation with Y variable. "
   ]
  },
  {
   "cell_type": "code",
   "execution_count": 222,
   "id": "bfef0fb3-f846-4ecd-bec4-a93c381df8c7",
   "metadata": {},
   "outputs": [
    {
     "data": {
      "image/png": "[encoded data removed]",
      "text/plain": [
       "<Figure size 432x288 with 1 Axes>"
      ]
     },
     "metadata": {
      "needs_background": "light"
     },
     "output_type": "display_data"
    },
    {
     "data": {
      "text/plain": [
       "0.7791776977550845"
      ]
     },
     "metadata": {},
     "output_type": "display_data"
    }
   ],
   "source": [
    "Xdata = X['CGPA'].values.reshape(-1,1)\n",
    "X_deg2 = np.hstack([Xdata, Xdata**0.5])\n",
    "model_deg2 = LinearRegression()\n",
    "model_deg2.fit(X_deg2, y)\n",
    "output = model_deg2.predict(X_deg2)\n",
    "fig = plt.figure()\n",
    "plt.scatter(Xdata, y, label=\"samples\")\n",
    "plt.scatter(Xdata, output, label=\"prediction\")\n",
    "plt.xlabel(\"X\")\n",
    "plt.ylabel(\"Y\")\n",
    "plt.show()\n",
    "display(model_deg2.score(X_deg2, y))"
   ]
  },
  {
   "cell_type": "markdown",
   "id": "272e95bc-1d98-470d-a687-9a45b088fe7b",
   "metadata": {},
   "source": [
    "### Adding polynomial features doesnt provide improvement to r-sqaure value"
   ]
  },
  {
   "cell_type": "markdown",
   "id": "40eff28e-8744-42fc-acac-4dad255484be",
   "metadata": {},
   "source": [
    "# Section 3:recommendation and insights"
   ]
  },
  {
   "cell_type": "markdown",
   "id": "fe75c0cc-c194-429b-83ef-d709cead375e",
   "metadata": {},
   "source": [
    "### Based on above analysis, we can conclude following:\n",
    "\n",
    "### 1. Out of given features, CGPA is very important to drive the chance of admissions\n",
    "### 2. Other features like GRE score and TOEFL Score - both seems to be almost equally important\n",
    "### 3. SOP (Statement of Purpose) doesn't seem to be important, however Letter of Recommendation seems to be important feature.\n",
    "### 4. Overall, by trying different combinations of features, we got adjusted- r-sq value of ~82%. \n",
    "\n",
    "### The findings seem to be consistent with real-world scenarios as important features to get admission are CGPA,GRE & TOEFL score.\n",
    "### Also, for example, If there is Letter of recommendation from renowned professors are there, it increases the chance of admissions. \n",
    "### And so is Prior Research experience. A good research experience adds value to the application. \n"
   ]
  },
  {
   "cell_type": "code",
   "execution_count": null,
   "id": "4f1208a0-9b57-4077-bb91-6a8bc76c8a5a",
   "metadata": {},
   "outputs": [],
   "source": []
  }
 ],
 "metadata": {
  "kernelspec": {
   "display_name": "Python 3",
   "language": "python",
   "name": "python3"
  },
  "language_info": {
   "codemirror_mode": {
    "name": "ipython",
    "version": 3
   },
   "file_extension": ".py",
   "mimetype": "text/x-python",
   "name": "python",
   "nbconvert_exporter": "python",
   "pygments_lexer": "ipython3",
   "version": "3.8.8"
  }
 },
 "nbformat": 4,
 "nbformat_minor": 5
}
