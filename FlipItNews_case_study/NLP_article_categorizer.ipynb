{
 "cells": [
  {
   "cell_type": "code",
   "execution_count": 73,
   "id": "e72a3b5e-4776-4197-953d-c70d250b9727",
   "metadata": {},
   "outputs": [
    {
     "name": "stderr",
     "output_type": "stream",
     "text": [
      "[nltk_data] Downloading package punkt to /Users/anshu/nltk_data...\n",
      "[nltk_data]   Package punkt is already up-to-date!\n",
      "[nltk_data] Downloading package stopwords to /Users/anshu/nltk_data...\n",
      "[nltk_data]   Package stopwords is already up-to-date!\n",
      "[nltk_data] Downloading package wordnet to /Users/anshu/nltk_data...\n",
      "[nltk_data]   Package wordnet is already up-to-date!\n"
     ]
    }
   ],
   "source": [
    "import pandas as pd\n",
    "import numpy as np\n",
    "\n",
    "import warnings\n",
    "warnings.simplefilter('ignore')\n",
    "\n",
    "import seaborn as sns\n",
    "import matplotlib.pyplot as plt\n",
    "\n",
    "# !pip install matplotlib --upgrade\n",
    "\n",
    "import re\n",
    "\n",
    "# for NLP\n",
    "import nltk \n",
    "\n",
    "# For tokenization\n",
    "from nltk.tokenize import word_tokenize\n",
    "nltk.download('punkt')\n",
    "\n",
    "# for stopwords removal\n",
    "from nltk.corpus import stopwords\n",
    "nltk.download('stopwords')\n",
    "\n",
    "# for lemmatization\n",
    "from nltk import WordNetLemmatizer\n",
    "nltk.download('wordnet')\n",
    "\n",
    "# for BOW and tf-idf\n",
    "from sklearn.feature_extraction.text import CountVectorizer, TfidfVectorizer\n",
    "\n",
    "\n",
    "##------------\n",
    "# for Machine learning models\n",
    "from sklearn.tree import DecisionTreeClassifier\n",
    "from sklearn.neighbors import KNeighborsClassifier\n",
    "from sklearn.naive_bayes import MultinomialNB\n",
    "from sklearn.ensemble import RandomForestClassifier\n",
    "\n",
    "### Metrics\n",
    "from sklearn.metrics import accuracy_score, roc_auc_score, f1_score, precision_score, recall_score\n",
    "from sklearn.metrics import confusion_matrix, classification_report\n"
   ]
  },
  {
   "cell_type": "markdown",
   "id": "f6424d6c-f744-4e95-b7de-9bf15451a775",
   "metadata": {},
   "source": [
    "The goal of this project is to categorize news articles into several categories like politics, technology, sports, business and entertainment based on their content"
   ]
  },
  {
   "cell_type": "code",
   "execution_count": 2,
   "id": "a98ddb67-ebbd-4355-af55-0a71404d7f01",
   "metadata": {},
   "outputs": [],
   "source": [
    "df = pd.read_csv(\"flipitnews-data.csv\")"
   ]
  },
  {
   "cell_type": "code",
   "execution_count": 6,
   "id": "8245dd4f-f4c4-43bf-a5ce-0363155a152a",
   "metadata": {},
   "outputs": [
    {
     "data": {
      "text/plain": [
       "(2225, 2)"
      ]
     },
     "execution_count": 6,
     "metadata": {},
     "output_type": "execute_result"
    }
   ],
   "source": [
    "df.shape"
   ]
  },
  {
   "cell_type": "code",
   "execution_count": 4,
   "id": "4fb31bcb-2925-4279-9a9e-67e07e9cd1b4",
   "metadata": {},
   "outputs": [
    {
     "data": {
      "text/html": [
       "<div>\n",
       "<style scoped>\n",
       "    .dataframe tbody tr th:only-of-type {\n",
       "        vertical-align: middle;\n",
       "    }\n",
       "\n",
       "    .dataframe tbody tr th {\n",
       "        vertical-align: top;\n",
       "    }\n",
       "\n",
       "    .dataframe thead th {\n",
       "        text-align: right;\n",
       "    }\n",
       "</style>\n",
       "<table border=\"1\" class=\"dataframe\">\n",
       "  <thead>\n",
       "    <tr style=\"text-align: right;\">\n",
       "      <th></th>\n",
       "      <th>Category</th>\n",
       "      <th>Article</th>\n",
       "    </tr>\n",
       "  </thead>\n",
       "  <tbody>\n",
       "    <tr>\n",
       "      <th>987</th>\n",
       "      <td>Entertainment</td>\n",
       "      <td>john peel replacement show begins the permanen...</td>\n",
       "    </tr>\n",
       "    <tr>\n",
       "      <th>1073</th>\n",
       "      <td>Entertainment</td>\n",
       "      <td>sundance to honour foreign films international...</td>\n",
       "    </tr>\n",
       "    <tr>\n",
       "      <th>914</th>\n",
       "      <td>Business</td>\n",
       "      <td>us economy shows solid gdp growth the us econo...</td>\n",
       "    </tr>\n",
       "    <tr>\n",
       "      <th>1388</th>\n",
       "      <td>Entertainment</td>\n",
       "      <td>jungle tv show ratings drop by 4m the finale o...</td>\n",
       "    </tr>\n",
       "    <tr>\n",
       "      <th>83</th>\n",
       "      <td>Business</td>\n",
       "      <td>news corp makes $5.4bn fox offer news corporat...</td>\n",
       "    </tr>\n",
       "    <tr>\n",
       "      <th>41</th>\n",
       "      <td>Sports</td>\n",
       "      <td>federer claims dubai crown world number one ro...</td>\n",
       "    </tr>\n",
       "    <tr>\n",
       "      <th>313</th>\n",
       "      <td>Technology</td>\n",
       "      <td>speech takes on search engines a scottish firm...</td>\n",
       "    </tr>\n",
       "    <tr>\n",
       "      <th>1607</th>\n",
       "      <td>Politics</td>\n",
       "      <td>hunt demo at labour meeting pro-hunt supporter...</td>\n",
       "    </tr>\n",
       "    <tr>\n",
       "      <th>1763</th>\n",
       "      <td>Sports</td>\n",
       "      <td>mourinho to escape fa charge chelsea boss jose...</td>\n",
       "    </tr>\n",
       "    <tr>\n",
       "      <th>96</th>\n",
       "      <td>Business</td>\n",
       "      <td>oil rebounds from weather effect oil prices re...</td>\n",
       "    </tr>\n",
       "  </tbody>\n",
       "</table>\n",
       "</div>"
      ],
      "text/plain": [
       "           Category                                            Article\n",
       "987   Entertainment  john peel replacement show begins the permanen...\n",
       "1073  Entertainment  sundance to honour foreign films international...\n",
       "914        Business  us economy shows solid gdp growth the us econo...\n",
       "1388  Entertainment  jungle tv show ratings drop by 4m the finale o...\n",
       "83         Business  news corp makes $5.4bn fox offer news corporat...\n",
       "41           Sports  federer claims dubai crown world number one ro...\n",
       "313      Technology  speech takes on search engines a scottish firm...\n",
       "1607       Politics  hunt demo at labour meeting pro-hunt supporter...\n",
       "1763         Sports  mourinho to escape fa charge chelsea boss jose...\n",
       "96         Business  oil rebounds from weather effect oil prices re..."
      ]
     },
     "execution_count": 4,
     "metadata": {},
     "output_type": "execute_result"
    }
   ],
   "source": [
    "df.sample(10)"
   ]
  },
  {
   "cell_type": "code",
   "execution_count": 25,
   "id": "bbfa1801-e632-484d-b3c9-5aaba86cc9b1",
   "metadata": {},
   "outputs": [
    {
     "data": {
      "image/png": "[encoded data removed]",
      "text/plain": [
       "<Figure size 432x288 with 1 Axes>"
      ]
     },
     "metadata": {
      "needs_background": "light"
     },
     "output_type": "display_data"
    }
   ],
   "source": [
    "ax =sns.countplot(x='Category', data = df)\n",
    "plt.show()"
   ]
  },
  {
   "cell_type": "code",
   "execution_count": 26,
   "id": "212c4672-223e-454b-8915-12d2cb5ff0a4",
   "metadata": {},
   "outputs": [
    {
     "data": {
      "text/plain": [
       "'worldcom boss  left books alone  former worldcom boss bernie ebbers  who is accused of overseeing an $11bn (£5.8bn) fraud  never made accounting decisions  a witness has told jurors.  david myers made the comments under questioning by defence lawyers who have been arguing that mr ebbers was not responsible for worldcom s problems. the phone company collapsed in 2002 and prosecutors claim that losses were hidden to protect the firm s shares. mr myers has already pleaded guilty to fraud and is assisting prosecutors.  on monday  defence lawyer reid weingarten tried to distance his client from the allegations. during cross examination  he asked mr myers if he ever knew mr ebbers  make an accounting decision  .  not that i am aware of   mr myers replied.  did you ever know mr ebbers to make an accounting entry into worldcom books   mr weingarten pressed.  no   replied the witness. mr myers has admitted that he ordered false accounting entries at the request of former worldcom chief financial officer scott sullivan. defence lawyers have been trying to paint mr sullivan  who has admitted fraud and will testify later in the trial  as the mastermind behind worldcom s accounting house of cards.  mr ebbers  team  meanwhile  are looking to portray him as an affable boss  who by his own admission is more pe graduate than economist. whatever his abilities  mr ebbers transformed worldcom from a relative unknown into a $160bn telecoms giant and investor darling of the late 1990s. worldcom s problems mounted  however  as competition increased and the telecoms boom petered out. when the firm finally collapsed  shareholders lost about $180bn and 20 000 workers lost their jobs. mr ebbers  trial is expected to last two months and if found guilty the former ceo faces a substantial jail sentence. he has firmly declared his innocence.'"
      ]
     },
     "execution_count": 26,
     "metadata": {},
     "output_type": "execute_result"
    }
   ],
   "source": [
    "df['Article'][1]"
   ]
  },
  {
   "cell_type": "markdown",
   "id": "5e247c19-5a4c-4ffb-9a51-dafb629110c0",
   "metadata": {},
   "source": [
    "### data preprocessing"
   ]
  },
  {
   "cell_type": "code",
   "execution_count": 35,
   "id": "61a8207b-15a4-4c23-af3d-39769627fcd8",
   "metadata": {},
   "outputs": [],
   "source": [
    "stop_words = list(stopwords.words(\"english\"))\n",
    "\n",
    "def text_preprocess(sentence):\n",
    "    \n",
    "#     Removing special characters\n",
    "    sentence = re.sub('[^A-Za-z]',' ',sentence)\n",
    "    \n",
    "#     word tokenize the sentence\n",
    "    words = nltk.word_tokenize(sentence)\n",
    "    \n",
    "#     removing the stop words\n",
    "    filtered_sentence = [w for w in words if w not in stop_words]\n",
    "    \n",
    "#     lemmatization\n",
    "    lemmatizer = WordNetLemmatizer()\n",
    "    new_text = [lemmatizer.lemmatize(word) for word in filtered_sentence]\n",
    "    new_text = ' '.join(new_text)\n",
    "    \n",
    "    return new_text\n",
    "\n"
   ]
  },
  {
   "cell_type": "code",
   "execution_count": 39,
   "id": "37b8a73d-1e02-47c2-9409-c5e4edd4ff95",
   "metadata": {},
   "outputs": [],
   "source": [
    "df['Article'] = df['Article'].apply(text_preprocess)"
   ]
  },
  {
   "cell_type": "markdown",
   "id": "c591b33e-7183-498e-b4b2-7bc0598564fe",
   "metadata": {},
   "source": [
    "### after processing"
   ]
  },
  {
   "cell_type": "code",
   "execution_count": 40,
   "id": "42087759-7a6a-4360-abf0-5b7bd096d937",
   "metadata": {},
   "outputs": [
    {
     "data": {
      "text/plain": [
       "'worldcom bos left book alone former worldcom bos bernie ebbers accused overseeing bn bn fraud never made accounting decision witness told juror david myers made comment questioning defence lawyer arguing mr ebbers responsible worldcom problem phone company collapsed prosecutor claim loss hidden protect firm share mr myers already pleaded guilty fraud assisting prosecutor monday defence lawyer reid weingarten tried distance client allegation cross examination asked mr myers ever knew mr ebbers make accounting decision aware mr myers replied ever know mr ebbers make accounting entry worldcom book mr weingarten pressed replied witness mr myers admitted ordered false accounting entry request former worldcom chief financial officer scott sullivan defence lawyer trying paint mr sullivan admitted fraud testify later trial mastermind behind worldcom accounting house card mr ebbers team meanwhile looking portray affable bos admission pe graduate economist whatever ability mr ebbers transformed worldcom relative unknown bn telecom giant investor darling late worldcom problem mounted however competition increased telecom boom petered firm finally collapsed shareholder lost bn worker lost job mr ebbers trial expected last two month found guilty former ceo face substantial jail sentence firmly declared innocence'"
      ]
     },
     "execution_count": 40,
     "metadata": {},
     "output_type": "execute_result"
    }
   ],
   "source": [
    "df['Article'][1]"
   ]
  },
  {
   "cell_type": "markdown",
   "id": "1894e9ab-1172-40e2-a4d0-14f7a3a5b6bd",
   "metadata": {},
   "source": [
    "### data transformation"
   ]
  },
  {
   "cell_type": "markdown",
   "id": "93c1c00c-73fb-466c-b9a1-f8604af3e6e6",
   "metadata": {},
   "source": [
    "### target variable encoding"
   ]
  },
  {
   "cell_type": "code",
   "execution_count": 44,
   "id": "316a95d0-85eb-4504-bfb3-f59b8a350e5a",
   "metadata": {},
   "outputs": [
    {
     "data": {
      "text/plain": [
       "array(['Technology', 'Business', 'Sports', 'Entertainment', 'Politics'],\n",
       "      dtype=object)"
      ]
     },
     "execution_count": 44,
     "metadata": {},
     "output_type": "execute_result"
    }
   ],
   "source": [
    "df['Category'].unique()"
   ]
  },
  {
   "cell_type": "code",
   "execution_count": 47,
   "id": "7f3bb22a-9ddf-40b5-a6d2-c7345fa223eb",
   "metadata": {},
   "outputs": [],
   "source": [
    "df['Category_enc'] = df['Category'].map({'Technology':1,'Business':2, 'Sports':3, 'Entertainment':4,\n",
    "                   'Politics':5})"
   ]
  },
  {
   "cell_type": "code",
   "execution_count": 56,
   "id": "1a5b3ad9-b224-4003-92af-d6eebfdc29e6",
   "metadata": {},
   "outputs": [
    {
     "name": "stdin",
     "output_type": "stream",
     "text": [
      "Choose \n",
      " (1) If you want to use bag of words \n",
      " (2) If you want to use TF-IDF \n",
      " Choice:  2\n"
     ]
    }
   ],
   "source": [
    "Choice = int(input(\"Choose \\n (1) If you want to use bag of words \\n (2) If you want to use TF-IDF \\n Choice: \"))"
   ]
  },
  {
   "cell_type": "code",
   "execution_count": 57,
   "id": "e30a151d-bc75-4df1-be9a-0a207c7342ef",
   "metadata": {},
   "outputs": [],
   "source": [
    "if Choice == 1:\n",
    "    cv = CountVectorizer(max_features = 5000)\n",
    "    X = cv.fit_transform(df['Article']).toarray()\n",
    "    y = np.array(df['Category_enc'].values)\n",
    "elif Choice == 2:\n",
    "    tf_idf = TfidfVectorizer()\n",
    "    X = tf_idf.fit_transform(df['Article']).toarray()\n",
    "    y = np.array(df['Category_enc'].values)\n",
    "else:\n",
    "    print(\"Wrong input\")"
   ]
  },
  {
   "cell_type": "code",
   "execution_count": 67,
   "id": "f7b4158b-c750-44d2-8322-ab40eee77480",
   "metadata": {},
   "outputs": [],
   "source": [
    "from sklearn.model_selection import train_test_split"
   ]
  },
  {
   "cell_type": "markdown",
   "id": "d45c687a-5995-49ea-8bec-ac8c152e7796",
   "metadata": {},
   "source": [
    "### train-test split\n"
   ]
  },
  {
   "cell_type": "code",
   "execution_count": 68,
   "id": "5ca1dcdd-4ae7-4df0-af1e-31ef6b3f66b0",
   "metadata": {},
   "outputs": [],
   "source": [
    "X_train, X_val, y_train, y_val = train_test_split(X,y,test_size = 0.25,\n",
    "                                                 shuffle=True, stratify = y,\n",
    "                                                 random_state = 42)"
   ]
  },
  {
   "cell_type": "code",
   "execution_count": 69,
   "id": "041e05cb-3f15-4e6a-980f-94b32a8402f6",
   "metadata": {},
   "outputs": [
    {
     "name": "stdout",
     "output_type": "stream",
     "text": [
      "train data (1668, 24718) (1668,)\n",
      "validation data (557, 24718) (557,)\n"
     ]
    }
   ],
   "source": [
    "print(\"train data\", X_train.shape, y_train.shape)\n",
    "print(\"validation data\", X_val.shape, y_val.shape)"
   ]
  },
  {
   "cell_type": "code",
   "execution_count": 71,
   "id": "fd40264a-49e9-4c6c-9c6d-6f2394b9c086",
   "metadata": {},
   "outputs": [
    {
     "data": {
      "text/plain": [
       "array([0., 0., 0., ..., 0., 0., 0.])"
      ]
     },
     "execution_count": 71,
     "metadata": {},
     "output_type": "execute_result"
    }
   ],
   "source": [
    "X_train[2]"
   ]
  },
  {
   "cell_type": "code",
   "execution_count": 54,
   "id": "4345fea5-3417-4a41-a5fb-5fb4f8b510d8",
   "metadata": {},
   "outputs": [
    {
     "data": {
      "text/plain": [
       "array([1, 2, 3, ..., 4, 5, 3])"
      ]
     },
     "execution_count": 54,
     "metadata": {},
     "output_type": "execute_result"
    }
   ],
   "source": [
    "np.array(df['Category_enc'].values)"
   ]
  },
  {
   "cell_type": "markdown",
   "id": "ace6a411-7c48-4245-bfa5-a8e79b8f54f9",
   "metadata": {},
   "source": [
    "### Classifier"
   ]
  },
  {
   "cell_type": "markdown",
   "id": "adc2f021-3b78-4ca9-a891-cfcd3d2a558a",
   "metadata": {},
   "source": [
    "### 1. naive Bayes Classifier\n"
   ]
  },
  {
   "cell_type": "code",
   "execution_count": 74,
   "id": "7c9371fc-8795-4589-a5ff-721eb3519165",
   "metadata": {},
   "outputs": [
    {
     "data": {
      "text/plain": [
       "MultinomialNB()"
      ]
     },
     "execution_count": 74,
     "metadata": {},
     "output_type": "execute_result"
    }
   ],
   "source": [
    "nb = MultinomialNB()\n",
    "nb.fit(X_train, y_train)"
   ]
  },
  {
   "cell_type": "code",
   "execution_count": 83,
   "id": "cdee27d5-8f02-4604-b6e7-fa4b69929690",
   "metadata": {},
   "outputs": [
    {
     "name": "stdout",
     "output_type": "stream",
     "text": [
      "train accuracy is:0.988\n",
      "val accuracy is:0.977\n"
     ]
    }
   ],
   "source": [
    "nb_train = accuracy_score(y_train, nb.predict(X_train))\n",
    "nb_val = accuracy_score(y_val, nb.predict(X_val))\n",
    "\n",
    "print(\"train accuracy is:{:.3f}\".format(nb_train))\n",
    "print(\"val accuracy is:{:.3f}\".format(nb_val))"
   ]
  },
  {
   "cell_type": "code",
   "execution_count": 85,
   "id": "c19ca364-cddf-4d9b-8116-1b07643a57d3",
   "metadata": {},
   "outputs": [],
   "source": [
    "y_pred_nb = nb.predict(X_val)\n",
    "y_pred_proba_nb = nb.predict_proba(X_val)"
   ]
  },
  {
   "cell_type": "code",
   "execution_count": 87,
   "id": "0f7b5c08-fdf1-468f-9e5b-193e7cd913a2",
   "metadata": {},
   "outputs": [
    {
     "name": "stdout",
     "output_type": "stream",
     "text": [
      "roc auc score:0.999\n"
     ]
    }
   ],
   "source": [
    "print(\"roc auc score:{:.3f}\".format(roc_auc_score(y_val, y_pred_proba_nb,multi_class='ovr')))"
   ]
  },
  {
   "cell_type": "code",
   "execution_count": 91,
   "id": "8de9ce29-0d85-4805-9536-c49c35186ede",
   "metadata": {},
   "outputs": [
    {
     "name": "stdout",
     "output_type": "stream",
     "text": [
      "precision:0.977\n",
      "recall:0.977\n",
      "f1:0.977\n"
     ]
    }
   ],
   "source": [
    "precision = precision_score(y_val, y_pred_nb, average = 'weighted')\n",
    "recall =recall_score(y_val, y_pred_nb, average = 'weighted')\n",
    "f1 = f1_score(y_val, y_pred_nb, average = 'weighted')\n",
    "\n",
    "print(\"precision:{:.3f}\".format(precision))\n",
    "print(\"recall:{:.3f}\".format(recall))\n",
    "print(\"f1:{:.3f}\".format(f1))"
   ]
  },
  {
   "cell_type": "code",
   "execution_count": 93,
   "id": "36d68b88-d23c-4fa9-a7f5-755d523ccdfc",
   "metadata": {},
   "outputs": [
    {
     "data": {
      "image/png": "[encoded data removed]",
      "text/plain": [
       "<Figure size 576x360 with 1 Axes>"
      ]
     },
     "metadata": {
      "needs_background": "light"
     },
     "output_type": "display_data"
    }
   ],
   "source": [
    "cm = confusion_matrix(y_val, y_pred_nb)\n",
    "\n",
    "plt.figure(figsize=(8,5))\n",
    "sns.heatmap(cm, annot=True, fmt= 'd',cbar = False, cmap='Blues')\n",
    "plt.title(\"confusion matrix\")\n",
    "plt.xlabel(\"predicted label\")\n",
    "plt.ylabel(\"actual label\")\n",
    "plt.show()"
   ]
  },
  {
   "cell_type": "code",
   "execution_count": 94,
   "id": "35f59b2b-f4c5-4b97-aeec-01d3143abbf8",
   "metadata": {},
   "outputs": [
    {
     "name": "stdout",
     "output_type": "stream",
     "text": [
      "              precision    recall  f1-score   support\n",
      "\n",
      "           1       0.98      0.98      0.98       100\n",
      "           2       0.97      0.97      0.97       128\n",
      "           3       1.00      1.00      1.00       128\n",
      "           4       1.00      0.95      0.97        97\n",
      "           5       0.94      0.98      0.96       104\n",
      "\n",
      "    accuracy                           0.98       557\n",
      "   macro avg       0.98      0.98      0.98       557\n",
      "weighted avg       0.98      0.98      0.98       557\n",
      "\n"
     ]
    }
   ],
   "source": [
    "print(classification_report(y_val, y_pred_nb))"
   ]
  },
  {
   "cell_type": "markdown",
   "id": "af2c4269-c31f-4184-b6e7-233060b198dd",
   "metadata": {},
   "source": [
    "### functionalized code"
   ]
  },
  {
   "cell_type": "code",
   "execution_count": 100,
   "id": "211cee40-67e9-406b-bfef-97b9cfcb9b12",
   "metadata": {},
   "outputs": [],
   "source": [
    "def model_train(classifier):\n",
    "    classifier.fit(X_train, y_train)\n",
    "    y_pred = classifier.predict(X_val)\n",
    "    y_pred_proba = classifier.predict_proba(X_val)\n",
    "    return y_pred, y_pred_proba"
   ]
  },
  {
   "cell_type": "code",
   "execution_count": 98,
   "id": "ef2e847e-8a79-49b4-8715-588b455cb851",
   "metadata": {},
   "outputs": [],
   "source": [
    "def model_eval(classifier, y_pred, y_pred_proba):\n",
    "    print(\"----------------------------\")\n",
    "    # Calculating the train & test accuracy      \n",
    "    train_acc = accuracy_score(y_train, classifier.predict(X_train))\n",
    "    test_acc = accuracy_score(y_val, classifier.predict(X_val))\n",
    "\n",
    "    print(\"Train Accuracy: {:.3f}\".format(train_acc))\n",
    "    print(\"Test Accuracy: {:.3f}\\n\".format(test_acc))\n",
    "\n",
    "    # Computing the ROC AUC score\n",
    "    print(\"ROC AUC Score: {:.3f}\\n\".format(roc_auc_score(y_val, y_pred_proba, multi_class='ovr')))\n",
    "\n",
    "    # Computing the precision, recall & f1 score\n",
    "    precision = precision_score(y_val, y_pred, average='weighted')\n",
    "    recall = recall_score(y_val, y_pred, average='weighted')\n",
    "    f1 = f1_score(y_val, y_pred, average='weighted')\n",
    "\n",
    "    print(\"Precision: {:.3f}\".format(precision))\n",
    "    print(\"Recall: {:.3f}\".format(recall))\n",
    "    print(\"F1 Score: {:.3f}\".format(f1))\n",
    "\n",
    "    print(\"-------------------------\")"
   ]
  },
  {
   "cell_type": "markdown",
   "id": "ec521a2b-ecd0-4493-8fde-ae4646997e7c",
   "metadata": {},
   "source": [
    "### 2. decision tree classifier"
   ]
  },
  {
   "cell_type": "code",
   "execution_count": 101,
   "id": "49c245b4-987b-499b-b7cb-3fb39895dba7",
   "metadata": {},
   "outputs": [],
   "source": [
    "dt = DecisionTreeClassifier()\n",
    "y_pred, y_pred_proba = model_train(dt)"
   ]
  },
  {
   "cell_type": "code",
   "execution_count": 102,
   "id": "eee68616-a1d7-48cf-af44-eb498c3730e5",
   "metadata": {},
   "outputs": [
    {
     "name": "stdout",
     "output_type": "stream",
     "text": [
      "----------------------------\n",
      "Train Accuracy: 1.000\n",
      "Test Accuracy: 0.865\n",
      "\n",
      "ROC AUC Score: 0.915\n",
      "\n",
      "Precision: 0.866\n",
      "Recall: 0.865\n",
      "F1 Score: 0.866\n",
      "-------------------------\n"
     ]
    }
   ],
   "source": [
    "model_eval(dt,y_pred, y_pred_proba)"
   ]
  },
  {
   "cell_type": "markdown",
   "id": "91d61941-59ed-4b1d-9de9-f7dd70265039",
   "metadata": {},
   "source": [
    "### 3. Nearest Neighbors Classifier"
   ]
  },
  {
   "cell_type": "code",
   "execution_count": 104,
   "id": "0a2cec91-7e92-4617-b02c-c632a1d58980",
   "metadata": {},
   "outputs": [],
   "source": [
    "knn = KNeighborsClassifier(n_neighbors=5)\n",
    "y_pred, y_pred_proba = model_train(knn)"
   ]
  },
  {
   "cell_type": "code",
   "execution_count": 105,
   "id": "c4f7b830-cb99-41a1-8727-a8ffde99156e",
   "metadata": {},
   "outputs": [
    {
     "name": "stdout",
     "output_type": "stream",
     "text": [
      "----------------------------\n",
      "Train Accuracy: 0.965\n",
      "Test Accuracy: 0.934\n",
      "\n",
      "ROC AUC Score: 0.988\n",
      "\n",
      "Precision: 0.935\n",
      "Recall: 0.934\n",
      "F1 Score: 0.933\n",
      "-------------------------\n"
     ]
    }
   ],
   "source": [
    "model_eval(knn,y_pred, y_pred_proba)"
   ]
  },
  {
   "cell_type": "markdown",
   "id": "0daf1c9f-d6d5-481f-af77-697947e26632",
   "metadata": {},
   "source": [
    "### 4. Random Forest Classifer"
   ]
  },
  {
   "cell_type": "code",
   "execution_count": 106,
   "id": "638d0aa7-cdc1-4fd6-932c-1f819b98d79d",
   "metadata": {},
   "outputs": [],
   "source": [
    "rf = KNeighborsClassifier()\n",
    "y_pred, y_pred_proba = model_train(rf)"
   ]
  },
  {
   "cell_type": "code",
   "execution_count": 107,
   "id": "f05e5610-f468-4c5b-a08c-c7c64ccce598",
   "metadata": {},
   "outputs": [
    {
     "name": "stdout",
     "output_type": "stream",
     "text": [
      "----------------------------\n",
      "Train Accuracy: 0.965\n",
      "Test Accuracy: 0.934\n",
      "\n",
      "ROC AUC Score: 0.988\n",
      "\n",
      "Precision: 0.935\n",
      "Recall: 0.934\n",
      "F1 Score: 0.933\n",
      "-------------------------\n"
     ]
    }
   ],
   "source": [
    "model_eval(rf,y_pred, y_pred_proba)"
   ]
  },
  {
   "cell_type": "markdown",
   "id": "ebdd832f-9fee-4876-bae9-e00c6f846cfb",
   "metadata": {},
   "source": [
    "### naive bayes classifier seems to give better performance-high accuracy, less overfitting, better precision and recall"
   ]
  },
  {
   "cell_type": "code",
   "execution_count": null,
   "id": "66c46608-8689-4275-b76f-6f072ae070bb",
   "metadata": {},
   "outputs": [],
   "source": []
  }
 ],
 "metadata": {
  "kernelspec": {
   "display_name": "Python 3",
   "language": "python",
   "name": "python3"
  },
  "language_info": {
   "codemirror_mode": {
    "name": "ipython",
    "version": 3
   },
   "file_extension": ".py",
   "mimetype": "text/x-python",
   "name": "python",
   "nbconvert_exporter": "python",
   "pygments_lexer": "ipython3",
   "version": "3.8.8"
  }
 },
 "nbformat": 4,
 "nbformat_minor": 5
}
