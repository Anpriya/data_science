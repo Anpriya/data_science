{
 "cells": [
  {
   "cell_type": "code",
   "execution_count": 24,
   "id": "652f10da-3a44-4564-bcf4-08a5f1089f3a",
   "metadata": {},
   "outputs": [],
   "source": [
    "import pandas as pd\n",
    "import numpy as np\n",
    "import re\n",
    "import matplotlib.pyplot as plt\n",
    "import seaborn as sns\n",
    "\n",
    "from sklearn.impute import KNNImputer\n",
    "\n",
    "import warnings\n",
    "warnings.filterwarnings(\"ignore\")"
   ]
  },
  {
   "cell_type": "code",
   "execution_count": 2,
   "id": "80c46ecc-4480-4736-a6cf-ccc7c274cb60",
   "metadata": {},
   "outputs": [],
   "source": []
  },
  {
   "cell_type": "markdown",
   "id": "7882da5e-a327-4a06-8f1e-6765e26da413",
   "metadata": {},
   "source": [
    "### Aim of this project is to profile the best companies and job positions based on features such as job profile, company, year of experience, ctc etc.\n",
    "\n",
    "### This notebook is divided into 3 parts:\n",
    "### Part I: EDA and data pre-processing\n",
    "### Part II: manual clustering\n",
    "### Part III: K-means and Heirarchical clustering\n"
   ]
  },
  {
   "cell_type": "code",
   "execution_count": 3,
   "id": "df1fcc20-484a-4e2f-b571-64bd46559a2e",
   "metadata": {},
   "outputs": [
    {
     "data": {
      "text/plain": [
       "(205843, 7)"
      ]
     },
     "execution_count": 3,
     "metadata": {},
     "output_type": "execute_result"
    }
   ],
   "source": [
    "df = pd.read_csv(\"scaler_clustering.csv\")\n"
   ]
  },
  {
   "cell_type": "markdown",
   "id": "c262148f-c800-47f5-b7ab-ae7a87388284",
   "metadata": {},
   "source": [
    "### Part I: EDA and data pre-processing"
   ]
  },
  {
   "cell_type": "code",
   "execution_count": null,
   "id": "ba4394de-69e7-49f2-9e4a-1d064e616878",
   "metadata": {},
   "outputs": [],
   "source": [
    "df.shape"
   ]
  },
  {
   "cell_type": "code",
   "execution_count": 19,
   "id": "732d6eed-7606-4aef-b861-8c0b8268c573",
   "metadata": {},
   "outputs": [
    {
     "data": {
      "text/html": [
       "<div>\n",
       "<style scoped>\n",
       "    .dataframe tbody tr th:only-of-type {\n",
       "        vertical-align: middle;\n",
       "    }\n",
       "\n",
       "    .dataframe tbody tr th {\n",
       "        vertical-align: top;\n",
       "    }\n",
       "\n",
       "    .dataframe thead th {\n",
       "        text-align: right;\n",
       "    }\n",
       "</style>\n",
       "<table border=\"1\" class=\"dataframe\">\n",
       "  <thead>\n",
       "    <tr style=\"text-align: right;\">\n",
       "      <th></th>\n",
       "      <th>company_hash</th>\n",
       "      <th>email_hash</th>\n",
       "      <th>orgyear</th>\n",
       "      <th>ctc</th>\n",
       "      <th>job_position</th>\n",
       "      <th>ctc_updated_year</th>\n",
       "    </tr>\n",
       "  </thead>\n",
       "  <tbody>\n",
       "    <tr>\n",
       "      <th>164558</th>\n",
       "      <td>tzctonztn</td>\n",
       "      <td>078f4d8898c52963b0d1ec2f27f311f1505de32d3b3295...</td>\n",
       "      <td>2016.0</td>\n",
       "      <td>500000</td>\n",
       "      <td>NaN</td>\n",
       "      <td>2018.0</td>\n",
       "    </tr>\n",
       "    <tr>\n",
       "      <th>93498</th>\n",
       "      <td>pxqrgopvq trtwnqxw wgbuvzj</td>\n",
       "      <td>1e11c5d6ba0962c02199dbe7f168a518f421b3c79c7703...</td>\n",
       "      <td>2018.0</td>\n",
       "      <td>400000</td>\n",
       "      <td>NaN</td>\n",
       "      <td>2020.0</td>\n",
       "    </tr>\n",
       "    <tr>\n",
       "      <th>118241</th>\n",
       "      <td>zgn vuurxwvmrt vwwghzn</td>\n",
       "      <td>0f8f2da742a38b023797335b8cabe5e636f5300f36c41b...</td>\n",
       "      <td>2015.0</td>\n",
       "      <td>1500000</td>\n",
       "      <td>Frontend Engineer</td>\n",
       "      <td>2021.0</td>\n",
       "    </tr>\n",
       "    <tr>\n",
       "      <th>151817</th>\n",
       "      <td>wgxzawd</td>\n",
       "      <td>f734c1563ddaa29c4be505e87ca377100a3d7a3983f9a2...</td>\n",
       "      <td>2016.0</td>\n",
       "      <td>840000</td>\n",
       "      <td>QA Engineer</td>\n",
       "      <td>2021.0</td>\n",
       "    </tr>\n",
       "    <tr>\n",
       "      <th>37823</th>\n",
       "      <td>onvjkxrrv</td>\n",
       "      <td>376ecaad39c52e6a04fc5826c796ec4cd9bc656ff28a06...</td>\n",
       "      <td>2012.0</td>\n",
       "      <td>1600000</td>\n",
       "      <td>Frontend Engineer</td>\n",
       "      <td>2017.0</td>\n",
       "    </tr>\n",
       "    <tr>\n",
       "      <th>144571</th>\n",
       "      <td>vsxrxi xzeg ogrhnxgzo xzaxv ucn rna</td>\n",
       "      <td>dfc79b92208e6cd214d6a5e2097ac1733839329384e8b6...</td>\n",
       "      <td>2015.0</td>\n",
       "      <td>840000</td>\n",
       "      <td>FullStack Engineer</td>\n",
       "      <td>2019.0</td>\n",
       "    </tr>\n",
       "    <tr>\n",
       "      <th>15008</th>\n",
       "      <td>xzegojo</td>\n",
       "      <td>73cab8842d09b88bf32feba9716ef50163127d6ece5ef6...</td>\n",
       "      <td>2020.0</td>\n",
       "      <td>500000</td>\n",
       "      <td>NaN</td>\n",
       "      <td>2021.0</td>\n",
       "    </tr>\n",
       "    <tr>\n",
       "      <th>21941</th>\n",
       "      <td>nyghsynfgqpo</td>\n",
       "      <td>22cb5d3fe0d6f0cc8f580696a42554d843f39087b65354...</td>\n",
       "      <td>2016.0</td>\n",
       "      <td>1160000</td>\n",
       "      <td>Backend Engineer</td>\n",
       "      <td>2020.0</td>\n",
       "    </tr>\n",
       "    <tr>\n",
       "      <th>66554</th>\n",
       "      <td>ztfstz ogenfvqt</td>\n",
       "      <td>9550c77a305f4451da0a7cb5ca1d9c69f06f6e11932d07...</td>\n",
       "      <td>2019.0</td>\n",
       "      <td>840000</td>\n",
       "      <td>Engineering Intern</td>\n",
       "      <td>2019.0</td>\n",
       "    </tr>\n",
       "    <tr>\n",
       "      <th>516</th>\n",
       "      <td>wgszxkvzn</td>\n",
       "      <td>4d7cb8c39dea95d895188a4e0571ed18922d605dfb843f...</td>\n",
       "      <td>2014.0</td>\n",
       "      <td>1260000</td>\n",
       "      <td>Other</td>\n",
       "      <td>2020.0</td>\n",
       "    </tr>\n",
       "  </tbody>\n",
       "</table>\n",
       "</div>"
      ],
      "text/plain": [
       "                               company_hash  \\\n",
       "164558                            tzctonztn   \n",
       "93498            pxqrgopvq trtwnqxw wgbuvzj   \n",
       "118241               zgn vuurxwvmrt vwwghzn   \n",
       "151817                              wgxzawd   \n",
       "37823                             onvjkxrrv   \n",
       "144571  vsxrxi xzeg ogrhnxgzo xzaxv ucn rna   \n",
       "15008                               xzegojo   \n",
       "21941                          nyghsynfgqpo   \n",
       "66554                       ztfstz ogenfvqt   \n",
       "516                               wgszxkvzn   \n",
       "\n",
       "                                               email_hash  orgyear      ctc  \\\n",
       "164558  078f4d8898c52963b0d1ec2f27f311f1505de32d3b3295...   2016.0   500000   \n",
       "93498   1e11c5d6ba0962c02199dbe7f168a518f421b3c79c7703...   2018.0   400000   \n",
       "118241  0f8f2da742a38b023797335b8cabe5e636f5300f36c41b...   2015.0  1500000   \n",
       "151817  f734c1563ddaa29c4be505e87ca377100a3d7a3983f9a2...   2016.0   840000   \n",
       "37823   376ecaad39c52e6a04fc5826c796ec4cd9bc656ff28a06...   2012.0  1600000   \n",
       "144571  dfc79b92208e6cd214d6a5e2097ac1733839329384e8b6...   2015.0   840000   \n",
       "15008   73cab8842d09b88bf32feba9716ef50163127d6ece5ef6...   2020.0   500000   \n",
       "21941   22cb5d3fe0d6f0cc8f580696a42554d843f39087b65354...   2016.0  1160000   \n",
       "66554   9550c77a305f4451da0a7cb5ca1d9c69f06f6e11932d07...   2019.0   840000   \n",
       "516     4d7cb8c39dea95d895188a4e0571ed18922d605dfb843f...   2014.0  1260000   \n",
       "\n",
       "              job_position  ctc_updated_year  \n",
       "164558                 NaN            2018.0  \n",
       "93498                  NaN            2020.0  \n",
       "118241   Frontend Engineer            2021.0  \n",
       "151817         QA Engineer            2021.0  \n",
       "37823    Frontend Engineer            2017.0  \n",
       "144571  FullStack Engineer            2019.0  \n",
       "15008                  NaN            2021.0  \n",
       "21941     Backend Engineer            2020.0  \n",
       "66554   Engineering Intern            2019.0  \n",
       "516                  Other            2020.0  "
      ]
     },
     "execution_count": 19,
     "metadata": {},
     "output_type": "execute_result"
    }
   ],
   "source": [
    "df.sample(10)"
   ]
  },
  {
   "cell_type": "code",
   "execution_count": 5,
   "id": "67936a08-4adc-4e49-8470-a3082d8be513",
   "metadata": {},
   "outputs": [],
   "source": [
    "df.drop(columns = 'Unnamed: 0', inplace=True)"
   ]
  },
  {
   "cell_type": "code",
   "execution_count": 6,
   "id": "bf42dfdd-e7c6-4a45-a198-87b66746c70f",
   "metadata": {},
   "outputs": [
    {
     "data": {
      "text/html": [
       "<div>\n",
       "<style scoped>\n",
       "    .dataframe tbody tr th:only-of-type {\n",
       "        vertical-align: middle;\n",
       "    }\n",
       "\n",
       "    .dataframe tbody tr th {\n",
       "        vertical-align: top;\n",
       "    }\n",
       "\n",
       "    .dataframe thead th {\n",
       "        text-align: right;\n",
       "    }\n",
       "</style>\n",
       "<table border=\"1\" class=\"dataframe\">\n",
       "  <thead>\n",
       "    <tr style=\"text-align: right;\">\n",
       "      <th></th>\n",
       "      <th>company_hash</th>\n",
       "      <th>email_hash</th>\n",
       "      <th>orgyear</th>\n",
       "      <th>ctc</th>\n",
       "      <th>job_position</th>\n",
       "      <th>ctc_updated_year</th>\n",
       "    </tr>\n",
       "  </thead>\n",
       "  <tbody>\n",
       "    <tr>\n",
       "      <th>0</th>\n",
       "      <td>atrgxnnt xzaxv</td>\n",
       "      <td>6de0a4417d18ab14334c3f43397fc13b30c35149d70c05...</td>\n",
       "      <td>2016.0</td>\n",
       "      <td>1100000</td>\n",
       "      <td>Other</td>\n",
       "      <td>2020.0</td>\n",
       "    </tr>\n",
       "    <tr>\n",
       "      <th>1</th>\n",
       "      <td>qtrxvzwt xzegwgbb rxbxnta</td>\n",
       "      <td>b0aaf1ac138b53cb6e039ba2c3d6604a250d02d5145c10...</td>\n",
       "      <td>2018.0</td>\n",
       "      <td>449999</td>\n",
       "      <td>FullStack Engineer</td>\n",
       "      <td>2019.0</td>\n",
       "    </tr>\n",
       "    <tr>\n",
       "      <th>2</th>\n",
       "      <td>ojzwnvwnxw vx</td>\n",
       "      <td>4860c670bcd48fb96c02a4b0ae3608ae6fdd98176112e9...</td>\n",
       "      <td>2015.0</td>\n",
       "      <td>2000000</td>\n",
       "      <td>Backend Engineer</td>\n",
       "      <td>2020.0</td>\n",
       "    </tr>\n",
       "    <tr>\n",
       "      <th>3</th>\n",
       "      <td>ngpgutaxv</td>\n",
       "      <td>effdede7a2e7c2af664c8a31d9346385016128d66bbc58...</td>\n",
       "      <td>2017.0</td>\n",
       "      <td>700000</td>\n",
       "      <td>Backend Engineer</td>\n",
       "      <td>2019.0</td>\n",
       "    </tr>\n",
       "    <tr>\n",
       "      <th>4</th>\n",
       "      <td>qxen sqghu</td>\n",
       "      <td>6ff54e709262f55cb999a1c1db8436cb2055d8f79ab520...</td>\n",
       "      <td>2017.0</td>\n",
       "      <td>1400000</td>\n",
       "      <td>FullStack Engineer</td>\n",
       "      <td>2019.0</td>\n",
       "    </tr>\n",
       "  </tbody>\n",
       "</table>\n",
       "</div>"
      ],
      "text/plain": [
       "                company_hash  \\\n",
       "0             atrgxnnt xzaxv   \n",
       "1  qtrxvzwt xzegwgbb rxbxnta   \n",
       "2              ojzwnvwnxw vx   \n",
       "3                  ngpgutaxv   \n",
       "4                 qxen sqghu   \n",
       "\n",
       "                                          email_hash  orgyear      ctc  \\\n",
       "0  6de0a4417d18ab14334c3f43397fc13b30c35149d70c05...   2016.0  1100000   \n",
       "1  b0aaf1ac138b53cb6e039ba2c3d6604a250d02d5145c10...   2018.0   449999   \n",
       "2  4860c670bcd48fb96c02a4b0ae3608ae6fdd98176112e9...   2015.0  2000000   \n",
       "3  effdede7a2e7c2af664c8a31d9346385016128d66bbc58...   2017.0   700000   \n",
       "4  6ff54e709262f55cb999a1c1db8436cb2055d8f79ab520...   2017.0  1400000   \n",
       "\n",
       "         job_position  ctc_updated_year  \n",
       "0               Other            2020.0  \n",
       "1  FullStack Engineer            2019.0  \n",
       "2    Backend Engineer            2020.0  \n",
       "3    Backend Engineer            2019.0  \n",
       "4  FullStack Engineer            2019.0  "
      ]
     },
     "execution_count": 6,
     "metadata": {},
     "output_type": "execute_result"
    }
   ],
   "source": [
    "df.head()"
   ]
  },
  {
   "cell_type": "code",
   "execution_count": 7,
   "id": "12d80aa1-ee82-434e-874a-2d2992973bf1",
   "metadata": {},
   "outputs": [
    {
     "data": {
      "text/plain": [
       "company_hash         37299\n",
       "email_hash          153443\n",
       "orgyear                 77\n",
       "ctc                   3360\n",
       "job_position          1017\n",
       "ctc_updated_year         7\n",
       "dtype: int64"
      ]
     },
     "execution_count": 7,
     "metadata": {},
     "output_type": "execute_result"
    }
   ],
   "source": [
    "df.nunique()"
   ]
  },
  {
   "cell_type": "code",
   "execution_count": 9,
   "id": "13a3bad1-48ba-42ab-888a-8a3115e1ff73",
   "metadata": {},
   "outputs": [
    {
     "data": {
      "text/plain": [
       "company_hash           44\n",
       "email_hash              0\n",
       "orgyear                86\n",
       "ctc                     0\n",
       "job_position        52562\n",
       "ctc_updated_year        0\n",
       "dtype: int64"
      ]
     },
     "execution_count": 9,
     "metadata": {},
     "output_type": "execute_result"
    }
   ],
   "source": [
    "df.isnull().sum()"
   ]
  },
  {
   "cell_type": "code",
   "execution_count": 20,
   "id": "305fe654-06ce-4e50-b0b2-17d89ad93581",
   "metadata": {},
   "outputs": [
    {
     "data": {
      "text/plain": [
       "company_hash         0.021376\n",
       "email_hash           0.000000\n",
       "orgyear              0.041779\n",
       "ctc                  0.000000\n",
       "job_position        25.534995\n",
       "ctc_updated_year     0.000000\n",
       "dtype: float64"
      ]
     },
     "execution_count": 20,
     "metadata": {},
     "output_type": "execute_result"
    }
   ],
   "source": [
    "df.isnull().sum()/len(df) *100"
   ]
  },
  {
   "cell_type": "code",
   "execution_count": 21,
   "id": "e6d69c63-ee3e-4f95-929a-9d56f42c49b5",
   "metadata": {},
   "outputs": [
    {
     "data": {
      "text/html": [
       "<div>\n",
       "<style scoped>\n",
       "    .dataframe tbody tr th:only-of-type {\n",
       "        vertical-align: middle;\n",
       "    }\n",
       "\n",
       "    .dataframe tbody tr th {\n",
       "        vertical-align: top;\n",
       "    }\n",
       "\n",
       "    .dataframe thead th {\n",
       "        text-align: right;\n",
       "    }\n",
       "</style>\n",
       "<table border=\"1\" class=\"dataframe\">\n",
       "  <thead>\n",
       "    <tr style=\"text-align: right;\">\n",
       "      <th></th>\n",
       "      <th>orgyear</th>\n",
       "      <th>ctc</th>\n",
       "      <th>ctc_updated_year</th>\n",
       "    </tr>\n",
       "  </thead>\n",
       "  <tbody>\n",
       "    <tr>\n",
       "      <th>count</th>\n",
       "      <td>205757.000000</td>\n",
       "      <td>2.058430e+05</td>\n",
       "      <td>205843.000000</td>\n",
       "    </tr>\n",
       "    <tr>\n",
       "      <th>mean</th>\n",
       "      <td>2014.882750</td>\n",
       "      <td>2.271685e+06</td>\n",
       "      <td>2019.628231</td>\n",
       "    </tr>\n",
       "    <tr>\n",
       "      <th>std</th>\n",
       "      <td>63.571115</td>\n",
       "      <td>1.180091e+07</td>\n",
       "      <td>1.325104</td>\n",
       "    </tr>\n",
       "    <tr>\n",
       "      <th>min</th>\n",
       "      <td>0.000000</td>\n",
       "      <td>2.000000e+00</td>\n",
       "      <td>2015.000000</td>\n",
       "    </tr>\n",
       "    <tr>\n",
       "      <th>25%</th>\n",
       "      <td>2013.000000</td>\n",
       "      <td>5.300000e+05</td>\n",
       "      <td>2019.000000</td>\n",
       "    </tr>\n",
       "    <tr>\n",
       "      <th>50%</th>\n",
       "      <td>2016.000000</td>\n",
       "      <td>9.500000e+05</td>\n",
       "      <td>2020.000000</td>\n",
       "    </tr>\n",
       "    <tr>\n",
       "      <th>75%</th>\n",
       "      <td>2018.000000</td>\n",
       "      <td>1.700000e+06</td>\n",
       "      <td>2021.000000</td>\n",
       "    </tr>\n",
       "    <tr>\n",
       "      <th>max</th>\n",
       "      <td>20165.000000</td>\n",
       "      <td>1.000150e+09</td>\n",
       "      <td>2021.000000</td>\n",
       "    </tr>\n",
       "  </tbody>\n",
       "</table>\n",
       "</div>"
      ],
      "text/plain": [
       "             orgyear           ctc  ctc_updated_year\n",
       "count  205757.000000  2.058430e+05     205843.000000\n",
       "mean     2014.882750  2.271685e+06       2019.628231\n",
       "std        63.571115  1.180091e+07          1.325104\n",
       "min         0.000000  2.000000e+00       2015.000000\n",
       "25%      2013.000000  5.300000e+05       2019.000000\n",
       "50%      2016.000000  9.500000e+05       2020.000000\n",
       "75%      2018.000000  1.700000e+06       2021.000000\n",
       "max     20165.000000  1.000150e+09       2021.000000"
      ]
     },
     "execution_count": 21,
     "metadata": {},
     "output_type": "execute_result"
    }
   ],
   "source": [
    "df.describe()"
   ]
  },
  {
   "cell_type": "code",
   "execution_count": 22,
   "id": "505a01a5-8ece-4947-8730-087db32831ad",
   "metadata": {},
   "outputs": [
    {
     "data": {
      "text/html": [
       "<div>\n",
       "<style scoped>\n",
       "    .dataframe tbody tr th:only-of-type {\n",
       "        vertical-align: middle;\n",
       "    }\n",
       "\n",
       "    .dataframe tbody tr th {\n",
       "        vertical-align: top;\n",
       "    }\n",
       "\n",
       "    .dataframe thead th {\n",
       "        text-align: right;\n",
       "    }\n",
       "</style>\n",
       "<table border=\"1\" class=\"dataframe\">\n",
       "  <thead>\n",
       "    <tr style=\"text-align: right;\">\n",
       "      <th></th>\n",
       "      <th>company_hash</th>\n",
       "      <th>email_hash</th>\n",
       "      <th>job_position</th>\n",
       "    </tr>\n",
       "  </thead>\n",
       "  <tbody>\n",
       "    <tr>\n",
       "      <th>count</th>\n",
       "      <td>205799</td>\n",
       "      <td>205843</td>\n",
       "      <td>153281</td>\n",
       "    </tr>\n",
       "    <tr>\n",
       "      <th>unique</th>\n",
       "      <td>37299</td>\n",
       "      <td>153443</td>\n",
       "      <td>1017</td>\n",
       "    </tr>\n",
       "    <tr>\n",
       "      <th>top</th>\n",
       "      <td>nvnv wgzohrnvzwj otqcxwto</td>\n",
       "      <td>bbace3cc586400bbc65765bc6a16b77d8913836cfc98b7...</td>\n",
       "      <td>Backend Engineer</td>\n",
       "    </tr>\n",
       "    <tr>\n",
       "      <th>freq</th>\n",
       "      <td>8337</td>\n",
       "      <td>10</td>\n",
       "      <td>43554</td>\n",
       "    </tr>\n",
       "  </tbody>\n",
       "</table>\n",
       "</div>"
      ],
      "text/plain": [
       "                     company_hash  \\\n",
       "count                      205799   \n",
       "unique                      37299   \n",
       "top     nvnv wgzohrnvzwj otqcxwto   \n",
       "freq                         8337   \n",
       "\n",
       "                                               email_hash      job_position  \n",
       "count                                              205843            153281  \n",
       "unique                                             153443              1017  \n",
       "top     bbace3cc586400bbc65765bc6a16b77d8913836cfc98b7...  Backend Engineer  \n",
       "freq                                                   10             43554  "
      ]
     },
     "execution_count": 22,
     "metadata": {},
     "output_type": "execute_result"
    }
   ],
   "source": [
    "df.describe(include = 'object')"
   ]
  },
  {
   "cell_type": "markdown",
   "id": "18b59ca9-2d68-4967-b37f-b925c2f799b2",
   "metadata": {},
   "source": [
    "### pre-processing- includes removal of special characters "
   ]
  },
  {
   "cell_type": "code",
   "execution_count": 28,
   "id": "f079e138-eb11-4f8f-b7df-b4655b0993c4",
   "metadata": {},
   "outputs": [
    {
     "data": {
      "text/plain": [
       "'airtelx labs'"
      ]
     },
     "execution_count": 28,
     "metadata": {},
     "output_type": "execute_result"
    }
   ],
   "source": [
    "def preprocess_string(string):\n",
    "    new_string = re.sub('[^A-Za-z]+ ','',string).lower().strip()\n",
    "    return new_string\n",
    "mystring = '\\tAirtel\\\\\\&&**() X Labs'\n",
    "preprocess_string(mystring)"
   ]
  },
  {
   "cell_type": "code",
   "execution_count": 46,
   "id": "a996d1d4-8a3b-4d47-8f58-f80b3df27a74",
   "metadata": {},
   "outputs": [
    {
     "data": {
      "text/plain": [
       "nvnv wgzohrnvzwj otqcxwto                                8337\n",
       "xzegojo                                                  5381\n",
       "vbvkgz                                                   3481\n",
       "zgn vuurxwvmrt vwwghzn                                   3411\n",
       "wgszxkvzn                                                3240\n",
       "                                                         ... \n",
       "gcvrtast                                                    1\n",
       "ovrbgz xzaxv uqxcvnt rxbxnta                                1\n",
       "vuobxza ntwyzgrgsj                                          1\n",
       "egqstvytva ogrhnxgzo vwihxqta ctqnxo bxwqgojontbo rru       1\n",
       "yvoyxzwrhat xg ntwyzgrgsj ogrhnxgzo rru                     1\n",
       "Name: company_hash, Length: 37261, dtype: int64"
      ]
     },
     "execution_count": 46,
     "metadata": {},
     "output_type": "execute_result"
    }
   ],
   "source": [
    "df['company_hash'].value_counts()[:-10]"
   ]
  },
  {
   "cell_type": "code",
   "execution_count": 30,
   "id": "ebe3372f-5bbc-421e-bb23-d7d56fb11184",
   "metadata": {},
   "outputs": [
    {
     "data": {
      "text/plain": [
       "37271"
      ]
     },
     "execution_count": 30,
     "metadata": {},
     "output_type": "execute_result"
    }
   ],
   "source": [
    "df['company_hash'] = df['company_hash'].apply(lambda x: preprocess_string(str(x)))\n",
    "df['company_hash'] .nunique()"
   ]
  },
  {
   "cell_type": "code",
   "execution_count": 31,
   "id": "7d9c2a18-d86a-470c-b174-53a0ad6377d4",
   "metadata": {},
   "outputs": [
    {
     "data": {
      "text/plain": [
       "1017"
      ]
     },
     "execution_count": 31,
     "metadata": {},
     "output_type": "execute_result"
    }
   ],
   "source": [
    "df['job_position'].nunique()"
   ]
  },
  {
   "cell_type": "code",
   "execution_count": 34,
   "id": "00c6192f-78ec-47f3-b036-6abf1600a812",
   "metadata": {},
   "outputs": [
    {
     "data": {
      "text/plain": [
       "912"
      ]
     },
     "execution_count": 34,
     "metadata": {},
     "output_type": "execute_result"
    }
   ],
   "source": [
    "df['job_position'] = df['job_position'].apply(lambda x: preprocess_string(str(x)))\n",
    "df['job_position'].nunique()"
   ]
  },
  {
   "cell_type": "code",
   "execution_count": 35,
   "id": "dc52b5b1-7265-409f-94bc-8a4965a5247b",
   "metadata": {},
   "outputs": [
    {
     "data": {
      "text/html": [
       "<div>\n",
       "<style scoped>\n",
       "    .dataframe tbody tr th:only-of-type {\n",
       "        vertical-align: middle;\n",
       "    }\n",
       "\n",
       "    .dataframe tbody tr th {\n",
       "        vertical-align: top;\n",
       "    }\n",
       "\n",
       "    .dataframe thead th {\n",
       "        text-align: right;\n",
       "    }\n",
       "</style>\n",
       "<table border=\"1\" class=\"dataframe\">\n",
       "  <thead>\n",
       "    <tr style=\"text-align: right;\">\n",
       "      <th></th>\n",
       "      <th>company_hash</th>\n",
       "      <th>email_hash</th>\n",
       "      <th>orgyear</th>\n",
       "      <th>ctc</th>\n",
       "      <th>job_position</th>\n",
       "      <th>ctc_updated_year</th>\n",
       "    </tr>\n",
       "  </thead>\n",
       "  <tbody>\n",
       "    <tr>\n",
       "      <th>0</th>\n",
       "      <td>atrgxnnt xzaxv</td>\n",
       "      <td>6de0a4417d18ab14334c3f43397fc13b30c35149d70c05...</td>\n",
       "      <td>2016.0</td>\n",
       "      <td>1100000</td>\n",
       "      <td>other</td>\n",
       "      <td>2020.0</td>\n",
       "    </tr>\n",
       "    <tr>\n",
       "      <th>1</th>\n",
       "      <td>qtrxvzwt xzegwgbb rxbxnta</td>\n",
       "      <td>b0aaf1ac138b53cb6e039ba2c3d6604a250d02d5145c10...</td>\n",
       "      <td>2018.0</td>\n",
       "      <td>449999</td>\n",
       "      <td>fullstack engineer</td>\n",
       "      <td>2019.0</td>\n",
       "    </tr>\n",
       "    <tr>\n",
       "      <th>2</th>\n",
       "      <td>ojzwnvwnxw vx</td>\n",
       "      <td>4860c670bcd48fb96c02a4b0ae3608ae6fdd98176112e9...</td>\n",
       "      <td>2015.0</td>\n",
       "      <td>2000000</td>\n",
       "      <td>backend engineer</td>\n",
       "      <td>2020.0</td>\n",
       "    </tr>\n",
       "    <tr>\n",
       "      <th>3</th>\n",
       "      <td>ngpgutaxv</td>\n",
       "      <td>effdede7a2e7c2af664c8a31d9346385016128d66bbc58...</td>\n",
       "      <td>2017.0</td>\n",
       "      <td>700000</td>\n",
       "      <td>backend engineer</td>\n",
       "      <td>2019.0</td>\n",
       "    </tr>\n",
       "    <tr>\n",
       "      <th>4</th>\n",
       "      <td>qxen sqghu</td>\n",
       "      <td>6ff54e709262f55cb999a1c1db8436cb2055d8f79ab520...</td>\n",
       "      <td>2017.0</td>\n",
       "      <td>1400000</td>\n",
       "      <td>fullstack engineer</td>\n",
       "      <td>2019.0</td>\n",
       "    </tr>\n",
       "  </tbody>\n",
       "</table>\n",
       "</div>"
      ],
      "text/plain": [
       "                company_hash  \\\n",
       "0             atrgxnnt xzaxv   \n",
       "1  qtrxvzwt xzegwgbb rxbxnta   \n",
       "2              ojzwnvwnxw vx   \n",
       "3                  ngpgutaxv   \n",
       "4                 qxen sqghu   \n",
       "\n",
       "                                          email_hash  orgyear      ctc  \\\n",
       "0  6de0a4417d18ab14334c3f43397fc13b30c35149d70c05...   2016.0  1100000   \n",
       "1  b0aaf1ac138b53cb6e039ba2c3d6604a250d02d5145c10...   2018.0   449999   \n",
       "2  4860c670bcd48fb96c02a4b0ae3608ae6fdd98176112e9...   2015.0  2000000   \n",
       "3  effdede7a2e7c2af664c8a31d9346385016128d66bbc58...   2017.0   700000   \n",
       "4  6ff54e709262f55cb999a1c1db8436cb2055d8f79ab520...   2017.0  1400000   \n",
       "\n",
       "         job_position  ctc_updated_year  \n",
       "0               other            2020.0  \n",
       "1  fullstack engineer            2019.0  \n",
       "2    backend engineer            2020.0  \n",
       "3    backend engineer            2019.0  \n",
       "4  fullstack engineer            2019.0  "
      ]
     },
     "execution_count": 35,
     "metadata": {},
     "output_type": "execute_result"
    }
   ],
   "source": [
    "df.head()"
   ]
  },
  {
   "cell_type": "code",
   "execution_count": 36,
   "id": "79e819ff-fb7d-4cb3-aa4c-2ef675cffa39",
   "metadata": {},
   "outputs": [],
   "source": [
    "df.drop(['email_hash'],axis=1,inplace=True)"
   ]
  },
  {
   "cell_type": "code",
   "execution_count": 38,
   "id": "0473ad9c-5af8-4ef4-8ba7-fdfb5d4b09d8",
   "metadata": {},
   "outputs": [
    {
     "data": {
      "text/html": [
       "<div>\n",
       "<style scoped>\n",
       "    .dataframe tbody tr th:only-of-type {\n",
       "        vertical-align: middle;\n",
       "    }\n",
       "\n",
       "    .dataframe tbody tr th {\n",
       "        vertical-align: top;\n",
       "    }\n",
       "\n",
       "    .dataframe thead th {\n",
       "        text-align: right;\n",
       "    }\n",
       "</style>\n",
       "<table border=\"1\" class=\"dataframe\">\n",
       "  <thead>\n",
       "    <tr style=\"text-align: right;\">\n",
       "      <th></th>\n",
       "      <th>company_hash</th>\n",
       "      <th>orgyear</th>\n",
       "      <th>ctc</th>\n",
       "      <th>job_position</th>\n",
       "      <th>ctc_updated_year</th>\n",
       "    </tr>\n",
       "  </thead>\n",
       "  <tbody>\n",
       "    <tr>\n",
       "      <th>95877</th>\n",
       "      <td>ohbg rgsxw</td>\n",
       "      <td>2015.0</td>\n",
       "      <td>5000000</td>\n",
       "      <td>nan</td>\n",
       "      <td>2021.0</td>\n",
       "    </tr>\n",
       "    <tr>\n",
       "      <th>38810</th>\n",
       "      <td>nvnv wgzohrnvzwj otqcxwto</td>\n",
       "      <td>2015.0</td>\n",
       "      <td>440000</td>\n",
       "      <td>support engineer</td>\n",
       "      <td>2021.0</td>\n",
       "    </tr>\n",
       "    <tr>\n",
       "      <th>180789</th>\n",
       "      <td>exotqc</td>\n",
       "      <td>2011.0</td>\n",
       "      <td>1300000</td>\n",
       "      <td>backend engineer</td>\n",
       "      <td>2019.0</td>\n",
       "    </tr>\n",
       "    <tr>\n",
       "      <th>140281</th>\n",
       "      <td>zvz</td>\n",
       "      <td>2018.0</td>\n",
       "      <td>433000</td>\n",
       "      <td>backend engineer</td>\n",
       "      <td>2021.0</td>\n",
       "    </tr>\n",
       "    <tr>\n",
       "      <th>133912</th>\n",
       "      <td>ihvrwgbb</td>\n",
       "      <td>2019.0</td>\n",
       "      <td>2510000</td>\n",
       "      <td>engineering intern</td>\n",
       "      <td>2019.0</td>\n",
       "    </tr>\n",
       "    <tr>\n",
       "      <th>188516</th>\n",
       "      <td>qbr vsntwy ucn rna</td>\n",
       "      <td>2012.0</td>\n",
       "      <td>700000</td>\n",
       "      <td>fullstack engineer</td>\n",
       "      <td>2016.0</td>\n",
       "    </tr>\n",
       "    <tr>\n",
       "      <th>167736</th>\n",
       "      <td>erxzng rtvqzxzs ogrhnxgzo</td>\n",
       "      <td>2014.0</td>\n",
       "      <td>700000</td>\n",
       "      <td>other</td>\n",
       "      <td>2021.0</td>\n",
       "    </tr>\n",
       "    <tr>\n",
       "      <th>205543</th>\n",
       "      <td>zvz</td>\n",
       "      <td>2021.0</td>\n",
       "      <td>1800000</td>\n",
       "      <td>nan</td>\n",
       "      <td>2021.0</td>\n",
       "    </tr>\n",
       "    <tr>\n",
       "      <th>80997</th>\n",
       "      <td>ctqxkgz</td>\n",
       "      <td>2015.0</td>\n",
       "      <td>1200000</td>\n",
       "      <td>data scientist</td>\n",
       "      <td>2019.0</td>\n",
       "    </tr>\n",
       "    <tr>\n",
       "      <th>164196</th>\n",
       "      <td>uqtwqtaxno</td>\n",
       "      <td>2008.0</td>\n",
       "      <td>90000</td>\n",
       "      <td>frontend engineer</td>\n",
       "      <td>2020.0</td>\n",
       "    </tr>\n",
       "  </tbody>\n",
       "</table>\n",
       "</div>"
      ],
      "text/plain": [
       "                     company_hash  orgyear      ctc        job_position  \\\n",
       "95877                  ohbg rgsxw   2015.0  5000000                 nan   \n",
       "38810   nvnv wgzohrnvzwj otqcxwto   2015.0   440000    support engineer   \n",
       "180789                     exotqc   2011.0  1300000    backend engineer   \n",
       "140281                        zvz   2018.0   433000    backend engineer   \n",
       "133912                   ihvrwgbb   2019.0  2510000  engineering intern   \n",
       "188516         qbr vsntwy ucn rna   2012.0   700000  fullstack engineer   \n",
       "167736  erxzng rtvqzxzs ogrhnxgzo   2014.0   700000               other   \n",
       "205543                        zvz   2021.0  1800000                 nan   \n",
       "80997                     ctqxkgz   2015.0  1200000      data scientist   \n",
       "164196                 uqtwqtaxno   2008.0    90000   frontend engineer   \n",
       "\n",
       "        ctc_updated_year  \n",
       "95877             2021.0  \n",
       "38810             2021.0  \n",
       "180789            2019.0  \n",
       "140281            2021.0  \n",
       "133912            2019.0  \n",
       "188516            2016.0  \n",
       "167736            2021.0  \n",
       "205543            2021.0  \n",
       "80997             2019.0  \n",
       "164196            2020.0  "
      ]
     },
     "execution_count": 38,
     "metadata": {},
     "output_type": "execute_result"
    }
   ],
   "source": [
    "df.sample(10)"
   ]
  },
  {
   "cell_type": "code",
   "execution_count": 39,
   "id": "d832d1b1-02cd-4aa9-8446-25da06fc622a",
   "metadata": {},
   "outputs": [
    {
     "data": {
      "text/plain": [
       "17582"
      ]
     },
     "execution_count": 39,
     "metadata": {},
     "output_type": "execute_result"
    }
   ],
   "source": [
    "df.duplicated().sum()"
   ]
  },
  {
   "cell_type": "code",
   "execution_count": 45,
   "id": "c130f836-57de-4fbc-a700-981b8ad8b51f",
   "metadata": {},
   "outputs": [
    {
     "data": {
      "text/plain": [
       "company_hash         0\n",
       "orgyear             86\n",
       "ctc                  0\n",
       "job_position         0\n",
       "ctc_updated_year     0\n",
       "dtype: int64"
      ]
     },
     "execution_count": 45,
     "metadata": {},
     "output_type": "execute_result"
    }
   ],
   "source": [
    "df.isna().sum()"
   ]
  },
  {
   "cell_type": "code",
   "execution_count": 59,
   "id": "6b25a058-bf1b-42fc-807b-e0b2437098a7",
   "metadata": {},
   "outputs": [
    {
     "data": {
      "text/plain": [
       "44"
      ]
     },
     "execution_count": 59,
     "metadata": {},
     "output_type": "execute_result"
    }
   ],
   "source": [
    "(df['company_hash']==\"nan\").sum()"
   ]
  },
  {
   "cell_type": "code",
   "execution_count": 64,
   "id": "abc4744d-49e3-4684-bc2f-ea9cff3cc120",
   "metadata": {},
   "outputs": [
    {
     "data": {
      "text/plain": [
       "0"
      ]
     },
     "execution_count": 64,
     "metadata": {},
     "output_type": "execute_result"
    }
   ],
   "source": [
    "(df['company_hash']== \"\").sum()"
   ]
  },
  {
   "cell_type": "code",
   "execution_count": 66,
   "id": "128c94c4-2ee7-45ff-bf5d-0899020c28b8",
   "metadata": {},
   "outputs": [
    {
     "data": {
      "text/plain": [
       "52562"
      ]
     },
     "execution_count": 66,
     "metadata": {},
     "output_type": "execute_result"
    }
   ],
   "source": [
    "(df['job_position']==\"nan\").sum()"
   ]
  },
  {
   "cell_type": "code",
   "execution_count": 67,
   "id": "877ad2d1-f975-4c4f-8d99-38e425ce456a",
   "metadata": {},
   "outputs": [
    {
     "data": {
      "text/plain": [
       "0"
      ]
     },
     "execution_count": 67,
     "metadata": {},
     "output_type": "execute_result"
    }
   ],
   "source": [
    "(df['job_position']==\"\").sum()"
   ]
  },
  {
   "cell_type": "code",
   "execution_count": 97,
   "id": "a5d0e733-fda7-42fc-b3b0-ff47ec743306",
   "metadata": {},
   "outputs": [
    {
     "data": {
      "text/html": [
       "<div>\n",
       "<style scoped>\n",
       "    .dataframe tbody tr th:only-of-type {\n",
       "        vertical-align: middle;\n",
       "    }\n",
       "\n",
       "    .dataframe tbody tr th {\n",
       "        vertical-align: top;\n",
       "    }\n",
       "\n",
       "    .dataframe thead th {\n",
       "        text-align: right;\n",
       "    }\n",
       "</style>\n",
       "<table border=\"1\" class=\"dataframe\">\n",
       "  <thead>\n",
       "    <tr style=\"text-align: right;\">\n",
       "      <th></th>\n",
       "      <th>company_hash</th>\n",
       "      <th>orgyear</th>\n",
       "      <th>ctc</th>\n",
       "      <th>job_position</th>\n",
       "      <th>ctc_updated_year</th>\n",
       "    </tr>\n",
       "  </thead>\n",
       "  <tbody>\n",
       "    <tr>\n",
       "      <th>26873</th>\n",
       "      <td>mgtxzs</td>\n",
       "      <td>2017.0</td>\n",
       "      <td>800000</td>\n",
       "      <td>nan</td>\n",
       "      <td>2021.0</td>\n",
       "    </tr>\n",
       "    <tr>\n",
       "      <th>181581</th>\n",
       "      <td>touxqt xzegrvmo</td>\n",
       "      <td>2011.0</td>\n",
       "      <td>1700000</td>\n",
       "      <td>engineering leadership</td>\n",
       "      <td>2019.0</td>\n",
       "    </tr>\n",
       "    <tr>\n",
       "      <th>28507</th>\n",
       "      <td>owqj vzvrjnxwo</td>\n",
       "      <td>2007.0</td>\n",
       "      <td>8800000</td>\n",
       "      <td>engineering leadership</td>\n",
       "      <td>2019.0</td>\n",
       "    </tr>\n",
       "    <tr>\n",
       "      <th>62133</th>\n",
       "      <td>nvnv wgzohrnvzwj otqcxwto</td>\n",
       "      <td>2019.0</td>\n",
       "      <td>700000</td>\n",
       "      <td>data analyst</td>\n",
       "      <td>2019.0</td>\n",
       "    </tr>\n",
       "    <tr>\n",
       "      <th>159290</th>\n",
       "      <td>fxzsxej</td>\n",
       "      <td>2017.0</td>\n",
       "      <td>650000</td>\n",
       "      <td>backend engineer</td>\n",
       "      <td>2015.0</td>\n",
       "    </tr>\n",
       "    <tr>\n",
       "      <th>4320</th>\n",
       "      <td>vwwtznhqt</td>\n",
       "      <td>2020.0</td>\n",
       "      <td>400000</td>\n",
       "      <td>support engineer</td>\n",
       "      <td>2021.0</td>\n",
       "    </tr>\n",
       "    <tr>\n",
       "      <th>202262</th>\n",
       "      <td>zvnxgzvr xzonxnhnt ge ntwyzgrgsj fvqvzsvr</td>\n",
       "      <td>2020.0</td>\n",
       "      <td>1800000</td>\n",
       "      <td>data scientist</td>\n",
       "      <td>2020.0</td>\n",
       "    </tr>\n",
       "    <tr>\n",
       "      <th>29179</th>\n",
       "      <td>adw ntwyzgrgsxto</td>\n",
       "      <td>2013.0</td>\n",
       "      <td>100000000</td>\n",
       "      <td>product designer</td>\n",
       "      <td>2020.0</td>\n",
       "    </tr>\n",
       "    <tr>\n",
       "      <th>192708</th>\n",
       "      <td>lhzxutq ztnfgqpo xzw</td>\n",
       "      <td>2016.0</td>\n",
       "      <td>800000</td>\n",
       "      <td>nan</td>\n",
       "      <td>2019.0</td>\n",
       "    </tr>\n",
       "    <tr>\n",
       "      <th>189355</th>\n",
       "      <td>zvqvjvzv yqhavjvrvjv</td>\n",
       "      <td>2017.0</td>\n",
       "      <td>1280000</td>\n",
       "      <td>data scientist</td>\n",
       "      <td>2019.0</td>\n",
       "    </tr>\n",
       "  </tbody>\n",
       "</table>\n",
       "</div>"
      ],
      "text/plain": [
       "                                     company_hash  orgyear        ctc  \\\n",
       "26873                                      mgtxzs   2017.0     800000   \n",
       "181581                            touxqt xzegrvmo   2011.0    1700000   \n",
       "28507                              owqj vzvrjnxwo   2007.0    8800000   \n",
       "62133                   nvnv wgzohrnvzwj otqcxwto   2019.0     700000   \n",
       "159290                                    fxzsxej   2017.0     650000   \n",
       "4320                                    vwwtznhqt   2020.0     400000   \n",
       "202262  zvnxgzvr xzonxnhnt ge ntwyzgrgsj fvqvzsvr   2020.0    1800000   \n",
       "29179                            adw ntwyzgrgsxto   2013.0  100000000   \n",
       "192708                       lhzxutq ztnfgqpo xzw   2016.0     800000   \n",
       "189355                       zvqvjvzv yqhavjvrvjv   2017.0    1280000   \n",
       "\n",
       "                  job_position  ctc_updated_year  \n",
       "26873                      nan            2021.0  \n",
       "181581  engineering leadership            2019.0  \n",
       "28507   engineering leadership            2019.0  \n",
       "62133             data analyst            2019.0  \n",
       "159290        backend engineer            2015.0  \n",
       "4320          support engineer            2021.0  \n",
       "202262          data scientist            2020.0  \n",
       "29179         product designer            2020.0  \n",
       "192708                     nan            2019.0  \n",
       "189355          data scientist            2019.0  "
      ]
     },
     "execution_count": 97,
     "metadata": {},
     "output_type": "execute_result"
    }
   ],
   "source": [
    "df.sample(10)"
   ]
  },
  {
   "cell_type": "code",
   "execution_count": 105,
   "id": "74eb4d40-4b7c-4c83-b7b9-cf5a10d0436f",
   "metadata": {},
   "outputs": [],
   "source": [
    "# df[df['company_hash'] == \"nan\"]"
   ]
  },
  {
   "cell_type": "code",
   "execution_count": 106,
   "id": "4994d7b4-1044-4d00-9500-62b8cd08a8c0",
   "metadata": {},
   "outputs": [
    {
     "data": {
      "text/plain": [
       "31"
      ]
     },
     "execution_count": 106,
     "metadata": {},
     "output_type": "execute_result"
    }
   ],
   "source": [
    "len(df[(df['job_position'] == 'nan') & (df['company_hash'] == 'nan')])"
   ]
  },
  {
   "cell_type": "code",
   "execution_count": 112,
   "id": "414bb92e-0b4a-4262-ad95-19dab7afd093",
   "metadata": {},
   "outputs": [
    {
     "data": {
      "text/html": [
       "<div>\n",
       "<style scoped>\n",
       "    .dataframe tbody tr th:only-of-type {\n",
       "        vertical-align: middle;\n",
       "    }\n",
       "\n",
       "    .dataframe tbody tr th {\n",
       "        vertical-align: top;\n",
       "    }\n",
       "\n",
       "    .dataframe thead th {\n",
       "        text-align: right;\n",
       "    }\n",
       "</style>\n",
       "<table border=\"1\" class=\"dataframe\">\n",
       "  <thead>\n",
       "    <tr style=\"text-align: right;\">\n",
       "      <th></th>\n",
       "      <th>company_hash</th>\n",
       "      <th>orgyear</th>\n",
       "      <th>ctc</th>\n",
       "      <th>job_position</th>\n",
       "      <th>ctc_updated_year</th>\n",
       "    </tr>\n",
       "  </thead>\n",
       "  <tbody>\n",
       "  </tbody>\n",
       "</table>\n",
       "</div>"
      ],
      "text/plain": [
       "Empty DataFrame\n",
       "Columns: [company_hash, orgyear, ctc, job_position, ctc_updated_year]\n",
       "Index: []"
      ]
     },
     "execution_count": 112,
     "metadata": {},
     "output_type": "execute_result"
    }
   ],
   "source": [
    "df[(df[\"company_hash\"] == \"\") | (df[\"job_position\"] == \"\")]"
   ]
  },
  {
   "cell_type": "code",
   "execution_count": 115,
   "id": "d0f3bfca-a685-490a-9b08-59802babcf98",
   "metadata": {},
   "outputs": [
    {
     "data": {
      "text/plain": [
       "company_hash         0\n",
       "orgyear             86\n",
       "ctc                  0\n",
       "job_position         0\n",
       "ctc_updated_year     0\n",
       "dtype: int64"
      ]
     },
     "execution_count": 115,
     "metadata": {},
     "output_type": "execute_result"
    }
   ],
   "source": [
    "df.isna().sum()"
   ]
  },
  {
   "cell_type": "code",
   "execution_count": 116,
   "id": "b497e79e-c5f1-40b7-b3b5-0d335ea2a7a2",
   "metadata": {},
   "outputs": [
    {
     "data": {
      "text/plain": [
       "(205843, 5)"
      ]
     },
     "execution_count": 116,
     "metadata": {},
     "output_type": "execute_result"
    }
   ],
   "source": [
    "df.shape"
   ]
  },
  {
   "cell_type": "markdown",
   "id": "78630d12-07d7-4c26-85b4-bf61e4e5fc23",
   "metadata": {},
   "source": [
    "### null values imputation:\n",
    "### using median of \"orgyear\" to fill the null values in orgyear column"
   ]
  },
  {
   "cell_type": "code",
   "execution_count": 118,
   "id": "c4dc53ee-5231-414a-b79d-98fd3a34fcab",
   "metadata": {},
   "outputs": [
    {
     "data": {
      "text/plain": [
       "86"
      ]
     },
     "execution_count": 118,
     "metadata": {},
     "output_type": "execute_result"
    }
   ],
   "source": [
    "df['orgyear'].isnull().sum()"
   ]
  },
  {
   "cell_type": "code",
   "execution_count": 125,
   "id": "77ac6487-ba6d-4a8d-9255-e7038278236f",
   "metadata": {},
   "outputs": [],
   "source": [
    "df['orgyear'].fillna(df.groupby('company_hash')['orgyear'].transform('median'),inplace=True)\n"
   ]
  },
  {
   "cell_type": "code",
   "execution_count": 126,
   "id": "f49b1993-5c1d-4331-8798-5286dd6f31f5",
   "metadata": {},
   "outputs": [
    {
     "data": {
      "text/plain": [
       "26"
      ]
     },
     "execution_count": 126,
     "metadata": {},
     "output_type": "execute_result"
    }
   ],
   "source": [
    "df['orgyear'].isnull().sum()"
   ]
  },
  {
   "cell_type": "code",
   "execution_count": 127,
   "id": "5124c202-3096-408e-a2a5-8e3ba15941a3",
   "metadata": {},
   "outputs": [],
   "source": [
    "df = df.loc[~df['orgyear'].isna()]"
   ]
  },
  {
   "cell_type": "code",
   "execution_count": 128,
   "id": "0dd2f760-8f88-4c9a-af7f-31529b8ebfb9",
   "metadata": {},
   "outputs": [
    {
     "data": {
      "text/plain": [
       "0"
      ]
     },
     "execution_count": 128,
     "metadata": {},
     "output_type": "execute_result"
    }
   ],
   "source": [
    "df['orgyear'].isnull().sum()"
   ]
  },
  {
   "cell_type": "markdown",
   "id": "c97c8f4b-f128-443d-8650-7feea95a9771",
   "metadata": {},
   "source": [
    "### Outliers Analysis"
   ]
  },
  {
   "cell_type": "code",
   "execution_count": 129,
   "id": "8cc8b28f-1057-46d0-b484-712452fc0c3c",
   "metadata": {},
   "outputs": [
    {
     "data": {
      "text/plain": [
       "count    205817.000000\n",
       "mean       2014.883061\n",
       "std          63.561861\n",
       "min           0.000000\n",
       "25%        2013.000000\n",
       "50%        2016.000000\n",
       "75%        2018.000000\n",
       "max       20165.000000\n",
       "Name: orgyear, dtype: float64"
      ]
     },
     "execution_count": 129,
     "metadata": {},
     "output_type": "execute_result"
    }
   ],
   "source": [
    "df['orgyear'].describe()"
   ]
  },
  {
   "cell_type": "code",
   "execution_count": 287,
   "id": "083b2f01-de9b-42a5-9f11-0b428b490f5a",
   "metadata": {},
   "outputs": [
    {
     "data": {
      "text/plain": [
       "<AxesSubplot:xlabel='orgyear', ylabel='Density'>"
      ]
     },
     "execution_count": 287,
     "metadata": {},
     "output_type": "execute_result"
    },
    {
     "data": {
      "image/png": "[encoded data removed]",
      "text/plain": [
       "<Figure size 432x288 with 1 Axes>"
      ]
     },
     "metadata": {
      "needs_background": "light"
     },
     "output_type": "display_data"
    }
   ],
   "source": [
    "sns.kdeplot(x = df['orgyear'])"
   ]
  },
  {
   "cell_type": "markdown",
   "id": "10e65b68-c173-44cd-ba37-f906a936206e",
   "metadata": {},
   "source": [
    "### removing less than 1% quantile and upper 99% quantile from the analysis"
   ]
  },
  {
   "cell_type": "code",
   "execution_count": 288,
   "id": "2e8be2f4-0bea-4eba-b7c2-139f0c0f935c",
   "metadata": {},
   "outputs": [
    {
     "name": "stdout",
     "output_type": "stream",
     "text": [
      "2001.0\n",
      "2021.0\n"
     ]
    }
   ],
   "source": [
    "print(df['orgyear'].quantile(0.01))\n",
    "print(df['orgyear'].quantile(0.99))"
   ]
  },
  {
   "cell_type": "code",
   "execution_count": 161,
   "id": "9dc05e38-b2e6-40d5-8da7-2d047220bb05",
   "metadata": {},
   "outputs": [],
   "source": [
    "df['orgyear'] = df['orgyear'].clip(lower = df['orgyear'].quantile(0.01), upper = df['orgyear'].quantile(0.99))\n"
   ]
  },
  {
   "cell_type": "code",
   "execution_count": 162,
   "id": "017d13b5-a4e3-4068-9008-7cd739ce0d58",
   "metadata": {},
   "outputs": [
    {
     "data": {
      "text/plain": [
       "count    2.058170e+05\n",
       "mean     2.271339e+06\n",
       "std      1.179967e+07\n",
       "min      2.000000e+00\n",
       "25%      5.300000e+05\n",
       "50%      9.500000e+05\n",
       "75%      1.700000e+06\n",
       "max      1.000150e+09\n",
       "Name: ctc, dtype: float64"
      ]
     },
     "execution_count": 162,
     "metadata": {},
     "output_type": "execute_result"
    }
   ],
   "source": [
    "df['ctc'].describe()"
   ]
  },
  {
   "cell_type": "code",
   "execution_count": 289,
   "id": "3926774b-1e84-440b-83d6-0bb56a60e2cc",
   "metadata": {},
   "outputs": [
    {
     "data": {
      "text/plain": [
       "<AxesSubplot:xlabel='ctc', ylabel='Density'>"
      ]
     },
     "execution_count": 289,
     "metadata": {},
     "output_type": "execute_result"
    },
    {
     "data": {
      "image/png": "[encoded data removed]",
      "text/plain": [
       "<Figure size 432x288 with 1 Axes>"
      ]
     },
     "metadata": {
      "needs_background": "light"
     },
     "output_type": "display_data"
    }
   ],
   "source": [
    "sns.kdeplot(x = df['ctc'])"
   ]
  },
  {
   "cell_type": "code",
   "execution_count": 163,
   "id": "31e82c8f-7dc4-4707-a958-c8a3cd71645b",
   "metadata": {},
   "outputs": [],
   "source": [
    "df['ctc'] = df['ctc'].clip(lower = df['ctc'].quantile(0.01), upper = df['ctc'].quantile(0.99))\n"
   ]
  },
  {
   "cell_type": "code",
   "execution_count": 165,
   "id": "3b1f326f-927e-42f8-9c1e-dceb5e78c983",
   "metadata": {},
   "outputs": [
    {
     "data": {
      "text/plain": [
       "nvnv wgzohrnvzwj otqcxwto          8337\n",
       "xzegojo                            5381\n",
       "vbvkgz                             3481\n",
       "zgn vuurxwvmrt vwwghzn             3411\n",
       "wgszxkvzn                          3240\n",
       "                                   ... \n",
       "hzxctqvxnvo uqxbv xzagztoxv           1\n",
       "ontbqgmg ntwyzgrgsxto                 1\n",
       "vvpvoy axsxnvr tantwy                 1\n",
       "axvwqxntwy ntwyzgrgsxto ucn rna       1\n",
       "vwwtznhqtmjlhontwyzgctqn              1\n",
       "Name: company_hash, Length: 37246, dtype: int64"
      ]
     },
     "execution_count": 165,
     "metadata": {},
     "output_type": "execute_result"
    }
   ],
   "source": [
    "df['company_hash'].value_counts()"
   ]
  },
  {
   "cell_type": "markdown",
   "id": "57fcfaa0-86fe-4933-b98a-df335f968e87",
   "metadata": {},
   "source": [
    "### grouping company_hash into \"Others\" where their frequency count is < 5"
   ]
  },
  {
   "cell_type": "code",
   "execution_count": 172,
   "id": "e215a2a6-eb86-4407-b536-1f4ac7610421",
   "metadata": {},
   "outputs": [],
   "source": [
    "df.loc[df.groupby('company_hash')['ctc'].transform('count') < 5, 'company_hash'] = 'Others'\n"
   ]
  },
  {
   "cell_type": "code",
   "execution_count": 173,
   "id": "f432ab3e-b0d5-4b6d-ac39-7e86944854e5",
   "metadata": {},
   "outputs": [
    {
     "data": {
      "text/plain": [
       "Others                       47850\n",
       "nvnv wgzohrnvzwj otqcxwto     8337\n",
       "xzegojo                       5381\n",
       "vbvkgz                        3481\n",
       "zgn vuurxwvmrt vwwghzn        3411\n",
       "                             ...  \n",
       "xzaxvz mvzp                      5\n",
       "xzohqtabxzt                      5\n",
       "ntwyvytva                        5\n",
       "qxkkrt                           5\n",
       "bgbouqtoog                       5\n",
       "Name: company_hash, Length: 3782, dtype: int64"
      ]
     },
     "execution_count": 173,
     "metadata": {},
     "output_type": "execute_result"
    }
   ],
   "source": [
    "df['company_hash'].value_counts()"
   ]
  },
  {
   "cell_type": "markdown",
   "id": "10b9385f-c90b-45fd-b6bb-94007a471464",
   "metadata": {},
   "source": [
    "### new feature: years_of_experience"
   ]
  },
  {
   "cell_type": "code",
   "execution_count": 175,
   "id": "464f8996-7f1e-4826-b548-9f81af55c8db",
   "metadata": {},
   "outputs": [],
   "source": [
    "df['years_of_experience']=2023-df['orgyear']"
   ]
  },
  {
   "cell_type": "code",
   "execution_count": 176,
   "id": "e8e95a9b-75de-412d-8069-f958c729b313",
   "metadata": {},
   "outputs": [
    {
     "data": {
      "text/plain": [
       "(166819, 6)"
      ]
     },
     "execution_count": 176,
     "metadata": {},
     "output_type": "execute_result"
    }
   ],
   "source": [
    "df.drop_duplicates(inplace=True)\n",
    "df.shape"
   ]
  },
  {
   "cell_type": "code",
   "execution_count": 177,
   "id": "0a49f93f-05af-42e3-a00a-e77d1b6fc9a4",
   "metadata": {},
   "outputs": [],
   "source": [
    "df=df[~df['years_of_experience'].isnull()]"
   ]
  },
  {
   "cell_type": "code",
   "execution_count": 178,
   "id": "32d97ffa-3836-4934-afba-26cb9c1d7d12",
   "metadata": {},
   "outputs": [
    {
     "data": {
      "text/plain": [
       "(166819, 6)"
      ]
     },
     "execution_count": 178,
     "metadata": {},
     "output_type": "execute_result"
    }
   ],
   "source": [
    "df.shape"
   ]
  },
  {
   "cell_type": "code",
   "execution_count": 181,
   "id": "21345330-c614-40ab-84a0-6bf95e887400",
   "metadata": {},
   "outputs": [
    {
     "data": {
      "text/plain": [
       "company_hash           0\n",
       "orgyear                0\n",
       "ctc                    0\n",
       "job_position           0\n",
       "ctc_updated_year       0\n",
       "years_of_experience    0\n",
       "dtype: int64"
      ]
     },
     "execution_count": 181,
     "metadata": {},
     "output_type": "execute_result"
    }
   ],
   "source": [
    "df.isnull().sum()"
   ]
  },
  {
   "cell_type": "code",
   "execution_count": 182,
   "id": "22417bec-cd09-4228-999c-5c89a84c34a7",
   "metadata": {},
   "outputs": [
    {
     "data": {
      "text/html": [
       "<div>\n",
       "<style scoped>\n",
       "    .dataframe tbody tr th:only-of-type {\n",
       "        vertical-align: middle;\n",
       "    }\n",
       "\n",
       "    .dataframe tbody tr th {\n",
       "        vertical-align: top;\n",
       "    }\n",
       "\n",
       "    .dataframe thead th {\n",
       "        text-align: right;\n",
       "    }\n",
       "</style>\n",
       "<table border=\"1\" class=\"dataframe\">\n",
       "  <thead>\n",
       "    <tr style=\"text-align: right;\">\n",
       "      <th></th>\n",
       "      <th>orgyear</th>\n",
       "      <th>ctc</th>\n",
       "      <th>ctc_updated_year</th>\n",
       "      <th>years_of_experience</th>\n",
       "    </tr>\n",
       "  </thead>\n",
       "  <tbody>\n",
       "    <tr>\n",
       "      <th>count</th>\n",
       "      <td>166819.000000</td>\n",
       "      <td>1.668190e+05</td>\n",
       "      <td>166819.000000</td>\n",
       "      <td>166819.000000</td>\n",
       "    </tr>\n",
       "    <tr>\n",
       "      <th>mean</th>\n",
       "      <td>2014.835858</td>\n",
       "      <td>1.514715e+06</td>\n",
       "      <td>2019.533476</td>\n",
       "      <td>8.164142</td>\n",
       "    </tr>\n",
       "    <tr>\n",
       "      <th>std</th>\n",
       "      <td>4.149867</td>\n",
       "      <td>1.685616e+06</td>\n",
       "      <td>1.375766</td>\n",
       "      <td>4.149867</td>\n",
       "    </tr>\n",
       "    <tr>\n",
       "      <th>min</th>\n",
       "      <td>2001.000000</td>\n",
       "      <td>3.800000e+04</td>\n",
       "      <td>2015.000000</td>\n",
       "      <td>2.000000</td>\n",
       "    </tr>\n",
       "    <tr>\n",
       "      <th>25%</th>\n",
       "      <td>2013.000000</td>\n",
       "      <td>6.000000e+05</td>\n",
       "      <td>2019.000000</td>\n",
       "      <td>5.000000</td>\n",
       "    </tr>\n",
       "    <tr>\n",
       "      <th>50%</th>\n",
       "      <td>2016.000000</td>\n",
       "      <td>1.030000e+06</td>\n",
       "      <td>2020.000000</td>\n",
       "      <td>7.000000</td>\n",
       "    </tr>\n",
       "    <tr>\n",
       "      <th>75%</th>\n",
       "      <td>2018.000000</td>\n",
       "      <td>1.800000e+06</td>\n",
       "      <td>2021.000000</td>\n",
       "      <td>10.000000</td>\n",
       "    </tr>\n",
       "    <tr>\n",
       "      <th>max</th>\n",
       "      <td>2021.000000</td>\n",
       "      <td>1.260000e+07</td>\n",
       "      <td>2021.000000</td>\n",
       "      <td>22.000000</td>\n",
       "    </tr>\n",
       "  </tbody>\n",
       "</table>\n",
       "</div>"
      ],
      "text/plain": [
       "             orgyear           ctc  ctc_updated_year  years_of_experience\n",
       "count  166819.000000  1.668190e+05     166819.000000        166819.000000\n",
       "mean     2014.835858  1.514715e+06       2019.533476             8.164142\n",
       "std         4.149867  1.685616e+06          1.375766             4.149867\n",
       "min      2001.000000  3.800000e+04       2015.000000             2.000000\n",
       "25%      2013.000000  6.000000e+05       2019.000000             5.000000\n",
       "50%      2016.000000  1.030000e+06       2020.000000             7.000000\n",
       "75%      2018.000000  1.800000e+06       2021.000000            10.000000\n",
       "max      2021.000000  1.260000e+07       2021.000000            22.000000"
      ]
     },
     "execution_count": 182,
     "metadata": {},
     "output_type": "execute_result"
    }
   ],
   "source": [
    "df.describe()"
   ]
  },
  {
   "cell_type": "code",
   "execution_count": 185,
   "id": "30985aeb-4430-49b5-8037-284dbccfb148",
   "metadata": {},
   "outputs": [
    {
     "data": {
      "text/plain": [
       "[<matplotlib.lines.Line2D at 0x7fee98521fa0>]"
      ]
     },
     "execution_count": 185,
     "metadata": {},
     "output_type": "execute_result"
    },
    {
     "data": {
      "image/png": "[encoded data removed]",
      "text/plain": [
       "<Figure size 432x288 with 1 Axes>"
      ]
     },
     "metadata": {
      "needs_background": "light"
     },
     "output_type": "display_data"
    }
   ],
   "source": [
    "plt.plot(df['ctc'], df['years_of_experience'], '.')"
   ]
  },
  {
   "cell_type": "markdown",
   "id": "cc0a2230-61b4-48f5-a0fd-9be5142c9ee7",
   "metadata": {},
   "source": [
    "---\n",
    "\n",
    "## Manual Clustering "
   ]
  },
  {
   "cell_type": "markdown",
   "id": "d6c84db9-9746-428b-bb59-84f89642945b",
   "metadata": {},
   "source": [
    "### 1. based on - company, job position and years of experience"
   ]
  },
  {
   "cell_type": "code",
   "execution_count": 187,
   "id": "ff7a0e06-5067-46e0-875a-eff35ddb716c",
   "metadata": {},
   "outputs": [
    {
     "data": {
      "text/html": [
       "<div>\n",
       "<style scoped>\n",
       "    .dataframe tbody tr th:only-of-type {\n",
       "        vertical-align: middle;\n",
       "    }\n",
       "\n",
       "    .dataframe tbody tr th {\n",
       "        vertical-align: top;\n",
       "    }\n",
       "\n",
       "    .dataframe thead th {\n",
       "        text-align: right;\n",
       "    }\n",
       "</style>\n",
       "<table border=\"1\" class=\"dataframe\">\n",
       "  <thead>\n",
       "    <tr style=\"text-align: right;\">\n",
       "      <th></th>\n",
       "      <th></th>\n",
       "      <th></th>\n",
       "      <th>count</th>\n",
       "      <th>mean</th>\n",
       "      <th>std</th>\n",
       "      <th>min</th>\n",
       "      <th>25%</th>\n",
       "      <th>50%</th>\n",
       "      <th>75%</th>\n",
       "      <th>max</th>\n",
       "    </tr>\n",
       "    <tr>\n",
       "      <th>years_of_experience</th>\n",
       "      <th>job_position</th>\n",
       "      <th>company_hash</th>\n",
       "      <th></th>\n",
       "      <th></th>\n",
       "      <th></th>\n",
       "      <th></th>\n",
       "      <th></th>\n",
       "      <th></th>\n",
       "      <th></th>\n",
       "      <th></th>\n",
       "    </tr>\n",
       "  </thead>\n",
       "  <tbody>\n",
       "    <tr>\n",
       "      <th rowspan=\"5\" valign=\"top\">2.0</th>\n",
       "      <th>857628</th>\n",
       "      <th>Others</th>\n",
       "      <td>1.0</td>\n",
       "      <td>4.500000e+05</td>\n",
       "      <td>NaN</td>\n",
       "      <td>450000.0</td>\n",
       "      <td>450000.0</td>\n",
       "      <td>450000.0</td>\n",
       "      <td>450000.0</td>\n",
       "      <td>450000.0</td>\n",
       "    </tr>\n",
       "    <tr>\n",
       "      <th>91</th>\n",
       "      <th>zgn vuurxwvmrt vwwghzn</th>\n",
       "      <td>1.0</td>\n",
       "      <td>5.000000e+05</td>\n",
       "      <td>NaN</td>\n",
       "      <td>500000.0</td>\n",
       "      <td>500000.0</td>\n",
       "      <td>500000.0</td>\n",
       "      <td>500000.0</td>\n",
       "      <td>500000.0</td>\n",
       "    </tr>\n",
       "    <tr>\n",
       "      <th>analyst programmer</th>\n",
       "      <th>Others</th>\n",
       "      <td>1.0</td>\n",
       "      <td>3.600000e+05</td>\n",
       "      <td>NaN</td>\n",
       "      <td>360000.0</td>\n",
       "      <td>360000.0</td>\n",
       "      <td>360000.0</td>\n",
       "      <td>360000.0</td>\n",
       "      <td>360000.0</td>\n",
       "    </tr>\n",
       "    <tr>\n",
       "      <th rowspan=\"2\" valign=\"top\">android engineer</th>\n",
       "      <th>Others</th>\n",
       "      <td>19.0</td>\n",
       "      <td>1.421579e+06</td>\n",
       "      <td>2.761065e+06</td>\n",
       "      <td>100000.0</td>\n",
       "      <td>440000.0</td>\n",
       "      <td>700000.0</td>\n",
       "      <td>1125000.0</td>\n",
       "      <td>12600000.0</td>\n",
       "    </tr>\n",
       "    <tr>\n",
       "      <th>bghznmrht ntwyzgrgsxto</th>\n",
       "      <td>1.0</td>\n",
       "      <td>3.500000e+05</td>\n",
       "      <td>NaN</td>\n",
       "      <td>350000.0</td>\n",
       "      <td>350000.0</td>\n",
       "      <td>350000.0</td>\n",
       "      <td>350000.0</td>\n",
       "      <td>350000.0</td>\n",
       "    </tr>\n",
       "    <tr>\n",
       "      <th>...</th>\n",
       "      <th>...</th>\n",
       "      <th>...</th>\n",
       "      <td>...</td>\n",
       "      <td>...</td>\n",
       "      <td>...</td>\n",
       "      <td>...</td>\n",
       "      <td>...</td>\n",
       "      <td>...</td>\n",
       "      <td>...</td>\n",
       "      <td>...</td>\n",
       "    </tr>\n",
       "    <tr>\n",
       "      <th rowspan=\"5\" valign=\"top\">22.0</th>\n",
       "      <th>technical consulting</th>\n",
       "      <th>ytfrtnn uvwpvqa tzntquqxot</th>\n",
       "      <td>1.0</td>\n",
       "      <td>2.500000e+06</td>\n",
       "      <td>NaN</td>\n",
       "      <td>2500000.0</td>\n",
       "      <td>2500000.0</td>\n",
       "      <td>2500000.0</td>\n",
       "      <td>2500000.0</td>\n",
       "      <td>2500000.0</td>\n",
       "    </tr>\n",
       "    <tr>\n",
       "      <th>technical program program</th>\n",
       "      <th>vwr axsxnvr</th>\n",
       "      <td>1.0</td>\n",
       "      <td>2.300000e+06</td>\n",
       "      <td>NaN</td>\n",
       "      <td>2300000.0</td>\n",
       "      <td>2300000.0</td>\n",
       "      <td>2300000.0</td>\n",
       "      <td>2300000.0</td>\n",
       "      <td>2300000.0</td>\n",
       "    </tr>\n",
       "    <tr>\n",
       "      <th>technology architect</th>\n",
       "      <th>vwwtznhqt</th>\n",
       "      <td>1.0</td>\n",
       "      <td>4.200000e+06</td>\n",
       "      <td>NaN</td>\n",
       "      <td>4200000.0</td>\n",
       "      <td>4200000.0</td>\n",
       "      <td>4200000.0</td>\n",
       "      <td>4200000.0</td>\n",
       "      <td>4200000.0</td>\n",
       "    </tr>\n",
       "    <tr>\n",
       "      <th>trainer</th>\n",
       "      <th>Others</th>\n",
       "      <td>1.0</td>\n",
       "      <td>4.000000e+05</td>\n",
       "      <td>NaN</td>\n",
       "      <td>400000.0</td>\n",
       "      <td>400000.0</td>\n",
       "      <td>400000.0</td>\n",
       "      <td>400000.0</td>\n",
       "      <td>400000.0</td>\n",
       "    </tr>\n",
       "    <tr>\n",
       "      <th>zomato</th>\n",
       "      <th>kgbvng</th>\n",
       "      <td>1.0</td>\n",
       "      <td>1.000000e+05</td>\n",
       "      <td>NaN</td>\n",
       "      <td>100000.0</td>\n",
       "      <td>100000.0</td>\n",
       "      <td>100000.0</td>\n",
       "      <td>100000.0</td>\n",
       "      <td>100000.0</td>\n",
       "    </tr>\n",
       "  </tbody>\n",
       "</table>\n",
       "<p>66543 rows × 8 columns</p>\n",
       "</div>"
      ],
      "text/plain": [
       "                                                                          count  \\\n",
       "years_of_experience job_position              company_hash                        \n",
       "2.0                 857628                    Others                        1.0   \n",
       "                    91                        zgn vuurxwvmrt vwwghzn        1.0   \n",
       "                    analyst programmer        Others                        1.0   \n",
       "                    android engineer          Others                       19.0   \n",
       "                                              bghznmrht ntwyzgrgsxto        1.0   \n",
       "...                                                                         ...   \n",
       "22.0                technical consulting      ytfrtnn uvwpvqa tzntquqxot    1.0   \n",
       "                    technical program program vwr axsxnvr                   1.0   \n",
       "                    technology architect      vwwtznhqt                     1.0   \n",
       "                    trainer                   Others                        1.0   \n",
       "                    zomato                    kgbvng                        1.0   \n",
       "\n",
       "                                                                                  mean  \\\n",
       "years_of_experience job_position              company_hash                               \n",
       "2.0                 857628                    Others                      4.500000e+05   \n",
       "                    91                        zgn vuurxwvmrt vwwghzn      5.000000e+05   \n",
       "                    analyst programmer        Others                      3.600000e+05   \n",
       "                    android engineer          Others                      1.421579e+06   \n",
       "                                              bghznmrht ntwyzgrgsxto      3.500000e+05   \n",
       "...                                                                                ...   \n",
       "22.0                technical consulting      ytfrtnn uvwpvqa tzntquqxot  2.500000e+06   \n",
       "                    technical program program vwr axsxnvr                 2.300000e+06   \n",
       "                    technology architect      vwwtznhqt                   4.200000e+06   \n",
       "                    trainer                   Others                      4.000000e+05   \n",
       "                    zomato                    kgbvng                      1.000000e+05   \n",
       "\n",
       "                                                                                   std  \\\n",
       "years_of_experience job_position              company_hash                               \n",
       "2.0                 857628                    Others                               NaN   \n",
       "                    91                        zgn vuurxwvmrt vwwghzn               NaN   \n",
       "                    analyst programmer        Others                               NaN   \n",
       "                    android engineer          Others                      2.761065e+06   \n",
       "                                              bghznmrht ntwyzgrgsxto               NaN   \n",
       "...                                                                                ...   \n",
       "22.0                technical consulting      ytfrtnn uvwpvqa tzntquqxot           NaN   \n",
       "                    technical program program vwr axsxnvr                          NaN   \n",
       "                    technology architect      vwwtznhqt                            NaN   \n",
       "                    trainer                   Others                               NaN   \n",
       "                    zomato                    kgbvng                               NaN   \n",
       "\n",
       "                                                                                min  \\\n",
       "years_of_experience job_position              company_hash                            \n",
       "2.0                 857628                    Others                       450000.0   \n",
       "                    91                        zgn vuurxwvmrt vwwghzn       500000.0   \n",
       "                    analyst programmer        Others                       360000.0   \n",
       "                    android engineer          Others                       100000.0   \n",
       "                                              bghznmrht ntwyzgrgsxto       350000.0   \n",
       "...                                                                             ...   \n",
       "22.0                technical consulting      ytfrtnn uvwpvqa tzntquqxot  2500000.0   \n",
       "                    technical program program vwr axsxnvr                 2300000.0   \n",
       "                    technology architect      vwwtznhqt                   4200000.0   \n",
       "                    trainer                   Others                       400000.0   \n",
       "                    zomato                    kgbvng                       100000.0   \n",
       "\n",
       "                                                                                25%  \\\n",
       "years_of_experience job_position              company_hash                            \n",
       "2.0                 857628                    Others                       450000.0   \n",
       "                    91                        zgn vuurxwvmrt vwwghzn       500000.0   \n",
       "                    analyst programmer        Others                       360000.0   \n",
       "                    android engineer          Others                       440000.0   \n",
       "                                              bghznmrht ntwyzgrgsxto       350000.0   \n",
       "...                                                                             ...   \n",
       "22.0                technical consulting      ytfrtnn uvwpvqa tzntquqxot  2500000.0   \n",
       "                    technical program program vwr axsxnvr                 2300000.0   \n",
       "                    technology architect      vwwtznhqt                   4200000.0   \n",
       "                    trainer                   Others                       400000.0   \n",
       "                    zomato                    kgbvng                       100000.0   \n",
       "\n",
       "                                                                                50%  \\\n",
       "years_of_experience job_position              company_hash                            \n",
       "2.0                 857628                    Others                       450000.0   \n",
       "                    91                        zgn vuurxwvmrt vwwghzn       500000.0   \n",
       "                    analyst programmer        Others                       360000.0   \n",
       "                    android engineer          Others                       700000.0   \n",
       "                                              bghznmrht ntwyzgrgsxto       350000.0   \n",
       "...                                                                             ...   \n",
       "22.0                technical consulting      ytfrtnn uvwpvqa tzntquqxot  2500000.0   \n",
       "                    technical program program vwr axsxnvr                 2300000.0   \n",
       "                    technology architect      vwwtznhqt                   4200000.0   \n",
       "                    trainer                   Others                       400000.0   \n",
       "                    zomato                    kgbvng                       100000.0   \n",
       "\n",
       "                                                                                75%  \\\n",
       "years_of_experience job_position              company_hash                            \n",
       "2.0                 857628                    Others                       450000.0   \n",
       "                    91                        zgn vuurxwvmrt vwwghzn       500000.0   \n",
       "                    analyst programmer        Others                       360000.0   \n",
       "                    android engineer          Others                      1125000.0   \n",
       "                                              bghznmrht ntwyzgrgsxto       350000.0   \n",
       "...                                                                             ...   \n",
       "22.0                technical consulting      ytfrtnn uvwpvqa tzntquqxot  2500000.0   \n",
       "                    technical program program vwr axsxnvr                 2300000.0   \n",
       "                    technology architect      vwwtznhqt                   4200000.0   \n",
       "                    trainer                   Others                       400000.0   \n",
       "                    zomato                    kgbvng                       100000.0   \n",
       "\n",
       "                                                                                 max  \n",
       "years_of_experience job_position              company_hash                            \n",
       "2.0                 857628                    Others                        450000.0  \n",
       "                    91                        zgn vuurxwvmrt vwwghzn        500000.0  \n",
       "                    analyst programmer        Others                        360000.0  \n",
       "                    android engineer          Others                      12600000.0  \n",
       "                                              bghznmrht ntwyzgrgsxto        350000.0  \n",
       "...                                                                              ...  \n",
       "22.0                technical consulting      ytfrtnn uvwpvqa tzntquqxot   2500000.0  \n",
       "                    technical program program vwr axsxnvr                  2300000.0  \n",
       "                    technology architect      vwwtznhqt                    4200000.0  \n",
       "                    trainer                   Others                        400000.0  \n",
       "                    zomato                    kgbvng                        100000.0  \n",
       "\n",
       "[66543 rows x 8 columns]"
      ]
     },
     "execution_count": 187,
     "metadata": {},
     "output_type": "execute_result"
    }
   ],
   "source": [
    "company_job_yoe_gpd = df.groupby(['years_of_experience','job_position','company_hash'])['ctc'].describe()\n",
    "company_job_yoe_gpd\n"
   ]
  },
  {
   "cell_type": "code",
   "execution_count": 188,
   "id": "ac74277b-0c71-4777-9a07-80f8575e12e9",
   "metadata": {},
   "outputs": [
    {
     "data": {
      "text/html": [
       "<div>\n",
       "<style scoped>\n",
       "    .dataframe tbody tr th:only-of-type {\n",
       "        vertical-align: middle;\n",
       "    }\n",
       "\n",
       "    .dataframe tbody tr th {\n",
       "        vertical-align: top;\n",
       "    }\n",
       "\n",
       "    .dataframe thead th {\n",
       "        text-align: right;\n",
       "    }\n",
       "</style>\n",
       "<table border=\"1\" class=\"dataframe\">\n",
       "  <thead>\n",
       "    <tr style=\"text-align: right;\">\n",
       "      <th></th>\n",
       "      <th>company_hash</th>\n",
       "      <th>orgyear</th>\n",
       "      <th>ctc</th>\n",
       "      <th>job_position</th>\n",
       "      <th>ctc_updated_year</th>\n",
       "      <th>years_of_experience</th>\n",
       "      <th>count</th>\n",
       "      <th>mean</th>\n",
       "      <th>std</th>\n",
       "      <th>min</th>\n",
       "      <th>25%</th>\n",
       "      <th>50%</th>\n",
       "      <th>75%</th>\n",
       "      <th>max</th>\n",
       "    </tr>\n",
       "  </thead>\n",
       "  <tbody>\n",
       "    <tr>\n",
       "      <th>0</th>\n",
       "      <td>atrgxnnt xzaxv</td>\n",
       "      <td>2016.0</td>\n",
       "      <td>1100000</td>\n",
       "      <td>other</td>\n",
       "      <td>2020.0</td>\n",
       "      <td>7.0</td>\n",
       "      <td>1.0</td>\n",
       "      <td>1.100000e+06</td>\n",
       "      <td>NaN</td>\n",
       "      <td>1100000.0</td>\n",
       "      <td>1100000.0</td>\n",
       "      <td>1100000.0</td>\n",
       "      <td>1100000.0</td>\n",
       "      <td>1100000.0</td>\n",
       "    </tr>\n",
       "    <tr>\n",
       "      <th>1</th>\n",
       "      <td>qtrxvzwt xzegwgbb rxbxnta</td>\n",
       "      <td>2018.0</td>\n",
       "      <td>449999</td>\n",
       "      <td>fullstack engineer</td>\n",
       "      <td>2019.0</td>\n",
       "      <td>5.0</td>\n",
       "      <td>7.0</td>\n",
       "      <td>7.742856e+05</td>\n",
       "      <td>2.509223e+05</td>\n",
       "      <td>449999.0</td>\n",
       "      <td>610000.0</td>\n",
       "      <td>750000.0</td>\n",
       "      <td>900000.0</td>\n",
       "      <td>1200000.0</td>\n",
       "    </tr>\n",
       "    <tr>\n",
       "      <th>2</th>\n",
       "      <td>Others</td>\n",
       "      <td>2015.0</td>\n",
       "      <td>2000000</td>\n",
       "      <td>backend engineer</td>\n",
       "      <td>2020.0</td>\n",
       "      <td>8.0</td>\n",
       "      <td>445.0</td>\n",
       "      <td>1.359734e+06</td>\n",
       "      <td>1.765297e+06</td>\n",
       "      <td>38000.0</td>\n",
       "      <td>380000.0</td>\n",
       "      <td>900000.0</td>\n",
       "      <td>1639999.0</td>\n",
       "      <td>12600000.0</td>\n",
       "    </tr>\n",
       "    <tr>\n",
       "      <th>3</th>\n",
       "      <td>ngpgutaxv</td>\n",
       "      <td>2017.0</td>\n",
       "      <td>700000</td>\n",
       "      <td>backend engineer</td>\n",
       "      <td>2019.0</td>\n",
       "      <td>6.0</td>\n",
       "      <td>7.0</td>\n",
       "      <td>1.158571e+06</td>\n",
       "      <td>4.047810e+05</td>\n",
       "      <td>700000.0</td>\n",
       "      <td>825000.0</td>\n",
       "      <td>1200000.0</td>\n",
       "      <td>1405000.0</td>\n",
       "      <td>1750000.0</td>\n",
       "    </tr>\n",
       "    <tr>\n",
       "      <th>4</th>\n",
       "      <td>qxen sqghu</td>\n",
       "      <td>2017.0</td>\n",
       "      <td>1400000</td>\n",
       "      <td>fullstack engineer</td>\n",
       "      <td>2019.0</td>\n",
       "      <td>6.0</td>\n",
       "      <td>1.0</td>\n",
       "      <td>1.400000e+06</td>\n",
       "      <td>NaN</td>\n",
       "      <td>1400000.0</td>\n",
       "      <td>1400000.0</td>\n",
       "      <td>1400000.0</td>\n",
       "      <td>1400000.0</td>\n",
       "      <td>1400000.0</td>\n",
       "    </tr>\n",
       "    <tr>\n",
       "      <th>...</th>\n",
       "      <td>...</td>\n",
       "      <td>...</td>\n",
       "      <td>...</td>\n",
       "      <td>...</td>\n",
       "      <td>...</td>\n",
       "      <td>...</td>\n",
       "      <td>...</td>\n",
       "      <td>...</td>\n",
       "      <td>...</td>\n",
       "      <td>...</td>\n",
       "      <td>...</td>\n",
       "      <td>...</td>\n",
       "      <td>...</td>\n",
       "      <td>...</td>\n",
       "    </tr>\n",
       "    <tr>\n",
       "      <th>166814</th>\n",
       "      <td>vuurt xzw</td>\n",
       "      <td>2008.0</td>\n",
       "      <td>220000</td>\n",
       "      <td>nan</td>\n",
       "      <td>2019.0</td>\n",
       "      <td>15.0</td>\n",
       "      <td>1.0</td>\n",
       "      <td>2.200000e+05</td>\n",
       "      <td>NaN</td>\n",
       "      <td>220000.0</td>\n",
       "      <td>220000.0</td>\n",
       "      <td>220000.0</td>\n",
       "      <td>220000.0</td>\n",
       "      <td>220000.0</td>\n",
       "    </tr>\n",
       "    <tr>\n",
       "      <th>166815</th>\n",
       "      <td>husqvawgb</td>\n",
       "      <td>2017.0</td>\n",
       "      <td>500000</td>\n",
       "      <td>nan</td>\n",
       "      <td>2020.0</td>\n",
       "      <td>6.0</td>\n",
       "      <td>4.0</td>\n",
       "      <td>1.202500e+06</td>\n",
       "      <td>4.719022e+05</td>\n",
       "      <td>500000.0</td>\n",
       "      <td>1145000.0</td>\n",
       "      <td>1405000.0</td>\n",
       "      <td>1462500.0</td>\n",
       "      <td>1500000.0</td>\n",
       "    </tr>\n",
       "    <tr>\n",
       "      <th>166816</th>\n",
       "      <td>vwwgrxnt</td>\n",
       "      <td>2021.0</td>\n",
       "      <td>700000</td>\n",
       "      <td>nan</td>\n",
       "      <td>2021.0</td>\n",
       "      <td>2.0</td>\n",
       "      <td>3.0</td>\n",
       "      <td>6.666667e+05</td>\n",
       "      <td>3.511885e+05</td>\n",
       "      <td>300000.0</td>\n",
       "      <td>500000.0</td>\n",
       "      <td>700000.0</td>\n",
       "      <td>850000.0</td>\n",
       "      <td>1000000.0</td>\n",
       "    </tr>\n",
       "    <tr>\n",
       "      <th>166817</th>\n",
       "      <td>zgn vuurxwvmrt</td>\n",
       "      <td>2019.0</td>\n",
       "      <td>5100000</td>\n",
       "      <td>nan</td>\n",
       "      <td>2019.0</td>\n",
       "      <td>4.0</td>\n",
       "      <td>124.0</td>\n",
       "      <td>1.750756e+06</td>\n",
       "      <td>2.605077e+06</td>\n",
       "      <td>38000.0</td>\n",
       "      <td>400000.0</td>\n",
       "      <td>745000.0</td>\n",
       "      <td>1800000.0</td>\n",
       "      <td>12600000.0</td>\n",
       "    </tr>\n",
       "    <tr>\n",
       "      <th>166818</th>\n",
       "      <td>bgqsvz onvzrtj</td>\n",
       "      <td>2014.0</td>\n",
       "      <td>1240000</td>\n",
       "      <td>nan</td>\n",
       "      <td>2016.0</td>\n",
       "      <td>9.0</td>\n",
       "      <td>9.0</td>\n",
       "      <td>1.693333e+06</td>\n",
       "      <td>3.484250e+05</td>\n",
       "      <td>1200000.0</td>\n",
       "      <td>1500000.0</td>\n",
       "      <td>1700000.0</td>\n",
       "      <td>1900000.0</td>\n",
       "      <td>2200000.0</td>\n",
       "    </tr>\n",
       "  </tbody>\n",
       "</table>\n",
       "<p>166819 rows × 14 columns</p>\n",
       "</div>"
      ],
      "text/plain": [
       "                     company_hash  orgyear      ctc        job_position  \\\n",
       "0                  atrgxnnt xzaxv   2016.0  1100000               other   \n",
       "1       qtrxvzwt xzegwgbb rxbxnta   2018.0   449999  fullstack engineer   \n",
       "2                          Others   2015.0  2000000    backend engineer   \n",
       "3                       ngpgutaxv   2017.0   700000    backend engineer   \n",
       "4                      qxen sqghu   2017.0  1400000  fullstack engineer   \n",
       "...                           ...      ...      ...                 ...   \n",
       "166814                  vuurt xzw   2008.0   220000                 nan   \n",
       "166815                  husqvawgb   2017.0   500000                 nan   \n",
       "166816                   vwwgrxnt   2021.0   700000                 nan   \n",
       "166817             zgn vuurxwvmrt   2019.0  5100000                 nan   \n",
       "166818             bgqsvz onvzrtj   2014.0  1240000                 nan   \n",
       "\n",
       "        ctc_updated_year  years_of_experience  count          mean  \\\n",
       "0                 2020.0                  7.0    1.0  1.100000e+06   \n",
       "1                 2019.0                  5.0    7.0  7.742856e+05   \n",
       "2                 2020.0                  8.0  445.0  1.359734e+06   \n",
       "3                 2019.0                  6.0    7.0  1.158571e+06   \n",
       "4                 2019.0                  6.0    1.0  1.400000e+06   \n",
       "...                  ...                  ...    ...           ...   \n",
       "166814            2019.0                 15.0    1.0  2.200000e+05   \n",
       "166815            2020.0                  6.0    4.0  1.202500e+06   \n",
       "166816            2021.0                  2.0    3.0  6.666667e+05   \n",
       "166817            2019.0                  4.0  124.0  1.750756e+06   \n",
       "166818            2016.0                  9.0    9.0  1.693333e+06   \n",
       "\n",
       "                 std        min        25%        50%        75%         max  \n",
       "0                NaN  1100000.0  1100000.0  1100000.0  1100000.0   1100000.0  \n",
       "1       2.509223e+05   449999.0   610000.0   750000.0   900000.0   1200000.0  \n",
       "2       1.765297e+06    38000.0   380000.0   900000.0  1639999.0  12600000.0  \n",
       "3       4.047810e+05   700000.0   825000.0  1200000.0  1405000.0   1750000.0  \n",
       "4                NaN  1400000.0  1400000.0  1400000.0  1400000.0   1400000.0  \n",
       "...              ...        ...        ...        ...        ...         ...  \n",
       "166814           NaN   220000.0   220000.0   220000.0   220000.0    220000.0  \n",
       "166815  4.719022e+05   500000.0  1145000.0  1405000.0  1462500.0   1500000.0  \n",
       "166816  3.511885e+05   300000.0   500000.0   700000.0   850000.0   1000000.0  \n",
       "166817  2.605077e+06    38000.0   400000.0   745000.0  1800000.0  12600000.0  \n",
       "166818  3.484250e+05  1200000.0  1500000.0  1700000.0  1900000.0   2200000.0  \n",
       "\n",
       "[166819 rows x 14 columns]"
      ]
     },
     "execution_count": 188,
     "metadata": {},
     "output_type": "execute_result"
    }
   ],
   "source": [
    "df_company_job_yoe=df.merge(company_job_yoe_gpd, on=['years_of_experience','job_position','company_hash'], how='left')\n",
    "df_company_job_yoe\n"
   ]
  },
  {
   "cell_type": "markdown",
   "id": "16e48a3b-9dda-4f6a-b42f-5a4a0b4f355c",
   "metadata": {},
   "source": [
    "### Creating Designation basis on the ctc they are getting in their respective company"
   ]
  },
  {
   "cell_type": "code",
   "execution_count": 189,
   "id": "f79b3aa2-3b4e-4564-a5fd-6dc46b512b4a",
   "metadata": {},
   "outputs": [],
   "source": [
    "def create_segment(x,x_50,x_75):\n",
    "    if x<x_50:\n",
    "        return 3\n",
    "    elif x>=x_50 and x<=x_75:\n",
    "        return 2\n",
    "    \n",
    "    elif x>=x_75:\n",
    "        return 1"
   ]
  },
  {
   "cell_type": "code",
   "execution_count": 193,
   "id": "87d933cb-132a-4d2e-8ba1-a522c5d6d23d",
   "metadata": {},
   "outputs": [],
   "source": [
    "df_company_job_yoe['designation'] =df_company_job_yoe.apply(lambda x: create_segment(x['ctc'],x['50%'],x['75%']),axis=1)\n"
   ]
  },
  {
   "cell_type": "code",
   "execution_count": 194,
   "id": "1e9cd1a2-684a-4e3f-a4fd-130ef6f90c58",
   "metadata": {},
   "outputs": [
    {
     "data": {
      "text/html": [
       "<div>\n",
       "<style scoped>\n",
       "    .dataframe tbody tr th:only-of-type {\n",
       "        vertical-align: middle;\n",
       "    }\n",
       "\n",
       "    .dataframe tbody tr th {\n",
       "        vertical-align: top;\n",
       "    }\n",
       "\n",
       "    .dataframe thead th {\n",
       "        text-align: right;\n",
       "    }\n",
       "</style>\n",
       "<table border=\"1\" class=\"dataframe\">\n",
       "  <thead>\n",
       "    <tr style=\"text-align: right;\">\n",
       "      <th></th>\n",
       "      <th>company_hash</th>\n",
       "      <th>orgyear</th>\n",
       "      <th>ctc</th>\n",
       "      <th>job_position</th>\n",
       "      <th>ctc_updated_year</th>\n",
       "      <th>years_of_experience</th>\n",
       "      <th>count</th>\n",
       "      <th>mean</th>\n",
       "      <th>std</th>\n",
       "      <th>min</th>\n",
       "      <th>25%</th>\n",
       "      <th>50%</th>\n",
       "      <th>75%</th>\n",
       "      <th>max</th>\n",
       "      <th>designation</th>\n",
       "    </tr>\n",
       "  </thead>\n",
       "  <tbody>\n",
       "    <tr>\n",
       "      <th>0</th>\n",
       "      <td>atrgxnnt xzaxv</td>\n",
       "      <td>2016.0</td>\n",
       "      <td>1100000</td>\n",
       "      <td>other</td>\n",
       "      <td>2020.0</td>\n",
       "      <td>7.0</td>\n",
       "      <td>1.0</td>\n",
       "      <td>1.100000e+06</td>\n",
       "      <td>NaN</td>\n",
       "      <td>1100000.0</td>\n",
       "      <td>1100000.0</td>\n",
       "      <td>1100000.0</td>\n",
       "      <td>1100000.0</td>\n",
       "      <td>1100000.0</td>\n",
       "      <td>2</td>\n",
       "    </tr>\n",
       "    <tr>\n",
       "      <th>1</th>\n",
       "      <td>qtrxvzwt xzegwgbb rxbxnta</td>\n",
       "      <td>2018.0</td>\n",
       "      <td>449999</td>\n",
       "      <td>fullstack engineer</td>\n",
       "      <td>2019.0</td>\n",
       "      <td>5.0</td>\n",
       "      <td>7.0</td>\n",
       "      <td>7.742856e+05</td>\n",
       "      <td>2.509223e+05</td>\n",
       "      <td>449999.0</td>\n",
       "      <td>610000.0</td>\n",
       "      <td>750000.0</td>\n",
       "      <td>900000.0</td>\n",
       "      <td>1200000.0</td>\n",
       "      <td>3</td>\n",
       "    </tr>\n",
       "    <tr>\n",
       "      <th>2</th>\n",
       "      <td>Others</td>\n",
       "      <td>2015.0</td>\n",
       "      <td>2000000</td>\n",
       "      <td>backend engineer</td>\n",
       "      <td>2020.0</td>\n",
       "      <td>8.0</td>\n",
       "      <td>445.0</td>\n",
       "      <td>1.359734e+06</td>\n",
       "      <td>1.765297e+06</td>\n",
       "      <td>38000.0</td>\n",
       "      <td>380000.0</td>\n",
       "      <td>900000.0</td>\n",
       "      <td>1639999.0</td>\n",
       "      <td>12600000.0</td>\n",
       "      <td>1</td>\n",
       "    </tr>\n",
       "    <tr>\n",
       "      <th>3</th>\n",
       "      <td>ngpgutaxv</td>\n",
       "      <td>2017.0</td>\n",
       "      <td>700000</td>\n",
       "      <td>backend engineer</td>\n",
       "      <td>2019.0</td>\n",
       "      <td>6.0</td>\n",
       "      <td>7.0</td>\n",
       "      <td>1.158571e+06</td>\n",
       "      <td>4.047810e+05</td>\n",
       "      <td>700000.0</td>\n",
       "      <td>825000.0</td>\n",
       "      <td>1200000.0</td>\n",
       "      <td>1405000.0</td>\n",
       "      <td>1750000.0</td>\n",
       "      <td>3</td>\n",
       "    </tr>\n",
       "    <tr>\n",
       "      <th>4</th>\n",
       "      <td>qxen sqghu</td>\n",
       "      <td>2017.0</td>\n",
       "      <td>1400000</td>\n",
       "      <td>fullstack engineer</td>\n",
       "      <td>2019.0</td>\n",
       "      <td>6.0</td>\n",
       "      <td>1.0</td>\n",
       "      <td>1.400000e+06</td>\n",
       "      <td>NaN</td>\n",
       "      <td>1400000.0</td>\n",
       "      <td>1400000.0</td>\n",
       "      <td>1400000.0</td>\n",
       "      <td>1400000.0</td>\n",
       "      <td>1400000.0</td>\n",
       "      <td>2</td>\n",
       "    </tr>\n",
       "  </tbody>\n",
       "</table>\n",
       "</div>"
      ],
      "text/plain": [
       "                company_hash  orgyear      ctc        job_position  \\\n",
       "0             atrgxnnt xzaxv   2016.0  1100000               other   \n",
       "1  qtrxvzwt xzegwgbb rxbxnta   2018.0   449999  fullstack engineer   \n",
       "2                     Others   2015.0  2000000    backend engineer   \n",
       "3                  ngpgutaxv   2017.0   700000    backend engineer   \n",
       "4                 qxen sqghu   2017.0  1400000  fullstack engineer   \n",
       "\n",
       "   ctc_updated_year  years_of_experience  count          mean           std  \\\n",
       "0            2020.0                  7.0    1.0  1.100000e+06           NaN   \n",
       "1            2019.0                  5.0    7.0  7.742856e+05  2.509223e+05   \n",
       "2            2020.0                  8.0  445.0  1.359734e+06  1.765297e+06   \n",
       "3            2019.0                  6.0    7.0  1.158571e+06  4.047810e+05   \n",
       "4            2019.0                  6.0    1.0  1.400000e+06           NaN   \n",
       "\n",
       "         min        25%        50%        75%         max  designation  \n",
       "0  1100000.0  1100000.0  1100000.0  1100000.0   1100000.0            2  \n",
       "1   449999.0   610000.0   750000.0   900000.0   1200000.0            3  \n",
       "2    38000.0   380000.0   900000.0  1639999.0  12600000.0            1  \n",
       "3   700000.0   825000.0  1200000.0  1405000.0   1750000.0            3  \n",
       "4  1400000.0  1400000.0  1400000.0  1400000.0   1400000.0            2  "
      ]
     },
     "execution_count": 194,
     "metadata": {},
     "output_type": "execute_result"
    }
   ],
   "source": [
    "df_company_job_yoe.head(5)"
   ]
  },
  {
   "cell_type": "code",
   "execution_count": 196,
   "id": "10015684-d6cd-4ed3-b431-1687ba471ed7",
   "metadata": {},
   "outputs": [
    {
     "data": {
      "text/plain": [
       "2    0.452652\n",
       "3    0.334111\n",
       "1    0.213237\n",
       "Name: designation, dtype: float64"
      ]
     },
     "execution_count": 196,
     "metadata": {},
     "output_type": "execute_result"
    }
   ],
   "source": [
    "df_company_job_yoe['designation'].value_counts(normalize=True)"
   ]
  },
  {
   "cell_type": "code",
   "execution_count": 205,
   "id": "200fdebf-d9c9-4bc6-89b2-ee59c8cbcd96",
   "metadata": {},
   "outputs": [
    {
     "data": {
      "text/html": [
       "<div>\n",
       "<style scoped>\n",
       "    .dataframe tbody tr th:only-of-type {\n",
       "        vertical-align: middle;\n",
       "    }\n",
       "\n",
       "    .dataframe tbody tr th {\n",
       "        vertical-align: top;\n",
       "    }\n",
       "\n",
       "    .dataframe thead tr th {\n",
       "        text-align: left;\n",
       "    }\n",
       "</style>\n",
       "<table border=\"1\" class=\"dataframe\">\n",
       "  <thead>\n",
       "    <tr>\n",
       "      <th></th>\n",
       "      <th colspan=\"8\" halign=\"left\">ctc</th>\n",
       "      <th colspan=\"8\" halign=\"left\">years_of_experience</th>\n",
       "    </tr>\n",
       "    <tr>\n",
       "      <th></th>\n",
       "      <th>count</th>\n",
       "      <th>mean</th>\n",
       "      <th>std</th>\n",
       "      <th>min</th>\n",
       "      <th>25%</th>\n",
       "      <th>50%</th>\n",
       "      <th>75%</th>\n",
       "      <th>max</th>\n",
       "      <th>count</th>\n",
       "      <th>mean</th>\n",
       "      <th>std</th>\n",
       "      <th>min</th>\n",
       "      <th>25%</th>\n",
       "      <th>50%</th>\n",
       "      <th>75%</th>\n",
       "      <th>max</th>\n",
       "    </tr>\n",
       "  </thead>\n",
       "  <tbody>\n",
       "    <tr>\n",
       "      <th>0</th>\n",
       "      <td>35572.0</td>\n",
       "      <td>2.612364e+06</td>\n",
       "      <td>2.476233e+06</td>\n",
       "      <td>41000.0</td>\n",
       "      <td>1190000.0</td>\n",
       "      <td>1830000.0</td>\n",
       "      <td>3000000.0</td>\n",
       "      <td>12600000.0</td>\n",
       "      <td>35572.0</td>\n",
       "      <td>7.874396</td>\n",
       "      <td>3.933626</td>\n",
       "      <td>2.0</td>\n",
       "      <td>5.0</td>\n",
       "      <td>7.0</td>\n",
       "      <td>10.0</td>\n",
       "      <td>22.0</td>\n",
       "    </tr>\n",
       "    <tr>\n",
       "      <th>1</th>\n",
       "      <td>75511.0</td>\n",
       "      <td>1.519230e+06</td>\n",
       "      <td>1.452979e+06</td>\n",
       "      <td>38000.0</td>\n",
       "      <td>700000.0</td>\n",
       "      <td>1150000.0</td>\n",
       "      <td>1839999.0</td>\n",
       "      <td>12600000.0</td>\n",
       "      <td>75511.0</td>\n",
       "      <td>8.575307</td>\n",
       "      <td>4.390693</td>\n",
       "      <td>2.0</td>\n",
       "      <td>5.0</td>\n",
       "      <td>8.0</td>\n",
       "      <td>11.0</td>\n",
       "      <td>22.0</td>\n",
       "    </tr>\n",
       "    <tr>\n",
       "      <th>2</th>\n",
       "      <td>55736.0</td>\n",
       "      <td>8.080536e+05</td>\n",
       "      <td>6.798828e+05</td>\n",
       "      <td>38000.0</td>\n",
       "      <td>374750.0</td>\n",
       "      <td>600000.0</td>\n",
       "      <td>1050000.0</td>\n",
       "      <td>11200000.0</td>\n",
       "      <td>55736.0</td>\n",
       "      <td>7.792020</td>\n",
       "      <td>3.889727</td>\n",
       "      <td>2.0</td>\n",
       "      <td>5.0</td>\n",
       "      <td>7.0</td>\n",
       "      <td>10.0</td>\n",
       "      <td>22.0</td>\n",
       "    </tr>\n",
       "  </tbody>\n",
       "</table>\n",
       "</div>"
      ],
      "text/plain": [
       "       ctc                                                             \\\n",
       "     count          mean           std      min        25%        50%   \n",
       "0  35572.0  2.612364e+06  2.476233e+06  41000.0  1190000.0  1830000.0   \n",
       "1  75511.0  1.519230e+06  1.452979e+06  38000.0   700000.0  1150000.0   \n",
       "2  55736.0  8.080536e+05  6.798828e+05  38000.0   374750.0   600000.0   \n",
       "\n",
       "                         years_of_experience                                \\\n",
       "         75%         max               count      mean       std  min  25%   \n",
       "0  3000000.0  12600000.0             35572.0  7.874396  3.933626  2.0  5.0   \n",
       "1  1839999.0  12600000.0             75511.0  8.575307  4.390693  2.0  5.0   \n",
       "2  1050000.0  11200000.0             55736.0  7.792020  3.889727  2.0  5.0   \n",
       "\n",
       "                    \n",
       "   50%   75%   max  \n",
       "0  7.0  10.0  22.0  \n",
       "1  8.0  11.0  22.0  \n",
       "2  7.0  10.0  22.0  "
      ]
     },
     "execution_count": 205,
     "metadata": {},
     "output_type": "execute_result"
    }
   ],
   "source": [
    "df_company_job_yoe.groupby('designation',as_index=False)['ctc','years_of_experience'].describe()"
   ]
  },
  {
   "cell_type": "markdown",
   "id": "27aeb91f-fd3f-4530-8308-496a159935e8",
   "metadata": {},
   "source": [
    "### 2. based on - company &  job position "
   ]
  },
  {
   "cell_type": "code",
   "execution_count": 206,
   "id": "3d976f3d-8d78-4128-be3c-7c22fac13c1f",
   "metadata": {},
   "outputs": [
    {
     "data": {
      "text/html": [
       "<div>\n",
       "<style scoped>\n",
       "    .dataframe tbody tr th:only-of-type {\n",
       "        vertical-align: middle;\n",
       "    }\n",
       "\n",
       "    .dataframe tbody tr th {\n",
       "        vertical-align: top;\n",
       "    }\n",
       "\n",
       "    .dataframe thead th {\n",
       "        text-align: right;\n",
       "    }\n",
       "</style>\n",
       "<table border=\"1\" class=\"dataframe\">\n",
       "  <thead>\n",
       "    <tr style=\"text-align: right;\">\n",
       "      <th></th>\n",
       "      <th></th>\n",
       "      <th>count</th>\n",
       "      <th>mean</th>\n",
       "      <th>std</th>\n",
       "      <th>min</th>\n",
       "      <th>25%</th>\n",
       "      <th>50%</th>\n",
       "      <th>75%</th>\n",
       "      <th>max</th>\n",
       "    </tr>\n",
       "    <tr>\n",
       "      <th>job_position</th>\n",
       "      <th>company_hash</th>\n",
       "      <th></th>\n",
       "      <th></th>\n",
       "      <th></th>\n",
       "      <th></th>\n",
       "      <th></th>\n",
       "      <th></th>\n",
       "      <th></th>\n",
       "      <th></th>\n",
       "    </tr>\n",
       "  </thead>\n",
       "  <tbody>\n",
       "    <tr>\n",
       "      <th>.</th>\n",
       "      <th>Others</th>\n",
       "      <td>1.0</td>\n",
       "      <td>700000.0</td>\n",
       "      <td>NaN</td>\n",
       "      <td>700000.0</td>\n",
       "      <td>700000.0</td>\n",
       "      <td>700000.0</td>\n",
       "      <td>700000.0</td>\n",
       "      <td>700000.0</td>\n",
       "    </tr>\n",
       "    <tr>\n",
       "      <th>..</th>\n",
       "      <th>otre tburgjta</th>\n",
       "      <td>1.0</td>\n",
       "      <td>600000.0</td>\n",
       "      <td>NaN</td>\n",
       "      <td>600000.0</td>\n",
       "      <td>600000.0</td>\n",
       "      <td>600000.0</td>\n",
       "      <td>600000.0</td>\n",
       "      <td>600000.0</td>\n",
       "    </tr>\n",
       "    <tr>\n",
       "      <th>.7</th>\n",
       "      <th>wgszxkvzn</th>\n",
       "      <td>1.0</td>\n",
       "      <td>470000.0</td>\n",
       "      <td>NaN</td>\n",
       "      <td>470000.0</td>\n",
       "      <td>470000.0</td>\n",
       "      <td>470000.0</td>\n",
       "      <td>470000.0</td>\n",
       "      <td>470000.0</td>\n",
       "    </tr>\n",
       "    <tr>\n",
       "      <th>7</th>\n",
       "      <th>Others</th>\n",
       "      <td>1.0</td>\n",
       "      <td>420000.0</td>\n",
       "      <td>NaN</td>\n",
       "      <td>420000.0</td>\n",
       "      <td>420000.0</td>\n",
       "      <td>420000.0</td>\n",
       "      <td>420000.0</td>\n",
       "      <td>420000.0</td>\n",
       "    </tr>\n",
       "    <tr>\n",
       "      <th>7033771951</th>\n",
       "      <th>yaew mvzp</th>\n",
       "      <td>1.0</td>\n",
       "      <td>12600000.0</td>\n",
       "      <td>NaN</td>\n",
       "      <td>12600000.0</td>\n",
       "      <td>12600000.0</td>\n",
       "      <td>12600000.0</td>\n",
       "      <td>12600000.0</td>\n",
       "      <td>12600000.0</td>\n",
       "    </tr>\n",
       "    <tr>\n",
       "      <th>...</th>\n",
       "      <th>...</th>\n",
       "      <td>...</td>\n",
       "      <td>...</td>\n",
       "      <td>...</td>\n",
       "      <td>...</td>\n",
       "      <td>...</td>\n",
       "      <td>...</td>\n",
       "      <td>...</td>\n",
       "      <td>...</td>\n",
       "    </tr>\n",
       "    <tr>\n",
       "      <th>wordpress developer</th>\n",
       "      <th>Others</th>\n",
       "      <td>1.0</td>\n",
       "      <td>600000.0</td>\n",
       "      <td>NaN</td>\n",
       "      <td>600000.0</td>\n",
       "      <td>600000.0</td>\n",
       "      <td>600000.0</td>\n",
       "      <td>600000.0</td>\n",
       "      <td>600000.0</td>\n",
       "    </tr>\n",
       "    <tr>\n",
       "      <th>worker</th>\n",
       "      <th>zgn vuurxwvmrt vwwghzn</th>\n",
       "      <td>1.0</td>\n",
       "      <td>200000.0</td>\n",
       "      <td>NaN</td>\n",
       "      <td>200000.0</td>\n",
       "      <td>200000.0</td>\n",
       "      <td>200000.0</td>\n",
       "      <td>200000.0</td>\n",
       "      <td>200000.0</td>\n",
       "    </tr>\n",
       "    <tr>\n",
       "      <th>x</th>\n",
       "      <th>Others</th>\n",
       "      <td>1.0</td>\n",
       "      <td>400000.0</td>\n",
       "      <td>NaN</td>\n",
       "      <td>400000.0</td>\n",
       "      <td>400000.0</td>\n",
       "      <td>400000.0</td>\n",
       "      <td>400000.0</td>\n",
       "      <td>400000.0</td>\n",
       "    </tr>\n",
       "    <tr>\n",
       "      <th>young professional ii</th>\n",
       "      <th>sgctqzbtzn ge xzaxv</th>\n",
       "      <td>1.0</td>\n",
       "      <td>500000.0</td>\n",
       "      <td>NaN</td>\n",
       "      <td>500000.0</td>\n",
       "      <td>500000.0</td>\n",
       "      <td>500000.0</td>\n",
       "      <td>500000.0</td>\n",
       "      <td>500000.0</td>\n",
       "    </tr>\n",
       "    <tr>\n",
       "      <th>zomato</th>\n",
       "      <th>kgbvng</th>\n",
       "      <td>2.0</td>\n",
       "      <td>300000.0</td>\n",
       "      <td>282842.712475</td>\n",
       "      <td>100000.0</td>\n",
       "      <td>200000.0</td>\n",
       "      <td>300000.0</td>\n",
       "      <td>400000.0</td>\n",
       "      <td>500000.0</td>\n",
       "    </tr>\n",
       "  </tbody>\n",
       "</table>\n",
       "<p>26060 rows × 8 columns</p>\n",
       "</div>"
      ],
      "text/plain": [
       "                                              count        mean  \\\n",
       "job_position          company_hash                                \n",
       ".                     Others                    1.0    700000.0   \n",
       "..                    otre tburgjta             1.0    600000.0   \n",
       ".7                    wgszxkvzn                 1.0    470000.0   \n",
       "7                     Others                    1.0    420000.0   \n",
       "7033771951            yaew mvzp                 1.0  12600000.0   \n",
       "...                                             ...         ...   \n",
       "wordpress developer   Others                    1.0    600000.0   \n",
       "worker                zgn vuurxwvmrt vwwghzn    1.0    200000.0   \n",
       "x                     Others                    1.0    400000.0   \n",
       "young professional ii sgctqzbtzn ge xzaxv       1.0    500000.0   \n",
       "zomato                kgbvng                    2.0    300000.0   \n",
       "\n",
       "                                                        std         min  \\\n",
       "job_position          company_hash                                        \n",
       ".                     Others                            NaN    700000.0   \n",
       "..                    otre tburgjta                     NaN    600000.0   \n",
       ".7                    wgszxkvzn                         NaN    470000.0   \n",
       "7                     Others                            NaN    420000.0   \n",
       "7033771951            yaew mvzp                         NaN  12600000.0   \n",
       "...                                                     ...         ...   \n",
       "wordpress developer   Others                            NaN    600000.0   \n",
       "worker                zgn vuurxwvmrt vwwghzn            NaN    200000.0   \n",
       "x                     Others                            NaN    400000.0   \n",
       "young professional ii sgctqzbtzn ge xzaxv               NaN    500000.0   \n",
       "zomato                kgbvng                  282842.712475    100000.0   \n",
       "\n",
       "                                                     25%         50%  \\\n",
       "job_position          company_hash                                     \n",
       ".                     Others                    700000.0    700000.0   \n",
       "..                    otre tburgjta             600000.0    600000.0   \n",
       ".7                    wgszxkvzn                 470000.0    470000.0   \n",
       "7                     Others                    420000.0    420000.0   \n",
       "7033771951            yaew mvzp               12600000.0  12600000.0   \n",
       "...                                                  ...         ...   \n",
       "wordpress developer   Others                    600000.0    600000.0   \n",
       "worker                zgn vuurxwvmrt vwwghzn    200000.0    200000.0   \n",
       "x                     Others                    400000.0    400000.0   \n",
       "young professional ii sgctqzbtzn ge xzaxv       500000.0    500000.0   \n",
       "zomato                kgbvng                    200000.0    300000.0   \n",
       "\n",
       "                                                     75%         max  \n",
       "job_position          company_hash                                    \n",
       ".                     Others                    700000.0    700000.0  \n",
       "..                    otre tburgjta             600000.0    600000.0  \n",
       ".7                    wgszxkvzn                 470000.0    470000.0  \n",
       "7                     Others                    420000.0    420000.0  \n",
       "7033771951            yaew mvzp               12600000.0  12600000.0  \n",
       "...                                                  ...         ...  \n",
       "wordpress developer   Others                    600000.0    600000.0  \n",
       "worker                zgn vuurxwvmrt vwwghzn    200000.0    200000.0  \n",
       "x                     Others                    400000.0    400000.0  \n",
       "young professional ii sgctqzbtzn ge xzaxv       500000.0    500000.0  \n",
       "zomato                kgbvng                    400000.0    500000.0  \n",
       "\n",
       "[26060 rows x 8 columns]"
      ]
     },
     "execution_count": 206,
     "metadata": {},
     "output_type": "execute_result"
    }
   ],
   "source": [
    "company_job_gpd = df.groupby(['job_position','company_hash'])['ctc'].describe()\n",
    "company_job_gpd"
   ]
  },
  {
   "cell_type": "code",
   "execution_count": 207,
   "id": "64b7f207-8c0a-4f76-bcb9-2bfb979e9878",
   "metadata": {},
   "outputs": [
    {
     "data": {
      "text/html": [
       "<div>\n",
       "<style scoped>\n",
       "    .dataframe tbody tr th:only-of-type {\n",
       "        vertical-align: middle;\n",
       "    }\n",
       "\n",
       "    .dataframe tbody tr th {\n",
       "        vertical-align: top;\n",
       "    }\n",
       "\n",
       "    .dataframe thead th {\n",
       "        text-align: right;\n",
       "    }\n",
       "</style>\n",
       "<table border=\"1\" class=\"dataframe\">\n",
       "  <thead>\n",
       "    <tr style=\"text-align: right;\">\n",
       "      <th></th>\n",
       "      <th>company_hash</th>\n",
       "      <th>orgyear</th>\n",
       "      <th>ctc</th>\n",
       "      <th>job_position</th>\n",
       "      <th>ctc_updated_year</th>\n",
       "      <th>years_of_experience</th>\n",
       "      <th>count</th>\n",
       "      <th>mean</th>\n",
       "      <th>std</th>\n",
       "      <th>min</th>\n",
       "      <th>25%</th>\n",
       "      <th>50%</th>\n",
       "      <th>75%</th>\n",
       "      <th>max</th>\n",
       "    </tr>\n",
       "  </thead>\n",
       "  <tbody>\n",
       "    <tr>\n",
       "      <th>0</th>\n",
       "      <td>atrgxnnt xzaxv</td>\n",
       "      <td>2016.0</td>\n",
       "      <td>1100000</td>\n",
       "      <td>other</td>\n",
       "      <td>2020.0</td>\n",
       "      <td>7.0</td>\n",
       "      <td>2.0</td>\n",
       "      <td>1.085000e+06</td>\n",
       "      <td>2.121320e+04</td>\n",
       "      <td>1070000.0</td>\n",
       "      <td>1077500.0</td>\n",
       "      <td>1085000.0</td>\n",
       "      <td>1092500.0</td>\n",
       "      <td>1100000.0</td>\n",
       "    </tr>\n",
       "    <tr>\n",
       "      <th>1</th>\n",
       "      <td>qtrxvzwt xzegwgbb rxbxnta</td>\n",
       "      <td>2018.0</td>\n",
       "      <td>449999</td>\n",
       "      <td>fullstack engineer</td>\n",
       "      <td>2019.0</td>\n",
       "      <td>5.0</td>\n",
       "      <td>25.0</td>\n",
       "      <td>9.882000e+05</td>\n",
       "      <td>4.874998e+05</td>\n",
       "      <td>300000.0</td>\n",
       "      <td>600000.0</td>\n",
       "      <td>850000.0</td>\n",
       "      <td>1380000.0</td>\n",
       "      <td>2000000.0</td>\n",
       "    </tr>\n",
       "    <tr>\n",
       "      <th>2</th>\n",
       "      <td>Others</td>\n",
       "      <td>2015.0</td>\n",
       "      <td>2000000</td>\n",
       "      <td>backend engineer</td>\n",
       "      <td>2020.0</td>\n",
       "      <td>8.0</td>\n",
       "      <td>4020.0</td>\n",
       "      <td>1.481568e+06</td>\n",
       "      <td>1.981495e+06</td>\n",
       "      <td>38000.0</td>\n",
       "      <td>360000.0</td>\n",
       "      <td>950000.0</td>\n",
       "      <td>1780000.0</td>\n",
       "      <td>12600000.0</td>\n",
       "    </tr>\n",
       "    <tr>\n",
       "      <th>3</th>\n",
       "      <td>ngpgutaxv</td>\n",
       "      <td>2017.0</td>\n",
       "      <td>700000</td>\n",
       "      <td>backend engineer</td>\n",
       "      <td>2019.0</td>\n",
       "      <td>6.0</td>\n",
       "      <td>25.0</td>\n",
       "      <td>1.500000e+06</td>\n",
       "      <td>6.772124e+05</td>\n",
       "      <td>520000.0</td>\n",
       "      <td>1050000.0</td>\n",
       "      <td>1540000.0</td>\n",
       "      <td>1800000.0</td>\n",
       "      <td>3500000.0</td>\n",
       "    </tr>\n",
       "    <tr>\n",
       "      <th>4</th>\n",
       "      <td>qxen sqghu</td>\n",
       "      <td>2017.0</td>\n",
       "      <td>1400000</td>\n",
       "      <td>fullstack engineer</td>\n",
       "      <td>2019.0</td>\n",
       "      <td>6.0</td>\n",
       "      <td>3.0</td>\n",
       "      <td>8.466667e+05</td>\n",
       "      <td>4.801389e+05</td>\n",
       "      <td>540000.0</td>\n",
       "      <td>570000.0</td>\n",
       "      <td>600000.0</td>\n",
       "      <td>1000000.0</td>\n",
       "      <td>1400000.0</td>\n",
       "    </tr>\n",
       "    <tr>\n",
       "      <th>...</th>\n",
       "      <td>...</td>\n",
       "      <td>...</td>\n",
       "      <td>...</td>\n",
       "      <td>...</td>\n",
       "      <td>...</td>\n",
       "      <td>...</td>\n",
       "      <td>...</td>\n",
       "      <td>...</td>\n",
       "      <td>...</td>\n",
       "      <td>...</td>\n",
       "      <td>...</td>\n",
       "      <td>...</td>\n",
       "      <td>...</td>\n",
       "      <td>...</td>\n",
       "    </tr>\n",
       "    <tr>\n",
       "      <th>166814</th>\n",
       "      <td>vuurt xzw</td>\n",
       "      <td>2008.0</td>\n",
       "      <td>220000</td>\n",
       "      <td>nan</td>\n",
       "      <td>2019.0</td>\n",
       "      <td>15.0</td>\n",
       "      <td>17.0</td>\n",
       "      <td>1.681941e+06</td>\n",
       "      <td>1.281569e+06</td>\n",
       "      <td>60000.0</td>\n",
       "      <td>220000.0</td>\n",
       "      <td>2300000.0</td>\n",
       "      <td>2700000.0</td>\n",
       "      <td>3500000.0</td>\n",
       "    </tr>\n",
       "    <tr>\n",
       "      <th>166815</th>\n",
       "      <td>husqvawgb</td>\n",
       "      <td>2017.0</td>\n",
       "      <td>500000</td>\n",
       "      <td>nan</td>\n",
       "      <td>2020.0</td>\n",
       "      <td>6.0</td>\n",
       "      <td>13.0</td>\n",
       "      <td>1.000769e+06</td>\n",
       "      <td>3.300369e+05</td>\n",
       "      <td>500000.0</td>\n",
       "      <td>750000.0</td>\n",
       "      <td>1000000.0</td>\n",
       "      <td>1200000.0</td>\n",
       "      <td>1500000.0</td>\n",
       "    </tr>\n",
       "    <tr>\n",
       "      <th>166816</th>\n",
       "      <td>vwwgrxnt</td>\n",
       "      <td>2021.0</td>\n",
       "      <td>700000</td>\n",
       "      <td>nan</td>\n",
       "      <td>2021.0</td>\n",
       "      <td>2.0</td>\n",
       "      <td>38.0</td>\n",
       "      <td>1.350342e+06</td>\n",
       "      <td>8.419418e+05</td>\n",
       "      <td>300000.0</td>\n",
       "      <td>812500.0</td>\n",
       "      <td>1175000.0</td>\n",
       "      <td>1495000.0</td>\n",
       "      <td>4800000.0</td>\n",
       "    </tr>\n",
       "    <tr>\n",
       "      <th>166817</th>\n",
       "      <td>zgn vuurxwvmrt</td>\n",
       "      <td>2019.0</td>\n",
       "      <td>5100000</td>\n",
       "      <td>nan</td>\n",
       "      <td>2019.0</td>\n",
       "      <td>4.0</td>\n",
       "      <td>624.0</td>\n",
       "      <td>1.680924e+06</td>\n",
       "      <td>2.585817e+06</td>\n",
       "      <td>38000.0</td>\n",
       "      <td>360000.0</td>\n",
       "      <td>800000.0</td>\n",
       "      <td>1800000.0</td>\n",
       "      <td>12600000.0</td>\n",
       "    </tr>\n",
       "    <tr>\n",
       "      <th>166818</th>\n",
       "      <td>bgqsvz onvzrtj</td>\n",
       "      <td>2014.0</td>\n",
       "      <td>1240000</td>\n",
       "      <td>nan</td>\n",
       "      <td>2016.0</td>\n",
       "      <td>9.0</td>\n",
       "      <td>114.0</td>\n",
       "      <td>1.980842e+06</td>\n",
       "      <td>9.178538e+05</td>\n",
       "      <td>100000.0</td>\n",
       "      <td>1500000.0</td>\n",
       "      <td>1850000.0</td>\n",
       "      <td>2500000.0</td>\n",
       "      <td>5250000.0</td>\n",
       "    </tr>\n",
       "  </tbody>\n",
       "</table>\n",
       "<p>166819 rows × 14 columns</p>\n",
       "</div>"
      ],
      "text/plain": [
       "                     company_hash  orgyear      ctc        job_position  \\\n",
       "0                  atrgxnnt xzaxv   2016.0  1100000               other   \n",
       "1       qtrxvzwt xzegwgbb rxbxnta   2018.0   449999  fullstack engineer   \n",
       "2                          Others   2015.0  2000000    backend engineer   \n",
       "3                       ngpgutaxv   2017.0   700000    backend engineer   \n",
       "4                      qxen sqghu   2017.0  1400000  fullstack engineer   \n",
       "...                           ...      ...      ...                 ...   \n",
       "166814                  vuurt xzw   2008.0   220000                 nan   \n",
       "166815                  husqvawgb   2017.0   500000                 nan   \n",
       "166816                   vwwgrxnt   2021.0   700000                 nan   \n",
       "166817             zgn vuurxwvmrt   2019.0  5100000                 nan   \n",
       "166818             bgqsvz onvzrtj   2014.0  1240000                 nan   \n",
       "\n",
       "        ctc_updated_year  years_of_experience   count          mean  \\\n",
       "0                 2020.0                  7.0     2.0  1.085000e+06   \n",
       "1                 2019.0                  5.0    25.0  9.882000e+05   \n",
       "2                 2020.0                  8.0  4020.0  1.481568e+06   \n",
       "3                 2019.0                  6.0    25.0  1.500000e+06   \n",
       "4                 2019.0                  6.0     3.0  8.466667e+05   \n",
       "...                  ...                  ...     ...           ...   \n",
       "166814            2019.0                 15.0    17.0  1.681941e+06   \n",
       "166815            2020.0                  6.0    13.0  1.000769e+06   \n",
       "166816            2021.0                  2.0    38.0  1.350342e+06   \n",
       "166817            2019.0                  4.0   624.0  1.680924e+06   \n",
       "166818            2016.0                  9.0   114.0  1.980842e+06   \n",
       "\n",
       "                 std        min        25%        50%        75%         max  \n",
       "0       2.121320e+04  1070000.0  1077500.0  1085000.0  1092500.0   1100000.0  \n",
       "1       4.874998e+05   300000.0   600000.0   850000.0  1380000.0   2000000.0  \n",
       "2       1.981495e+06    38000.0   360000.0   950000.0  1780000.0  12600000.0  \n",
       "3       6.772124e+05   520000.0  1050000.0  1540000.0  1800000.0   3500000.0  \n",
       "4       4.801389e+05   540000.0   570000.0   600000.0  1000000.0   1400000.0  \n",
       "...              ...        ...        ...        ...        ...         ...  \n",
       "166814  1.281569e+06    60000.0   220000.0  2300000.0  2700000.0   3500000.0  \n",
       "166815  3.300369e+05   500000.0   750000.0  1000000.0  1200000.0   1500000.0  \n",
       "166816  8.419418e+05   300000.0   812500.0  1175000.0  1495000.0   4800000.0  \n",
       "166817  2.585817e+06    38000.0   360000.0   800000.0  1800000.0  12600000.0  \n",
       "166818  9.178538e+05   100000.0  1500000.0  1850000.0  2500000.0   5250000.0  \n",
       "\n",
       "[166819 rows x 14 columns]"
      ]
     },
     "execution_count": 207,
     "metadata": {},
     "output_type": "execute_result"
    }
   ],
   "source": [
    "df_company_job = df.merge(company_job_gpd, on=['job_position','company_hash'], how='left')\n",
    "df_company_job\n"
   ]
  },
  {
   "cell_type": "markdown",
   "id": "bb75e6b5-1f02-4298-bfcd-5e7bfcfcfb8c",
   "metadata": {},
   "source": [
    "### Creating \"class\" basis on the salary they are getting in their respective company\n"
   ]
  },
  {
   "cell_type": "code",
   "execution_count": 209,
   "id": "2bfe3195-5149-4c85-8644-8aca38190b01",
   "metadata": {},
   "outputs": [
    {
     "data": {
      "text/html": [
       "<div>\n",
       "<style scoped>\n",
       "    .dataframe tbody tr th:only-of-type {\n",
       "        vertical-align: middle;\n",
       "    }\n",
       "\n",
       "    .dataframe tbody tr th {\n",
       "        vertical-align: top;\n",
       "    }\n",
       "\n",
       "    .dataframe thead th {\n",
       "        text-align: right;\n",
       "    }\n",
       "</style>\n",
       "<table border=\"1\" class=\"dataframe\">\n",
       "  <thead>\n",
       "    <tr style=\"text-align: right;\">\n",
       "      <th></th>\n",
       "      <th>company_hash</th>\n",
       "      <th>orgyear</th>\n",
       "      <th>ctc</th>\n",
       "      <th>job_position</th>\n",
       "      <th>ctc_updated_year</th>\n",
       "      <th>years_of_experience</th>\n",
       "      <th>count</th>\n",
       "      <th>mean</th>\n",
       "      <th>std</th>\n",
       "      <th>min</th>\n",
       "      <th>25%</th>\n",
       "      <th>50%</th>\n",
       "      <th>75%</th>\n",
       "      <th>max</th>\n",
       "      <th>classs</th>\n",
       "    </tr>\n",
       "  </thead>\n",
       "  <tbody>\n",
       "    <tr>\n",
       "      <th>0</th>\n",
       "      <td>atrgxnnt xzaxv</td>\n",
       "      <td>2016.0</td>\n",
       "      <td>1100000</td>\n",
       "      <td>other</td>\n",
       "      <td>2020.0</td>\n",
       "      <td>7.0</td>\n",
       "      <td>2.0</td>\n",
       "      <td>1085000.00</td>\n",
       "      <td>21213.203436</td>\n",
       "      <td>1070000.0</td>\n",
       "      <td>1077500.0</td>\n",
       "      <td>1085000.0</td>\n",
       "      <td>1092500.0</td>\n",
       "      <td>1100000.0</td>\n",
       "      <td>1</td>\n",
       "    </tr>\n",
       "    <tr>\n",
       "      <th>1</th>\n",
       "      <td>qtrxvzwt xzegwgbb rxbxnta</td>\n",
       "      <td>2018.0</td>\n",
       "      <td>449999</td>\n",
       "      <td>fullstack engineer</td>\n",
       "      <td>2019.0</td>\n",
       "      <td>5.0</td>\n",
       "      <td>25.0</td>\n",
       "      <td>988199.96</td>\n",
       "      <td>487499.789590</td>\n",
       "      <td>300000.0</td>\n",
       "      <td>600000.0</td>\n",
       "      <td>850000.0</td>\n",
       "      <td>1380000.0</td>\n",
       "      <td>2000000.0</td>\n",
       "      <td>3</td>\n",
       "    </tr>\n",
       "  </tbody>\n",
       "</table>\n",
       "</div>"
      ],
      "text/plain": [
       "                company_hash  orgyear      ctc        job_position  \\\n",
       "0             atrgxnnt xzaxv   2016.0  1100000               other   \n",
       "1  qtrxvzwt xzegwgbb rxbxnta   2018.0   449999  fullstack engineer   \n",
       "\n",
       "   ctc_updated_year  years_of_experience  count        mean            std  \\\n",
       "0            2020.0                  7.0    2.0  1085000.00   21213.203436   \n",
       "1            2019.0                  5.0   25.0   988199.96  487499.789590   \n",
       "\n",
       "         min        25%        50%        75%        max  classs  \n",
       "0  1070000.0  1077500.0  1085000.0  1092500.0  1100000.0       1  \n",
       "1   300000.0   600000.0   850000.0  1380000.0  2000000.0       3  "
      ]
     },
     "execution_count": 209,
     "metadata": {},
     "output_type": "execute_result"
    }
   ],
   "source": [
    "df_company_job['classs'] = df_company_job.apply(lambda x: create_segment(x['ctc'],x['50%'],x['75%']),axis=1)\n",
    "df_company_job.head(2)"
   ]
  },
  {
   "cell_type": "code",
   "execution_count": 210,
   "id": "2d4200b6-c4bb-41c9-9002-ddccff6bd2d7",
   "metadata": {},
   "outputs": [
    {
     "data": {
      "text/plain": [
       "3    0.435430\n",
       "2    0.319958\n",
       "1    0.244612\n",
       "Name: classs, dtype: float64"
      ]
     },
     "execution_count": 210,
     "metadata": {},
     "output_type": "execute_result"
    }
   ],
   "source": [
    "df_company_job.classs.value_counts(normalize=True)"
   ]
  },
  {
   "cell_type": "code",
   "execution_count": 211,
   "id": "dfa91fcc-1e33-44d4-9443-b8a7152f63b8",
   "metadata": {},
   "outputs": [
    {
     "data": {
      "text/plain": [
       "Index(['company_hash', 'orgyear', 'ctc', 'job_position', 'ctc_updated_year',\n",
       "       'years_of_experience', 'count', 'mean', 'std', 'min', '25%', '50%',\n",
       "       '75%', 'max', 'classs'],\n",
       "      dtype='object')"
      ]
     },
     "execution_count": 211,
     "metadata": {},
     "output_type": "execute_result"
    }
   ],
   "source": [
    "df_company_job.columns"
   ]
  },
  {
   "cell_type": "code",
   "execution_count": 214,
   "id": "03b833d5-93e3-40fb-9e6d-a170261cb23d",
   "metadata": {},
   "outputs": [],
   "source": [
    "df_company_job.drop(columns=['count', 'mean', 'std', 'min', '25%', '50%',\n",
    "       '75%', 'max'], inplace=True)"
   ]
  },
  {
   "cell_type": "code",
   "execution_count": 212,
   "id": "9276722e-61da-4fee-8851-9e80b4f718d5",
   "metadata": {},
   "outputs": [
    {
     "data": {
      "text/plain": [
       "Index(['company_hash', 'orgyear', 'ctc', 'job_position', 'ctc_updated_year',\n",
       "       'years_of_experience', 'count', 'mean', 'std', 'min', '25%', '50%',\n",
       "       '75%', 'max', 'designation'],\n",
       "      dtype='object')"
      ]
     },
     "execution_count": 212,
     "metadata": {},
     "output_type": "execute_result"
    }
   ],
   "source": [
    "df_company_job_yoe.columns"
   ]
  },
  {
   "cell_type": "code",
   "execution_count": 215,
   "id": "035491fe-5699-44f4-8d93-d589b947853e",
   "metadata": {},
   "outputs": [],
   "source": [
    "df_company_job_yoe.drop(columns=['count', 'mean', 'std', 'min', '25%', '50%',\n",
    "       '75%', 'max'], inplace=True)"
   ]
  },
  {
   "cell_type": "code",
   "execution_count": 216,
   "id": "7db0a0a9-9607-4bdb-bbed-ef50027c63c2",
   "metadata": {},
   "outputs": [],
   "source": [
    "df_company_job_yoe_Merged=df_company_job.merge(df_company_job_yoe, on=['company_hash','orgyear','ctc','job_position','years_of_experience','ctc_updated_year'], how='left')\n"
   ]
  },
  {
   "cell_type": "code",
   "execution_count": 217,
   "id": "3ba14607-b68b-4740-8da4-6bec4e011737",
   "metadata": {},
   "outputs": [
    {
     "data": {
      "text/html": [
       "<div>\n",
       "<style scoped>\n",
       "    .dataframe tbody tr th:only-of-type {\n",
       "        vertical-align: middle;\n",
       "    }\n",
       "\n",
       "    .dataframe tbody tr th {\n",
       "        vertical-align: top;\n",
       "    }\n",
       "\n",
       "    .dataframe thead th {\n",
       "        text-align: right;\n",
       "    }\n",
       "</style>\n",
       "<table border=\"1\" class=\"dataframe\">\n",
       "  <thead>\n",
       "    <tr style=\"text-align: right;\">\n",
       "      <th></th>\n",
       "      <th>company_hash</th>\n",
       "      <th>orgyear</th>\n",
       "      <th>ctc</th>\n",
       "      <th>job_position</th>\n",
       "      <th>ctc_updated_year</th>\n",
       "      <th>years_of_experience</th>\n",
       "      <th>classs</th>\n",
       "      <th>designation</th>\n",
       "    </tr>\n",
       "  </thead>\n",
       "  <tbody>\n",
       "    <tr>\n",
       "      <th>0</th>\n",
       "      <td>atrgxnnt xzaxv</td>\n",
       "      <td>2016.0</td>\n",
       "      <td>1100000</td>\n",
       "      <td>other</td>\n",
       "      <td>2020.0</td>\n",
       "      <td>7.0</td>\n",
       "      <td>1</td>\n",
       "      <td>2</td>\n",
       "    </tr>\n",
       "    <tr>\n",
       "      <th>1</th>\n",
       "      <td>qtrxvzwt xzegwgbb rxbxnta</td>\n",
       "      <td>2018.0</td>\n",
       "      <td>449999</td>\n",
       "      <td>fullstack engineer</td>\n",
       "      <td>2019.0</td>\n",
       "      <td>5.0</td>\n",
       "      <td>3</td>\n",
       "      <td>3</td>\n",
       "    </tr>\n",
       "    <tr>\n",
       "      <th>2</th>\n",
       "      <td>Others</td>\n",
       "      <td>2015.0</td>\n",
       "      <td>2000000</td>\n",
       "      <td>backend engineer</td>\n",
       "      <td>2020.0</td>\n",
       "      <td>8.0</td>\n",
       "      <td>1</td>\n",
       "      <td>1</td>\n",
       "    </tr>\n",
       "    <tr>\n",
       "      <th>3</th>\n",
       "      <td>ngpgutaxv</td>\n",
       "      <td>2017.0</td>\n",
       "      <td>700000</td>\n",
       "      <td>backend engineer</td>\n",
       "      <td>2019.0</td>\n",
       "      <td>6.0</td>\n",
       "      <td>3</td>\n",
       "      <td>3</td>\n",
       "    </tr>\n",
       "    <tr>\n",
       "      <th>4</th>\n",
       "      <td>qxen sqghu</td>\n",
       "      <td>2017.0</td>\n",
       "      <td>1400000</td>\n",
       "      <td>fullstack engineer</td>\n",
       "      <td>2019.0</td>\n",
       "      <td>6.0</td>\n",
       "      <td>1</td>\n",
       "      <td>2</td>\n",
       "    </tr>\n",
       "  </tbody>\n",
       "</table>\n",
       "</div>"
      ],
      "text/plain": [
       "                company_hash  orgyear      ctc        job_position  \\\n",
       "0             atrgxnnt xzaxv   2016.0  1100000               other   \n",
       "1  qtrxvzwt xzegwgbb rxbxnta   2018.0   449999  fullstack engineer   \n",
       "2                     Others   2015.0  2000000    backend engineer   \n",
       "3                  ngpgutaxv   2017.0   700000    backend engineer   \n",
       "4                 qxen sqghu   2017.0  1400000  fullstack engineer   \n",
       "\n",
       "   ctc_updated_year  years_of_experience  classs  designation  \n",
       "0            2020.0                  7.0       1            2  \n",
       "1            2019.0                  5.0       3            3  \n",
       "2            2020.0                  8.0       1            1  \n",
       "3            2019.0                  6.0       3            3  \n",
       "4            2019.0                  6.0       1            2  "
      ]
     },
     "execution_count": 217,
     "metadata": {},
     "output_type": "execute_result"
    }
   ],
   "source": [
    "df_company_job_yoe_Merged.head()"
   ]
  },
  {
   "cell_type": "markdown",
   "id": "62e056db-7285-43d0-8541-61e692715470",
   "metadata": {},
   "source": [
    "### 3. based on - company "
   ]
  },
  {
   "cell_type": "code",
   "execution_count": 218,
   "id": "4535aa91-9484-48b5-ac95-dd399d100eea",
   "metadata": {},
   "outputs": [
    {
     "data": {
      "text/html": [
       "<div>\n",
       "<style scoped>\n",
       "    .dataframe tbody tr th:only-of-type {\n",
       "        vertical-align: middle;\n",
       "    }\n",
       "\n",
       "    .dataframe tbody tr th {\n",
       "        vertical-align: top;\n",
       "    }\n",
       "\n",
       "    .dataframe thead th {\n",
       "        text-align: right;\n",
       "    }\n",
       "</style>\n",
       "<table border=\"1\" class=\"dataframe\">\n",
       "  <thead>\n",
       "    <tr style=\"text-align: right;\">\n",
       "      <th></th>\n",
       "      <th>company_hash</th>\n",
       "      <th>orgyear</th>\n",
       "      <th>ctc</th>\n",
       "      <th>job_position</th>\n",
       "      <th>ctc_updated_year</th>\n",
       "      <th>years_of_experience</th>\n",
       "      <th>count</th>\n",
       "      <th>mean</th>\n",
       "      <th>std</th>\n",
       "      <th>min</th>\n",
       "      <th>25%</th>\n",
       "      <th>50%</th>\n",
       "      <th>75%</th>\n",
       "      <th>max</th>\n",
       "    </tr>\n",
       "  </thead>\n",
       "  <tbody>\n",
       "    <tr>\n",
       "      <th>0</th>\n",
       "      <td>atrgxnnt xzaxv</td>\n",
       "      <td>2016.0</td>\n",
       "      <td>1100000</td>\n",
       "      <td>other</td>\n",
       "      <td>2020.0</td>\n",
       "      <td>7.0</td>\n",
       "      <td>9.0</td>\n",
       "      <td>1.115667e+06</td>\n",
       "      <td>4.581119e+05</td>\n",
       "      <td>500000.0</td>\n",
       "      <td>800000.0</td>\n",
       "      <td>1070000.0</td>\n",
       "      <td>1500000.0</td>\n",
       "      <td>1771000.0</td>\n",
       "    </tr>\n",
       "    <tr>\n",
       "      <th>1</th>\n",
       "      <td>qtrxvzwt xzegwgbb rxbxnta</td>\n",
       "      <td>2018.0</td>\n",
       "      <td>449999</td>\n",
       "      <td>fullstack engineer</td>\n",
       "      <td>2019.0</td>\n",
       "      <td>5.0</td>\n",
       "      <td>411.0</td>\n",
       "      <td>1.326951e+06</td>\n",
       "      <td>1.474961e+06</td>\n",
       "      <td>38000.0</td>\n",
       "      <td>600000.0</td>\n",
       "      <td>900000.0</td>\n",
       "      <td>1700000.0</td>\n",
       "      <td>12600000.0</td>\n",
       "    </tr>\n",
       "  </tbody>\n",
       "</table>\n",
       "</div>"
      ],
      "text/plain": [
       "                company_hash  orgyear      ctc        job_position  \\\n",
       "0             atrgxnnt xzaxv   2016.0  1100000               other   \n",
       "1  qtrxvzwt xzegwgbb rxbxnta   2018.0   449999  fullstack engineer   \n",
       "\n",
       "   ctc_updated_year  years_of_experience  count          mean           std  \\\n",
       "0            2020.0                  7.0    9.0  1.115667e+06  4.581119e+05   \n",
       "1            2019.0                  5.0  411.0  1.326951e+06  1.474961e+06   \n",
       "\n",
       "        min       25%        50%        75%         max  \n",
       "0  500000.0  800000.0  1070000.0  1500000.0   1771000.0  \n",
       "1   38000.0  600000.0   900000.0  1700000.0  12600000.0  "
      ]
     },
     "execution_count": 218,
     "metadata": {},
     "output_type": "execute_result"
    }
   ],
   "source": [
    "company_gpd = df.groupby(['company_hash'])['ctc'].describe()\n",
    "df_company = df.merge(company_gpd, on=['company_hash'], how='left')"
   ]
  },
  {
   "cell_type": "code",
   "execution_count": 219,
   "id": "f11dd298-2787-4769-80a4-8aaadb3b0d18",
   "metadata": {},
   "outputs": [
    {
     "data": {
      "text/html": [
       "<div>\n",
       "<style scoped>\n",
       "    .dataframe tbody tr th:only-of-type {\n",
       "        vertical-align: middle;\n",
       "    }\n",
       "\n",
       "    .dataframe tbody tr th {\n",
       "        vertical-align: top;\n",
       "    }\n",
       "\n",
       "    .dataframe thead th {\n",
       "        text-align: right;\n",
       "    }\n",
       "</style>\n",
       "<table border=\"1\" class=\"dataframe\">\n",
       "  <thead>\n",
       "    <tr style=\"text-align: right;\">\n",
       "      <th></th>\n",
       "      <th>company_hash</th>\n",
       "      <th>orgyear</th>\n",
       "      <th>ctc</th>\n",
       "      <th>job_position</th>\n",
       "      <th>ctc_updated_year</th>\n",
       "      <th>years_of_experience</th>\n",
       "      <th>count</th>\n",
       "      <th>mean</th>\n",
       "      <th>std</th>\n",
       "      <th>min</th>\n",
       "      <th>25%</th>\n",
       "      <th>50%</th>\n",
       "      <th>75%</th>\n",
       "      <th>max</th>\n",
       "    </tr>\n",
       "  </thead>\n",
       "  <tbody>\n",
       "    <tr>\n",
       "      <th>0</th>\n",
       "      <td>atrgxnnt xzaxv</td>\n",
       "      <td>2016.0</td>\n",
       "      <td>1100000</td>\n",
       "      <td>other</td>\n",
       "      <td>2020.0</td>\n",
       "      <td>7.0</td>\n",
       "      <td>9.0</td>\n",
       "      <td>1.115667e+06</td>\n",
       "      <td>4.581119e+05</td>\n",
       "      <td>500000.0</td>\n",
       "      <td>800000.0</td>\n",
       "      <td>1070000.0</td>\n",
       "      <td>1500000.0</td>\n",
       "      <td>1771000.0</td>\n",
       "    </tr>\n",
       "    <tr>\n",
       "      <th>1</th>\n",
       "      <td>qtrxvzwt xzegwgbb rxbxnta</td>\n",
       "      <td>2018.0</td>\n",
       "      <td>449999</td>\n",
       "      <td>fullstack engineer</td>\n",
       "      <td>2019.0</td>\n",
       "      <td>5.0</td>\n",
       "      <td>411.0</td>\n",
       "      <td>1.326951e+06</td>\n",
       "      <td>1.474961e+06</td>\n",
       "      <td>38000.0</td>\n",
       "      <td>600000.0</td>\n",
       "      <td>900000.0</td>\n",
       "      <td>1700000.0</td>\n",
       "      <td>12600000.0</td>\n",
       "    </tr>\n",
       "    <tr>\n",
       "      <th>2</th>\n",
       "      <td>Others</td>\n",
       "      <td>2015.0</td>\n",
       "      <td>2000000</td>\n",
       "      <td>backend engineer</td>\n",
       "      <td>2020.0</td>\n",
       "      <td>8.0</td>\n",
       "      <td>26657.0</td>\n",
       "      <td>1.427324e+06</td>\n",
       "      <td>1.910239e+06</td>\n",
       "      <td>38000.0</td>\n",
       "      <td>420000.0</td>\n",
       "      <td>880000.0</td>\n",
       "      <td>1650000.0</td>\n",
       "      <td>12600000.0</td>\n",
       "    </tr>\n",
       "    <tr>\n",
       "      <th>3</th>\n",
       "      <td>ngpgutaxv</td>\n",
       "      <td>2017.0</td>\n",
       "      <td>700000</td>\n",
       "      <td>backend engineer</td>\n",
       "      <td>2019.0</td>\n",
       "      <td>6.0</td>\n",
       "      <td>67.0</td>\n",
       "      <td>1.729478e+06</td>\n",
       "      <td>9.861481e+05</td>\n",
       "      <td>200000.0</td>\n",
       "      <td>1100000.0</td>\n",
       "      <td>1400000.0</td>\n",
       "      <td>2100000.0</td>\n",
       "      <td>4700000.0</td>\n",
       "    </tr>\n",
       "    <tr>\n",
       "      <th>4</th>\n",
       "      <td>qxen sqghu</td>\n",
       "      <td>2017.0</td>\n",
       "      <td>1400000</td>\n",
       "      <td>fullstack engineer</td>\n",
       "      <td>2019.0</td>\n",
       "      <td>6.0</td>\n",
       "      <td>6.0</td>\n",
       "      <td>9.400000e+05</td>\n",
       "      <td>3.898718e+05</td>\n",
       "      <td>540000.0</td>\n",
       "      <td>625000.0</td>\n",
       "      <td>850000.0</td>\n",
       "      <td>1300000.0</td>\n",
       "      <td>1400000.0</td>\n",
       "    </tr>\n",
       "  </tbody>\n",
       "</table>\n",
       "</div>"
      ],
      "text/plain": [
       "                company_hash  orgyear      ctc        job_position  \\\n",
       "0             atrgxnnt xzaxv   2016.0  1100000               other   \n",
       "1  qtrxvzwt xzegwgbb rxbxnta   2018.0   449999  fullstack engineer   \n",
       "2                     Others   2015.0  2000000    backend engineer   \n",
       "3                  ngpgutaxv   2017.0   700000    backend engineer   \n",
       "4                 qxen sqghu   2017.0  1400000  fullstack engineer   \n",
       "\n",
       "   ctc_updated_year  years_of_experience    count          mean           std  \\\n",
       "0            2020.0                  7.0      9.0  1.115667e+06  4.581119e+05   \n",
       "1            2019.0                  5.0    411.0  1.326951e+06  1.474961e+06   \n",
       "2            2020.0                  8.0  26657.0  1.427324e+06  1.910239e+06   \n",
       "3            2019.0                  6.0     67.0  1.729478e+06  9.861481e+05   \n",
       "4            2019.0                  6.0      6.0  9.400000e+05  3.898718e+05   \n",
       "\n",
       "        min        25%        50%        75%         max  \n",
       "0  500000.0   800000.0  1070000.0  1500000.0   1771000.0  \n",
       "1   38000.0   600000.0   900000.0  1700000.0  12600000.0  \n",
       "2   38000.0   420000.0   880000.0  1650000.0  12600000.0  \n",
       "3  200000.0  1100000.0  1400000.0  2100000.0   4700000.0  \n",
       "4  540000.0   625000.0   850000.0  1300000.0   1400000.0  "
      ]
     },
     "execution_count": 219,
     "metadata": {},
     "output_type": "execute_result"
    }
   ],
   "source": [
    "df_company.head(5)"
   ]
  },
  {
   "cell_type": "markdown",
   "id": "8b2dc3bd-1a8c-439f-8bf9-905e9c355c76",
   "metadata": {},
   "source": [
    "### Creating Tier basis on the salary in the companies"
   ]
  },
  {
   "cell_type": "code",
   "execution_count": 221,
   "id": "83887880-fd7c-488e-8e45-113165d63366",
   "metadata": {},
   "outputs": [],
   "source": [
    "df_company['tier'] =df_company.apply(lambda x: create_segment(x['ctc'],x['50%'],x['75%']),axis=1)\n",
    "\n"
   ]
  },
  {
   "cell_type": "code",
   "execution_count": 222,
   "id": "7e7d2b3a-ed00-4799-88c9-76e68a76edd7",
   "metadata": {},
   "outputs": [
    {
     "data": {
      "text/html": [
       "<div>\n",
       "<style scoped>\n",
       "    .dataframe tbody tr th:only-of-type {\n",
       "        vertical-align: middle;\n",
       "    }\n",
       "\n",
       "    .dataframe tbody tr th {\n",
       "        vertical-align: top;\n",
       "    }\n",
       "\n",
       "    .dataframe thead th {\n",
       "        text-align: right;\n",
       "    }\n",
       "</style>\n",
       "<table border=\"1\" class=\"dataframe\">\n",
       "  <thead>\n",
       "    <tr style=\"text-align: right;\">\n",
       "      <th></th>\n",
       "      <th>company_hash</th>\n",
       "      <th>orgyear</th>\n",
       "      <th>ctc</th>\n",
       "      <th>job_position</th>\n",
       "      <th>ctc_updated_year</th>\n",
       "      <th>years_of_experience</th>\n",
       "      <th>count</th>\n",
       "      <th>mean</th>\n",
       "      <th>std</th>\n",
       "      <th>min</th>\n",
       "      <th>25%</th>\n",
       "      <th>50%</th>\n",
       "      <th>75%</th>\n",
       "      <th>max</th>\n",
       "      <th>tier</th>\n",
       "    </tr>\n",
       "  </thead>\n",
       "  <tbody>\n",
       "    <tr>\n",
       "      <th>0</th>\n",
       "      <td>atrgxnnt xzaxv</td>\n",
       "      <td>2016.0</td>\n",
       "      <td>1100000</td>\n",
       "      <td>other</td>\n",
       "      <td>2020.0</td>\n",
       "      <td>7.0</td>\n",
       "      <td>9.0</td>\n",
       "      <td>1.115667e+06</td>\n",
       "      <td>4.581119e+05</td>\n",
       "      <td>500000.0</td>\n",
       "      <td>800000.0</td>\n",
       "      <td>1070000.0</td>\n",
       "      <td>1500000.0</td>\n",
       "      <td>1771000.0</td>\n",
       "      <td>2</td>\n",
       "    </tr>\n",
       "    <tr>\n",
       "      <th>1</th>\n",
       "      <td>qtrxvzwt xzegwgbb rxbxnta</td>\n",
       "      <td>2018.0</td>\n",
       "      <td>449999</td>\n",
       "      <td>fullstack engineer</td>\n",
       "      <td>2019.0</td>\n",
       "      <td>5.0</td>\n",
       "      <td>411.0</td>\n",
       "      <td>1.326951e+06</td>\n",
       "      <td>1.474961e+06</td>\n",
       "      <td>38000.0</td>\n",
       "      <td>600000.0</td>\n",
       "      <td>900000.0</td>\n",
       "      <td>1700000.0</td>\n",
       "      <td>12600000.0</td>\n",
       "      <td>3</td>\n",
       "    </tr>\n",
       "  </tbody>\n",
       "</table>\n",
       "</div>"
      ],
      "text/plain": [
       "                company_hash  orgyear      ctc        job_position  \\\n",
       "0             atrgxnnt xzaxv   2016.0  1100000               other   \n",
       "1  qtrxvzwt xzegwgbb rxbxnta   2018.0   449999  fullstack engineer   \n",
       "\n",
       "   ctc_updated_year  years_of_experience  count          mean           std  \\\n",
       "0            2020.0                  7.0    9.0  1.115667e+06  4.581119e+05   \n",
       "1            2019.0                  5.0  411.0  1.326951e+06  1.474961e+06   \n",
       "\n",
       "        min       25%        50%        75%         max  tier  \n",
       "0  500000.0  800000.0  1070000.0  1500000.0   1771000.0     2  \n",
       "1   38000.0  600000.0   900000.0  1700000.0  12600000.0     3  "
      ]
     },
     "execution_count": 222,
     "metadata": {},
     "output_type": "execute_result"
    }
   ],
   "source": [
    "df_company.head(2)"
   ]
  },
  {
   "cell_type": "code",
   "execution_count": 224,
   "id": "5110371c-6259-4baf-9e38-dfef6d1f1719",
   "metadata": {},
   "outputs": [
    {
     "data": {
      "text/plain": [
       "3    0.476858\n",
       "2    0.283037\n",
       "1    0.240105\n",
       "Name: tier, dtype: float64"
      ]
     },
     "execution_count": 224,
     "metadata": {},
     "output_type": "execute_result"
    }
   ],
   "source": [
    "df_company['tier'].value_counts(normalize=True)"
   ]
  },
  {
   "cell_type": "code",
   "execution_count": 225,
   "id": "cc276fea-07e7-4027-aa3d-2aed47d352c1",
   "metadata": {},
   "outputs": [
    {
     "data": {
      "text/html": [
       "<div>\n",
       "<style scoped>\n",
       "    .dataframe tbody tr th:only-of-type {\n",
       "        vertical-align: middle;\n",
       "    }\n",
       "\n",
       "    .dataframe tbody tr th {\n",
       "        vertical-align: top;\n",
       "    }\n",
       "\n",
       "    .dataframe thead th {\n",
       "        text-align: right;\n",
       "    }\n",
       "</style>\n",
       "<table border=\"1\" class=\"dataframe\">\n",
       "  <thead>\n",
       "    <tr style=\"text-align: right;\">\n",
       "      <th></th>\n",
       "      <th>company_hash</th>\n",
       "      <th>orgyear</th>\n",
       "      <th>ctc</th>\n",
       "      <th>job_position</th>\n",
       "      <th>ctc_updated_year</th>\n",
       "      <th>years_of_experience</th>\n",
       "      <th>tier</th>\n",
       "    </tr>\n",
       "  </thead>\n",
       "  <tbody>\n",
       "    <tr>\n",
       "      <th>0</th>\n",
       "      <td>atrgxnnt xzaxv</td>\n",
       "      <td>2016.0</td>\n",
       "      <td>1100000</td>\n",
       "      <td>other</td>\n",
       "      <td>2020.0</td>\n",
       "      <td>7.0</td>\n",
       "      <td>2</td>\n",
       "    </tr>\n",
       "    <tr>\n",
       "      <th>1</th>\n",
       "      <td>qtrxvzwt xzegwgbb rxbxnta</td>\n",
       "      <td>2018.0</td>\n",
       "      <td>449999</td>\n",
       "      <td>fullstack engineer</td>\n",
       "      <td>2019.0</td>\n",
       "      <td>5.0</td>\n",
       "      <td>3</td>\n",
       "    </tr>\n",
       "    <tr>\n",
       "      <th>2</th>\n",
       "      <td>Others</td>\n",
       "      <td>2015.0</td>\n",
       "      <td>2000000</td>\n",
       "      <td>backend engineer</td>\n",
       "      <td>2020.0</td>\n",
       "      <td>8.0</td>\n",
       "      <td>1</td>\n",
       "    </tr>\n",
       "    <tr>\n",
       "      <th>3</th>\n",
       "      <td>ngpgutaxv</td>\n",
       "      <td>2017.0</td>\n",
       "      <td>700000</td>\n",
       "      <td>backend engineer</td>\n",
       "      <td>2019.0</td>\n",
       "      <td>6.0</td>\n",
       "      <td>3</td>\n",
       "    </tr>\n",
       "    <tr>\n",
       "      <th>4</th>\n",
       "      <td>qxen sqghu</td>\n",
       "      <td>2017.0</td>\n",
       "      <td>1400000</td>\n",
       "      <td>fullstack engineer</td>\n",
       "      <td>2019.0</td>\n",
       "      <td>6.0</td>\n",
       "      <td>1</td>\n",
       "    </tr>\n",
       "  </tbody>\n",
       "</table>\n",
       "</div>"
      ],
      "text/plain": [
       "                company_hash  orgyear      ctc        job_position  \\\n",
       "0             atrgxnnt xzaxv   2016.0  1100000               other   \n",
       "1  qtrxvzwt xzegwgbb rxbxnta   2018.0   449999  fullstack engineer   \n",
       "2                     Others   2015.0  2000000    backend engineer   \n",
       "3                  ngpgutaxv   2017.0   700000    backend engineer   \n",
       "4                 qxen sqghu   2017.0  1400000  fullstack engineer   \n",
       "\n",
       "   ctc_updated_year  years_of_experience  tier  \n",
       "0            2020.0                  7.0     2  \n",
       "1            2019.0                  5.0     3  \n",
       "2            2020.0                  8.0     1  \n",
       "3            2019.0                  6.0     3  \n",
       "4            2019.0                  6.0     1  "
      ]
     },
     "execution_count": 225,
     "metadata": {},
     "output_type": "execute_result"
    }
   ],
   "source": [
    "df_company.drop(columns=['count','mean','std','min','25%','50%','75%','max'],inplace=True)\n",
    "df_company.head()"
   ]
  },
  {
   "cell_type": "code",
   "execution_count": 226,
   "id": "b2369d69-fad7-4c85-91ce-928ba5661119",
   "metadata": {},
   "outputs": [],
   "source": [
    "df_company_job_yoe_Merged_company=df_company_job_yoe_Merged.merge(df_company, on=['company_hash','orgyear','ctc','job_position','years_of_experience','ctc_updated_year'], how='left')\n"
   ]
  },
  {
   "cell_type": "code",
   "execution_count": 227,
   "id": "10ad2239-b923-4f30-b8ed-a6c54bf045d5",
   "metadata": {},
   "outputs": [
    {
     "data": {
      "text/html": [
       "<div>\n",
       "<style scoped>\n",
       "    .dataframe tbody tr th:only-of-type {\n",
       "        vertical-align: middle;\n",
       "    }\n",
       "\n",
       "    .dataframe tbody tr th {\n",
       "        vertical-align: top;\n",
       "    }\n",
       "\n",
       "    .dataframe thead th {\n",
       "        text-align: right;\n",
       "    }\n",
       "</style>\n",
       "<table border=\"1\" class=\"dataframe\">\n",
       "  <thead>\n",
       "    <tr style=\"text-align: right;\">\n",
       "      <th></th>\n",
       "      <th>company_hash</th>\n",
       "      <th>orgyear</th>\n",
       "      <th>ctc</th>\n",
       "      <th>job_position</th>\n",
       "      <th>ctc_updated_year</th>\n",
       "      <th>years_of_experience</th>\n",
       "      <th>classs</th>\n",
       "      <th>designation</th>\n",
       "      <th>tier</th>\n",
       "    </tr>\n",
       "  </thead>\n",
       "  <tbody>\n",
       "    <tr>\n",
       "      <th>0</th>\n",
       "      <td>atrgxnnt xzaxv</td>\n",
       "      <td>2016.0</td>\n",
       "      <td>1100000</td>\n",
       "      <td>other</td>\n",
       "      <td>2020.0</td>\n",
       "      <td>7.0</td>\n",
       "      <td>1</td>\n",
       "      <td>2</td>\n",
       "      <td>2</td>\n",
       "    </tr>\n",
       "    <tr>\n",
       "      <th>1</th>\n",
       "      <td>qtrxvzwt xzegwgbb rxbxnta</td>\n",
       "      <td>2018.0</td>\n",
       "      <td>449999</td>\n",
       "      <td>fullstack engineer</td>\n",
       "      <td>2019.0</td>\n",
       "      <td>5.0</td>\n",
       "      <td>3</td>\n",
       "      <td>3</td>\n",
       "      <td>3</td>\n",
       "    </tr>\n",
       "    <tr>\n",
       "      <th>2</th>\n",
       "      <td>Others</td>\n",
       "      <td>2015.0</td>\n",
       "      <td>2000000</td>\n",
       "      <td>backend engineer</td>\n",
       "      <td>2020.0</td>\n",
       "      <td>8.0</td>\n",
       "      <td>1</td>\n",
       "      <td>1</td>\n",
       "      <td>1</td>\n",
       "    </tr>\n",
       "    <tr>\n",
       "      <th>3</th>\n",
       "      <td>ngpgutaxv</td>\n",
       "      <td>2017.0</td>\n",
       "      <td>700000</td>\n",
       "      <td>backend engineer</td>\n",
       "      <td>2019.0</td>\n",
       "      <td>6.0</td>\n",
       "      <td>3</td>\n",
       "      <td>3</td>\n",
       "      <td>3</td>\n",
       "    </tr>\n",
       "    <tr>\n",
       "      <th>4</th>\n",
       "      <td>qxen sqghu</td>\n",
       "      <td>2017.0</td>\n",
       "      <td>1400000</td>\n",
       "      <td>fullstack engineer</td>\n",
       "      <td>2019.0</td>\n",
       "      <td>6.0</td>\n",
       "      <td>1</td>\n",
       "      <td>2</td>\n",
       "      <td>1</td>\n",
       "    </tr>\n",
       "    <tr>\n",
       "      <th>5</th>\n",
       "      <td>yvuuxrj hzbvqqxta bvqptnxzs ucn rna</td>\n",
       "      <td>2018.0</td>\n",
       "      <td>700000</td>\n",
       "      <td>fullstack engineer</td>\n",
       "      <td>2020.0</td>\n",
       "      <td>5.0</td>\n",
       "      <td>2</td>\n",
       "      <td>2</td>\n",
       "      <td>2</td>\n",
       "    </tr>\n",
       "    <tr>\n",
       "      <th>6</th>\n",
       "      <td>lubgqsvz wyvotwg</td>\n",
       "      <td>2018.0</td>\n",
       "      <td>1500000</td>\n",
       "      <td>fullstack engineer</td>\n",
       "      <td>2019.0</td>\n",
       "      <td>5.0</td>\n",
       "      <td>3</td>\n",
       "      <td>3</td>\n",
       "      <td>3</td>\n",
       "    </tr>\n",
       "    <tr>\n",
       "      <th>7</th>\n",
       "      <td>vwwtznhqt ntwyzgrgsj</td>\n",
       "      <td>2019.0</td>\n",
       "      <td>400000</td>\n",
       "      <td>backend engineer</td>\n",
       "      <td>2019.0</td>\n",
       "      <td>4.0</td>\n",
       "      <td>3</td>\n",
       "      <td>3</td>\n",
       "      <td>3</td>\n",
       "    </tr>\n",
       "    <tr>\n",
       "      <th>8</th>\n",
       "      <td>utqoxontzn ojontbo</td>\n",
       "      <td>2020.0</td>\n",
       "      <td>450000</td>\n",
       "      <td>nan</td>\n",
       "      <td>2019.0</td>\n",
       "      <td>3.0</td>\n",
       "      <td>3</td>\n",
       "      <td>2</td>\n",
       "      <td>3</td>\n",
       "    </tr>\n",
       "    <tr>\n",
       "      <th>9</th>\n",
       "      <td>Others</td>\n",
       "      <td>2019.0</td>\n",
       "      <td>360000</td>\n",
       "      <td>nan</td>\n",
       "      <td>2019.0</td>\n",
       "      <td>4.0</td>\n",
       "      <td>3</td>\n",
       "      <td>3</td>\n",
       "      <td>3</td>\n",
       "    </tr>\n",
       "  </tbody>\n",
       "</table>\n",
       "</div>"
      ],
      "text/plain": [
       "                          company_hash  orgyear      ctc        job_position  \\\n",
       "0                       atrgxnnt xzaxv   2016.0  1100000               other   \n",
       "1            qtrxvzwt xzegwgbb rxbxnta   2018.0   449999  fullstack engineer   \n",
       "2                               Others   2015.0  2000000    backend engineer   \n",
       "3                            ngpgutaxv   2017.0   700000    backend engineer   \n",
       "4                           qxen sqghu   2017.0  1400000  fullstack engineer   \n",
       "5  yvuuxrj hzbvqqxta bvqptnxzs ucn rna   2018.0   700000  fullstack engineer   \n",
       "6                     lubgqsvz wyvotwg   2018.0  1500000  fullstack engineer   \n",
       "7                 vwwtznhqt ntwyzgrgsj   2019.0   400000    backend engineer   \n",
       "8                   utqoxontzn ojontbo   2020.0   450000                 nan   \n",
       "9                               Others   2019.0   360000                 nan   \n",
       "\n",
       "   ctc_updated_year  years_of_experience  classs  designation  tier  \n",
       "0            2020.0                  7.0       1            2     2  \n",
       "1            2019.0                  5.0       3            3     3  \n",
       "2            2020.0                  8.0       1            1     1  \n",
       "3            2019.0                  6.0       3            3     3  \n",
       "4            2019.0                  6.0       1            2     1  \n",
       "5            2020.0                  5.0       2            2     2  \n",
       "6            2019.0                  5.0       3            3     3  \n",
       "7            2019.0                  4.0       3            3     3  \n",
       "8            2019.0                  3.0       3            2     3  \n",
       "9            2019.0                  4.0       3            3     3  "
      ]
     },
     "execution_count": 227,
     "metadata": {},
     "output_type": "execute_result"
    }
   ],
   "source": [
    "df_company_job_yoe_Merged_company.head(10)"
   ]
  },
  {
   "cell_type": "markdown",
   "id": "cbd7d837-ccfe-438c-8b05-157e6388e58f",
   "metadata": {},
   "source": [
    "### -------------------------------------------------\n",
    "### Features for Hierarchical and k-means clustering\n",
    "\n"
   ]
  },
  {
   "cell_type": "code",
   "execution_count": 266,
   "id": "bf0fee95-7c8b-48c3-9c74-ef3548625509",
   "metadata": {},
   "outputs": [],
   "source": [
    "X = df_company_job_yoe_Merged_company[['ctc', 'years_of_experience','orgyear' ,'classs', 'designation', 'tier']].copy()\n"
   ]
  },
  {
   "cell_type": "code",
   "execution_count": 267,
   "id": "1381844b-500b-4917-a137-89169ad4cf7d",
   "metadata": {},
   "outputs": [
    {
     "data": {
      "text/plain": [
       "Index(['ctc', 'years_of_experience', 'orgyear', 'classs', 'designation',\n",
       "       'tier'],\n",
       "      dtype='object')"
      ]
     },
     "execution_count": 267,
     "metadata": {},
     "output_type": "execute_result"
    }
   ],
   "source": [
    "X.columns"
   ]
  },
  {
   "cell_type": "code",
   "execution_count": 270,
   "id": "bda6305e-4e87-47bf-aadf-c55b0af4b753",
   "metadata": {},
   "outputs": [],
   "source": [
    "from sklearn.preprocessing import StandardScaler\n",
    "\n",
    "scaler = StandardScaler()\n",
    "scaler.fit(X)\n",
    "X_scaled = pd.DataFrame(scaler.transform(X), columns=X.columns, index=X.index)"
   ]
  },
  {
   "cell_type": "code",
   "execution_count": 271,
   "id": "c1903eb2-af0a-40c3-a6dc-9a50aab5f186",
   "metadata": {},
   "outputs": [
    {
     "data": {
      "text/html": [
       "<div>\n",
       "<style scoped>\n",
       "    .dataframe tbody tr th:only-of-type {\n",
       "        vertical-align: middle;\n",
       "    }\n",
       "\n",
       "    .dataframe tbody tr th {\n",
       "        vertical-align: top;\n",
       "    }\n",
       "\n",
       "    .dataframe thead th {\n",
       "        text-align: right;\n",
       "    }\n",
       "</style>\n",
       "<table border=\"1\" class=\"dataframe\">\n",
       "  <thead>\n",
       "    <tr style=\"text-align: right;\">\n",
       "      <th></th>\n",
       "      <th>ctc</th>\n",
       "      <th>years_of_experience</th>\n",
       "      <th>orgyear</th>\n",
       "      <th>classs</th>\n",
       "      <th>designation</th>\n",
       "      <th>tier</th>\n",
       "    </tr>\n",
       "  </thead>\n",
       "  <tbody>\n",
       "    <tr>\n",
       "      <th>0</th>\n",
       "      <td>-0.246033</td>\n",
       "      <td>-0.280526</td>\n",
       "      <td>0.280526</td>\n",
       "      <td>-1.484317</td>\n",
       "      <td>-0.165605</td>\n",
       "      <td>-0.291223</td>\n",
       "    </tr>\n",
       "    <tr>\n",
       "      <th>1</th>\n",
       "      <td>-0.631650</td>\n",
       "      <td>-0.762470</td>\n",
       "      <td>0.762470</td>\n",
       "      <td>1.008621</td>\n",
       "      <td>1.204467</td>\n",
       "      <td>0.938844</td>\n",
       "    </tr>\n",
       "    <tr>\n",
       "      <th>2</th>\n",
       "      <td>0.287898</td>\n",
       "      <td>-0.039554</td>\n",
       "      <td>0.039554</td>\n",
       "      <td>-1.484317</td>\n",
       "      <td>-1.535678</td>\n",
       "      <td>-1.521290</td>\n",
       "    </tr>\n",
       "    <tr>\n",
       "      <th>3</th>\n",
       "      <td>-0.483335</td>\n",
       "      <td>-0.521498</td>\n",
       "      <td>0.521498</td>\n",
       "      <td>1.008621</td>\n",
       "      <td>1.204467</td>\n",
       "      <td>0.938844</td>\n",
       "    </tr>\n",
       "    <tr>\n",
       "      <th>4</th>\n",
       "      <td>-0.068056</td>\n",
       "      <td>-0.521498</td>\n",
       "      <td>0.521498</td>\n",
       "      <td>-1.484317</td>\n",
       "      <td>-0.165605</td>\n",
       "      <td>-1.521290</td>\n",
       "    </tr>\n",
       "  </tbody>\n",
       "</table>\n",
       "</div>"
      ],
      "text/plain": [
       "        ctc  years_of_experience   orgyear    classs  designation      tier\n",
       "0 -0.246033            -0.280526  0.280526 -1.484317    -0.165605 -0.291223\n",
       "1 -0.631650            -0.762470  0.762470  1.008621     1.204467  0.938844\n",
       "2  0.287898            -0.039554  0.039554 -1.484317    -1.535678 -1.521290\n",
       "3 -0.483335            -0.521498  0.521498  1.008621     1.204467  0.938844\n",
       "4 -0.068056            -0.521498  0.521498 -1.484317    -0.165605 -1.521290"
      ]
     },
     "execution_count": 271,
     "metadata": {},
     "output_type": "execute_result"
    }
   ],
   "source": [
    "X_scaled.head()"
   ]
  },
  {
   "cell_type": "code",
   "execution_count": 272,
   "id": "ae9343d4-b7ce-4193-9c99-8d849b0e91d8",
   "metadata": {},
   "outputs": [
    {
     "data": {
      "text/plain": [
       "(166819, 6)"
      ]
     },
     "execution_count": 272,
     "metadata": {},
     "output_type": "execute_result"
    }
   ],
   "source": [
    "X_scaled.shape"
   ]
  },
  {
   "cell_type": "markdown",
   "id": "a0b8471c-a60f-4643-a959-67b03f3cde5f",
   "metadata": {},
   "source": [
    "### 1. Heirarchical clustering"
   ]
  },
  {
   "cell_type": "code",
   "execution_count": 273,
   "id": "5422c5a2-2c88-4446-9a0f-ef8d1c401b37",
   "metadata": {},
   "outputs": [
    {
     "data": {
      "text/plain": [
       "Text(17.200000000000017, 0.5, 'distance')"
      ]
     },
     "execution_count": 273,
     "metadata": {},
     "output_type": "execute_result"
    },
    {
     "data": {
      "image/png": "[encoded data removed]",
      "text/plain": [
       "<Figure size 1440x864 with 1 Axes>"
      ]
     },
     "metadata": {
      "needs_background": "light"
     },
     "output_type": "display_data"
    },
    {
     "data": {
      "image/png": "[encoded data removed]",
      "text/plain": [
       "<Figure size 1440x864 with 1 Axes>"
      ]
     },
     "metadata": {
      "needs_background": "light"
     },
     "output_type": "display_data"
    },
    {
     "data": {
      "image/png": "[encoded data removed]",
      "text/plain": [
       "<Figure size 1440x864 with 1 Axes>"
      ]
     },
     "metadata": {
      "needs_background": "light"
     },
     "output_type": "display_data"
    }
   ],
   "source": [
    "import scipy.cluster.hierarchy as h_cluster\n",
    "\n",
    "sample = X_scaled.sample(500)\n",
    "Z = h_cluster.linkage(sample, method='ward')\n",
    "\n",
    "fig, ax1 = plt.subplots(figsize=(20, 12))\n",
    "h_cluster.dendrogram(Z, labels=sample.index, ax=ax1, color_threshold=2)\n",
    "plt.xticks(rotation=90)\n",
    "ax.set_ylabel('distance')\n",
    "\n",
    "fig, ax2 = plt.subplots(figsize=(20, 12))\n",
    "h_cluster.dendrogram(Z, labels=sample.index, ax=ax2, color_threshold=2)\n",
    "plt.xticks(rotation=90)\n",
    "ax.set_ylabel('distance')\n",
    "\n",
    "fig, ax3 = plt.subplots(figsize=(20, 12))\n",
    "h_cluster.dendrogram(Z, labels=sample.index, ax=ax3, color_threshold=2)\n",
    "plt.xticks(rotation=90)\n",
    "ax.set_ylabel('distance')"
   ]
  },
  {
   "cell_type": "markdown",
   "id": "b15105f6-583c-45a6-bf9c-16864bcd8b54",
   "metadata": {},
   "source": [
    "### 2. KMeans clustering"
   ]
  },
  {
   "cell_type": "code",
   "execution_count": 241,
   "id": "2513a959-1bdb-42a2-b8a0-9fc35ffda1a9",
   "metadata": {},
   "outputs": [],
   "source": [
    "from sklearn.cluster import KMeans"
   ]
  },
  {
   "cell_type": "code",
   "execution_count": 274,
   "id": "3894c9f1-8e66-45d3-87d6-68f78dd00baa",
   "metadata": {},
   "outputs": [],
   "source": [
    "for i in range(1,10):\n",
    "    k = 4\n",
    "    kM = KMeans(n_clusters=k, random_state=654)\n",
    "    y_pred = kM.fit_predict(X_scaled)"
   ]
  },
  {
   "cell_type": "code",
   "execution_count": 275,
   "id": "f00e300d-0fc5-4d77-a9b9-4e80f4f66f8c",
   "metadata": {},
   "outputs": [
    {
     "data": {
      "text/plain": [
       "[1000913.9999999992,\n",
       " 635408.6037898303,\n",
       " 491220.8529038671,\n",
       " 410367.8870669769,\n",
       " 355402.1403569616,\n",
       " 308834.86913137423,\n",
       " 280641.6764488734,\n",
       " 254563.0494184827,\n",
       " 236446.00811402913]"
      ]
     },
     "execution_count": 275,
     "metadata": {},
     "output_type": "execute_result"
    }
   ],
   "source": [
    "kmeans_per_k = [KMeans(n_clusters=k, random_state=42).fit(X_scaled) \n",
    "                for k in range(1, 10)]\n",
    "inertias = [model.inertia_ for model in kmeans_per_k]\n",
    "inertias"
   ]
  },
  {
   "cell_type": "code",
   "execution_count": 276,
   "id": "fb33e80a-0ce3-4aa3-9f6c-271356b33ae1",
   "metadata": {},
   "outputs": [
    {
     "data": {
      "text/plain": [
       "[KMeans(n_clusters=1, random_state=42),\n",
       " KMeans(n_clusters=2, random_state=42),\n",
       " KMeans(n_clusters=3, random_state=42),\n",
       " KMeans(n_clusters=4, random_state=42),\n",
       " KMeans(n_clusters=5, random_state=42),\n",
       " KMeans(n_clusters=6, random_state=42),\n",
       " KMeans(n_clusters=7, random_state=42),\n",
       " KMeans(random_state=42),\n",
       " KMeans(n_clusters=9, random_state=42)]"
      ]
     },
     "execution_count": 276,
     "metadata": {},
     "output_type": "execute_result"
    }
   ],
   "source": [
    "kmeans_per_k"
   ]
  },
  {
   "cell_type": "markdown",
   "id": "bbb7e5cf-6d95-4bb1-b977-9de31f6ca74f",
   "metadata": {},
   "source": [
    "### elbow plot to get number of clusters"
   ]
  },
  {
   "cell_type": "code",
   "execution_count": 277,
   "id": "3f48f41a-2f2c-4a94-9039-0a0868c6f4e8",
   "metadata": {},
   "outputs": [
    {
     "data": {
      "image/png": "[encoded data removed]",
      "text/plain": [
       "<Figure size 864x576 with 1 Axes>"
      ]
     },
     "metadata": {
      "needs_background": "light"
     },
     "output_type": "display_data"
    }
   ],
   "source": [
    "plt.figure(figsize=(12, 8))\n",
    "plt.plot(range(1, 10), inertias, \"bo-\")\n",
    "plt.xlabel(\"$k$\", fontsize=14)\n",
    "plt.ylabel(\"Inertia\", fontsize=14)\n",
    "plt.annotate('Elbow',\n",
    " xy=(3, inertias[2]),\n",
    " xytext=(0.55, 0.55),\n",
    " textcoords='figure fraction',\n",
    " fontsize=16,\n",
    " arrowprops=dict(facecolor='red', shrink=0.0001)\n",
    " )\n",
    "plt.show()"
   ]
  },
  {
   "cell_type": "markdown",
   "id": "7820f0b6-e660-4f6c-985c-211e672dd44c",
   "metadata": {},
   "source": [
    "### k means with n=3"
   ]
  },
  {
   "cell_type": "code",
   "execution_count": 278,
   "id": "4289479a-bc30-4585-bc91-4f463345d4bb",
   "metadata": {},
   "outputs": [],
   "source": [
    "k = 3\n",
    "kM = KMeans(n_clusters=k,random_state=654)\n",
    "y_pred = kM.fit_predict(X_scaled)"
   ]
  },
  {
   "cell_type": "code",
   "execution_count": 279,
   "id": "e90b0abb-d47d-4295-9b31-eebf91549bfa",
   "metadata": {},
   "outputs": [],
   "source": [
    "clusters = pd.DataFrame(X, columns=X.columns)\n",
    "clusters['label'] = kM.labels_"
   ]
  },
  {
   "cell_type": "code",
   "execution_count": 280,
   "id": "c30d611f-d12c-4cf4-add8-5d94643c576a",
   "metadata": {},
   "outputs": [
    {
     "data": {
      "text/html": [
       "<div>\n",
       "<style scoped>\n",
       "    .dataframe tbody tr th:only-of-type {\n",
       "        vertical-align: middle;\n",
       "    }\n",
       "\n",
       "    .dataframe tbody tr th {\n",
       "        vertical-align: top;\n",
       "    }\n",
       "\n",
       "    .dataframe thead th {\n",
       "        text-align: right;\n",
       "    }\n",
       "</style>\n",
       "<table border=\"1\" class=\"dataframe\">\n",
       "  <thead>\n",
       "    <tr style=\"text-align: right;\">\n",
       "      <th></th>\n",
       "      <th>ctc</th>\n",
       "      <th>years_of_experience</th>\n",
       "      <th>orgyear</th>\n",
       "      <th>classs</th>\n",
       "      <th>designation</th>\n",
       "      <th>tier</th>\n",
       "      <th>label</th>\n",
       "    </tr>\n",
       "  </thead>\n",
       "  <tbody>\n",
       "    <tr>\n",
       "      <th>110086</th>\n",
       "      <td>900000</td>\n",
       "      <td>11.0</td>\n",
       "      <td>2012.0</td>\n",
       "      <td>3</td>\n",
       "      <td>2</td>\n",
       "      <td>3</td>\n",
       "      <td>2</td>\n",
       "    </tr>\n",
       "    <tr>\n",
       "      <th>127872</th>\n",
       "      <td>3200000</td>\n",
       "      <td>7.0</td>\n",
       "      <td>2016.0</td>\n",
       "      <td>2</td>\n",
       "      <td>2</td>\n",
       "      <td>2</td>\n",
       "      <td>1</td>\n",
       "    </tr>\n",
       "    <tr>\n",
       "      <th>64391</th>\n",
       "      <td>900000</td>\n",
       "      <td>6.0</td>\n",
       "      <td>2017.0</td>\n",
       "      <td>2</td>\n",
       "      <td>2</td>\n",
       "      <td>2</td>\n",
       "      <td>1</td>\n",
       "    </tr>\n",
       "    <tr>\n",
       "      <th>133944</th>\n",
       "      <td>819999</td>\n",
       "      <td>10.0</td>\n",
       "      <td>2013.0</td>\n",
       "      <td>2</td>\n",
       "      <td>2</td>\n",
       "      <td>2</td>\n",
       "      <td>1</td>\n",
       "    </tr>\n",
       "    <tr>\n",
       "      <th>42010</th>\n",
       "      <td>1350000</td>\n",
       "      <td>4.0</td>\n",
       "      <td>2019.0</td>\n",
       "      <td>1</td>\n",
       "      <td>2</td>\n",
       "      <td>3</td>\n",
       "      <td>1</td>\n",
       "    </tr>\n",
       "    <tr>\n",
       "      <th>146031</th>\n",
       "      <td>2740000</td>\n",
       "      <td>10.0</td>\n",
       "      <td>2013.0</td>\n",
       "      <td>2</td>\n",
       "      <td>1</td>\n",
       "      <td>2</td>\n",
       "      <td>1</td>\n",
       "    </tr>\n",
       "    <tr>\n",
       "      <th>41966</th>\n",
       "      <td>260000</td>\n",
       "      <td>9.0</td>\n",
       "      <td>2014.0</td>\n",
       "      <td>3</td>\n",
       "      <td>3</td>\n",
       "      <td>3</td>\n",
       "      <td>2</td>\n",
       "    </tr>\n",
       "    <tr>\n",
       "      <th>25019</th>\n",
       "      <td>1800000</td>\n",
       "      <td>3.0</td>\n",
       "      <td>2020.0</td>\n",
       "      <td>1</td>\n",
       "      <td>1</td>\n",
       "      <td>1</td>\n",
       "      <td>1</td>\n",
       "    </tr>\n",
       "    <tr>\n",
       "      <th>54519</th>\n",
       "      <td>600000</td>\n",
       "      <td>8.0</td>\n",
       "      <td>2015.0</td>\n",
       "      <td>3</td>\n",
       "      <td>3</td>\n",
       "      <td>3</td>\n",
       "      <td>2</td>\n",
       "    </tr>\n",
       "    <tr>\n",
       "      <th>119104</th>\n",
       "      <td>1400000</td>\n",
       "      <td>10.0</td>\n",
       "      <td>2013.0</td>\n",
       "      <td>2</td>\n",
       "      <td>2</td>\n",
       "      <td>3</td>\n",
       "      <td>2</td>\n",
       "    </tr>\n",
       "  </tbody>\n",
       "</table>\n",
       "</div>"
      ],
      "text/plain": [
       "            ctc  years_of_experience  orgyear  classs  designation  tier  \\\n",
       "110086   900000                 11.0   2012.0       3            2     3   \n",
       "127872  3200000                  7.0   2016.0       2            2     2   \n",
       "64391    900000                  6.0   2017.0       2            2     2   \n",
       "133944   819999                 10.0   2013.0       2            2     2   \n",
       "42010   1350000                  4.0   2019.0       1            2     3   \n",
       "146031  2740000                 10.0   2013.0       2            1     2   \n",
       "41966    260000                  9.0   2014.0       3            3     3   \n",
       "25019   1800000                  3.0   2020.0       1            1     1   \n",
       "54519    600000                  8.0   2015.0       3            3     3   \n",
       "119104  1400000                 10.0   2013.0       2            2     3   \n",
       "\n",
       "        label  \n",
       "110086      2  \n",
       "127872      1  \n",
       "64391       1  \n",
       "133944      1  \n",
       "42010       1  \n",
       "146031      1  \n",
       "41966       2  \n",
       "25019       1  \n",
       "54519       2  \n",
       "119104      2  "
      ]
     },
     "execution_count": 280,
     "metadata": {},
     "output_type": "execute_result"
    }
   ],
   "source": [
    "clusters.sample(10)"
   ]
  },
  {
   "cell_type": "code",
   "execution_count": 281,
   "id": "3fbf9529-13ee-4d29-bee0-bb07108b6be5",
   "metadata": {},
   "outputs": [
    {
     "data": {
      "text/plain": [
       "(166819, 7)"
      ]
     },
     "execution_count": 281,
     "metadata": {},
     "output_type": "execute_result"
    }
   ],
   "source": [
    "clusters.shape"
   ]
  },
  {
   "cell_type": "code",
   "execution_count": 282,
   "id": "35078804-6e48-4447-84ee-e4c16265d40f",
   "metadata": {},
   "outputs": [
    {
     "data": {
      "text/plain": [
       "ctc                      int64\n",
       "years_of_experience    float64\n",
       "orgyear                float64\n",
       "classs                   int64\n",
       "designation              int64\n",
       "tier                     int64\n",
       "label                    int32\n",
       "dtype: object"
      ]
     },
     "execution_count": 282,
     "metadata": {},
     "output_type": "execute_result"
    }
   ],
   "source": [
    "clusters.dtypes"
   ]
  },
  {
   "cell_type": "code",
   "execution_count": 283,
   "id": "bd440c61-ac43-411f-8612-e5a47b3250a6",
   "metadata": {},
   "outputs": [
    {
     "data": {
      "text/plain": [
       "<AxesSubplot:xlabel='years_of_experience', ylabel='ctc'>"
      ]
     },
     "execution_count": 283,
     "metadata": {},
     "output_type": "execute_result"
    },
    {
     "data": {
      "image/png": "[encoded data removed]",
      "text/plain": [
       "<Figure size 432x288 with 1 Axes>"
      ]
     },
     "metadata": {
      "needs_background": "light"
     },
     "output_type": "display_data"
    }
   ],
   "source": [
    "sns.scatterplot(x = clusters['years_of_experience'], y = clusters['ctc'], hue = clusters['label'],\n",
    "               )"
   ]
  },
  {
   "cell_type": "code",
   "execution_count": 284,
   "id": "54973e36-7beb-402e-8327-21e09f0160ee",
   "metadata": {},
   "outputs": [
    {
     "data": {
      "text/plain": [
       "<AxesSubplot:xlabel='years_of_experience'>"
      ]
     },
     "execution_count": 284,
     "metadata": {},
     "output_type": "execute_result"
    },
    {
     "data": {
      "image/png": "[encoded data removed]",
      "text/plain": [
       "<Figure size 432x288 with 1 Axes>"
      ]
     },
     "metadata": {
      "needs_background": "light"
     },
     "output_type": "display_data"
    }
   ],
   "source": [
    "pd.crosstab(columns = clusters[\"label\"],\n",
    " index = clusters[\"years_of_experience\"],\n",
    " values=clusters[\"ctc\"],aggfunc= np.mean\n",
    " ).plot(kind = \"bar\")"
   ]
  },
  {
   "cell_type": "markdown",
   "id": "173642f2-6319-43d6-9223-a25fab2e1d3a",
   "metadata": {},
   "source": [
    "### 1. Cluster1 : label 2 -> defined as year of experience < 15years and CTC <10L\n",
    "### 2. Cluster2: label 1 -> defined as year of experience < 12 years and CTC < 20L (higher CTC comapred to cluster 1)\n",
    "### 3. Cluster3: label 0 -> defined as year of expereince > 9 years and < 22 years, and higher CTC of 20-25L\n"
   ]
  },
  {
   "cell_type": "markdown",
   "id": "192865ca-310a-40f0-ac43-3a0504223b6e",
   "metadata": {},
   "source": [
    "### The three clusters are summarised as:"
   ]
  },
  {
   "cell_type": "code",
   "execution_count": 293,
   "id": "1e22a9e6-fd79-49fe-9273-6eb335bad3fe",
   "metadata": {},
   "outputs": [
    {
     "data": {
      "text/html": [
       "<div>\n",
       "<style scoped>\n",
       "    .dataframe tbody tr th:only-of-type {\n",
       "        vertical-align: middle;\n",
       "    }\n",
       "\n",
       "    .dataframe tbody tr th {\n",
       "        vertical-align: top;\n",
       "    }\n",
       "\n",
       "    .dataframe thead th {\n",
       "        text-align: right;\n",
       "    }\n",
       "</style>\n",
       "<table border=\"1\" class=\"dataframe\">\n",
       "  <thead>\n",
       "    <tr style=\"text-align: right;\">\n",
       "      <th></th>\n",
       "      <th>label</th>\n",
       "      <th>0</th>\n",
       "      <th>1</th>\n",
       "      <th>2</th>\n",
       "    </tr>\n",
       "  </thead>\n",
       "  <tbody>\n",
       "    <tr>\n",
       "      <th rowspan=\"8\" valign=\"top\">ctc</th>\n",
       "      <th>count</th>\n",
       "      <td>3.020900e+04</td>\n",
       "      <td>5.512400e+04</td>\n",
       "      <td>8.148600e+04</td>\n",
       "    </tr>\n",
       "    <tr>\n",
       "      <th>mean</th>\n",
       "      <td>2.446509e+06</td>\n",
       "      <td>2.118561e+06</td>\n",
       "      <td>7.607826e+05</td>\n",
       "    </tr>\n",
       "    <tr>\n",
       "      <th>std</th>\n",
       "      <td>1.985710e+06</td>\n",
       "      <td>2.083855e+06</td>\n",
       "      <td>5.295868e+05</td>\n",
       "    </tr>\n",
       "    <tr>\n",
       "      <th>min</th>\n",
       "      <td>3.800000e+04</td>\n",
       "      <td>3.800000e+04</td>\n",
       "      <td>3.800000e+04</td>\n",
       "    </tr>\n",
       "    <tr>\n",
       "      <th>25%</th>\n",
       "      <td>1.300000e+06</td>\n",
       "      <td>1.000000e+06</td>\n",
       "      <td>4.000000e+05</td>\n",
       "    </tr>\n",
       "    <tr>\n",
       "      <th>50%</th>\n",
       "      <td>2.000000e+06</td>\n",
       "      <td>1.500000e+06</td>\n",
       "      <td>6.300000e+05</td>\n",
       "    </tr>\n",
       "    <tr>\n",
       "      <th>75%</th>\n",
       "      <td>3.000000e+06</td>\n",
       "      <td>2.400000e+06</td>\n",
       "      <td>1.000000e+06</td>\n",
       "    </tr>\n",
       "    <tr>\n",
       "      <th>max</th>\n",
       "      <td>1.260000e+07</td>\n",
       "      <td>1.260000e+07</td>\n",
       "      <td>7.000000e+06</td>\n",
       "    </tr>\n",
       "    <tr>\n",
       "      <th rowspan=\"8\" valign=\"top\">classs</th>\n",
       "      <th>count</th>\n",
       "      <td>3.020900e+04</td>\n",
       "      <td>5.512400e+04</td>\n",
       "      <td>8.148600e+04</td>\n",
       "    </tr>\n",
       "    <tr>\n",
       "      <th>mean</th>\n",
       "      <td>1.661061e+00</td>\n",
       "      <td>1.533706e+00</td>\n",
       "      <td>2.831738e+00</td>\n",
       "    </tr>\n",
       "    <tr>\n",
       "      <th>std</th>\n",
       "      <td>7.054805e-01</td>\n",
       "      <td>5.244312e-01</td>\n",
       "      <td>3.743962e-01</td>\n",
       "    </tr>\n",
       "    <tr>\n",
       "      <th>min</th>\n",
       "      <td>1.000000e+00</td>\n",
       "      <td>1.000000e+00</td>\n",
       "      <td>1.000000e+00</td>\n",
       "    </tr>\n",
       "    <tr>\n",
       "      <th>25%</th>\n",
       "      <td>1.000000e+00</td>\n",
       "      <td>1.000000e+00</td>\n",
       "      <td>3.000000e+00</td>\n",
       "    </tr>\n",
       "    <tr>\n",
       "      <th>50%</th>\n",
       "      <td>2.000000e+00</td>\n",
       "      <td>2.000000e+00</td>\n",
       "      <td>3.000000e+00</td>\n",
       "    </tr>\n",
       "    <tr>\n",
       "      <th>75%</th>\n",
       "      <td>2.000000e+00</td>\n",
       "      <td>2.000000e+00</td>\n",
       "      <td>3.000000e+00</td>\n",
       "    </tr>\n",
       "    <tr>\n",
       "      <th>max</th>\n",
       "      <td>3.000000e+00</td>\n",
       "      <td>3.000000e+00</td>\n",
       "      <td>3.000000e+00</td>\n",
       "    </tr>\n",
       "    <tr>\n",
       "      <th rowspan=\"8\" valign=\"top\">tier</th>\n",
       "      <th>count</th>\n",
       "      <td>3.020900e+04</td>\n",
       "      <td>5.512400e+04</td>\n",
       "      <td>8.148600e+04</td>\n",
       "    </tr>\n",
       "    <tr>\n",
       "      <th>mean</th>\n",
       "      <td>1.543414e+00</td>\n",
       "      <td>1.633372e+00</td>\n",
       "      <td>2.901971e+00</td>\n",
       "    </tr>\n",
       "    <tr>\n",
       "      <th>std</th>\n",
       "      <td>6.751420e-01</td>\n",
       "      <td>5.796100e-01</td>\n",
       "      <td>2.996171e-01</td>\n",
       "    </tr>\n",
       "    <tr>\n",
       "      <th>min</th>\n",
       "      <td>1.000000e+00</td>\n",
       "      <td>1.000000e+00</td>\n",
       "      <td>1.000000e+00</td>\n",
       "    </tr>\n",
       "    <tr>\n",
       "      <th>25%</th>\n",
       "      <td>1.000000e+00</td>\n",
       "      <td>1.000000e+00</td>\n",
       "      <td>3.000000e+00</td>\n",
       "    </tr>\n",
       "    <tr>\n",
       "      <th>50%</th>\n",
       "      <td>1.000000e+00</td>\n",
       "      <td>2.000000e+00</td>\n",
       "      <td>3.000000e+00</td>\n",
       "    </tr>\n",
       "    <tr>\n",
       "      <th>75%</th>\n",
       "      <td>2.000000e+00</td>\n",
       "      <td>2.000000e+00</td>\n",
       "      <td>3.000000e+00</td>\n",
       "    </tr>\n",
       "    <tr>\n",
       "      <th>max</th>\n",
       "      <td>3.000000e+00</td>\n",
       "      <td>3.000000e+00</td>\n",
       "      <td>3.000000e+00</td>\n",
       "    </tr>\n",
       "    <tr>\n",
       "      <th rowspan=\"8\" valign=\"top\">years_of_experience</th>\n",
       "      <th>count</th>\n",
       "      <td>3.020900e+04</td>\n",
       "      <td>5.512400e+04</td>\n",
       "      <td>8.148600e+04</td>\n",
       "    </tr>\n",
       "    <tr>\n",
       "      <th>mean</th>\n",
       "      <td>1.490882e+01</td>\n",
       "      <td>6.704058e+00</td>\n",
       "      <td>6.651437e+00</td>\n",
       "    </tr>\n",
       "    <tr>\n",
       "      <th>std</th>\n",
       "      <td>3.387825e+00</td>\n",
       "      <td>2.306792e+00</td>\n",
       "      <td>2.608863e+00</td>\n",
       "    </tr>\n",
       "    <tr>\n",
       "      <th>min</th>\n",
       "      <td>9.000000e+00</td>\n",
       "      <td>2.000000e+00</td>\n",
       "      <td>2.000000e+00</td>\n",
       "    </tr>\n",
       "    <tr>\n",
       "      <th>25%</th>\n",
       "      <td>1.200000e+01</td>\n",
       "      <td>5.000000e+00</td>\n",
       "      <td>5.000000e+00</td>\n",
       "    </tr>\n",
       "    <tr>\n",
       "      <th>50%</th>\n",
       "      <td>1.400000e+01</td>\n",
       "      <td>7.000000e+00</td>\n",
       "      <td>6.000000e+00</td>\n",
       "    </tr>\n",
       "    <tr>\n",
       "      <th>75%</th>\n",
       "      <td>1.700000e+01</td>\n",
       "      <td>9.000000e+00</td>\n",
       "      <td>8.000000e+00</td>\n",
       "    </tr>\n",
       "    <tr>\n",
       "      <th>max</th>\n",
       "      <td>2.200000e+01</td>\n",
       "      <td>1.200000e+01</td>\n",
       "      <td>1.500000e+01</td>\n",
       "    </tr>\n",
       "  </tbody>\n",
       "</table>\n",
       "</div>"
      ],
      "text/plain": [
       "label                                 0             1             2\n",
       "ctc                 count  3.020900e+04  5.512400e+04  8.148600e+04\n",
       "                    mean   2.446509e+06  2.118561e+06  7.607826e+05\n",
       "                    std    1.985710e+06  2.083855e+06  5.295868e+05\n",
       "                    min    3.800000e+04  3.800000e+04  3.800000e+04\n",
       "                    25%    1.300000e+06  1.000000e+06  4.000000e+05\n",
       "                    50%    2.000000e+06  1.500000e+06  6.300000e+05\n",
       "                    75%    3.000000e+06  2.400000e+06  1.000000e+06\n",
       "                    max    1.260000e+07  1.260000e+07  7.000000e+06\n",
       "classs              count  3.020900e+04  5.512400e+04  8.148600e+04\n",
       "                    mean   1.661061e+00  1.533706e+00  2.831738e+00\n",
       "                    std    7.054805e-01  5.244312e-01  3.743962e-01\n",
       "                    min    1.000000e+00  1.000000e+00  1.000000e+00\n",
       "                    25%    1.000000e+00  1.000000e+00  3.000000e+00\n",
       "                    50%    2.000000e+00  2.000000e+00  3.000000e+00\n",
       "                    75%    2.000000e+00  2.000000e+00  3.000000e+00\n",
       "                    max    3.000000e+00  3.000000e+00  3.000000e+00\n",
       "tier                count  3.020900e+04  5.512400e+04  8.148600e+04\n",
       "                    mean   1.543414e+00  1.633372e+00  2.901971e+00\n",
       "                    std    6.751420e-01  5.796100e-01  2.996171e-01\n",
       "                    min    1.000000e+00  1.000000e+00  1.000000e+00\n",
       "                    25%    1.000000e+00  1.000000e+00  3.000000e+00\n",
       "                    50%    1.000000e+00  2.000000e+00  3.000000e+00\n",
       "                    75%    2.000000e+00  2.000000e+00  3.000000e+00\n",
       "                    max    3.000000e+00  3.000000e+00  3.000000e+00\n",
       "years_of_experience count  3.020900e+04  5.512400e+04  8.148600e+04\n",
       "                    mean   1.490882e+01  6.704058e+00  6.651437e+00\n",
       "                    std    3.387825e+00  2.306792e+00  2.608863e+00\n",
       "                    min    9.000000e+00  2.000000e+00  2.000000e+00\n",
       "                    25%    1.200000e+01  5.000000e+00  5.000000e+00\n",
       "                    50%    1.400000e+01  7.000000e+00  6.000000e+00\n",
       "                    75%    1.700000e+01  9.000000e+00  8.000000e+00\n",
       "                    max    2.200000e+01  1.200000e+01  1.500000e+01"
      ]
     },
     "execution_count": 293,
     "metadata": {},
     "output_type": "execute_result"
    }
   ],
   "source": [
    "clusters.groupby(\"label\").describe()[[\"ctc\",\"classs\",\"tier\",\"years_of_experience\"]].T\n"
   ]
  }
 ],
 "metadata": {
  "kernelspec": {
   "display_name": "Python 3",
   "language": "python",
   "name": "python3"
  },
  "language_info": {
   "codemirror_mode": {
    "name": "ipython",
    "version": 3
   },
   "file_extension": ".py",
   "mimetype": "text/x-python",
   "name": "python",
   "nbconvert_exporter": "python",
   "pygments_lexer": "ipython3",
   "version": "3.8.8"
  }
 },
 "nbformat": 4,
 "nbformat_minor": 5
}
