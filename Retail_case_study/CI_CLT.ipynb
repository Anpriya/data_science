{
 "cells": [
  {
   "cell_type": "code",
   "execution_count": 109,
   "id": "e0e700f4",
   "metadata": {},
   "outputs": [],
   "source": [
    "import pandas as pd\n",
    "import numpy as np\n",
    "import math\n",
    "\n",
    "import matplotlib.pyplot as plt\n",
    "import seaborn as sns\n",
    "%matplotlib inline\n",
    "\n",
    "import warnings\n",
    "warnings.filterwarnings(\"ignore\")\n",
    "\n",
    "import scipy.stats as stats"
   ]
  },
  {
   "cell_type": "markdown",
   "id": "3e2ae4ca",
   "metadata": {},
   "source": [
    "### aim of this project is to understand, (on a black friday sale day):\n",
    "### 1. purchasing behaviour of male vs. female (\"gender\")\n",
    "### 2. how it varies wrt \"age\", \"marital status\"\n",
    "### 3. Statistical methods to conclude above consists of following analysis:\n",
    "###    a. calculate average\n",
    "###    b. check the confidence interval for 90/95/99\n",
    "###    c. check if these are overlapping intervals\n",
    "###    d. since sample data of ~550K is available and population of 50M is present, \n",
    "###       we have to use central limit theorem to check how sample mean comapares with population means"
   ]
  },
  {
   "cell_type": "code",
   "execution_count": 110,
   "id": "0df68546",
   "metadata": {},
   "outputs": [],
   "source": [
    "df = pd.read_csv(\"retail_data.txt\")"
   ]
  },
  {
   "cell_type": "code",
   "execution_count": 111,
   "id": "f91d4ed0",
   "metadata": {},
   "outputs": [
    {
     "data": {
      "text/plain": [
       "(550068, 10)"
      ]
     },
     "execution_count": 111,
     "metadata": {},
     "output_type": "execute_result"
    }
   ],
   "source": [
    "df.shape"
   ]
  },
  {
   "cell_type": "code",
   "execution_count": 112,
   "id": "241edf5d",
   "metadata": {},
   "outputs": [
    {
     "name": "stdout",
     "output_type": "stream",
     "text": [
      "<class 'pandas.core.frame.DataFrame'>\n",
      "RangeIndex: 550068 entries, 0 to 550067\n",
      "Data columns (total 10 columns):\n",
      " #   Column                      Non-Null Count   Dtype \n",
      "---  ------                      --------------   ----- \n",
      " 0   User_ID                     550068 non-null  int64 \n",
      " 1   Product_ID                  550068 non-null  object\n",
      " 2   Gender                      550068 non-null  object\n",
      " 3   Age                         550068 non-null  object\n",
      " 4   Occupation                  550068 non-null  int64 \n",
      " 5   City_Category               550068 non-null  object\n",
      " 6   Stay_In_Current_City_Years  550068 non-null  object\n",
      " 7   Marital_Status              550068 non-null  int64 \n",
      " 8   Product_Category            550068 non-null  int64 \n",
      " 9   Purchase                    550068 non-null  int64 \n",
      "dtypes: int64(5), object(5)\n",
      "memory usage: 42.0+ MB\n"
     ]
    }
   ],
   "source": [
    "df.info()"
   ]
  },
  {
   "cell_type": "markdown",
   "id": "f90522c5",
   "metadata": {},
   "source": [
    "### user_id : invidual customers\n",
    "### user_attributes as in: gender/age/occupation/city/stay_in_city_years/marital-status is present\n",
    "### product_attributes as in: product_id and product_category are present\n",
    "### purchase amount for each user and product "
   ]
  },
  {
   "cell_type": "code",
   "execution_count": 113,
   "id": "2a36e766",
   "metadata": {},
   "outputs": [
    {
     "data": {
      "text/plain": [
       "User_ID                       0.0\n",
       "Product_ID                    0.0\n",
       "Gender                        0.0\n",
       "Age                           0.0\n",
       "Occupation                    0.0\n",
       "City_Category                 0.0\n",
       "Stay_In_Current_City_Years    0.0\n",
       "Marital_Status                0.0\n",
       "Product_Category              0.0\n",
       "Purchase                      0.0\n",
       "dtype: float64"
      ]
     },
     "execution_count": 113,
     "metadata": {},
     "output_type": "execute_result"
    }
   ],
   "source": [
    "df.isnull().sum()/ len(df)"
   ]
  },
  {
   "cell_type": "markdown",
   "id": "48b0049a",
   "metadata": {},
   "source": [
    "### there are no null values in the data\n"
   ]
  },
  {
   "cell_type": "code",
   "execution_count": 114,
   "id": "8f4d3c0f",
   "metadata": {},
   "outputs": [
    {
     "data": {
      "text/plain": [
       "True"
      ]
     },
     "execution_count": 114,
     "metadata": {},
     "output_type": "execute_result"
    }
   ],
   "source": [
    "len(df.drop_duplicates()) == df.shape[0]"
   ]
  },
  {
   "cell_type": "markdown",
   "id": "b59b4fac",
   "metadata": {},
   "source": [
    "### there are no duplicate records"
   ]
  },
  {
   "cell_type": "markdown",
   "id": "4f74e4ae",
   "metadata": {},
   "source": [
    "# Analysis of data is divided into 3 sections:\n",
    "# section 1: Analysis of User attributes & Analysis of Product attributes\n",
    "# section 2: Generating statiscal summary (bootstrap+CLT+descriptive analysis)"
   ]
  },
  {
   "cell_type": "code",
   "execution_count": null,
   "id": "1b6b615e",
   "metadata": {},
   "outputs": [],
   "source": []
  },
  {
   "cell_type": "markdown",
   "id": "a664e79a",
   "metadata": {},
   "source": [
    "# section 1: Analysis of User attributes & Analysis of Product attributes"
   ]
  },
  {
   "cell_type": "code",
   "execution_count": 115,
   "id": "5ac9e651",
   "metadata": {},
   "outputs": [],
   "source": [
    "userCol = ['User_ID','Gender', 'Age', 'Occupation', 'City_Category','Stay_In_Current_City_Years', 'Marital_Status']"
   ]
  },
  {
   "cell_type": "code",
   "execution_count": 116,
   "id": "980b793b",
   "metadata": {},
   "outputs": [
    {
     "data": {
      "text/html": [
       "<div>\n",
       "<style scoped>\n",
       "    .dataframe tbody tr th:only-of-type {\n",
       "        vertical-align: middle;\n",
       "    }\n",
       "\n",
       "    .dataframe tbody tr th {\n",
       "        vertical-align: top;\n",
       "    }\n",
       "\n",
       "    .dataframe thead th {\n",
       "        text-align: right;\n",
       "    }\n",
       "</style>\n",
       "<table border=\"1\" class=\"dataframe\">\n",
       "  <thead>\n",
       "    <tr style=\"text-align: right;\">\n",
       "      <th></th>\n",
       "      <th>User_ID</th>\n",
       "      <th>Gender</th>\n",
       "      <th>Age</th>\n",
       "      <th>Occupation</th>\n",
       "      <th>City_Category</th>\n",
       "      <th>Stay_In_Current_City_Years</th>\n",
       "      <th>Marital_Status</th>\n",
       "    </tr>\n",
       "  </thead>\n",
       "  <tbody>\n",
       "    <tr>\n",
       "      <th>0</th>\n",
       "      <td>1000001</td>\n",
       "      <td>F</td>\n",
       "      <td>0-17</td>\n",
       "      <td>10</td>\n",
       "      <td>A</td>\n",
       "      <td>2</td>\n",
       "      <td>0</td>\n",
       "    </tr>\n",
       "    <tr>\n",
       "      <th>1</th>\n",
       "      <td>1000001</td>\n",
       "      <td>F</td>\n",
       "      <td>0-17</td>\n",
       "      <td>10</td>\n",
       "      <td>A</td>\n",
       "      <td>2</td>\n",
       "      <td>0</td>\n",
       "    </tr>\n",
       "    <tr>\n",
       "      <th>2</th>\n",
       "      <td>1000001</td>\n",
       "      <td>F</td>\n",
       "      <td>0-17</td>\n",
       "      <td>10</td>\n",
       "      <td>A</td>\n",
       "      <td>2</td>\n",
       "      <td>0</td>\n",
       "    </tr>\n",
       "    <tr>\n",
       "      <th>3</th>\n",
       "      <td>1000001</td>\n",
       "      <td>F</td>\n",
       "      <td>0-17</td>\n",
       "      <td>10</td>\n",
       "      <td>A</td>\n",
       "      <td>2</td>\n",
       "      <td>0</td>\n",
       "    </tr>\n",
       "    <tr>\n",
       "      <th>4</th>\n",
       "      <td>1000002</td>\n",
       "      <td>M</td>\n",
       "      <td>55+</td>\n",
       "      <td>16</td>\n",
       "      <td>C</td>\n",
       "      <td>4+</td>\n",
       "      <td>0</td>\n",
       "    </tr>\n",
       "  </tbody>\n",
       "</table>\n",
       "</div>"
      ],
      "text/plain": [
       "   User_ID Gender   Age  Occupation City_Category Stay_In_Current_City_Years  \\\n",
       "0  1000001      F  0-17          10             A                          2   \n",
       "1  1000001      F  0-17          10             A                          2   \n",
       "2  1000001      F  0-17          10             A                          2   \n",
       "3  1000001      F  0-17          10             A                          2   \n",
       "4  1000002      M   55+          16             C                         4+   \n",
       "\n",
       "   Marital_Status  \n",
       "0               0  \n",
       "1               0  \n",
       "2               0  \n",
       "3               0  \n",
       "4               0  "
      ]
     },
     "execution_count": 116,
     "metadata": {},
     "output_type": "execute_result"
    }
   ],
   "source": [
    "dfU = df[userCol]\n",
    "dfU.head()"
   ]
  },
  {
   "cell_type": "code",
   "execution_count": 117,
   "id": "5efcc8da",
   "metadata": {},
   "outputs": [
    {
     "data": {
      "text/plain": [
       "5891"
      ]
     },
     "execution_count": 117,
     "metadata": {},
     "output_type": "execute_result"
    }
   ],
   "source": [
    "dfU['User_ID'].nunique()"
   ]
  },
  {
   "cell_type": "code",
   "execution_count": 118,
   "id": "92514023",
   "metadata": {},
   "outputs": [
    {
     "data": {
      "text/plain": [
       "(550068, 7)"
      ]
     },
     "execution_count": 118,
     "metadata": {},
     "output_type": "execute_result"
    }
   ],
   "source": [
    "dfU.shape"
   ]
  },
  {
   "cell_type": "code",
   "execution_count": 119,
   "id": "892c2d1b",
   "metadata": {},
   "outputs": [],
   "source": [
    "dfU.drop_duplicates(inplace=True)"
   ]
  },
  {
   "cell_type": "code",
   "execution_count": 120,
   "id": "14fa4ead",
   "metadata": {},
   "outputs": [
    {
     "name": "stdout",
     "output_type": "stream",
     "text": [
      "Number of unique values in column 'Gender': 2\n",
      "M    71.719572\n",
      "F    28.280428\n",
      "Name: Gender, dtype: float64\n"
     ]
    },
    {
     "data": {
      "image/png": "[encoded data removed]",
      "text/plain": [
       "<Figure size 576x432 with 1 Axes>"
      ]
     },
     "metadata": {
      "needs_background": "light"
     },
     "output_type": "display_data"
    },
    {
     "name": "stdout",
     "output_type": "stream",
     "text": [
      "################################\n",
      "Number of unique values in column 'Age': 7\n",
      "26-35    34.849771\n",
      "36-45    19.809879\n",
      "18-25    18.146325\n",
      "46-50     9.013750\n",
      "51-55     8.164997\n",
      "Name: Age, dtype: float64\n"
     ]
    },
    {
     "data": {
      "image/png": "[encoded data removed]",
      "text/plain": [
       "<Figure size 576x432 with 1 Axes>"
      ]
     },
     "metadata": {
      "needs_background": "light"
     },
     "output_type": "display_data"
    },
    {
     "name": "stdout",
     "output_type": "stream",
     "text": [
      "################################\n",
      "Number of unique values in column 'Occupation': 21\n",
      "4     12.561535\n",
      "0     11.678832\n",
      "7     11.356306\n",
      "1      8.776099\n",
      "17     8.334748\n",
      "Name: Occupation, dtype: float64\n"
     ]
    },
    {
     "data": {
      "image/png": "[encoded data removed]",
      "text/plain": [
       "<Figure size 576x432 with 1 Axes>"
      ]
     },
     "metadata": {
      "needs_background": "light"
     },
     "output_type": "display_data"
    },
    {
     "name": "stdout",
     "output_type": "stream",
     "text": [
      "################################\n",
      "Number of unique values in column 'City_Category': 3\n",
      "C    53.284672\n",
      "B    28.976405\n",
      "A    17.738924\n",
      "Name: City_Category, dtype: float64\n"
     ]
    },
    {
     "data": {
      "image/png": "[encoded data removed]",
      "text/plain": [
       "<Figure size 576x432 with 1 Axes>"
      ]
     },
     "metadata": {
      "needs_background": "light"
     },
     "output_type": "display_data"
    },
    {
     "name": "stdout",
     "output_type": "stream",
     "text": [
      "################################\n",
      "Number of unique values in column 'Stay_In_Current_City_Years': 5\n",
      "1     35.409947\n",
      "2     19.436428\n",
      "3     16.618571\n",
      "4+    15.430317\n",
      "0     13.104736\n",
      "Name: Stay_In_Current_City_Years, dtype: float64\n"
     ]
    },
    {
     "data": {
      "image/png": "[encoded data removed]",
      "text/plain": [
       "<Figure size 576x432 with 1 Axes>"
      ]
     },
     "metadata": {
      "needs_background": "light"
     },
     "output_type": "display_data"
    },
    {
     "name": "stdout",
     "output_type": "stream",
     "text": [
      "################################\n",
      "Number of unique values in column 'Marital_Status': 2\n",
      "0    58.003735\n",
      "1    41.996265\n",
      "Name: Marital_Status, dtype: float64\n"
     ]
    },
    {
     "data": {
      "image/png": "[encoded data removed]",
      "text/plain": [
       "<Figure size 576x432 with 1 Axes>"
      ]
     },
     "metadata": {
      "needs_background": "light"
     },
     "output_type": "display_data"
    },
    {
     "name": "stdout",
     "output_type": "stream",
     "text": [
      "################################\n"
     ]
    }
   ],
   "source": [
    "colsList = ['Gender', 'Age', 'Occupation', 'City_Category','Stay_In_Current_City_Years', 'Marital_Status']\n",
    "\n",
    "for col in colsList:\n",
    "    print(f\"Number of unique values in column '{col}':\", dfU[col].nunique())\n",
    "    print(((dfU[col].value_counts()/len(dfU))*100).head(5))\n",
    "    plt.figure(figsize = (8,6))\n",
    "    sns.countplot(x = col ,data =dfU, order = dfU[col].value_counts().nlargest(n=5).index)\n",
    "\n",
    "    plt.show()\n",
    "    print(\"################################\")"
   ]
  },
  {
   "cell_type": "markdown",
   "id": "83148c47",
   "metadata": {},
   "source": [
    "### Observations on attributes of users who visited on Black Friday sale day:\n",
    "\n",
    "### - number of unique customers are: 5891\n",
    "### - gender: male footprints/visits are more on the sale day, 71% of them were males\n",
    "### - age: appears in bins with most frequent bin is 26-35 which appears 35% of time\n",
    "### - Occupation: there are 21 unique occupations with occupation #4 appears 12% of time followed by occupation #0 and #7\n",
    "### - City_Category: most of people who shopped belong to city category C (53%)\n",
    "### - Stay_In_Current_City_Years: number of years people have been living in current city varies from 0-3 and then 4+ years where most people who have shopped lived belongs to 1 year category (35%)\n",
    "### - Marital_Status - alomost 58% of people who have shopped belong on 0 marital status category\n",
    "\n",
    "\n"
   ]
  },
  {
   "cell_type": "markdown",
   "id": "6c279f06",
   "metadata": {},
   "source": [
    "# lets analyse product attributes"
   ]
  },
  {
   "cell_type": "code",
   "execution_count": 121,
   "id": "cf99378f",
   "metadata": {},
   "outputs": [
    {
     "name": "stdout",
     "output_type": "stream",
     "text": [
      "3631\n"
     ]
    }
   ],
   "source": [
    "print(df['Product_ID'].nunique())"
   ]
  },
  {
   "cell_type": "code",
   "execution_count": 122,
   "id": "ab5fad25",
   "metadata": {},
   "outputs": [
    {
     "name": "stdout",
     "output_type": "stream",
     "text": [
      "20\n"
     ]
    }
   ],
   "source": [
    "print(df['Product_Category'].nunique())"
   ]
  },
  {
   "cell_type": "code",
   "execution_count": 123,
   "id": "1d1cffea",
   "metadata": {},
   "outputs": [
    {
     "name": "stdout",
     "output_type": "stream",
     "text": [
      "5     27.438971\n",
      "1     25.520118\n",
      "8     20.711076\n",
      "11     4.415272\n",
      "2      4.338373\n",
      "6      3.720631\n",
      "3      3.674637\n",
      "4      2.136645\n",
      "16     1.786688\n",
      "15     1.143495\n",
      "Name: Product_Category, dtype: float64\n",
      "P00265242    0.341776\n",
      "P00025442    0.293600\n",
      "P00110742    0.293055\n",
      "P00112142    0.283965\n",
      "P00057642    0.267240\n",
      "P00184942    0.261786\n",
      "P00046742    0.261422\n",
      "P00058042    0.258513\n",
      "P00145042    0.255605\n",
      "P00059442    0.255605\n",
      "Name: Product_ID, dtype: float64\n"
     ]
    }
   ],
   "source": [
    "print(df['Product_Category'].value_counts(normalize=True).nlargest(10) *100)\n",
    "print(df['Product_ID'].value_counts(normalize=True).nlargest(10) *100)"
   ]
  },
  {
   "cell_type": "code",
   "execution_count": 124,
   "id": "cd36ea66",
   "metadata": {},
   "outputs": [
    {
     "data": {
      "text/plain": [
       "<AxesSubplot:xlabel='Product_Category', ylabel='count'>"
      ]
     },
     "execution_count": 124,
     "metadata": {},
     "output_type": "execute_result"
    },
    {
     "data": {
      "image/png": "[encoded data removed]",
      "text/plain": [
       "<Figure size 432x288 with 1 Axes>"
      ]
     },
     "metadata": {
      "needs_background": "light"
     },
     "output_type": "display_data"
    }
   ],
   "source": [
    "sns.countplot(x = 'Product_Category' ,data =df, order = df['Product_Category'].value_counts().index)"
   ]
  },
  {
   "cell_type": "code",
   "execution_count": 125,
   "id": "d0647deb",
   "metadata": {},
   "outputs": [
    {
     "data": {
      "text/plain": [
       "<AxesSubplot:xlabel='Product_ID', ylabel='count'>"
      ]
     },
     "execution_count": 125,
     "metadata": {},
     "output_type": "execute_result"
    },
    {
     "data": {
      "image/png": "[encoded data removed]",
      "text/plain": [
       "<Figure size 432x288 with 1 Axes>"
      ]
     },
     "metadata": {
      "needs_background": "light"
     },
     "output_type": "display_data"
    }
   ],
   "source": [
    "sns.countplot(x = 'Product_ID' ,data =df, order = df['Product_ID'].value_counts().nlargest(n=5).index)"
   ]
  },
  {
   "cell_type": "markdown",
   "id": "4fa861c9",
   "metadata": {},
   "source": [
    "### Observation on attributes of products\n",
    "\n",
    "### number of unique product_category are 20, where as each each product is mapped to multiple product_ids\n",
    "### product_category: 5 appears 27%% of time in data \n",
    "### product_id: P00265242 appears 0.34% of time in data "
   ]
  },
  {
   "cell_type": "code",
   "execution_count": 126,
   "id": "758fdaca",
   "metadata": {},
   "outputs": [
    {
     "data": {
      "image/png": "[encoded data removed]",
      "text/plain": [
       "<Figure size 432x288 with 1 Axes>"
      ]
     },
     "metadata": {
      "needs_background": "light"
     },
     "output_type": "display_data"
    }
   ],
   "source": [
    "# lets analyse column Purchase\n",
    "plt.boxplot(x = df['Purchase'])\n",
    "plt.show()"
   ]
  },
  {
   "cell_type": "code",
   "execution_count": 127,
   "id": "073dbec8",
   "metadata": {},
   "outputs": [
    {
     "data": {
      "text/plain": [
       "0.023071692954325648"
      ]
     },
     "execution_count": 127,
     "metadata": {},
     "output_type": "execute_result"
    }
   ],
   "source": [
    "len(df[df['Purchase']> 20000])/df.shape[0]"
   ]
  },
  {
   "cell_type": "markdown",
   "id": "fbe080be",
   "metadata": {},
   "source": [
    "### assuming currency is in dollars\n",
    "### the median value of purchase is 10000, whereas there are very high volume of purchases > 20,000, which is around 2% of data\n"
   ]
  },
  {
   "cell_type": "markdown",
   "id": "5e9eb11a",
   "metadata": {},
   "source": [
    "# Outlier Treatment:\n",
    "### There are around 2% of purchases which seems to be outlier. But I don't have additional information (like user demographic) to validate them. \n",
    "### for now, I am keeping it as actual data, not removing them as outliers. But keeping in mind ~2% of purchase > $20k\n"
   ]
  },
  {
   "cell_type": "markdown",
   "id": "8ab3c191",
   "metadata": {},
   "source": [
    "# lets try to buid on customer profile and effect on purchase: Gender,Age,Occupation, City_Category, Stay_In_Current_City_Years, Marital_Status\n"
   ]
  },
  {
   "cell_type": "code",
   "execution_count": 128,
   "id": "facbc4aa",
   "metadata": {},
   "outputs": [
    {
     "data": {
      "text/html": [
       "<div>\n",
       "<style scoped>\n",
       "    .dataframe tbody tr th:only-of-type {\n",
       "        vertical-align: middle;\n",
       "    }\n",
       "\n",
       "    .dataframe tbody tr th {\n",
       "        vertical-align: top;\n",
       "    }\n",
       "\n",
       "    .dataframe thead th {\n",
       "        text-align: right;\n",
       "    }\n",
       "</style>\n",
       "<table border=\"1\" class=\"dataframe\">\n",
       "  <thead>\n",
       "    <tr style=\"text-align: right;\">\n",
       "      <th></th>\n",
       "      <th>Purchase</th>\n",
       "    </tr>\n",
       "    <tr>\n",
       "      <th>Gender</th>\n",
       "      <th></th>\n",
       "    </tr>\n",
       "  </thead>\n",
       "  <tbody>\n",
       "    <tr>\n",
       "      <th>F</th>\n",
       "      <td>8734.565765</td>\n",
       "    </tr>\n",
       "    <tr>\n",
       "      <th>M</th>\n",
       "      <td>9437.526040</td>\n",
       "    </tr>\n",
       "  </tbody>\n",
       "</table>\n",
       "</div>"
      ],
      "text/plain": [
       "           Purchase\n",
       "Gender             \n",
       "F       8734.565765\n",
       "M       9437.526040"
      ]
     },
     "execution_count": 128,
     "metadata": {},
     "output_type": "execute_result"
    }
   ],
   "source": [
    "# Gender\n",
    "df.groupby(['Gender']).agg({'Purchase':np.mean})"
   ]
  },
  {
   "cell_type": "code",
   "execution_count": 129,
   "id": "cda6d8c6",
   "metadata": {},
   "outputs": [
    {
     "data": {
      "image/png": "[encoded data removed]",
      "text/plain": [
       "<Figure size 432x288 with 1 Axes>"
      ]
     },
     "metadata": {
      "needs_background": "light"
     },
     "output_type": "display_data"
    }
   ],
   "source": [
    "sns.boxplot(x = df['Gender'], y = df['Purchase'])\n",
    "plt.show()"
   ]
  },
  {
   "cell_type": "code",
   "execution_count": 130,
   "id": "8e8c4b88",
   "metadata": {},
   "outputs": [
    {
     "data": {
      "text/plain": [
       "9869"
      ]
     },
     "execution_count": 130,
     "metadata": {},
     "output_type": "execute_result"
    }
   ],
   "source": [
    "len(df[(df['Purchase']> 20000) & (df['Gender'] == 'M')])"
   ]
  },
  {
   "cell_type": "code",
   "execution_count": 131,
   "id": "70500298",
   "metadata": {},
   "outputs": [
    {
     "data": {
      "text/plain": [
       "2822"
      ]
     },
     "execution_count": 131,
     "metadata": {},
     "output_type": "execute_result"
    }
   ],
   "source": [
    "len(df[(df['Purchase']> 20000) & (df['Gender'] == 'F')])"
   ]
  },
  {
   "cell_type": "markdown",
   "id": "b4af3cfc",
   "metadata": {},
   "source": [
    "### based on sample data, the median value of purchase amount doesn't vary much by gender. Also, mean purchase amount for males is \n",
    "### around 10% higher than of females. This can be due to very high purchase volume seem in males than females(~9.8k vs ~2.8k)\n"
   ]
  },
  {
   "cell_type": "markdown",
   "id": "6e741aea",
   "metadata": {},
   "source": [
    "# Age"
   ]
  },
  {
   "cell_type": "code",
   "execution_count": 132,
   "id": "73785d3c",
   "metadata": {},
   "outputs": [
    {
     "data": {
      "text/html": [
       "<div>\n",
       "<style scoped>\n",
       "    .dataframe tbody tr th:only-of-type {\n",
       "        vertical-align: middle;\n",
       "    }\n",
       "\n",
       "    .dataframe tbody tr th {\n",
       "        vertical-align: top;\n",
       "    }\n",
       "\n",
       "    .dataframe thead th {\n",
       "        text-align: right;\n",
       "    }\n",
       "</style>\n",
       "<table border=\"1\" class=\"dataframe\">\n",
       "  <thead>\n",
       "    <tr style=\"text-align: right;\">\n",
       "      <th></th>\n",
       "      <th>Purchase</th>\n",
       "    </tr>\n",
       "    <tr>\n",
       "      <th>Age</th>\n",
       "      <th></th>\n",
       "    </tr>\n",
       "  </thead>\n",
       "  <tbody>\n",
       "    <tr>\n",
       "      <th>0-17</th>\n",
       "      <td>8933.464640</td>\n",
       "    </tr>\n",
       "    <tr>\n",
       "      <th>18-25</th>\n",
       "      <td>9169.663606</td>\n",
       "    </tr>\n",
       "    <tr>\n",
       "      <th>46-50</th>\n",
       "      <td>9208.625697</td>\n",
       "    </tr>\n",
       "    <tr>\n",
       "      <th>26-35</th>\n",
       "      <td>9252.690633</td>\n",
       "    </tr>\n",
       "    <tr>\n",
       "      <th>36-45</th>\n",
       "      <td>9331.350695</td>\n",
       "    </tr>\n",
       "    <tr>\n",
       "      <th>55+</th>\n",
       "      <td>9336.280459</td>\n",
       "    </tr>\n",
       "    <tr>\n",
       "      <th>51-55</th>\n",
       "      <td>9534.808031</td>\n",
       "    </tr>\n",
       "  </tbody>\n",
       "</table>\n",
       "</div>"
      ],
      "text/plain": [
       "          Purchase\n",
       "Age               \n",
       "0-17   8933.464640\n",
       "18-25  9169.663606\n",
       "46-50  9208.625697\n",
       "26-35  9252.690633\n",
       "36-45  9331.350695\n",
       "55+    9336.280459\n",
       "51-55  9534.808031"
      ]
     },
     "execution_count": 132,
     "metadata": {},
     "output_type": "execute_result"
    }
   ],
   "source": [
    "df.groupby(['Age']).agg({'Purchase':np.mean}).sort_values(by='Purchase')"
   ]
  },
  {
   "cell_type": "code",
   "execution_count": 133,
   "id": "05aef429",
   "metadata": {},
   "outputs": [
    {
     "data": {
      "image/png": "[encoded data removed]",
      "text/plain": [
       "<Figure size 432x288 with 1 Axes>"
      ]
     },
     "metadata": {
      "needs_background": "light"
     },
     "output_type": "display_data"
    }
   ],
   "source": [
    "sns.boxplot(x = df['Age'], y = df['Purchase'])\n",
    "plt.show()"
   ]
  },
  {
   "cell_type": "markdown",
   "id": "4b2e20db",
   "metadata": {},
   "source": [
    "### almost all age bins have similar \"Purchase\" medians, but age bin- 55+ spends more "
   ]
  },
  {
   "cell_type": "markdown",
   "id": "96a0c809",
   "metadata": {},
   "source": [
    "# Occupation"
   ]
  },
  {
   "cell_type": "code",
   "execution_count": 134,
   "id": "efc1decd",
   "metadata": {},
   "outputs": [
    {
     "data": {
      "text/html": [
       "<div>\n",
       "<style scoped>\n",
       "    .dataframe tbody tr th:only-of-type {\n",
       "        vertical-align: middle;\n",
       "    }\n",
       "\n",
       "    .dataframe tbody tr th {\n",
       "        vertical-align: top;\n",
       "    }\n",
       "\n",
       "    .dataframe thead th {\n",
       "        text-align: right;\n",
       "    }\n",
       "</style>\n",
       "<table border=\"1\" class=\"dataframe\">\n",
       "  <thead>\n",
       "    <tr style=\"text-align: right;\">\n",
       "      <th></th>\n",
       "      <th>Purchase</th>\n",
       "    </tr>\n",
       "    <tr>\n",
       "      <th>Occupation</th>\n",
       "      <th></th>\n",
       "    </tr>\n",
       "  </thead>\n",
       "  <tbody>\n",
       "    <tr>\n",
       "      <th>9</th>\n",
       "      <td>8637.743761</td>\n",
       "    </tr>\n",
       "    <tr>\n",
       "      <th>19</th>\n",
       "      <td>8710.627231</td>\n",
       "    </tr>\n",
       "    <tr>\n",
       "      <th>20</th>\n",
       "      <td>8836.494905</td>\n",
       "    </tr>\n",
       "    <tr>\n",
       "      <th>2</th>\n",
       "      <td>8952.481683</td>\n",
       "    </tr>\n",
       "    <tr>\n",
       "      <th>1</th>\n",
       "      <td>8953.193270</td>\n",
       "    </tr>\n",
       "    <tr>\n",
       "      <th>10</th>\n",
       "      <td>8959.355375</td>\n",
       "    </tr>\n",
       "    <tr>\n",
       "      <th>0</th>\n",
       "      <td>9124.428588</td>\n",
       "    </tr>\n",
       "    <tr>\n",
       "      <th>18</th>\n",
       "      <td>9169.655844</td>\n",
       "    </tr>\n",
       "    <tr>\n",
       "      <th>3</th>\n",
       "      <td>9178.593088</td>\n",
       "    </tr>\n",
       "    <tr>\n",
       "      <th>11</th>\n",
       "      <td>9213.845848</td>\n",
       "    </tr>\n",
       "    <tr>\n",
       "      <th>4</th>\n",
       "      <td>9213.980251</td>\n",
       "    </tr>\n",
       "    <tr>\n",
       "      <th>6</th>\n",
       "      <td>9256.535691</td>\n",
       "    </tr>\n",
       "    <tr>\n",
       "      <th>13</th>\n",
       "      <td>9306.351061</td>\n",
       "    </tr>\n",
       "    <tr>\n",
       "      <th>5</th>\n",
       "      <td>9333.149298</td>\n",
       "    </tr>\n",
       "    <tr>\n",
       "      <th>16</th>\n",
       "      <td>9394.464349</td>\n",
       "    </tr>\n",
       "    <tr>\n",
       "      <th>7</th>\n",
       "      <td>9425.728223</td>\n",
       "    </tr>\n",
       "    <tr>\n",
       "      <th>14</th>\n",
       "      <td>9500.702772</td>\n",
       "    </tr>\n",
       "    <tr>\n",
       "      <th>8</th>\n",
       "      <td>9532.592497</td>\n",
       "    </tr>\n",
       "    <tr>\n",
       "      <th>15</th>\n",
       "      <td>9778.891163</td>\n",
       "    </tr>\n",
       "    <tr>\n",
       "      <th>12</th>\n",
       "      <td>9796.640239</td>\n",
       "    </tr>\n",
       "    <tr>\n",
       "      <th>17</th>\n",
       "      <td>9821.478236</td>\n",
       "    </tr>\n",
       "  </tbody>\n",
       "</table>\n",
       "</div>"
      ],
      "text/plain": [
       "               Purchase\n",
       "Occupation             \n",
       "9           8637.743761\n",
       "19          8710.627231\n",
       "20          8836.494905\n",
       "2           8952.481683\n",
       "1           8953.193270\n",
       "10          8959.355375\n",
       "0           9124.428588\n",
       "18          9169.655844\n",
       "3           9178.593088\n",
       "11          9213.845848\n",
       "4           9213.980251\n",
       "6           9256.535691\n",
       "13          9306.351061\n",
       "5           9333.149298\n",
       "16          9394.464349\n",
       "7           9425.728223\n",
       "14          9500.702772\n",
       "8           9532.592497\n",
       "15          9778.891163\n",
       "12          9796.640239\n",
       "17          9821.478236"
      ]
     },
     "execution_count": 134,
     "metadata": {},
     "output_type": "execute_result"
    }
   ],
   "source": [
    "df.groupby(['Occupation']).agg({'Purchase':np.mean}).sort_values(by='Purchase')"
   ]
  },
  {
   "cell_type": "code",
   "execution_count": 135,
   "id": "baecf550",
   "metadata": {},
   "outputs": [
    {
     "data": {
      "image/png": "[encoded data removed]",
      "text/plain": [
       "<Figure size 432x288 with 1 Axes>"
      ]
     },
     "metadata": {
      "needs_background": "light"
     },
     "output_type": "display_data"
    }
   ],
   "source": [
    "sns.boxplot(x = df['Occupation'], y = df['Purchase'])\n",
    "plt.show()"
   ]
  },
  {
   "cell_type": "markdown",
   "id": "5c267118",
   "metadata": {},
   "source": [
    "### almost all categories of accupation have similar \"Purchase\" behaviour"
   ]
  },
  {
   "cell_type": "markdown",
   "id": "d167db1c",
   "metadata": {},
   "source": [
    "# City_Category"
   ]
  },
  {
   "cell_type": "code",
   "execution_count": 136,
   "id": "22161fe4",
   "metadata": {},
   "outputs": [
    {
     "data": {
      "text/html": [
       "<div>\n",
       "<style scoped>\n",
       "    .dataframe tbody tr th:only-of-type {\n",
       "        vertical-align: middle;\n",
       "    }\n",
       "\n",
       "    .dataframe tbody tr th {\n",
       "        vertical-align: top;\n",
       "    }\n",
       "\n",
       "    .dataframe thead th {\n",
       "        text-align: right;\n",
       "    }\n",
       "</style>\n",
       "<table border=\"1\" class=\"dataframe\">\n",
       "  <thead>\n",
       "    <tr style=\"text-align: right;\">\n",
       "      <th></th>\n",
       "      <th>Purchase</th>\n",
       "    </tr>\n",
       "    <tr>\n",
       "      <th>City_Category</th>\n",
       "      <th></th>\n",
       "    </tr>\n",
       "  </thead>\n",
       "  <tbody>\n",
       "    <tr>\n",
       "      <th>A</th>\n",
       "      <td>8911.939216</td>\n",
       "    </tr>\n",
       "    <tr>\n",
       "      <th>B</th>\n",
       "      <td>9151.300563</td>\n",
       "    </tr>\n",
       "    <tr>\n",
       "      <th>C</th>\n",
       "      <td>9719.920993</td>\n",
       "    </tr>\n",
       "  </tbody>\n",
       "</table>\n",
       "</div>"
      ],
      "text/plain": [
       "                  Purchase\n",
       "City_Category             \n",
       "A              8911.939216\n",
       "B              9151.300563\n",
       "C              9719.920993"
      ]
     },
     "execution_count": 136,
     "metadata": {},
     "output_type": "execute_result"
    }
   ],
   "source": [
    "df.groupby(['City_Category']).agg({'Purchase':np.mean})"
   ]
  },
  {
   "cell_type": "code",
   "execution_count": 137,
   "id": "0e4388e6",
   "metadata": {},
   "outputs": [
    {
     "data": {
      "image/png": "[encoded data removed]",
      "text/plain": [
       "<Figure size 432x288 with 1 Axes>"
      ]
     },
     "metadata": {
      "needs_background": "light"
     },
     "output_type": "display_data"
    }
   ],
   "source": [
    "sns.boxplot(x = df['City_Category'], y = df['Purchase'])\n",
    "plt.show()"
   ]
  },
  {
   "cell_type": "markdown",
   "id": "e58f84fd",
   "metadata": {},
   "source": [
    "### people in city category C have slightly more median Purchase value than that of A and B. Also, mean purchase value of people in city category C is more. This means tha, people in city category C spend more on purchase amount\n"
   ]
  },
  {
   "cell_type": "markdown",
   "id": "69c6506c",
   "metadata": {},
   "source": [
    "# Stay_In_Current_City_Years"
   ]
  },
  {
   "cell_type": "code",
   "execution_count": 138,
   "id": "d9169b77",
   "metadata": {},
   "outputs": [
    {
     "data": {
      "text/html": [
       "<div>\n",
       "<style scoped>\n",
       "    .dataframe tbody tr th:only-of-type {\n",
       "        vertical-align: middle;\n",
       "    }\n",
       "\n",
       "    .dataframe tbody tr th {\n",
       "        vertical-align: top;\n",
       "    }\n",
       "\n",
       "    .dataframe thead th {\n",
       "        text-align: right;\n",
       "    }\n",
       "</style>\n",
       "<table border=\"1\" class=\"dataframe\">\n",
       "  <thead>\n",
       "    <tr style=\"text-align: right;\">\n",
       "      <th></th>\n",
       "      <th>Purchase</th>\n",
       "    </tr>\n",
       "    <tr>\n",
       "      <th>Stay_In_Current_City_Years</th>\n",
       "      <th></th>\n",
       "    </tr>\n",
       "  </thead>\n",
       "  <tbody>\n",
       "    <tr>\n",
       "      <th>0</th>\n",
       "      <td>9180.075123</td>\n",
       "    </tr>\n",
       "    <tr>\n",
       "      <th>1</th>\n",
       "      <td>9250.145923</td>\n",
       "    </tr>\n",
       "    <tr>\n",
       "      <th>4+</th>\n",
       "      <td>9275.598872</td>\n",
       "    </tr>\n",
       "    <tr>\n",
       "      <th>3</th>\n",
       "      <td>9286.904119</td>\n",
       "    </tr>\n",
       "    <tr>\n",
       "      <th>2</th>\n",
       "      <td>9320.429810</td>\n",
       "    </tr>\n",
       "  </tbody>\n",
       "</table>\n",
       "</div>"
      ],
      "text/plain": [
       "                               Purchase\n",
       "Stay_In_Current_City_Years             \n",
       "0                           9180.075123\n",
       "1                           9250.145923\n",
       "4+                          9275.598872\n",
       "3                           9286.904119\n",
       "2                           9320.429810"
      ]
     },
     "execution_count": 138,
     "metadata": {},
     "output_type": "execute_result"
    }
   ],
   "source": [
    "df.groupby(['Stay_In_Current_City_Years']).agg({'Purchase':np.mean}).sort_values(by='Purchase')"
   ]
  },
  {
   "cell_type": "code",
   "execution_count": 139,
   "id": "3889286c",
   "metadata": {},
   "outputs": [
    {
     "data": {
      "image/png": "[encoded data removed]",
      "text/plain": [
       "<Figure size 432x288 with 1 Axes>"
      ]
     },
     "metadata": {
      "needs_background": "light"
     },
     "output_type": "display_data"
    }
   ],
   "source": [
    "sns.boxplot(x = df['Stay_In_Current_City_Years'], y = df['Purchase'])\n",
    "plt.show()"
   ]
  },
  {
   "cell_type": "markdown",
   "id": "bdf50117",
   "metadata": {},
   "source": [
    "### Stay_In_Current_City_Years feature doesn't seem to have much effect on Purchase behaviour"
   ]
  },
  {
   "cell_type": "markdown",
   "id": "37ff6731",
   "metadata": {},
   "source": [
    "# Marital_Status"
   ]
  },
  {
   "cell_type": "code",
   "execution_count": 140,
   "id": "7fe55087",
   "metadata": {},
   "outputs": [
    {
     "data": {
      "text/html": [
       "<div>\n",
       "<style scoped>\n",
       "    .dataframe tbody tr th:only-of-type {\n",
       "        vertical-align: middle;\n",
       "    }\n",
       "\n",
       "    .dataframe tbody tr th {\n",
       "        vertical-align: top;\n",
       "    }\n",
       "\n",
       "    .dataframe thead th {\n",
       "        text-align: right;\n",
       "    }\n",
       "</style>\n",
       "<table border=\"1\" class=\"dataframe\">\n",
       "  <thead>\n",
       "    <tr style=\"text-align: right;\">\n",
       "      <th></th>\n",
       "      <th>Purchase</th>\n",
       "    </tr>\n",
       "    <tr>\n",
       "      <th>Marital_Status</th>\n",
       "      <th></th>\n",
       "    </tr>\n",
       "  </thead>\n",
       "  <tbody>\n",
       "    <tr>\n",
       "      <th>1</th>\n",
       "      <td>9261.174574</td>\n",
       "    </tr>\n",
       "    <tr>\n",
       "      <th>0</th>\n",
       "      <td>9265.907619</td>\n",
       "    </tr>\n",
       "  </tbody>\n",
       "</table>\n",
       "</div>"
      ],
      "text/plain": [
       "                   Purchase\n",
       "Marital_Status             \n",
       "1               9261.174574\n",
       "0               9265.907619"
      ]
     },
     "execution_count": 140,
     "metadata": {},
     "output_type": "execute_result"
    }
   ],
   "source": [
    "df.groupby(['Marital_Status']).agg({'Purchase':np.mean}).sort_values(by='Purchase')"
   ]
  },
  {
   "cell_type": "code",
   "execution_count": 141,
   "id": "29819cdb",
   "metadata": {},
   "outputs": [
    {
     "data": {
      "image/png": "[encoded data removed]",
      "text/plain": [
       "<Figure size 432x288 with 1 Axes>"
      ]
     },
     "metadata": {
      "needs_background": "light"
     },
     "output_type": "display_data"
    }
   ],
   "source": [
    "sns.boxplot(x = df['Marital_Status'], y = df['Purchase'])\n",
    "plt.show()"
   ]
  },
  {
   "cell_type": "markdown",
   "id": "8dab1a04",
   "metadata": {},
   "source": [
    "### Marital_Status feature doesn't seem to have much effect on Purchase behaviour though there are more outliers in Purchase amount in marital status category 1\n"
   ]
  },
  {
   "cell_type": "markdown",
   "id": "bb5fbd8c",
   "metadata": {},
   "source": [
    "# lets see Gender profiling of people visiting the store"
   ]
  },
  {
   "cell_type": "code",
   "execution_count": 142,
   "id": "a44cc0b1",
   "metadata": {},
   "outputs": [
    {
     "data": {
      "text/html": [
       "<div>\n",
       "<style scoped>\n",
       "    .dataframe tbody tr th:only-of-type {\n",
       "        vertical-align: middle;\n",
       "    }\n",
       "\n",
       "    .dataframe tbody tr th {\n",
       "        vertical-align: top;\n",
       "    }\n",
       "\n",
       "    .dataframe thead th {\n",
       "        text-align: right;\n",
       "    }\n",
       "</style>\n",
       "<table border=\"1\" class=\"dataframe\">\n",
       "  <thead>\n",
       "    <tr style=\"text-align: right;\">\n",
       "      <th>Age</th>\n",
       "      <th>0-17</th>\n",
       "      <th>18-25</th>\n",
       "      <th>26-35</th>\n",
       "      <th>36-45</th>\n",
       "      <th>46-50</th>\n",
       "      <th>51-55</th>\n",
       "      <th>55+</th>\n",
       "    </tr>\n",
       "    <tr>\n",
       "      <th>Gender</th>\n",
       "      <th></th>\n",
       "      <th></th>\n",
       "      <th></th>\n",
       "      <th></th>\n",
       "      <th></th>\n",
       "      <th></th>\n",
       "      <th></th>\n",
       "    </tr>\n",
       "  </thead>\n",
       "  <tbody>\n",
       "    <tr>\n",
       "      <th>F</th>\n",
       "      <td>1.324054</td>\n",
       "      <td>4.871838</td>\n",
       "      <td>9.25140</td>\n",
       "      <td>5.652691</td>\n",
       "      <td>3.089458</td>\n",
       "      <td>2.410457</td>\n",
       "      <td>1.680530</td>\n",
       "    </tr>\n",
       "    <tr>\n",
       "      <th>M</th>\n",
       "      <td>2.376507</td>\n",
       "      <td>13.274487</td>\n",
       "      <td>25.59837</td>\n",
       "      <td>14.157189</td>\n",
       "      <td>5.924291</td>\n",
       "      <td>5.754541</td>\n",
       "      <td>4.634188</td>\n",
       "    </tr>\n",
       "  </tbody>\n",
       "</table>\n",
       "</div>"
      ],
      "text/plain": [
       "Age         0-17      18-25     26-35      36-45     46-50     51-55       55+\n",
       "Gender                                                                        \n",
       "F       1.324054   4.871838   9.25140   5.652691  3.089458  2.410457  1.680530\n",
       "M       2.376507  13.274487  25.59837  14.157189  5.924291  5.754541  4.634188"
      ]
     },
     "execution_count": 142,
     "metadata": {},
     "output_type": "execute_result"
    }
   ],
   "source": [
    "pd.crosstab(dfU['Gender'],dfU['Age'],normalize=True)*100"
   ]
  },
  {
   "cell_type": "code",
   "execution_count": 143,
   "id": "770a26b4",
   "metadata": {},
   "outputs": [
    {
     "data": {
      "text/html": [
       "<div>\n",
       "<style scoped>\n",
       "    .dataframe tbody tr th:only-of-type {\n",
       "        vertical-align: middle;\n",
       "    }\n",
       "\n",
       "    .dataframe tbody tr th {\n",
       "        vertical-align: top;\n",
       "    }\n",
       "\n",
       "    .dataframe thead th {\n",
       "        text-align: right;\n",
       "    }\n",
       "</style>\n",
       "<table border=\"1\" class=\"dataframe\">\n",
       "  <thead>\n",
       "    <tr style=\"text-align: right;\">\n",
       "      <th>City_Category</th>\n",
       "      <th>A</th>\n",
       "      <th>B</th>\n",
       "      <th>C</th>\n",
       "    </tr>\n",
       "    <tr>\n",
       "      <th>Gender</th>\n",
       "      <th></th>\n",
       "      <th></th>\n",
       "      <th></th>\n",
       "    </tr>\n",
       "  </thead>\n",
       "  <tbody>\n",
       "    <tr>\n",
       "      <th>F</th>\n",
       "      <td>5.007639</td>\n",
       "      <td>8.538448</td>\n",
       "      <td>14.734341</td>\n",
       "    </tr>\n",
       "    <tr>\n",
       "      <th>M</th>\n",
       "      <td>12.731285</td>\n",
       "      <td>20.437956</td>\n",
       "      <td>38.550331</td>\n",
       "    </tr>\n",
       "  </tbody>\n",
       "</table>\n",
       "</div>"
      ],
      "text/plain": [
       "City_Category          A          B          C\n",
       "Gender                                        \n",
       "F               5.007639   8.538448  14.734341\n",
       "M              12.731285  20.437956  38.550331"
      ]
     },
     "execution_count": 143,
     "metadata": {},
     "output_type": "execute_result"
    }
   ],
   "source": [
    "pd.crosstab(dfU['Gender'],dfU['City_Category'],normalize=True)*100"
   ]
  },
  {
   "cell_type": "code",
   "execution_count": 144,
   "id": "f4223cfe",
   "metadata": {},
   "outputs": [
    {
     "data": {
      "text/html": [
       "<div>\n",
       "<style scoped>\n",
       "    .dataframe tbody tr th:only-of-type {\n",
       "        vertical-align: middle;\n",
       "    }\n",
       "\n",
       "    .dataframe tbody tr th {\n",
       "        vertical-align: top;\n",
       "    }\n",
       "\n",
       "    .dataframe thead th {\n",
       "        text-align: right;\n",
       "    }\n",
       "</style>\n",
       "<table border=\"1\" class=\"dataframe\">\n",
       "  <thead>\n",
       "    <tr style=\"text-align: right;\">\n",
       "      <th>Stay_In_Current_City_Years</th>\n",
       "      <th>0</th>\n",
       "      <th>1</th>\n",
       "      <th>2</th>\n",
       "      <th>3</th>\n",
       "      <th>4+</th>\n",
       "    </tr>\n",
       "    <tr>\n",
       "      <th>Gender</th>\n",
       "      <th></th>\n",
       "      <th></th>\n",
       "      <th></th>\n",
       "      <th></th>\n",
       "      <th></th>\n",
       "    </tr>\n",
       "  </thead>\n",
       "  <tbody>\n",
       "    <tr>\n",
       "      <th>F</th>\n",
       "      <td>3.632660</td>\n",
       "      <td>10.252928</td>\n",
       "      <td>5.567815</td>\n",
       "      <td>4.854863</td>\n",
       "      <td>3.972161</td>\n",
       "    </tr>\n",
       "    <tr>\n",
       "      <th>M</th>\n",
       "      <td>9.472076</td>\n",
       "      <td>25.157019</td>\n",
       "      <td>13.868613</td>\n",
       "      <td>11.763707</td>\n",
       "      <td>11.458157</td>\n",
       "    </tr>\n",
       "  </tbody>\n",
       "</table>\n",
       "</div>"
      ],
      "text/plain": [
       "Stay_In_Current_City_Years         0          1          2          3  \\\n",
       "Gender                                                                  \n",
       "F                           3.632660  10.252928   5.567815   4.854863   \n",
       "M                           9.472076  25.157019  13.868613  11.763707   \n",
       "\n",
       "Stay_In_Current_City_Years         4+  \n",
       "Gender                                 \n",
       "F                            3.972161  \n",
       "M                           11.458157  "
      ]
     },
     "execution_count": 144,
     "metadata": {},
     "output_type": "execute_result"
    }
   ],
   "source": [
    "pd.crosstab(dfU['Gender'],dfU['Stay_In_Current_City_Years'],normalize=True)*100"
   ]
  },
  {
   "cell_type": "code",
   "execution_count": 145,
   "id": "c73a2fac",
   "metadata": {},
   "outputs": [
    {
     "data": {
      "text/html": [
       "<div>\n",
       "<style scoped>\n",
       "    .dataframe tbody tr th:only-of-type {\n",
       "        vertical-align: middle;\n",
       "    }\n",
       "\n",
       "    .dataframe tbody tr th {\n",
       "        vertical-align: top;\n",
       "    }\n",
       "\n",
       "    .dataframe thead th {\n",
       "        text-align: right;\n",
       "    }\n",
       "</style>\n",
       "<table border=\"1\" class=\"dataframe\">\n",
       "  <thead>\n",
       "    <tr style=\"text-align: right;\">\n",
       "      <th>Marital_Status</th>\n",
       "      <th>0</th>\n",
       "      <th>1</th>\n",
       "    </tr>\n",
       "    <tr>\n",
       "      <th>Gender</th>\n",
       "      <th></th>\n",
       "      <th></th>\n",
       "    </tr>\n",
       "  </thead>\n",
       "  <tbody>\n",
       "    <tr>\n",
       "      <th>F</th>\n",
       "      <td>16.075369</td>\n",
       "      <td>12.205059</td>\n",
       "    </tr>\n",
       "    <tr>\n",
       "      <th>M</th>\n",
       "      <td>41.928365</td>\n",
       "      <td>29.791207</td>\n",
       "    </tr>\n",
       "  </tbody>\n",
       "</table>\n",
       "</div>"
      ],
      "text/plain": [
       "Marital_Status          0          1\n",
       "Gender                              \n",
       "F               16.075369  12.205059\n",
       "M               41.928365  29.791207"
      ]
     },
     "execution_count": 145,
     "metadata": {},
     "output_type": "execute_result"
    }
   ],
   "source": [
    "pd.crosstab(dfU['Gender'],dfU['Marital_Status'],normalize=True)*100"
   ]
  },
  {
   "cell_type": "markdown",
   "id": "14ea9bfe",
   "metadata": {},
   "source": [
    "# Males- 41% belong to 0-marital status; 25% staying in current city for 1 year; 38% belong to city category C;25% in age category 26-35years\n",
    "# Female- 16% belong to 0-marital status; 10% staying in current city for 1 year; 14% belong to city category C;9% in age category 26-35years\n"
   ]
  },
  {
   "cell_type": "markdown",
   "id": "761e1a47",
   "metadata": {},
   "source": [
    "# which product_id/product_category, which gender is more inclined"
   ]
  },
  {
   "cell_type": "code",
   "execution_count": 146,
   "id": "cd399453",
   "metadata": {},
   "outputs": [
    {
     "data": {
      "text/html": [
       "<div>\n",
       "<style scoped>\n",
       "    .dataframe tbody tr th:only-of-type {\n",
       "        vertical-align: middle;\n",
       "    }\n",
       "\n",
       "    .dataframe tbody tr th {\n",
       "        vertical-align: top;\n",
       "    }\n",
       "\n",
       "    .dataframe thead th {\n",
       "        text-align: right;\n",
       "    }\n",
       "</style>\n",
       "<table border=\"1\" class=\"dataframe\">\n",
       "  <thead>\n",
       "    <tr style=\"text-align: right;\">\n",
       "      <th>Gender</th>\n",
       "      <th>F</th>\n",
       "      <th>M</th>\n",
       "    </tr>\n",
       "    <tr>\n",
       "      <th>Product_Category</th>\n",
       "      <th></th>\n",
       "      <th></th>\n",
       "    </tr>\n",
       "  </thead>\n",
       "  <tbody>\n",
       "    <tr>\n",
       "      <th>1</th>\n",
       "      <td>4.514169</td>\n",
       "      <td>21.005948</td>\n",
       "    </tr>\n",
       "    <tr>\n",
       "      <th>2</th>\n",
       "      <td>1.028600</td>\n",
       "      <td>3.309773</td>\n",
       "    </tr>\n",
       "    <tr>\n",
       "      <th>3</th>\n",
       "      <td>1.091865</td>\n",
       "      <td>2.582772</td>\n",
       "    </tr>\n",
       "    <tr>\n",
       "      <th>4</th>\n",
       "      <td>0.661555</td>\n",
       "      <td>1.475090</td>\n",
       "    </tr>\n",
       "    <tr>\n",
       "      <th>5</th>\n",
       "      <td>7.628330</td>\n",
       "      <td>19.810642</td>\n",
       "    </tr>\n",
       "    <tr>\n",
       "      <th>6</th>\n",
       "      <td>0.828807</td>\n",
       "      <td>2.891824</td>\n",
       "    </tr>\n",
       "    <tr>\n",
       "      <th>7</th>\n",
       "      <td>0.171433</td>\n",
       "      <td>0.505028</td>\n",
       "    </tr>\n",
       "    <tr>\n",
       "      <th>8</th>\n",
       "      <td>6.100700</td>\n",
       "      <td>14.610375</td>\n",
       "    </tr>\n",
       "    <tr>\n",
       "      <th>9</th>\n",
       "      <td>0.012726</td>\n",
       "      <td>0.061811</td>\n",
       "    </tr>\n",
       "    <tr>\n",
       "      <th>10</th>\n",
       "      <td>0.211247</td>\n",
       "      <td>0.720456</td>\n",
       "    </tr>\n",
       "    <tr>\n",
       "      <th>11</th>\n",
       "      <td>0.861530</td>\n",
       "      <td>3.553742</td>\n",
       "    </tr>\n",
       "    <tr>\n",
       "      <th>12</th>\n",
       "      <td>0.278511</td>\n",
       "      <td>0.439037</td>\n",
       "    </tr>\n",
       "    <tr>\n",
       "      <th>13</th>\n",
       "      <td>0.265785</td>\n",
       "      <td>0.742999</td>\n",
       "    </tr>\n",
       "    <tr>\n",
       "      <th>14</th>\n",
       "      <td>0.113259</td>\n",
       "      <td>0.163616</td>\n",
       "    </tr>\n",
       "    <tr>\n",
       "      <th>15</th>\n",
       "      <td>0.190158</td>\n",
       "      <td>0.953337</td>\n",
       "    </tr>\n",
       "    <tr>\n",
       "      <th>16</th>\n",
       "      <td>0.436673</td>\n",
       "      <td>1.350015</td>\n",
       "    </tr>\n",
       "    <tr>\n",
       "      <th>17</th>\n",
       "      <td>0.011271</td>\n",
       "      <td>0.093807</td>\n",
       "    </tr>\n",
       "    <tr>\n",
       "      <th>18</th>\n",
       "      <td>0.069446</td>\n",
       "      <td>0.498666</td>\n",
       "    </tr>\n",
       "    <tr>\n",
       "      <th>19</th>\n",
       "      <td>0.081990</td>\n",
       "      <td>0.209429</td>\n",
       "    </tr>\n",
       "    <tr>\n",
       "      <th>20</th>\n",
       "      <td>0.131438</td>\n",
       "      <td>0.332141</td>\n",
       "    </tr>\n",
       "  </tbody>\n",
       "</table>\n",
       "</div>"
      ],
      "text/plain": [
       "Gender                   F          M\n",
       "Product_Category                     \n",
       "1                 4.514169  21.005948\n",
       "2                 1.028600   3.309773\n",
       "3                 1.091865   2.582772\n",
       "4                 0.661555   1.475090\n",
       "5                 7.628330  19.810642\n",
       "6                 0.828807   2.891824\n",
       "7                 0.171433   0.505028\n",
       "8                 6.100700  14.610375\n",
       "9                 0.012726   0.061811\n",
       "10                0.211247   0.720456\n",
       "11                0.861530   3.553742\n",
       "12                0.278511   0.439037\n",
       "13                0.265785   0.742999\n",
       "14                0.113259   0.163616\n",
       "15                0.190158   0.953337\n",
       "16                0.436673   1.350015\n",
       "17                0.011271   0.093807\n",
       "18                0.069446   0.498666\n",
       "19                0.081990   0.209429\n",
       "20                0.131438   0.332141"
      ]
     },
     "execution_count": 146,
     "metadata": {},
     "output_type": "execute_result"
    }
   ],
   "source": [
    "pd.crosstab(df['Product_Category'],df['Gender'],normalize=True)*100"
   ]
  },
  {
   "cell_type": "markdown",
   "id": "1c281519",
   "metadata": {},
   "source": [
    "### male and females are both inclined to product_categories - 1,5,8"
   ]
  },
  {
   "cell_type": "code",
   "execution_count": 147,
   "id": "944e3f0e",
   "metadata": {},
   "outputs": [
    {
     "data": {
      "text/html": [
       "<div>\n",
       "<style scoped>\n",
       "    .dataframe tbody tr th:only-of-type {\n",
       "        vertical-align: middle;\n",
       "    }\n",
       "\n",
       "    .dataframe tbody tr th {\n",
       "        vertical-align: top;\n",
       "    }\n",
       "\n",
       "    .dataframe thead th {\n",
       "        text-align: right;\n",
       "    }\n",
       "</style>\n",
       "<table border=\"1\" class=\"dataframe\">\n",
       "  <thead>\n",
       "    <tr style=\"text-align: right;\">\n",
       "      <th>City_Category</th>\n",
       "      <th>A</th>\n",
       "      <th>B</th>\n",
       "      <th>C</th>\n",
       "    </tr>\n",
       "    <tr>\n",
       "      <th>Product_Category</th>\n",
       "      <th></th>\n",
       "      <th></th>\n",
       "      <th></th>\n",
       "    </tr>\n",
       "  </thead>\n",
       "  <tbody>\n",
       "    <tr>\n",
       "      <th>1</th>\n",
       "      <td>6.377575</td>\n",
       "      <td>10.590145</td>\n",
       "      <td>8.552397</td>\n",
       "    </tr>\n",
       "    <tr>\n",
       "      <th>2</th>\n",
       "      <td>1.116407</td>\n",
       "      <td>1.898674</td>\n",
       "      <td>1.323291</td>\n",
       "    </tr>\n",
       "    <tr>\n",
       "      <th>3</th>\n",
       "      <td>0.898616</td>\n",
       "      <td>1.561080</td>\n",
       "      <td>1.214941</td>\n",
       "    </tr>\n",
       "    <tr>\n",
       "      <th>4</th>\n",
       "      <td>0.554477</td>\n",
       "      <td>0.950064</td>\n",
       "      <td>0.632104</td>\n",
       "    </tr>\n",
       "    <tr>\n",
       "      <th>5</th>\n",
       "      <td>7.673779</td>\n",
       "      <td>11.660013</td>\n",
       "      <td>8.105180</td>\n",
       "    </tr>\n",
       "    <tr>\n",
       "      <th>6</th>\n",
       "      <td>1.001149</td>\n",
       "      <td>1.549990</td>\n",
       "      <td>1.169492</td>\n",
       "    </tr>\n",
       "    <tr>\n",
       "      <th>7</th>\n",
       "      <td>0.222882</td>\n",
       "      <td>0.290691</td>\n",
       "      <td>0.162889</td>\n",
       "    </tr>\n",
       "    <tr>\n",
       "      <th>8</th>\n",
       "      <td>5.850004</td>\n",
       "      <td>8.644931</td>\n",
       "      <td>6.216141</td>\n",
       "    </tr>\n",
       "    <tr>\n",
       "      <th>9</th>\n",
       "      <td>0.019998</td>\n",
       "      <td>0.031632</td>\n",
       "      <td>0.022906</td>\n",
       "    </tr>\n",
       "    <tr>\n",
       "      <th>10</th>\n",
       "      <td>0.242334</td>\n",
       "      <td>0.375045</td>\n",
       "      <td>0.314325</td>\n",
       "    </tr>\n",
       "    <tr>\n",
       "      <th>11</th>\n",
       "      <td>1.200033</td>\n",
       "      <td>1.906128</td>\n",
       "      <td>1.309111</td>\n",
       "    </tr>\n",
       "    <tr>\n",
       "      <th>12</th>\n",
       "      <td>0.193249</td>\n",
       "      <td>0.304508</td>\n",
       "      <td>0.219791</td>\n",
       "    </tr>\n",
       "    <tr>\n",
       "      <th>13</th>\n",
       "      <td>0.293418</td>\n",
       "      <td>0.412858</td>\n",
       "      <td>0.302508</td>\n",
       "    </tr>\n",
       "    <tr>\n",
       "      <th>14</th>\n",
       "      <td>0.087444</td>\n",
       "      <td>0.114895</td>\n",
       "      <td>0.074536</td>\n",
       "    </tr>\n",
       "    <tr>\n",
       "      <th>15</th>\n",
       "      <td>0.312143</td>\n",
       "      <td>0.479577</td>\n",
       "      <td>0.351775</td>\n",
       "    </tr>\n",
       "    <tr>\n",
       "      <th>16</th>\n",
       "      <td>0.517754</td>\n",
       "      <td>0.734091</td>\n",
       "      <td>0.534843</td>\n",
       "    </tr>\n",
       "    <tr>\n",
       "      <th>17</th>\n",
       "      <td>0.021997</td>\n",
       "      <td>0.048539</td>\n",
       "      <td>0.034541</td>\n",
       "    </tr>\n",
       "    <tr>\n",
       "      <th>18</th>\n",
       "      <td>0.136892</td>\n",
       "      <td>0.252514</td>\n",
       "      <td>0.178705</td>\n",
       "    </tr>\n",
       "    <tr>\n",
       "      <th>19</th>\n",
       "      <td>0.049630</td>\n",
       "      <td>0.083990</td>\n",
       "      <td>0.157799</td>\n",
       "    </tr>\n",
       "    <tr>\n",
       "      <th>20</th>\n",
       "      <td>0.085080</td>\n",
       "      <td>0.136892</td>\n",
       "      <td>0.241606</td>\n",
       "    </tr>\n",
       "  </tbody>\n",
       "</table>\n",
       "</div>"
      ],
      "text/plain": [
       "City_Category            A          B         C\n",
       "Product_Category                               \n",
       "1                 6.377575  10.590145  8.552397\n",
       "2                 1.116407   1.898674  1.323291\n",
       "3                 0.898616   1.561080  1.214941\n",
       "4                 0.554477   0.950064  0.632104\n",
       "5                 7.673779  11.660013  8.105180\n",
       "6                 1.001149   1.549990  1.169492\n",
       "7                 0.222882   0.290691  0.162889\n",
       "8                 5.850004   8.644931  6.216141\n",
       "9                 0.019998   0.031632  0.022906\n",
       "10                0.242334   0.375045  0.314325\n",
       "11                1.200033   1.906128  1.309111\n",
       "12                0.193249   0.304508  0.219791\n",
       "13                0.293418   0.412858  0.302508\n",
       "14                0.087444   0.114895  0.074536\n",
       "15                0.312143   0.479577  0.351775\n",
       "16                0.517754   0.734091  0.534843\n",
       "17                0.021997   0.048539  0.034541\n",
       "18                0.136892   0.252514  0.178705\n",
       "19                0.049630   0.083990  0.157799\n",
       "20                0.085080   0.136892  0.241606"
      ]
     },
     "execution_count": 147,
     "metadata": {},
     "output_type": "execute_result"
    }
   ],
   "source": [
    "pd.crosstab(df['Product_Category'],df['City_Category'],normalize=True)*100"
   ]
  },
  {
   "cell_type": "markdown",
   "id": "7dec71b1",
   "metadata": {},
   "source": [
    "### again, irrespective of people living in cities A,B and C- product categories 1,5,8 are more purchased items\n"
   ]
  },
  {
   "cell_type": "code",
   "execution_count": 148,
   "id": "763c5d26",
   "metadata": {},
   "outputs": [
    {
     "data": {
      "text/html": [
       "<div>\n",
       "<style scoped>\n",
       "    .dataframe tbody tr th:only-of-type {\n",
       "        vertical-align: middle;\n",
       "    }\n",
       "\n",
       "    .dataframe tbody tr th {\n",
       "        vertical-align: top;\n",
       "    }\n",
       "\n",
       "    .dataframe thead th {\n",
       "        text-align: right;\n",
       "    }\n",
       "</style>\n",
       "<table border=\"1\" class=\"dataframe\">\n",
       "  <thead>\n",
       "    <tr style=\"text-align: right;\">\n",
       "      <th>Stay_In_Current_City_Years</th>\n",
       "      <th>0</th>\n",
       "      <th>1</th>\n",
       "      <th>2</th>\n",
       "      <th>3</th>\n",
       "      <th>4+</th>\n",
       "    </tr>\n",
       "    <tr>\n",
       "      <th>Product_Category</th>\n",
       "      <th></th>\n",
       "      <th></th>\n",
       "      <th></th>\n",
       "      <th></th>\n",
       "      <th></th>\n",
       "    </tr>\n",
       "  </thead>\n",
       "  <tbody>\n",
       "    <tr>\n",
       "      <th>1</th>\n",
       "      <td>3.373219</td>\n",
       "      <td>8.875085</td>\n",
       "      <td>4.819950</td>\n",
       "      <td>4.541439</td>\n",
       "      <td>3.910426</td>\n",
       "    </tr>\n",
       "    <tr>\n",
       "      <th>2</th>\n",
       "      <td>0.581746</td>\n",
       "      <td>1.523266</td>\n",
       "      <td>0.838078</td>\n",
       "      <td>0.768996</td>\n",
       "      <td>0.626286</td>\n",
       "    </tr>\n",
       "    <tr>\n",
       "      <th>3</th>\n",
       "      <td>0.507028</td>\n",
       "      <td>1.274024</td>\n",
       "      <td>0.711185</td>\n",
       "      <td>0.651738</td>\n",
       "      <td>0.530662</td>\n",
       "    </tr>\n",
       "    <tr>\n",
       "      <th>4</th>\n",
       "      <td>0.288510</td>\n",
       "      <td>0.745181</td>\n",
       "      <td>0.387952</td>\n",
       "      <td>0.382135</td>\n",
       "      <td>0.332868</td>\n",
       "    </tr>\n",
       "    <tr>\n",
       "      <th>5</th>\n",
       "      <td>3.744992</td>\n",
       "      <td>9.653716</td>\n",
       "      <td>5.109550</td>\n",
       "      <td>4.794316</td>\n",
       "      <td>4.136398</td>\n",
       "    </tr>\n",
       "    <tr>\n",
       "      <th>6</th>\n",
       "      <td>0.497575</td>\n",
       "      <td>1.320928</td>\n",
       "      <td>0.678643</td>\n",
       "      <td>0.625559</td>\n",
       "      <td>0.597926</td>\n",
       "    </tr>\n",
       "    <tr>\n",
       "      <th>7</th>\n",
       "      <td>0.101442</td>\n",
       "      <td>0.234698</td>\n",
       "      <td>0.109259</td>\n",
       "      <td>0.125439</td>\n",
       "      <td>0.105623</td>\n",
       "    </tr>\n",
       "    <tr>\n",
       "      <th>8</th>\n",
       "      <td>2.788928</td>\n",
       "      <td>7.481620</td>\n",
       "      <td>3.679181</td>\n",
       "      <td>3.467571</td>\n",
       "      <td>3.293775</td>\n",
       "    </tr>\n",
       "    <tr>\n",
       "      <th>9</th>\n",
       "      <td>0.011271</td>\n",
       "      <td>0.023997</td>\n",
       "      <td>0.015816</td>\n",
       "      <td>0.013998</td>\n",
       "      <td>0.009453</td>\n",
       "    </tr>\n",
       "    <tr>\n",
       "      <th>10</th>\n",
       "      <td>0.120894</td>\n",
       "      <td>0.336867</td>\n",
       "      <td>0.165071</td>\n",
       "      <td>0.165979</td>\n",
       "      <td>0.142891</td>\n",
       "    </tr>\n",
       "    <tr>\n",
       "      <th>11</th>\n",
       "      <td>0.633558</td>\n",
       "      <td>1.480726</td>\n",
       "      <td>0.837351</td>\n",
       "      <td>0.727910</td>\n",
       "      <td>0.735727</td>\n",
       "    </tr>\n",
       "    <tr>\n",
       "      <th>12</th>\n",
       "      <td>0.097806</td>\n",
       "      <td>0.255968</td>\n",
       "      <td>0.133256</td>\n",
       "      <td>0.123439</td>\n",
       "      <td>0.107078</td>\n",
       "    </tr>\n",
       "    <tr>\n",
       "      <th>13</th>\n",
       "      <td>0.140892</td>\n",
       "      <td>0.364682</td>\n",
       "      <td>0.177978</td>\n",
       "      <td>0.171433</td>\n",
       "      <td>0.153799</td>\n",
       "    </tr>\n",
       "    <tr>\n",
       "      <th>14</th>\n",
       "      <td>0.039268</td>\n",
       "      <td>0.104533</td>\n",
       "      <td>0.045267</td>\n",
       "      <td>0.042904</td>\n",
       "      <td>0.044904</td>\n",
       "    </tr>\n",
       "    <tr>\n",
       "      <th>15</th>\n",
       "      <td>0.166525</td>\n",
       "      <td>0.398133</td>\n",
       "      <td>0.210156</td>\n",
       "      <td>0.191249</td>\n",
       "      <td>0.177433</td>\n",
       "    </tr>\n",
       "    <tr>\n",
       "      <th>16</th>\n",
       "      <td>0.239970</td>\n",
       "      <td>0.641739</td>\n",
       "      <td>0.327959</td>\n",
       "      <td>0.295236</td>\n",
       "      <td>0.281783</td>\n",
       "    </tr>\n",
       "    <tr>\n",
       "      <th>17</th>\n",
       "      <td>0.015634</td>\n",
       "      <td>0.030542</td>\n",
       "      <td>0.020907</td>\n",
       "      <td>0.020907</td>\n",
       "      <td>0.017089</td>\n",
       "    </tr>\n",
       "    <tr>\n",
       "      <th>18</th>\n",
       "      <td>0.077445</td>\n",
       "      <td>0.219609</td>\n",
       "      <td>0.095625</td>\n",
       "      <td>0.088898</td>\n",
       "      <td>0.086535</td>\n",
       "    </tr>\n",
       "    <tr>\n",
       "      <th>19</th>\n",
       "      <td>0.036177</td>\n",
       "      <td>0.110350</td>\n",
       "      <td>0.053812</td>\n",
       "      <td>0.046176</td>\n",
       "      <td>0.044904</td>\n",
       "    </tr>\n",
       "    <tr>\n",
       "      <th>20</th>\n",
       "      <td>0.062356</td>\n",
       "      <td>0.160162</td>\n",
       "      <td>0.096715</td>\n",
       "      <td>0.077081</td>\n",
       "      <td>0.067264</td>\n",
       "    </tr>\n",
       "  </tbody>\n",
       "</table>\n",
       "</div>"
      ],
      "text/plain": [
       "Stay_In_Current_City_Years         0         1         2         3        4+\n",
       "Product_Category                                                            \n",
       "1                           3.373219  8.875085  4.819950  4.541439  3.910426\n",
       "2                           0.581746  1.523266  0.838078  0.768996  0.626286\n",
       "3                           0.507028  1.274024  0.711185  0.651738  0.530662\n",
       "4                           0.288510  0.745181  0.387952  0.382135  0.332868\n",
       "5                           3.744992  9.653716  5.109550  4.794316  4.136398\n",
       "6                           0.497575  1.320928  0.678643  0.625559  0.597926\n",
       "7                           0.101442  0.234698  0.109259  0.125439  0.105623\n",
       "8                           2.788928  7.481620  3.679181  3.467571  3.293775\n",
       "9                           0.011271  0.023997  0.015816  0.013998  0.009453\n",
       "10                          0.120894  0.336867  0.165071  0.165979  0.142891\n",
       "11                          0.633558  1.480726  0.837351  0.727910  0.735727\n",
       "12                          0.097806  0.255968  0.133256  0.123439  0.107078\n",
       "13                          0.140892  0.364682  0.177978  0.171433  0.153799\n",
       "14                          0.039268  0.104533  0.045267  0.042904  0.044904\n",
       "15                          0.166525  0.398133  0.210156  0.191249  0.177433\n",
       "16                          0.239970  0.641739  0.327959  0.295236  0.281783\n",
       "17                          0.015634  0.030542  0.020907  0.020907  0.017089\n",
       "18                          0.077445  0.219609  0.095625  0.088898  0.086535\n",
       "19                          0.036177  0.110350  0.053812  0.046176  0.044904\n",
       "20                          0.062356  0.160162  0.096715  0.077081  0.067264"
      ]
     },
     "execution_count": 148,
     "metadata": {},
     "output_type": "execute_result"
    }
   ],
   "source": [
    "pd.crosstab(df['Product_Category'],df['Stay_In_Current_City_Years'],normalize=True)*100"
   ]
  },
  {
   "cell_type": "markdown",
   "id": "3eab3916",
   "metadata": {},
   "source": [
    "###  again, irrespective of number of years of staying- product categories 1,5,8 are more purchased items"
   ]
  },
  {
   "cell_type": "code",
   "execution_count": 149,
   "id": "3a309819",
   "metadata": {},
   "outputs": [
    {
     "data": {
      "text/html": [
       "<div>\n",
       "<style scoped>\n",
       "    .dataframe tbody tr th:only-of-type {\n",
       "        vertical-align: middle;\n",
       "    }\n",
       "\n",
       "    .dataframe tbody tr th {\n",
       "        vertical-align: top;\n",
       "    }\n",
       "\n",
       "    .dataframe thead th {\n",
       "        text-align: right;\n",
       "    }\n",
       "</style>\n",
       "<table border=\"1\" class=\"dataframe\">\n",
       "  <thead>\n",
       "    <tr style=\"text-align: right;\">\n",
       "      <th>Marital_Status</th>\n",
       "      <th>0</th>\n",
       "      <th>1</th>\n",
       "    </tr>\n",
       "    <tr>\n",
       "      <th>Product_Category</th>\n",
       "      <th></th>\n",
       "      <th></th>\n",
       "    </tr>\n",
       "  </thead>\n",
       "  <tbody>\n",
       "    <tr>\n",
       "      <th>1</th>\n",
       "      <td>15.339013</td>\n",
       "      <td>10.181105</td>\n",
       "    </tr>\n",
       "    <tr>\n",
       "      <th>2</th>\n",
       "      <td>2.570228</td>\n",
       "      <td>1.768145</td>\n",
       "    </tr>\n",
       "    <tr>\n",
       "      <th>3</th>\n",
       "      <td>2.246813</td>\n",
       "      <td>1.427823</td>\n",
       "    </tr>\n",
       "    <tr>\n",
       "      <th>4</th>\n",
       "      <td>1.304748</td>\n",
       "      <td>0.831897</td>\n",
       "    </tr>\n",
       "    <tr>\n",
       "      <th>5</th>\n",
       "      <td>16.299076</td>\n",
       "      <td>11.139895</td>\n",
       "    </tr>\n",
       "    <tr>\n",
       "      <th>6</th>\n",
       "      <td>2.206818</td>\n",
       "      <td>1.513813</td>\n",
       "    </tr>\n",
       "    <tr>\n",
       "      <th>7</th>\n",
       "      <td>0.370863</td>\n",
       "      <td>0.305599</td>\n",
       "    </tr>\n",
       "    <tr>\n",
       "      <th>8</th>\n",
       "      <td>11.891439</td>\n",
       "      <td>8.819637</td>\n",
       "    </tr>\n",
       "    <tr>\n",
       "      <th>9</th>\n",
       "      <td>0.044904</td>\n",
       "      <td>0.029633</td>\n",
       "    </tr>\n",
       "    <tr>\n",
       "      <th>10</th>\n",
       "      <td>0.505028</td>\n",
       "      <td>0.426675</td>\n",
       "    </tr>\n",
       "    <tr>\n",
       "      <th>11</th>\n",
       "      <td>2.666579</td>\n",
       "      <td>1.748693</td>\n",
       "    </tr>\n",
       "    <tr>\n",
       "      <th>12</th>\n",
       "      <td>0.369772</td>\n",
       "      <td>0.347775</td>\n",
       "    </tr>\n",
       "    <tr>\n",
       "      <th>13</th>\n",
       "      <td>0.574838</td>\n",
       "      <td>0.433946</td>\n",
       "    </tr>\n",
       "    <tr>\n",
       "      <th>14</th>\n",
       "      <td>0.153799</td>\n",
       "      <td>0.123076</td>\n",
       "    </tr>\n",
       "    <tr>\n",
       "      <th>15</th>\n",
       "      <td>0.658646</td>\n",
       "      <td>0.484849</td>\n",
       "    </tr>\n",
       "    <tr>\n",
       "      <th>16</th>\n",
       "      <td>1.038599</td>\n",
       "      <td>0.748089</td>\n",
       "    </tr>\n",
       "    <tr>\n",
       "      <th>17</th>\n",
       "      <td>0.054175</td>\n",
       "      <td>0.050903</td>\n",
       "    </tr>\n",
       "    <tr>\n",
       "      <th>18</th>\n",
       "      <td>0.298327</td>\n",
       "      <td>0.269785</td>\n",
       "    </tr>\n",
       "    <tr>\n",
       "      <th>19</th>\n",
       "      <td>0.171979</td>\n",
       "      <td>0.119440</td>\n",
       "    </tr>\n",
       "    <tr>\n",
       "      <th>20</th>\n",
       "      <td>0.269058</td>\n",
       "      <td>0.194521</td>\n",
       "    </tr>\n",
       "  </tbody>\n",
       "</table>\n",
       "</div>"
      ],
      "text/plain": [
       "Marital_Status            0          1\n",
       "Product_Category                      \n",
       "1                 15.339013  10.181105\n",
       "2                  2.570228   1.768145\n",
       "3                  2.246813   1.427823\n",
       "4                  1.304748   0.831897\n",
       "5                 16.299076  11.139895\n",
       "6                  2.206818   1.513813\n",
       "7                  0.370863   0.305599\n",
       "8                 11.891439   8.819637\n",
       "9                  0.044904   0.029633\n",
       "10                 0.505028   0.426675\n",
       "11                 2.666579   1.748693\n",
       "12                 0.369772   0.347775\n",
       "13                 0.574838   0.433946\n",
       "14                 0.153799   0.123076\n",
       "15                 0.658646   0.484849\n",
       "16                 1.038599   0.748089\n",
       "17                 0.054175   0.050903\n",
       "18                 0.298327   0.269785\n",
       "19                 0.171979   0.119440\n",
       "20                 0.269058   0.194521"
      ]
     },
     "execution_count": 149,
     "metadata": {},
     "output_type": "execute_result"
    }
   ],
   "source": [
    "pd.crosstab(df['Product_Category'],df['Marital_Status'],normalize=True)*100"
   ]
  },
  {
   "cell_type": "markdown",
   "id": "526ae01f",
   "metadata": {},
   "source": [
    "### same behaviour wrt marital status. product_category 1,5,8 are more frequent"
   ]
  },
  {
   "cell_type": "code",
   "execution_count": 150,
   "id": "bf45eb11",
   "metadata": {},
   "outputs": [
    {
     "data": {
      "text/html": [
       "<div>\n",
       "<style scoped>\n",
       "    .dataframe tbody tr th:only-of-type {\n",
       "        vertical-align: middle;\n",
       "    }\n",
       "\n",
       "    .dataframe tbody tr th {\n",
       "        vertical-align: top;\n",
       "    }\n",
       "\n",
       "    .dataframe thead th {\n",
       "        text-align: right;\n",
       "    }\n",
       "</style>\n",
       "<table border=\"1\" class=\"dataframe\">\n",
       "  <thead>\n",
       "    <tr style=\"text-align: right;\">\n",
       "      <th>Gender</th>\n",
       "      <th>F</th>\n",
       "      <th>M</th>\n",
       "    </tr>\n",
       "    <tr>\n",
       "      <th>Product_ID</th>\n",
       "      <th></th>\n",
       "      <th></th>\n",
       "    </tr>\n",
       "  </thead>\n",
       "  <tbody>\n",
       "    <tr>\n",
       "      <th>P00110742</th>\n",
       "      <td>0.260012</td>\n",
       "      <td>0.888316</td>\n",
       "    </tr>\n",
       "    <tr>\n",
       "      <th>P00110842</th>\n",
       "      <td>0.254313</td>\n",
       "      <td>0.658223</td>\n",
       "    </tr>\n",
       "    <tr>\n",
       "      <th>P00025442</th>\n",
       "      <td>0.247902</td>\n",
       "      <td>0.902563</td>\n",
       "    </tr>\n",
       "    <tr>\n",
       "      <th>P00112142</th>\n",
       "      <td>0.241491</td>\n",
       "      <td>0.871219</td>\n",
       "    </tr>\n",
       "    <tr>\n",
       "      <th>P00110942</th>\n",
       "      <td>0.220832</td>\n",
       "      <td>0.747980</td>\n",
       "    </tr>\n",
       "    <tr>\n",
       "      <th>...</th>\n",
       "      <td>...</td>\n",
       "      <td>...</td>\n",
       "    </tr>\n",
       "    <tr>\n",
       "      <th>P00105842</th>\n",
       "      <td>0.000000</td>\n",
       "      <td>0.001425</td>\n",
       "    </tr>\n",
       "    <tr>\n",
       "      <th>P00201642</th>\n",
       "      <td>0.000000</td>\n",
       "      <td>0.010685</td>\n",
       "    </tr>\n",
       "    <tr>\n",
       "      <th>P00128542</th>\n",
       "      <td>0.000000</td>\n",
       "      <td>0.004274</td>\n",
       "    </tr>\n",
       "    <tr>\n",
       "      <th>P00108342</th>\n",
       "      <td>0.000000</td>\n",
       "      <td>0.007124</td>\n",
       "    </tr>\n",
       "    <tr>\n",
       "      <th>P00206942</th>\n",
       "      <td>0.000000</td>\n",
       "      <td>0.000712</td>\n",
       "    </tr>\n",
       "  </tbody>\n",
       "</table>\n",
       "<p>493 rows × 2 columns</p>\n",
       "</div>"
      ],
      "text/plain": [
       "Gender             F         M\n",
       "Product_ID                    \n",
       "P00110742   0.260012  0.888316\n",
       "P00110842   0.254313  0.658223\n",
       "P00025442   0.247902  0.902563\n",
       "P00112142   0.241491  0.871219\n",
       "P00110942   0.220832  0.747980\n",
       "...              ...       ...\n",
       "P00105842   0.000000  0.001425\n",
       "P00201642   0.000000  0.010685\n",
       "P00128542   0.000000  0.004274\n",
       "P00108342   0.000000  0.007124\n",
       "P00206942   0.000000  0.000712\n",
       "\n",
       "[493 rows x 2 columns]"
      ]
     },
     "execution_count": 150,
     "metadata": {},
     "output_type": "execute_result"
    }
   ],
   "source": [
    "a = pd.crosstab(df[df['Product_Category'] == 1]['Product_ID'],df['Gender'],normalize=True)*100\n",
    "a.sort_values(by = 'F',ascending=False)"
   ]
  },
  {
   "cell_type": "code",
   "execution_count": 151,
   "id": "10419e1b",
   "metadata": {},
   "outputs": [
    {
     "data": {
      "text/html": [
       "<div>\n",
       "<style scoped>\n",
       "    .dataframe tbody tr th:only-of-type {\n",
       "        vertical-align: middle;\n",
       "    }\n",
       "\n",
       "    .dataframe tbody tr th {\n",
       "        vertical-align: top;\n",
       "    }\n",
       "\n",
       "    .dataframe thead th {\n",
       "        text-align: right;\n",
       "    }\n",
       "</style>\n",
       "<table border=\"1\" class=\"dataframe\">\n",
       "  <thead>\n",
       "    <tr style=\"text-align: right;\">\n",
       "      <th>Gender</th>\n",
       "      <th>F</th>\n",
       "      <th>M</th>\n",
       "    </tr>\n",
       "    <tr>\n",
       "      <th>Product_ID</th>\n",
       "      <th></th>\n",
       "      <th></th>\n",
       "    </tr>\n",
       "  </thead>\n",
       "  <tbody>\n",
       "    <tr>\n",
       "      <th>P00265242</th>\n",
       "      <td>0.336573</td>\n",
       "      <td>0.909013</td>\n",
       "    </tr>\n",
       "    <tr>\n",
       "      <th>P00220442</th>\n",
       "      <td>0.291520</td>\n",
       "      <td>0.557863</td>\n",
       "    </tr>\n",
       "    <tr>\n",
       "      <th>P00034742</th>\n",
       "      <td>0.241167</td>\n",
       "      <td>0.561839</td>\n",
       "    </tr>\n",
       "    <tr>\n",
       "      <th>P00117442</th>\n",
       "      <td>0.236529</td>\n",
       "      <td>0.598279</td>\n",
       "    </tr>\n",
       "    <tr>\n",
       "      <th>P00117942</th>\n",
       "      <td>0.223278</td>\n",
       "      <td>0.680434</td>\n",
       "    </tr>\n",
       "    <tr>\n",
       "      <th>...</th>\n",
       "      <td>...</td>\n",
       "      <td>...</td>\n",
       "    </tr>\n",
       "    <tr>\n",
       "      <th>P00301142</th>\n",
       "      <td>0.000000</td>\n",
       "      <td>0.001325</td>\n",
       "    </tr>\n",
       "    <tr>\n",
       "      <th>P00056342</th>\n",
       "      <td>0.000000</td>\n",
       "      <td>0.000663</td>\n",
       "    </tr>\n",
       "    <tr>\n",
       "      <th>P00301042</th>\n",
       "      <td>0.000000</td>\n",
       "      <td>0.001988</td>\n",
       "    </tr>\n",
       "    <tr>\n",
       "      <th>P00300742</th>\n",
       "      <td>0.000000</td>\n",
       "      <td>0.000663</td>\n",
       "    </tr>\n",
       "    <tr>\n",
       "      <th>P00317742</th>\n",
       "      <td>0.000000</td>\n",
       "      <td>0.001325</td>\n",
       "    </tr>\n",
       "  </tbody>\n",
       "</table>\n",
       "<p>967 rows × 2 columns</p>\n",
       "</div>"
      ],
      "text/plain": [
       "Gender             F         M\n",
       "Product_ID                    \n",
       "P00265242   0.336573  0.909013\n",
       "P00220442   0.291520  0.557863\n",
       "P00034742   0.241167  0.561839\n",
       "P00117442   0.236529  0.598279\n",
       "P00117942   0.223278  0.680434\n",
       "...              ...       ...\n",
       "P00301142   0.000000  0.001325\n",
       "P00056342   0.000000  0.000663\n",
       "P00301042   0.000000  0.001988\n",
       "P00300742   0.000000  0.000663\n",
       "P00317742   0.000000  0.001325\n",
       "\n",
       "[967 rows x 2 columns]"
      ]
     },
     "execution_count": 151,
     "metadata": {},
     "output_type": "execute_result"
    }
   ],
   "source": [
    "a = pd.crosstab(df[df['Product_Category'] == 5]['Product_ID'],df['Gender'],normalize=True)*100\n",
    "a.sort_values(by = 'F',ascending=False)"
   ]
  },
  {
   "cell_type": "code",
   "execution_count": 152,
   "id": "9df9e56f",
   "metadata": {},
   "outputs": [
    {
     "data": {
      "text/html": [
       "<div>\n",
       "<style scoped>\n",
       "    .dataframe tbody tr th:only-of-type {\n",
       "        vertical-align: middle;\n",
       "    }\n",
       "\n",
       "    .dataframe tbody tr th {\n",
       "        vertical-align: top;\n",
       "    }\n",
       "\n",
       "    .dataframe thead th {\n",
       "        text-align: right;\n",
       "    }\n",
       "</style>\n",
       "<table border=\"1\" class=\"dataframe\">\n",
       "  <thead>\n",
       "    <tr style=\"text-align: right;\">\n",
       "      <th>Gender</th>\n",
       "      <th>F</th>\n",
       "      <th>M</th>\n",
       "    </tr>\n",
       "    <tr>\n",
       "      <th>Product_ID</th>\n",
       "      <th></th>\n",
       "      <th></th>\n",
       "    </tr>\n",
       "  </thead>\n",
       "  <tbody>\n",
       "    <tr>\n",
       "      <th>P00058042</th>\n",
       "      <td>0.339697</td>\n",
       "      <td>0.908492</td>\n",
       "    </tr>\n",
       "    <tr>\n",
       "      <th>P00031042</th>\n",
       "      <td>0.297564</td>\n",
       "      <td>0.755760</td>\n",
       "    </tr>\n",
       "    <tr>\n",
       "      <th>P00051442</th>\n",
       "      <td>0.287909</td>\n",
       "      <td>0.808427</td>\n",
       "    </tr>\n",
       "    <tr>\n",
       "      <th>P00157542</th>\n",
       "      <td>0.238754</td>\n",
       "      <td>0.496818</td>\n",
       "    </tr>\n",
       "    <tr>\n",
       "      <th>P00085242</th>\n",
       "      <td>0.227343</td>\n",
       "      <td>0.562651</td>\n",
       "    </tr>\n",
       "    <tr>\n",
       "      <th>...</th>\n",
       "      <td>...</td>\n",
       "      <td>...</td>\n",
       "    </tr>\n",
       "    <tr>\n",
       "      <th>P00126342</th>\n",
       "      <td>0.000000</td>\n",
       "      <td>0.000878</td>\n",
       "    </tr>\n",
       "    <tr>\n",
       "      <th>P00127142</th>\n",
       "      <td>0.000000</td>\n",
       "      <td>0.002633</td>\n",
       "    </tr>\n",
       "    <tr>\n",
       "      <th>P00247242</th>\n",
       "      <td>0.000000</td>\n",
       "      <td>0.004389</td>\n",
       "    </tr>\n",
       "    <tr>\n",
       "      <th>P00128642</th>\n",
       "      <td>0.000000</td>\n",
       "      <td>0.001756</td>\n",
       "    </tr>\n",
       "    <tr>\n",
       "      <th>P00074842</th>\n",
       "      <td>0.000000</td>\n",
       "      <td>0.000878</td>\n",
       "    </tr>\n",
       "  </tbody>\n",
       "</table>\n",
       "<p>1047 rows × 2 columns</p>\n",
       "</div>"
      ],
      "text/plain": [
       "Gender             F         M\n",
       "Product_ID                    \n",
       "P00058042   0.339697  0.908492\n",
       "P00031042   0.297564  0.755760\n",
       "P00051442   0.287909  0.808427\n",
       "P00157542   0.238754  0.496818\n",
       "P00085242   0.227343  0.562651\n",
       "...              ...       ...\n",
       "P00126342   0.000000  0.000878\n",
       "P00127142   0.000000  0.002633\n",
       "P00247242   0.000000  0.004389\n",
       "P00128642   0.000000  0.001756\n",
       "P00074842   0.000000  0.000878\n",
       "\n",
       "[1047 rows x 2 columns]"
      ]
     },
     "execution_count": 152,
     "metadata": {},
     "output_type": "execute_result"
    }
   ],
   "source": [
    "a = pd.crosstab(df[df['Product_Category'] == 8]['Product_ID'],df['Gender'],normalize=True)*100\n",
    "a.sort_values(by = 'F',ascending=False)"
   ]
  },
  {
   "cell_type": "markdown",
   "id": "6672a7b3",
   "metadata": {},
   "source": [
    "### for product_actegory 1: these are Top5 product_ids with more purchase volumne -> P00110742, P00110842, P00025442, P00112142,P00110942\n",
    "### for product_category 5: top5 productIDs -> P00265242, P00220442, P00034742, P00117442,P00117942\n",
    "### for product_category 8: top5 productIDs -> P00058042, P00031042, P00051442, P00157542,P00085242\n"
   ]
  },
  {
   "cell_type": "code",
   "execution_count": 153,
   "id": "e2af8901",
   "metadata": {},
   "outputs": [
    {
     "data": {
      "text/plain": [
       "Product_Category\n",
       "1      493\n",
       "2      152\n",
       "3       90\n",
       "4       88\n",
       "5      967\n",
       "6      119\n",
       "7      102\n",
       "8     1047\n",
       "9        2\n",
       "10      25\n",
       "11     254\n",
       "12      25\n",
       "13      35\n",
       "14      44\n",
       "15      44\n",
       "16      98\n",
       "17      11\n",
       "18      30\n",
       "19       2\n",
       "20       3\n",
       "Name: Product_ID, dtype: int64"
      ]
     },
     "execution_count": 153,
     "metadata": {},
     "output_type": "execute_result"
    }
   ],
   "source": [
    "df.groupby(['Product_Category'])['Product_ID'].nunique()"
   ]
  },
  {
   "cell_type": "markdown",
   "id": "e43315a2",
   "metadata": {},
   "source": [
    "### we can see that number of items belonging to product_categories 1,5,8 are maximum"
   ]
  },
  {
   "cell_type": "markdown",
   "id": "45f94998",
   "metadata": {},
   "source": [
    "# section 2: Generating statistical summary (bootstrap+CLT+descriptive analysis)"
   ]
  },
  {
   "cell_type": "markdown",
   "id": "71b757df",
   "metadata": {},
   "source": [
    "# Lets generate statistical summaries\n",
    "### lets see the mean values for the population\n",
    "### using CLT, we can verify the population mean and build CI around the \"Purchase\" value"
   ]
  },
  {
   "cell_type": "markdown",
   "id": "592724f0",
   "metadata": {},
   "source": [
    "# analysis of Gender -sample statistics,  generate bootstrap samples and build confidence interval"
   ]
  },
  {
   "cell_type": "code",
   "execution_count": 154,
   "id": "294d9380",
   "metadata": {},
   "outputs": [],
   "source": [
    "MeanPurchaseByEachUser = df.groupby('User_ID')['Purchase'].mean()"
   ]
  },
  {
   "cell_type": "code",
   "execution_count": 155,
   "id": "9d9a81b8",
   "metadata": {},
   "outputs": [],
   "source": [
    "dfPurchase = pd.merge(dfU,MeanPurchaseByEachUser, on = 'User_ID', how='inner')"
   ]
  },
  {
   "cell_type": "code",
   "execution_count": 161,
   "id": "0a26df6a",
   "metadata": {},
   "outputs": [
    {
     "name": "stdout",
     "output_type": "stream",
     "text": [
      "------Gender : F------\n",
      "\t\n"
     ]
    },
    {
     "data": {
      "image/png": "[encoded data removed]",
      "text/plain": [
       "<Figure size 432x288 with 1 Axes>"
      ]
     },
     "metadata": {
      "needs_background": "light"
     },
     "output_type": "display_data"
    },
    {
     "name": "stdout",
     "output_type": "stream",
     "text": [
      "\t\n",
      "------Sample statistics-------\n",
      "\t\n",
      "count     1666.000000\n",
      "mean      8965.198464\n",
      "std       1705.615508\n",
      "min       3599.733333\n",
      "25%       7857.252965\n",
      "50%       8818.059311\n",
      "75%       9859.887613\n",
      "max      18490.166667\n",
      "Name: Purchase, dtype: float64\n",
      "\t\n",
      "90% CI:  8896.48 , 9033.92\n",
      "95% CI:  8883.32 , 9047.08\n",
      "99% CI:  8857.59 , 9072.81\n",
      "\t\n",
      "----Confidence Interval calculations for population----\n",
      "\t\n",
      "population mean:  8965.188173384295\n",
      "population SD:  0.017034110592939196\n",
      "\t\n"
     ]
    },
    {
     "data": {
      "image/png": "[encoded data removed]",
      "text/plain": [
       "<Figure size 432x288 with 1 Axes>"
      ]
     },
     "metadata": {
      "needs_background": "light"
     },
     "output_type": "display_data"
    },
    {
     "name": "stdout",
     "output_type": "stream",
     "text": [
      "\t\n",
      "90.0 % CI: (8965.160154765705, 8965.216192002885)\n",
      "95.0 % CI: (8965.154787141024, 8965.221559627566)\n",
      "99.0 % CI: (8965.14429642307, 8965.23205034552)\n",
      "\n",
      "\n",
      "-----------------------------------\n",
      "\t\n",
      "------Gender : M------\n",
      "\t\n"
     ]
    },
    {
     "data": {
      "image/png": "[encoded data removed]",
      "text/plain": [
       "<Figure size 432x288 with 1 Axes>"
      ]
     },
     "metadata": {
      "needs_background": "light"
     },
     "output_type": "display_data"
    },
    {
     "name": "stdout",
     "output_type": "stream",
     "text": [
      "\t\n",
      "------Sample statistics-------\n",
      "\t\n",
      "count     4225.000000\n",
      "mean      9806.867524\n",
      "std       1906.396106\n",
      "min       2318.733333\n",
      "25%       8552.733333\n",
      "50%       9681.895604\n",
      "75%      10933.852459\n",
      "max      18577.893617\n",
      "Name: Purchase, dtype: float64\n",
      "\t\n",
      "90% CI:  9758.63 , 9855.11\n",
      "95% CI:  9749.39 , 9864.35\n",
      "99% CI:  9731.32 , 9882.41\n",
      "\t\n",
      "----Confidence Interval calculations for population----\n",
      "\t\n",
      "population mean:  9806.864022844393\n",
      "population SD:  0.01904318226367207\n",
      "\t\n"
     ]
    },
    {
     "data": {
      "image/png": "[encoded data removed]",
      "text/plain": [
       "<Figure size 432x288 with 1 Axes>"
      ]
     },
     "metadata": {
      "needs_background": "light"
     },
     "output_type": "display_data"
    },
    {
     "name": "stdout",
     "output_type": "stream",
     "text": [
      "\t\n",
      "90.0 % CI: (9806.832699596978, 9806.895346091807)\n",
      "95.0 % CI: (9806.826698893005, 9806.901346795781)\n",
      "99.0 % CI: (9806.814970857486, 9806.9130748313)\n",
      "\n",
      "\n",
      "-----------------------------------\n",
      "\t\n"
     ]
    }
   ],
   "source": [
    "UniqueGender = dfPurchase['Gender'].unique()\n",
    "r = 1000000\n",
    "size = 10000\n",
    "alpha = [0.90,0.95,0.99]\n",
    "    \n",
    "for g in UniqueGender:\n",
    "    print(f'------Gender : {g}------')\n",
    "    print(\"\\t\")\n",
    "    data = dfPurchase[dfPurchase['Gender'] == g]['Purchase']\n",
    "    sns.kdeplot(data)\n",
    "    plt.show()\n",
    "    print(\"\\t\")\n",
    "    print('------Sample statistics-------')\n",
    "    print(\"\\t\")\n",
    "    print(data.describe())\n",
    "    print(\"\\t\")\n",
    "    \n",
    "    print('90% CI: ',round(np.mean(data) - 1.645* np.std(data)/math.sqrt(len(data)),2),',' ,round(np.mean(data) + 1.645* np.std(data)/math.sqrt(len(data)),2))\n",
    "    print('95% CI: ',round(np.mean(data) - 1.96* np.std(data)/math.sqrt(len(data)),2),',' ,round(np.mean(data) + 1.96* np.std(data)/math.sqrt(len(data)),2))\n",
    "    print('99% CI: ',round(np.mean(data) - 2.576* np.std(data)/math.sqrt(len(data)),2),',' ,round(np.mean(data) + 2.576* np.std(data)/math.sqrt(len(data)),2))\n",
    "    print(\"\\t\")\n",
    "    \n",
    "    bs_means = np.empty(r)\n",
    "\n",
    "    for i in range(r):\n",
    "        bs_sample = np.random.choice(data, size=size)\n",
    "        bs_means[i] = np.mean(bs_sample)\n",
    "        \n",
    "    print(\"----Confidence Interval calculations for population----\")\n",
    "    print(\"\\t\")\n",
    "    print(\"population mean: \",np.mean(bs_means))\n",
    "    print(\"population SD: \", stats.sem(bs_means))\n",
    "    print(\"\\t\")\n",
    "    \n",
    "    plt.figure()\n",
    "    plt.hist(bs_means, bins=100)\n",
    "    plt.grid()\n",
    "    plt.show()\n",
    "    \n",
    "    print(\"\\t\")\n",
    "        \n",
    "    for a in alpha:\n",
    "        print(a*100,'%','CI:' ,stats.norm.interval(alpha= a, \n",
    "                 loc=np.mean(bs_means),\n",
    "                 scale=stats.sem(bs_means)))\n",
    "        \n",
    "    print(\"\\n\")\n",
    "    print(\"-----------------------------------\")\n",
    "    print(\"\\t\")\n",
    "    \n",
    "    \n",
    "    "
   ]
  },
  {
   "cell_type": "markdown",
   "id": "30ce100c",
   "metadata": {},
   "source": [
    "### Female -> sample mean: 8965.19, sample std-dev: 1705.61, 95% CI:[8883.32 , 9047.08]\n",
    "###          population mean: 8965.34, population SD: 0.17, 95% CI:[8964.86, 8965.53]\n",
    "\n",
    "### Male -> sample mean: 9806.86, sample std-dev: 1906.39, 95% CI:[9749.39 , 9864.35]\n",
    "###          population mean: 9806.89, population SD: 0.019, 95% CI:[9806.86, 9806.93]\n",
    "\n",
    "### Conclusion: \n",
    "\n",
    "### 1. The distribution of CI for Females is different than Males. So, we can have different targeted marketing strategies for males and females.\n",
    "###             2. Sample CI contains population mean for both Males and Females. This we see from CLT experiment as well.\n",
    "###             3. The original distribution seems to be right skewed, but with sufficent large number of samples, we can see Gaussian distribution(CLT). \n"
   ]
  },
  {
   "cell_type": "markdown",
   "id": "fb29e207",
   "metadata": {},
   "source": [
    "# analysis of Marital status -sample statistics,  generate bootstrap samples and build confidence interval"
   ]
  },
  {
   "cell_type": "code",
   "execution_count": 162,
   "id": "fe704f05",
   "metadata": {},
   "outputs": [
    {
     "name": "stdout",
     "output_type": "stream",
     "text": [
      "------ Marital status : 0------\n",
      "\t\n"
     ]
    },
    {
     "data": {
      "image/png": "[encoded data removed]",
      "text/plain": [
       "<Figure size 432x288 with 1 Axes>"
      ]
     },
     "metadata": {
      "needs_background": "light"
     },
     "output_type": "display_data"
    },
    {
     "name": "stdout",
     "output_type": "stream",
     "text": [
      "\t\n",
      "------Sample statistics-------\n",
      "\t\n",
      "count     3417.000000\n",
      "mean      9564.407142\n",
      "std       1877.332265\n",
      "min       2318.733333\n",
      "25%       8331.857143\n",
      "50%       9376.844828\n",
      "75%      10657.730909\n",
      "max      18577.893617\n",
      "Name: Purchase, dtype: float64\n",
      "\t\n",
      "90% CI:  9511.58 , 9617.23\n",
      "95% CI:  9501.47 , 9627.34\n",
      "99% CI:  9481.69 , 9647.13\n",
      "\t\n",
      "----Confidence Interval calculations for population----\n",
      "\t\n",
      "population mean:  9564.436525837536\n",
      "population SD:  0.018772153587670346\n",
      "\t\n"
     ]
    },
    {
     "data": {
      "image/png": "[encoded data removed]",
      "text/plain": [
       "<Figure size 432x288 with 1 Axes>"
      ]
     },
     "metadata": {
      "needs_background": "light"
     },
     "output_type": "display_data"
    },
    {
     "name": "stdout",
     "output_type": "stream",
     "text": [
      "\t\n",
      "90.0 % CI: (9564.405648392622, 9564.467403282451)\n",
      "95.0 % CI: (9564.399733092592, 9564.47331858248)\n",
      "99.0 % CI: (9564.388171974235, 9564.484879700838)\n",
      "\n",
      "\n",
      "-----------------------------------\n",
      "\t\n",
      "------ Marital status : 1------\n",
      "\t\n"
     ]
    },
    {
     "data": {
      "image/png": "[encoded data removed]",
      "text/plain": [
       "<Figure size 432x288 with 1 Axes>"
      ]
     },
     "metadata": {
      "needs_background": "light"
     },
     "output_type": "display_data"
    },
    {
     "name": "stdout",
     "output_type": "stream",
     "text": [
      "\t\n",
      "------Sample statistics-------\n",
      "\t\n",
      "count     2474.000000\n",
      "mean      9574.962299\n",
      "std       1907.927002\n",
      "min       3421.521739\n",
      "25%       8230.633143\n",
      "50%       9408.700535\n",
      "75%      10642.843137\n",
      "max      18490.166667\n",
      "Name: Purchase, dtype: float64\n",
      "\t\n",
      "90% CI:  9511.88 , 9638.05\n",
      "95% CI:  9499.79 , 9650.13\n",
      "99% CI:  9476.17 , 9673.75\n",
      "\t\n",
      "----Confidence Interval calculations for population----\n",
      "\t\n",
      "population mean:  9574.905339766588\n",
      "population SD:  0.019092633413470953\n",
      "\t\n"
     ]
    },
    {
     "data": {
      "image/png": "[encoded data removed]",
      "text/plain": [
       "<Figure size 432x288 with 1 Axes>"
      ]
     },
     "metadata": {
      "needs_background": "light"
     },
     "output_type": "display_data"
    },
    {
     "name": "stdout",
     "output_type": "stream",
     "text": [
      "\t\n",
      "90.0 % CI: (9574.87393517927, 9574.936744353907)\n",
      "95.0 % CI: (9574.867918892727, 9574.94276064045)\n",
      "99.0 % CI: (9574.85616040196, 9574.954519131217)\n",
      "\n",
      "\n",
      "-----------------------------------\n",
      "\t\n"
     ]
    }
   ],
   "source": [
    "UniqueMaritalStatus = dfPurchase['Marital_Status'].unique()\n",
    "r = 1000000\n",
    "size = 10000\n",
    "alpha = [0.90,0.95,0.99]\n",
    "    \n",
    "for ms in UniqueMaritalStatus:\n",
    "    print(f'------ Marital status : {ms}------')\n",
    "    print(\"\\t\")\n",
    "    data = dfPurchase[dfPurchase['Marital_Status'] == ms]['Purchase']\n",
    "    sns.kdeplot(data)\n",
    "    plt.show()\n",
    "    print(\"\\t\")\n",
    "    print('------Sample statistics-------')\n",
    "    print(\"\\t\")\n",
    "    print(data.describe())\n",
    "    print(\"\\t\")\n",
    "    \n",
    "    print('90% CI: ',round(np.mean(data) - 1.645* np.std(data)/math.sqrt(len(data)),2),',' ,round(np.mean(data) + 1.645* np.std(data)/math.sqrt(len(data)),2))\n",
    "    print('95% CI: ',round(np.mean(data) - 1.96* np.std(data)/math.sqrt(len(data)),2),',' ,round(np.mean(data) + 1.96* np.std(data)/math.sqrt(len(data)),2))\n",
    "    print('99% CI: ',round(np.mean(data) - 2.576* np.std(data)/math.sqrt(len(data)),2),',' ,round(np.mean(data) + 2.576* np.std(data)/math.sqrt(len(data)),2))\n",
    "    print(\"\\t\")\n",
    "    \n",
    "    bs_means = np.empty(r)\n",
    "\n",
    "    for i in range(r):\n",
    "        bs_sample = np.random.choice(data, size=size)\n",
    "        bs_means[i] = np.mean(bs_sample)\n",
    "        \n",
    "    print(\"----Confidence Interval calculations for population----\")\n",
    "    print(\"\\t\")\n",
    "    print(\"population mean: \",np.mean(bs_means))\n",
    "    print(\"population SD: \", stats.sem(bs_means))\n",
    "    print(\"\\t\")\n",
    "    \n",
    "    plt.figure()\n",
    "    plt.hist(bs_means, bins=100)\n",
    "    plt.grid()\n",
    "    plt.show()\n",
    "    \n",
    "    print(\"\\t\")\n",
    "        \n",
    "    for a in alpha:\n",
    "        print(a*100,'%','CI:' ,stats.norm.interval(alpha= a, \n",
    "                 loc=np.mean(bs_means),\n",
    "                 scale=stats.sem(bs_means)))\n",
    "        \n",
    "    print(\"\\n\")\n",
    "    print(\"-----------------------------------\")\n",
    "    print(\"\\t\")\n",
    "    \n",
    "    \n",
    "    "
   ]
  },
  {
   "cell_type": "markdown",
   "id": "b051b575",
   "metadata": {},
   "source": [
    "### marital status 0 -> sample mean: 9564.40, sample std-dev: 1877.33, 95% CI:[9501.47 , 9627.34]\n",
    "###          population mean: 9564.43, population SD: 0.018, 95% CI:[9564.39, 9564.47]\n",
    "\n",
    "### marital status 1 -> sample mean: 9574.96, sample std-dev: 1907.92, 95% CI: [9499.79 , 9650.13]\n",
    "###          population mean: 9574.9, population SD: 0.019, 95% CI:[9574.86, 9574.94]\n",
    "\n",
    "### Conclusion: \n",
    "###             1. The CI for both 0,1 marital status overlaps.This is confirmed by population CI as well.\n",
    "###             2.The CI of sample means for marital status for both 0 and 1 includes population mean shown by CLT\n",
    "### experiment,\n",
    "###             3. With present statistics, we don't see definitive distinction for both population. \n",
    "###                Hence, marketing team should not invest based on this distinction\n"
   ]
  },
  {
   "cell_type": "markdown",
   "id": "57d74d8f",
   "metadata": {},
   "source": [
    "# analysis of Age -sample statistics,  generate bootstrap samples and build confidence interval"
   ]
  },
  {
   "cell_type": "code",
   "execution_count": 163,
   "id": "0f3eb8c5",
   "metadata": {},
   "outputs": [
    {
     "name": "stdout",
     "output_type": "stream",
     "text": [
      "------ Age bin: 0-17------\n",
      "\t\n"
     ]
    },
    {
     "data": {
      "image/png": "[encoded data removed]",
      "text/plain": [
       "<Figure size 432x288 with 1 Axes>"
      ]
     },
     "metadata": {
      "needs_background": "light"
     },
     "output_type": "display_data"
    },
    {
     "name": "stdout",
     "output_type": "stream",
     "text": [
      "\t\n",
      "------Sample statistics-------\n",
      "\t\n",
      "count      218.000000\n",
      "mean      8986.318305\n",
      "std       1931.550485\n",
      "min       4322.193548\n",
      "25%       7633.073206\n",
      "50%       8785.443224\n",
      "75%      10066.245402\n",
      "max      15228.103448\n",
      "Name: Purchase, dtype: float64\n",
      "\t\n",
      "90% CI:  8771.61 , 9201.02\n",
      "95% CI:  8730.5 , 9242.14\n",
      "99% CI:  8650.1 , 9322.54\n",
      "\t\n",
      "----Confidence Interval calculations for population----\n",
      "\t\n",
      "population mean:  8986.327688623693\n",
      "population SD:  0.01927147363215045\n",
      "\t\n"
     ]
    },
    {
     "data": {
      "image/png": "[encoded data removed]",
      "text/plain": [
       "<Figure size 432x288 with 1 Axes>"
      ]
     },
     "metadata": {
      "needs_background": "light"
     },
     "output_type": "display_data"
    },
    {
     "name": "stdout",
     "output_type": "stream",
     "text": [
      "\t\n",
      "90.0 % CI: (8986.295989870392, 8986.359387376993)\n",
      "95.0 % CI: (8986.289917229444, 8986.365460017942)\n",
      "99.0 % CI: (8986.278048597189, 8986.377328650196)\n",
      "\n",
      "\n",
      "-----------------------------------\n",
      "\t\n",
      "------ Age bin: 55+------\n",
      "\t\n"
     ]
    },
    {
     "data": {
      "image/png": "[encoded data removed]",
      "text/plain": [
       "<Figure size 432x288 with 1 Axes>"
      ]
     },
     "metadata": {
      "needs_background": "light"
     },
     "output_type": "display_data"
    },
    {
     "name": "stdout",
     "output_type": "stream",
     "text": [
      "\t\n",
      "------Sample statistics-------\n",
      "\t\n",
      "count      372.000000\n",
      "mean      9407.200822\n",
      "std       2004.010572\n",
      "min       2698.357143\n",
      "25%       8053.582935\n",
      "50%       9101.580645\n",
      "75%      10516.152597\n",
      "max      18490.166667\n",
      "Name: Purchase, dtype: float64\n",
      "\t\n",
      "90% CI:  9236.51 , 9577.89\n",
      "95% CI:  9203.82 , 9610.58\n",
      "99% CI:  9139.91 , 9674.5\n",
      "\t\n",
      "----Confidence Interval calculations for population----\n",
      "\t\n",
      "population mean:  9407.19241104264\n",
      "population SD:  0.020006103760229283\n",
      "\t\n"
     ]
    },
    {
     "data": {
      "image/png": "[encoded data removed]",
      "text/plain": [
       "<Figure size 432x288 with 1 Axes>"
      ]
     },
     "metadata": {
      "needs_background": "light"
     },
     "output_type": "display_data"
    },
    {
     "name": "stdout",
     "output_type": "stream",
     "text": [
      "\t\n",
      "90.0 % CI: (9407.15950393031, 9407.225318154971)\n",
      "95.0 % CI: (9407.153199799799, 9407.231622285482)\n",
      "99.0 % CI: (9407.140878734326, 9407.243943350955)\n",
      "\n",
      "\n",
      "-----------------------------------\n",
      "\t\n",
      "------ Age bin: 26-35------\n",
      "\t\n"
     ]
    },
    {
     "data": {
      "image/png": "[encoded data removed]",
      "text/plain": [
       "<Figure size 432x288 with 1 Axes>"
      ]
     },
     "metadata": {
      "needs_background": "light"
     },
     "output_type": "display_data"
    },
    {
     "name": "stdout",
     "output_type": "stream",
     "text": [
      "\t\n",
      "------Sample statistics-------\n",
      "\t\n",
      "count     2053.000000\n",
      "mean      9607.126898\n",
      "std       1824.554390\n",
      "min       4455.727273\n",
      "25%       8367.211382\n",
      "50%       9470.062500\n",
      "75%      10654.493671\n",
      "max      18577.893617\n",
      "Name: Purchase, dtype: float64\n",
      "\t\n",
      "90% CI:  9540.9 , 9673.35\n",
      "95% CI:  9528.22 , 9686.03\n",
      "99% CI:  9503.42 , 9710.83\n",
      "\t\n",
      "----Confidence Interval calculations for population----\n",
      "\t\n",
      "population mean:  9607.138472076891\n",
      "population SD:  0.018256241816065936\n",
      "\t\n"
     ]
    },
    {
     "data": {
      "image/png": "[encoded data removed]",
      "text/plain": [
       "<Figure size 432x288 with 1 Axes>"
      ]
     },
     "metadata": {
      "needs_background": "light"
     },
     "output_type": "display_data"
    },
    {
     "name": "stdout",
     "output_type": "stream",
     "text": [
      "\t\n",
      "90.0 % CI: (9607.108443231326, 9607.168500922457)\n",
      "95.0 % CI: (9607.102690500438, 9607.174253653344)\n",
      "99.0 % CI: (9607.091447114248, 9607.185497039534)\n",
      "\n",
      "\n",
      "-----------------------------------\n",
      "\t\n",
      "------ Age bin: 46-50------\n",
      "\t\n"
     ]
    },
    {
     "data": {
      "image/png": "[encoded data removed]",
      "text/plain": [
       "<Figure size 432x288 with 1 Axes>"
      ]
     },
     "metadata": {
      "needs_background": "light"
     },
     "output_type": "display_data"
    },
    {
     "name": "stdout",
     "output_type": "stream",
     "text": [
      "\t\n",
      "------Sample statistics-------\n",
      "\t\n",
      "count      531.000000\n",
      "mean      9565.974310\n",
      "std       1839.800463\n",
      "min       4512.470588\n",
      "25%       8237.490260\n",
      "50%       9327.807692\n",
      "75%      10631.865591\n",
      "max      15584.923077\n",
      "Name: Purchase, dtype: float64\n",
      "\t\n",
      "90% CI:  9434.76 , 9697.19\n",
      "95% CI:  9409.63 , 9722.31\n",
      "99% CI:  9360.5 , 9771.45\n",
      "\t\n",
      "----Confidence Interval calculations for population----\n",
      "\t\n",
      "population mean:  9565.963232987717\n",
      "population SD:  0.018384059536504203\n",
      "\t\n"
     ]
    },
    {
     "data": {
      "image/png": "[encoded data removed]",
      "text/plain": [
       "<Figure size 432x288 with 1 Axes>"
      ]
     },
     "metadata": {
      "needs_background": "light"
     },
     "output_type": "display_data"
    },
    {
     "name": "stdout",
     "output_type": "stream",
     "text": [
      "\t\n",
      "90.0 % CI: (9565.93299390071, 9565.993472074724)\n",
      "95.0 % CI: (9565.927200893135, 9565.999265082299)\n",
      "99.0 % CI: (9565.915878788444, 9566.01058718699)\n",
      "\n",
      "\n",
      "-----------------------------------\n",
      "\t\n",
      "------ Age bin: 51-55------\n",
      "\t\n"
     ]
    },
    {
     "data": {
      "image/png": "[encoded data removed]",
      "text/plain": [
       "<Figure size 432x288 with 1 Axes>"
      ]
     },
     "metadata": {
      "needs_background": "light"
     },
     "output_type": "display_data"
    },
    {
     "name": "stdout",
     "output_type": "stream",
     "text": [
      "\t\n",
      "------Sample statistics-------\n",
      "\t\n",
      "count      481.000000\n",
      "mean      9630.474319\n",
      "std       1922.486727\n",
      "min       4462.014286\n",
      "25%       8283.388889\n",
      "50%       9406.671053\n",
      "75%      10630.384615\n",
      "max      18162.739130\n",
      "Name: Purchase, dtype: float64\n",
      "\t\n",
      "90% CI:  9486.43 , 9774.52\n",
      "95% CI:  9458.84 , 9802.11\n",
      "99% CI:  9404.9 , 9856.05\n",
      "\t\n",
      "----Confidence Interval calculations for population----\n",
      "\t\n",
      "population mean:  9630.470610567503\n",
      "population SD:  0.019216548682681092\n",
      "\t\n"
     ]
    },
    {
     "data": {
      "image/png": "[encoded data removed]",
      "text/plain": [
       "<Figure size 432x288 with 1 Axes>"
      ]
     },
     "metadata": {
      "needs_background": "light"
     },
     "output_type": "display_data"
    },
    {
     "name": "stdout",
     "output_type": "stream",
     "text": [
      "\t\n",
      "90.0 % CI: (9630.439002157706, 9630.5022189773)\n",
      "95.0 % CI: (9630.432946824178, 9630.508274310829)\n",
      "99.0 % CI: (9630.421112018294, 9630.520109116713)\n",
      "\n",
      "\n",
      "-----------------------------------\n",
      "\t\n",
      "------ Age bin: 36-45------\n",
      "\t\n"
     ]
    },
    {
     "data": {
      "image/png": "[encoded data removed]",
      "text/plain": [
       "<Figure size 432x288 with 1 Axes>"
      ]
     },
     "metadata": {
      "needs_background": "light"
     },
     "output_type": "display_data"
    },
    {
     "name": "stdout",
     "output_type": "stream",
     "text": [
      "\t\n",
      "------Sample statistics-------\n",
      "\t\n",
      "count     1167.000000\n",
      "mean      9686.463039\n",
      "std       1850.778593\n",
      "min       2318.733333\n",
      "25%       8459.250000\n",
      "50%       9487.714286\n",
      "75%      10741.987395\n",
      "max      17508.700000\n",
      "Name: Purchase, dtype: float64\n",
      "\t\n",
      "90% CI:  9597.38 , 9775.55\n",
      "95% CI:  9580.32 , 9792.61\n",
      "99% CI:  9546.96 , 9825.96\n",
      "\t\n",
      "----Confidence Interval calculations for population----\n",
      "\t\n",
      "population mean:  9686.506124450963\n",
      "population SD:  0.018515171578222484\n",
      "\t\n"
     ]
    },
    {
     "data": {
      "image/png": "[encoded data removed]",
      "text/plain": [
       "<Figure size 432x288 with 1 Axes>"
      ]
     },
     "metadata": {
      "needs_background": "light"
     },
     "output_type": "display_data"
    },
    {
     "name": "stdout",
     "output_type": "stream",
     "text": [
      "\t\n",
      "90.0 % CI: (9686.47566970384, 9686.536579198088)\n",
      "95.0 % CI: (9686.469835381502, 9686.542413520425)\n",
      "99.0 % CI: (9686.458432529453, 9686.553816372474)\n",
      "\n",
      "\n",
      "-----------------------------------\n",
      "\t\n",
      "------ Age bin: 18-25------\n",
      "\t\n"
     ]
    },
    {
     "data": {
      "image/png": "[encoded data removed]",
      "text/plain": [
       "<Figure size 432x288 with 1 Axes>"
      ]
     },
     "metadata": {
      "needs_background": "light"
     },
     "output_type": "display_data"
    },
    {
     "name": "stdout",
     "output_type": "stream",
     "text": [
      "\t\n",
      "------Sample statistics-------\n",
      "\t\n",
      "count     1069.000000\n",
      "mean      9515.636521\n",
      "std       1992.778282\n",
      "min       3421.521739\n",
      "25%       8197.800000\n",
      "50%       9378.785714\n",
      "75%      10676.418605\n",
      "max      17246.439394\n",
      "Name: Purchase, dtype: float64\n",
      "\t\n",
      "90% CI:  9415.42 , 9615.85\n",
      "95% CI:  9396.23 , 9635.04\n",
      "99% CI:  9358.7 , 9672.57\n",
      "\t\n",
      "----Confidence Interval calculations for population----\n",
      "\t\n",
      "population mean:  9515.631488716279\n",
      "population SD:  0.0199051477220269\n",
      "\t\n"
     ]
    },
    {
     "data": {
      "image/png": "[encoded data removed]",
      "text/plain": [
       "<Figure size 432x288 with 1 Axes>"
      ]
     },
     "metadata": {
      "needs_background": "light"
     },
     "output_type": "display_data"
    },
    {
     "name": "stdout",
     "output_type": "stream",
     "text": [
      "\t\n",
      "90.0 % CI: (9515.598747661854, 9515.664229770704)\n",
      "95.0 % CI: (9515.592475343637, 9515.67050208892)\n",
      "99.0 % CI: (9515.580216453485, 9515.682760979073)\n",
      "\n",
      "\n",
      "-----------------------------------\n",
      "\t\n"
     ]
    }
   ],
   "source": [
    "age_bins = dfPurchase['Age'].unique()\n",
    "r = 1000000\n",
    "size = 10000\n",
    "alpha = [0.90,0.95,0.99]\n",
    "    \n",
    "for ab in age_bins:\n",
    "    print(f'------ Age bin: {ab}------')\n",
    "    print(\"\\t\")\n",
    "    data = dfPurchase[dfPurchase['Age'] == ab]['Purchase']\n",
    "    sns.kdeplot(data)\n",
    "    plt.show()\n",
    "    print(\"\\t\")\n",
    "    print('------Sample statistics-------')\n",
    "    print(\"\\t\")\n",
    "    print(data.describe())\n",
    "    print(\"\\t\")\n",
    "    \n",
    "    print('90% CI: ',round(np.mean(data) - 1.645* np.std(data)/math.sqrt(len(data)),2),',' ,round(np.mean(data) + 1.645* np.std(data)/math.sqrt(len(data)),2))\n",
    "    print('95% CI: ',round(np.mean(data) - 1.96* np.std(data)/math.sqrt(len(data)),2),',' ,round(np.mean(data) + 1.96* np.std(data)/math.sqrt(len(data)),2))\n",
    "    print('99% CI: ',round(np.mean(data) - 2.576* np.std(data)/math.sqrt(len(data)),2),',' ,round(np.mean(data) + 2.576* np.std(data)/math.sqrt(len(data)),2))\n",
    "    print(\"\\t\")\n",
    "    \n",
    "    bs_means = np.empty(r)\n",
    "\n",
    "    for i in range(r):\n",
    "        bs_sample = np.random.choice(data, size=size)\n",
    "        bs_means[i] = np.mean(bs_sample)\n",
    "        \n",
    "    print(\"----Confidence Interval calculations for population----\")\n",
    "    print(\"\\t\")\n",
    "    print(\"population mean: \",np.mean(bs_means))\n",
    "    print(\"population SD: \", stats.sem(bs_means))\n",
    "    print(\"\\t\")\n",
    "    \n",
    "    plt.figure()\n",
    "    plt.hist(bs_means, bins=100)\n",
    "    plt.grid()\n",
    "    plt.show()\n",
    "    \n",
    "    print(\"\\t\")\n",
    "        \n",
    "    for a in alpha:\n",
    "        print(a*100,'%','CI:' ,stats.norm.interval(alpha= a, \n",
    "                 loc=np.mean(bs_means),\n",
    "                 scale=stats.sem(bs_means)))\n",
    "        \n",
    "    print(\"\\n\")\n",
    "    print(\"-----------------------------------\")\n",
    "    print(\"\\t\")\n",
    "    \n",
    "\n",
    "    "
   ]
  },
  {
   "cell_type": "code",
   "execution_count": 165,
   "id": "8f471197",
   "metadata": {},
   "outputs": [],
   "source": [
    "# \t      Sample\t\t\t                                    Population\t\t\n",
    "# Age_bins\tMean\t  Std_dev\t     95%CI\t            Mean\tStd_dev\t      95%CI\n",
    "# 0-17\t  8986.31\t  1931.55\t[8730.5, 9242.14]\t   8986.32\t0.019\t[8986.29,   8986.36]\n",
    "# 18-25\t  9515.63\t  1992.77\t[9396.23, 9635.04]\t   9515.63\t0.019\t[9515.59 , 9515.67]\n",
    "# 26-35\t  9607.12\t  1824.55\t[9528.22,  9686.03]\t   9607.13\t0.018\t[9607.10,   9607.17]\n",
    "# 36-45\t  9686.46\t  1850.77\t[9580.32, 9792.61]\t   9686.5\t0.018\t[9686.47,  9686.54]\n",
    "# 46-50\t  9565.97\t  1839.8\t[9409.63,  9722.31]\t   9565.96\t0.018\t[9565.92,    9565.99]\n",
    "# 51-55\t  9630.47\t  1922.48\t[9458.84,  9802.11]\t   9630.47\t0.019\t[9630.43,  9630.51]\n",
    "# 55+\t  9407.2\t  2004.01\t[9203.82,   9610.58]   9407.19\t0.02\t[9407.15,    9407.23]\n",
    "\n",
    "### Conclusion: \n",
    "###             1. The CI for Age_bins normally overlaps (except for 0-17, 55+ age bins) .This is confirmed by population CI as well.\n",
    "###             2. With present statistics, we don't see definitive distinction for majority population,except 0-17 and 55+ age bins\n",
    "###                Hence, marketing team can do some targetted marketing for these two age bins (0-17 and 55+). This is also confimed by higher spends by 55+ age bins.\n"
   ]
  }
 ],
 "metadata": {
  "kernelspec": {
   "display_name": "Python 3",
   "language": "python",
   "name": "python3"
  },
  "language_info": {
   "codemirror_mode": {
    "name": "ipython",
    "version": 3
   },
   "file_extension": ".py",
   "mimetype": "text/x-python",
   "name": "python",
   "nbconvert_exporter": "python",
   "pygments_lexer": "ipython3",
   "version": "3.8.8"
  }
 },
 "nbformat": 4,
 "nbformat_minor": 5
}
